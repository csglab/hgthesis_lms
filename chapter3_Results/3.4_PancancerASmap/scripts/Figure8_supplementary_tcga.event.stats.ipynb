{
 "cells": [
  {
   "cell_type": "code",
   "execution_count": 1,
   "id": "d21dff89-a055-4c02-98fc-f9b1040d4043",
   "metadata": {
    "tags": []
   },
   "outputs": [
    {
     "name": "stderr",
     "output_type": "stream",
     "text": [
      "\n",
      "Attaching package: ‘dplyr’\n",
      "\n",
      "\n",
      "The following objects are masked from ‘package:data.table’:\n",
      "\n",
      "    between, first, last\n",
      "\n",
      "\n",
      "The following objects are masked from ‘package:stats’:\n",
      "\n",
      "    filter, lag\n",
      "\n",
      "\n",
      "The following objects are masked from ‘package:base’:\n",
      "\n",
      "    intersect, setdiff, setequal, union\n",
      "\n",
      "\n"
     ]
    }
   ],
   "source": [
    "library(data.table)\n",
    "library(dplyr)\n",
    "library(ggplot2)\n",
    "library(ggsci)\n",
    "library(ggpubr)\n",
    "library(ggtext)"
   ]
  },
  {
   "cell_type": "markdown",
   "id": "42ef5046-1dbc-4b69-84c4-124140d1e176",
   "metadata": {
    "tags": []
   },
   "source": [
    "## Load data"
   ]
  },
  {
   "cell_type": "code",
   "execution_count": 2,
   "id": "d059d700-0a91-4ff9-a1f2-384bfa586b3d",
   "metadata": {},
   "outputs": [],
   "source": [
    "res_dir <- \"../results/trex.logit_ASALL_v2\""
   ]
  },
  {
   "cell_type": "markdown",
   "id": "e45b6360-0f4c-4776-b4bc-e791b361710c",
   "metadata": {},
   "source": [
    "##  Visualize supplementary results"
   ]
  },
  {
   "cell_type": "code",
   "execution_count": 5,
   "id": "0dbd5f6f-1be0-46b7-9081-25a35a374fba",
   "metadata": {},
   "outputs": [],
   "source": [
    "events_used<-c(\"AF\",\"AL\")\n",
    "ev.colors<-pal_locuszoom()(7)[6:7]\n",
    "names(ev.colors)<-events_used"
   ]
  },
  {
   "cell_type": "code",
   "execution_count": 6,
   "id": "aa5c8158-9e3a-4c09-9f4a-31af28c578a3",
   "metadata": {},
   "outputs": [],
   "source": [
    "res.stats<-readRDS(\"figures_v3_objects/tcga.condition.res.lfcShrink.stats.RDS\") %>%\n",
    "            filter(event_type%in%events_used)"
   ]
  },
  {
   "cell_type": "code",
   "execution_count": 7,
   "id": "2ea6727e-1b42-450a-8bd6-d82d0be9f5c3",
   "metadata": {},
   "outputs": [
    {
     "data": {
      "text/html": [
       "<table class=\"dataframe\">\n",
       "<caption>A grouped_df: 7 × 2</caption>\n",
       "<thead>\n",
       "\t<tr><th scope=col>event_type</th><th scope=col>n</th></tr>\n",
       "\t<tr><th scope=col>&lt;chr&gt;</th><th scope=col>&lt;int&gt;</th></tr>\n",
       "</thead>\n",
       "<tbody>\n",
       "\t<tr><td>AF</td><td>88366</td></tr>\n",
       "\t<tr><td>SE</td><td>43947</td></tr>\n",
       "\t<tr><td>AL</td><td>25740</td></tr>\n",
       "\t<tr><td>A3</td><td>18331</td></tr>\n",
       "\t<tr><td>A5</td><td>16465</td></tr>\n",
       "\t<tr><td>RI</td><td> 7892</td></tr>\n",
       "\t<tr><td>MX</td><td> 6187</td></tr>\n",
       "</tbody>\n",
       "</table>\n"
      ],
      "text/latex": [
       "A grouped\\_df: 7 × 2\n",
       "\\begin{tabular}{ll}\n",
       " event\\_type & n\\\\\n",
       " <chr> & <int>\\\\\n",
       "\\hline\n",
       "\t AF & 88366\\\\\n",
       "\t SE & 43947\\\\\n",
       "\t AL & 25740\\\\\n",
       "\t A3 & 18331\\\\\n",
       "\t A5 & 16465\\\\\n",
       "\t RI &  7892\\\\\n",
       "\t MX &  6187\\\\\n",
       "\\end{tabular}\n"
      ],
      "text/markdown": [
       "\n",
       "A grouped_df: 7 × 2\n",
       "\n",
       "| event_type &lt;chr&gt; | n &lt;int&gt; |\n",
       "|---|---|\n",
       "| AF | 88366 |\n",
       "| SE | 43947 |\n",
       "| AL | 25740 |\n",
       "| A3 | 18331 |\n",
       "| A5 | 16465 |\n",
       "| RI |  7892 |\n",
       "| MX |  6187 |\n",
       "\n"
      ],
      "text/plain": [
       "  event_type n    \n",
       "1 AF         88366\n",
       "2 SE         43947\n",
       "3 AL         25740\n",
       "4 A3         18331\n",
       "5 A5         16465\n",
       "6 RI          7892\n",
       "7 MX          6187"
      ]
     },
     "metadata": {},
     "output_type": "display_data"
    }
   ],
   "source": [
    "totals<-res.stats %>%\n",
    "        filter(analysis==\"condition\",exp_var==\"conditiontumor\") %>%\n",
    "        group_by(cancer,event_type) %>%\n",
    "        summarize(n=sum(total_events),.groups=\"drop\") %>%\n",
    "        select(-cancer) %>% group_by(event_type) %>% slice_max(n,n=1) %>%\n",
    "        distinct(event_type,n) %>%\n",
    "        arrange(desc(n))\n",
    "totals"
   ]
  },
  {
   "cell_type": "code",
   "execution_count": 8,
   "id": "042e3403-041f-4e7c-986a-f14144d2020b",
   "metadata": {},
   "outputs": [],
   "source": [
    "res.stats<-res.stats%>%\n",
    "           mutate(event_type=factor(event_type,levels=totals$event_type)) %>%\n",
    "           mutate(exp_var=case_when(exp_var==\"conditiontumor\" ~ \"tumor\",\n",
    "                                    exp_var==\"sex1\" ~ \"sex\",\n",
    "                                   TRUE ~ exp_var)) %>%\n",
    "           mutate(exp_var=factor(exp_var,levels = c(\"tumor\",\"impurity\",\"sex\",\"age\")))%>%\n",
    "           mutate(cancer=factor(cancer,levels=c(\"SKCM\",\"SARC\",\"UCEC\",\"CESC\",\"PRAD\",\n",
    "                                                \"READ\",\"BLCA\",\"COAD\",\"PAAD\",\"CHOL\",\n",
    "                                                \"KIRP\",\"KIRC\",\"KICH\",\"PCPG\",\"STAD\",\n",
    "                                                \"LIHC\",\"LUSC\",\"LUAD\",\"BRCA\",\"THCA\",\n",
    "                                                \"ESCA\",\"HNSC\"))) %>% \n",
    "          mutate(log_sig_events=ifelse(direction==\"up\",log10(sig_events),-1*log10(abs(sig_events))))%>%\n",
    "          mutate(log_sig_events=ifelse(sig_events==0,0,log_sig_events))%>%\n",
    "          mutate(p_sig_events = (sig_events/total_events)) %>%\n",
    "          mutate(log_p_sig_events=ifelse(direction==\"up\",log10(p_sig_events),-1*log10(abs(p_sig_events))))%>%\n",
    "          mutate(log_p_sig_events=ifelse(sig_events==0,0,log_sig_events))"
   ]
  },
  {
   "cell_type": "code",
   "execution_count": 9,
   "id": "4ac0462e-7af6-43c3-a9c8-52727f66f6ea",
   "metadata": {},
   "outputs": [
    {
     "name": "stderr",
     "output_type": "stream",
     "text": [
      "Warning message:\n",
      "“\u001b[1m\u001b[22mThe `size` argument of `element_line()` is deprecated as of ggplot2 3.4.0.\n",
      "\u001b[36mℹ\u001b[39m Please use the `linewidth` argument instead.”\n"
     ]
    },
    {
     "data": {
      "image/png": "[encoded data removed]",
      "text/plain": [
       "plot without title"
      ]
     },
     "metadata": {
      "image/png": {
       "height": 300,
       "width": 240
      }
     },
     "output_type": "display_data"
    }
   ],
   "source": [
    "options(repr.plot.width=4,repr.plot.height=5)\n",
    "p<-ggplot(res.stats,aes(x=cancer,y=p_sig_events,fill=event_type))+\n",
    "    geom_bar(stat=\"identity\",width=0.7) +\n",
    "    coord_flip()+\n",
    "    facet_grid(~exp_var+event_type)+\n",
    "    geom_hline(yintercept = 0,linewidth=0.1)+\n",
    "    theme(legend.position = \"top\",\n",
    "          panel.background = element_blank(),\n",
    "          panel.grid.major = element_blank(),\n",
    "          panel.grid.minor = element_blank(),\n",
    "          axis.ticks.y = element_blank(),\n",
    "          axis.ticks.x = element_line(size=0.1),\n",
    "          axis.text.x = element_text(angle=90,vjust=0.5,hjust = 0.5,size=8,color=\"black\"),\n",
    "          axis.line.x = element_line(colour = 'black', size=0.1, linetype='solid'),\n",
    "          legend.key.height= unit(0.25, 'cm'),\n",
    "          legend.key.width= unit(0.15, 'cm'),\n",
    "          legend.spacing.x = unit(0.1, 'cm'),\n",
    "          legend.margin=margin(t = 0, unit='cm'),\n",
    "          legend.text = element_text(size=7),\n",
    "          strip.background = element_blank(),\n",
    "          strip.text = element_text(angle=90),\n",
    "          panel.spacing.y = unit(0.1, \"cm\"))+\n",
    "    labs(x=\"\",y=\"Proportion of significant events\",fill=\"\")+\n",
    "    guides(fill=guide_legend(ncol=7))+\n",
    "    scale_fill_manual(values = ev.colors )+\n",
    "    scale_y_continuous(breaks = c(-0.25,0.25),minor_breaks = c(-0.1,0.1),labels = c(\"0.25\",\"0.25\"))\n",
    "p"
   ]
  },
  {
   "cell_type": "code",
   "execution_count": null,
   "id": "e7e07f5b-d57b-4ee7-b22e-2331093b3a17",
   "metadata": {},
   "outputs": [],
   "source": [
    "legend<-get_legend(p)%>%as_ggplot(.)\n",
    "ggsave(plot=legend,filename = \"figures_v3/event_summaries_sup/legend.barcodes.all.events.condition.lfcShrink.pdf\",width = 4,height=0.5,units=\"in\",device=\"pdf\")\n",
    "p<-p+theme(legend.position=\"none\")\n",
    "ggsave(plot=p,filename=\"figures_v3/event_summaries_sup/barcodes.all.events.condition.lfcShrink.pdf\",width = 4,height=5,units=\"in\",device = \"pdf\")"
   ]
  },
  {
   "cell_type": "markdown",
   "id": "c2b2e902-838c-4d61-be84-1a885fbd0a80",
   "metadata": {},
   "source": [
    "# Extra"
   ]
  },
  {
   "cell_type": "code",
   "execution_count": null,
   "id": "c48414e5-ed78-4f62-ac1a-556761e5eafd",
   "metadata": {},
   "outputs": [],
   "source": [
    "data <- totals %>% \n",
    "  arrange(desc(event_type)) %>%\n",
    "  mutate(prop = n / sum(totals$n) *100) %>%\n",
    "  mutate(ypos = cumsum(prop)- 0.5*prop,\n",
    "        lab = paste0(n),\n",
    "        event_type=factor(event_type,levels = totals$event_type))\n",
    "\n",
    "p<-data %>%\n",
    "    ggplot(.,aes(x=1,y=prop,fill=event_type))+\n",
    "      geom_bar(stat=\"identity\", width=1, color=\"white\") +\n",
    "      coord_polar(\"y\", start=0,) +\n",
    "      scale_fill_manual(values=ev.colors)+\n",
    "      theme_void()+\n",
    "      theme(axis.text.x = element_text(color=\"black\",vjust = 20,face=\"bold\"),\n",
    "            legend.position=\"none\")+\n",
    "      scale_y_continuous(breaks=cumsum(data$prop) - data$prop / 2, labels = data$lab)\n",
    "p"
   ]
  },
  {
   "cell_type": "code",
   "execution_count": null,
   "id": "06bd4dba-5e52-4da1-83f3-14c1df43c357",
   "metadata": {},
   "outputs": [],
   "source": [
    "ggsave(plot=p,filename=\"figures_v3/event_summaries_sup/piechart.all.events.condition.lfcShrink.pdf\",width = 2.5,height=2.5,units=\"in\",device = \"pdf\")"
   ]
  }
 ],
 "metadata": {
  "kernelspec": {
   "display_name": "R",
   "language": "R",
   "name": "ir"
  },
  "language_info": {
   "codemirror_mode": "r",
   "file_extension": ".r",
   "mimetype": "text/x-r-source",
   "name": "R",
   "pygments_lexer": "r",
   "version": "4.1.2"
  }
 },
 "nbformat": 4,
 "nbformat_minor": 5
}
