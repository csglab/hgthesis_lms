{
 "cells": [
  {
   "cell_type": "markdown",
   "id": "01a88718-a8dc-4ce4-9188-71818a2a2644",
   "metadata": {},
   "source": [
    "# TCGA expression vs splicing PCA"
   ]
  },
  {
   "cell_type": "code",
   "execution_count": null,
   "id": "ed048c0f-e42f-42f6-b67e-1fd474036e13",
   "metadata": {
    "tags": []
   },
   "outputs": [],
   "source": [
    "library(dplyr)\n",
    "library(ggplot2)\n",
    "library(ggpubr)\n",
    "library(ggsci)\n",
    "library(Rtsne)\n",
    "library(GEDI)\n",
    "library(patchwork)"
   ]
  },
  {
   "cell_type": "code",
   "execution_count": null,
   "id": "b6d23257-682d-4c99-9161-6b6b63f5f527",
   "metadata": {},
   "outputs": [],
   "source": [
    "set.seed(7)"
   ]
  },
  {
   "cell_type": "markdown",
   "id": "5499645b-29f6-4359-8cfa-10a6200acd1c",
   "metadata": {},
   "source": [
    "### Functions"
   ]
  },
  {
   "cell_type": "code",
   "execution_count": null,
   "id": "f42f0822-31db-41f4-b2a7-ee87938421a3",
   "metadata": {},
   "outputs": [],
   "source": [
    "get_embedding_table<-function(pca,tsne,mode=\"exp\"){\n",
    "\n",
    "    pca_embed<-pca$x[,1:10] %>%\n",
    "               as.data.frame()\n",
    "    tsne_embed<-tsne$Y %>%\n",
    "                as.data.frame() \n",
    "    colnames(tsne_embed)<-sub(\"V\",\"tSNE\",colnames(tsne_embed))\n",
    "    tsne_embed<-tsne_embed%>%\n",
    "                mutate(submitter_id=rownames(pca$x)) %>%\n",
    "                tibble::column_to_rownames(\"submitter_id\")\n",
    "\n",
    "    gene_embed<-cbind(pca_embed,tsne_embed)\n",
    "    colnames(gene_embed)<-paste0(colnames(gene_embed),\"_\",mode)\n",
    "    gene_embed<-gene_embed %>%\n",
    "                tibble::rownames_to_column(\"submitter_id\")\n",
    "    \n",
    "    return(gene_embed)\n",
    "}"
   ]
  },
  {
   "cell_type": "markdown",
   "id": "cc04b36c-16c5-499e-b071-e6495c954066",
   "metadata": {
    "tags": []
   },
   "source": [
    "## Load data"
   ]
  },
  {
   "cell_type": "code",
   "execution_count": null,
   "id": "156ef529-cc72-4a09-9a40-e11ce83b8a5a",
   "metadata": {
    "tags": []
   },
   "outputs": [],
   "source": [
    "load(\"../input/gedi.tcga.gene.expression.inputs.RData\")\n",
    "load(\"../input/gedi.tcga.SE.splicing.inputs.RData\")"
   ]
  },
  {
   "cell_type": "code",
   "execution_count": null,
   "id": "b5fb87ba-98cd-4e8a-bec8-e70b622ee2d4",
   "metadata": {},
   "outputs": [],
   "source": [
    "metadata<-metadata %>% filter(condition==\"tumor\")"
   ]
  },
  {
   "cell_type": "markdown",
   "id": "40d27f5f-8460-4b77-9048-0937920d66a2",
   "metadata": {
    "tags": []
   },
   "source": [
    "## Compute low dimensional representations"
   ]
  },
  {
   "cell_type": "code",
   "execution_count": null,
   "id": "e12d40aa-efc2-418f-9cc8-57c63d8e8d0b",
   "metadata": {},
   "outputs": [],
   "source": [
    "min_counts<-3\n",
    "min_samples<-50\n",
    "pseudocount<-1\n",
    "npcs<-30"
   ]
  },
  {
   "cell_type": "markdown",
   "id": "beb2e899-c9db-4568-9561-e85c0878e599",
   "metadata": {
    "tags": []
   },
   "source": [
    "### Gene expression"
   ]
  },
  {
   "cell_type": "markdown",
   "id": "68b889c6-50c2-493e-adb5-ee6cef3c7cf0",
   "metadata": {
    "tags": []
   },
   "source": [
    "#### On the whole dataset"
   ]
  },
  {
   "cell_type": "code",
   "execution_count": null,
   "id": "489f8c0d-15f5-4e03-b8c2-ffdcce1013fa",
   "metadata": {},
   "outputs": [],
   "source": [
    "# Filter low expressed genes\n",
    "he_genes<-rowSums(gn_cts>min_counts) \n",
    "valid_genes<-he_genes>min_samples\n",
    "gn_cts.filt<-gn_cts[valid_genes,]\n",
    "\n",
    "# Preprocess data \n",
    "\n",
    "gn_cts.filt<-log(t(gn_cts.filt+pseudocount)) # sample by gene matrix\n",
    "scld_gn_cts<-scale(gn_cts.filt,center=TRUE,scale=FALSE)\n",
    "\n",
    "# Run PCA\n",
    "gn_pca<-prcomp(scld_gn_cts,rank=npcs,retx = T,scale=FALSE,center=FALSE)\n",
    "save(gn_pca,file=\"../input/tcga.gene.expression.prcomp.RData\")\n",
    "\n",
    "# Run tSNE\n",
    "gn_tsne<-Rtsne(gn_pca$x,dims=3,initial_dims = npcs,num_threads = 5,pca=FALSE,normalize=FALSE,check_duplicates=FALSE,perplexity=100)\n",
    "save(gn_tsne,file=\"../input/tcga.gene.expression.tsne.RData\")\n",
    "\n",
    "# Extract embeddings\n",
    "gene_embed<-get_embedding_table(pca = gn_pca,tsne = gn_tsne,mode=\"exp\")\n",
    "save(gene_embed,file=\"../input/tcga.gene.expression.embeddings.RData\")"
   ]
  },
  {
   "cell_type": "markdown",
   "id": "73cfb7d2-7dda-493e-ae6d-821c46f895c3",
   "metadata": {},
   "source": [
    "#### By cancer type"
   ]
  },
  {
   "cell_type": "code",
   "execution_count": null,
   "id": "17a7bad3-d3d3-4083-9405-be469b3944b1",
   "metadata": {},
   "outputs": [],
   "source": [
    "cancers<-unique(metadata$cancer)\n",
    "npcs<-20\n",
    "min_samples<-10"
   ]
  },
  {
   "cell_type": "code",
   "execution_count": null,
   "id": "777f1f7e-aa73-4e48-97df-66382c35fa8d",
   "metadata": {
    "tags": []
   },
   "outputs": [],
   "source": [
    "for(ctype in cancers){\n",
    "    message(\"Analyzing \", ctype)\n",
    "    \n",
    "    cancer.metadata<-metadata %>%\n",
    "                 filter(cancer==ctype)\n",
    "    \n",
    "    cgn_cts<-gn_cts[,cancer.metadata$submitter_id]\n",
    "    \n",
    "    # Filter low expressed genes\n",
    "    he_genes<-rowSums(cgn_cts>min_counts) \n",
    "    cgn_cts<-cgn_cts[he_genes>min_samples,]\n",
    "    \n",
    "    #constant<-\n",
    "    # Preprocess data \n",
    "    cgn_cts<-log(t(cgn_cts+pseudocount)) # sample by gene matrix\n",
    "    scld_gn_cts<-scale(cgn_cts,center=TRUE,scale=FALSE)\n",
    "\n",
    "    # Run PCA\n",
    "    message(\"Running PCA...\")\n",
    "    gn_pca<-prcomp(scld_gn_cts,rank=npcs,retx = T,scale=FALSE,center=FALSE)\n",
    "    save(gn_pca,file=paste0(\"../input/by_cancer/\",ctype,\".gene.expression.prcomp.RData\"))\n",
    "\n",
    "    # Run tSNE\n",
    "    message(\"Running tSNE...\")\n",
    "    perp<-floor(nrow(gn_pca$x)*0.10)\n",
    "    gn_tsne<-Rtsne(gn_pca$x,dims=3,initial_dims = npcs,num_threads = 5,pca=FALSE,normalize=FALSE,check_duplicates=FALSE,perplexity = perp)\n",
    "    save(gn_tsne,file=paste0(\"../input/by_cancer/\",ctype,\".gene.expression.tsne.RData\"))\n",
    "\n",
    "    # Extract embeddings\n",
    "    gene_embed<-get_embedding_table(pca = gn_pca,tsne = gn_tsne,mode=\"exp\")\n",
    "    save(gene_embed,file=paste0(\"../input/by_cancer/\",ctype,\".gene.expression.embeddings.RData\"))\n",
    "}"
   ]
  },
  {
   "cell_type": "markdown",
   "id": "2e4146e1-3fae-4035-84aa-33536deb864c",
   "metadata": {
    "tags": []
   },
   "source": [
    "### Alternative splicing"
   ]
  },
  {
   "cell_type": "code",
   "execution_count": null,
   "id": "f510e64d-2fac-4ea2-9f7c-7ccbc6053467",
   "metadata": {},
   "outputs": [],
   "source": [
    "inputs.file<-\"../input/gedi.tcga.SE.splicing.inputs.RData\"\n",
    "load(inputs.file,verbose=T)"
   ]
  },
  {
   "cell_type": "code",
   "execution_count": null,
   "id": "d24ffa09-c3ee-469d-801d-82fb12e443f0",
   "metadata": {},
   "outputs": [],
   "source": [
    "metadata<-metadata %>% filter(condition==\"tumor\")"
   ]
  },
  {
   "cell_type": "markdown",
   "id": "9825c590-3b7e-4d49-b58b-ed4dd91929b8",
   "metadata": {
    "tags": []
   },
   "source": [
    "#### On the whole dataset"
   ]
  },
  {
   "cell_type": "code",
   "execution_count": null,
   "id": "df402018-63b1-421b-8702-248e78063983",
   "metadata": {
    "tags": []
   },
   "outputs": [],
   "source": [
    "# Filter low expressed events\n",
    "he_genes<-rowSums(T_ev_cts>min_counts) \n",
    "valid_genes<-he_genes>min_samples \n",
    "T_ev_cts<-T_ev_cts[valid_genes,]\n",
    "A_ev_cts<-A_ev_cts[valid_genes,]\n",
    "\n",
    "# Pre-process data\n",
    "psi<-t(A_ev_cts/T_ev_cts)\n",
    "\n",
    "# Run PCA\n",
    "\n",
    "se_pca<-prcomp(psi,rank=npcs,retx = T,center=T)\n",
    "save(se_pca,file=\"../input/tcga.SE.splicing.prcomp.RData\")\n",
    "\n",
    "# Run tSNE\n",
    "se_tsne<-Rtsne(se_pca$x,dims=3,initial_dims = npcs,num_threads = 5,pca=FALSE,normalize=FALSE,check_duplicates=FALSE,perplexity=100)\n",
    "save(se_tsne,file=\"../input/tcga.SE.splicing.tsne.RData\")\n",
    "\n",
    "# Extract embeddings\n",
    "spl_embed<-get_embedding_table(pca=se_pca,tsne = se_tsne,mode = \"spl\")\n",
    "save(spl_embed,file=\"../input/tcga.SE.splicing.embeddings.RData\")"
   ]
  },
  {
   "cell_type": "markdown",
   "id": "144698ee-c1ea-44fc-b764-401adbed4bef",
   "metadata": {},
   "source": [
    "#### On each cancer type"
   ]
  },
  {
   "cell_type": "code",
   "execution_count": null,
   "id": "0c64a801-e727-4719-8a30-f76ce44027b6",
   "metadata": {},
   "outputs": [],
   "source": [
    "cancers<-unique(metadata$cancer)\n",
    "npcs<-20\n",
    "min_samples<-10"
   ]
  },
  {
   "cell_type": "code",
   "execution_count": null,
   "id": "0066d0bd-4e1e-42c2-a641-891cab0b8933",
   "metadata": {
    "tags": []
   },
   "outputs": [],
   "source": [
    "for(ctype in cancers){\n",
    "    message(\"Analyzing \", ctype)\n",
    "    \n",
    "    cancer.metadata<-metadata %>%\n",
    "                     filter(cancer==ctype)\n",
    "    \n",
    "    cT_ev_cts<-T_ev_cts[,cancer.metadata$submitter_id]\n",
    "    cA_ev_cts<-A_ev_cts[,cancer.metadata$submitter_id]\n",
    "    \n",
    "    # Filter low expressed genes and samples\n",
    "    \n",
    "    he_genes<-rowSums(cT_ev_cts>min_counts) \n",
    "    valid_genes<-he_genes>min_samples\n",
    "    cT_ev_cts<-cT_ev_cts[valid_genes,]\n",
    "    cA_ev_cts<-cA_ev_cts[valid_genes,]\n",
    "    \n",
    "    # Preprocess data \n",
    "    psi<-t(cA_ev_cts/cT_ev_cts)\n",
    "    scld_spl_cts<-scale(psi,center=TRUE,scale=FALSE)\n",
    "\n",
    "    # Run PCA\n",
    "    message(\"Running PCA...\")\n",
    "    spl_pca<-prcomp(scld_spl_cts,rank=npcs,retx = T,scale=FALSE,center=FALSE)\n",
    "    save(spl_pca,file=paste0(\"../input/confounder_embeddings/\",ctype,\".SE.splicing.prcomp.RData\"))\n",
    "\n",
    "    # Run tSNE\n",
    "    message(\"Running tSNE...\")\n",
    "    perp<-floor(nrow(spl_pca$x)*0.10)\n",
    "    spl_tsne<-Rtsne(spl_pca$x,dims=3,initial_dims = npcs,num_threads = 5,pca=FALSE,normalize=FALSE,check_duplicates=FALSE,perplexity = perp)\n",
    "    save(spl_tsne,file=paste0(\"../input/confounder_embeddings/\",ctype,\".SE.splicing.tsne.RData\"))\n",
    "\n",
    "    # Extract embeddings\n",
    "    spl_embed<-get_embedding_table(pca = spl_pca,tsne = spl_tsne,mode=\"spl\")\n",
    "    save(spl_embed,file=paste0(\"../input/confounder_embeddings/\",ctype,\".SE.splicing.embeddings.RData\"))\n",
    "}"
   ]
  }
 ],
 "metadata": {
  "kernelspec": {
   "display_name": "R",
   "language": "R",
   "name": "ir"
  },
  "language_info": {
   "codemirror_mode": "r",
   "file_extension": ".r",
   "mimetype": "text/x-r-source",
   "name": "R",
   "pygments_lexer": "r",
   "version": "4.1.2"
  }
 },
 "nbformat": 4,
 "nbformat_minor": 5
}
