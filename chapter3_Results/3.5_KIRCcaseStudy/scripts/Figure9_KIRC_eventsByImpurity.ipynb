{
 "cells": [
  {
   "cell_type": "markdown",
   "id": "b0fcba10-bffe-4df3-88a7-279eabb36614",
   "metadata": {},
   "source": [
    "# KIRC events per category\n"
   ]
  },
  {
   "cell_type": "code",
   "execution_count": 1,
   "id": "62e0e311-be5c-4f29-9e5f-7b3bedce0945",
   "metadata": {
    "collapsed": true,
    "jupyter": {
     "outputs_hidden": true
    },
    "tags": []
   },
   "outputs": [
    {
     "name": "stderr",
     "output_type": "stream",
     "text": [
      "\n",
      "Attaching package: ‘dplyr’\n",
      "\n",
      "\n",
      "The following objects are masked from ‘package:data.table’:\n",
      "\n",
      "    between, first, last\n",
      "\n",
      "\n",
      "The following objects are masked from ‘package:stats’:\n",
      "\n",
      "    filter, lag\n",
      "\n",
      "\n",
      "The following objects are masked from ‘package:base’:\n",
      "\n",
      "    intersect, setdiff, setequal, union\n",
      "\n",
      "\n",
      "\n",
      "Attaching package: ‘matrixStats’\n",
      "\n",
      "\n",
      "The following object is masked from ‘package:dplyr’:\n",
      "\n",
      "    count\n",
      "\n",
      "\n",
      "Loading required package: MatrixGenerics\n",
      "\n",
      "\n",
      "Attaching package: ‘MatrixGenerics’\n",
      "\n",
      "\n",
      "The following objects are masked from ‘package:matrixStats’:\n",
      "\n",
      "    colAlls, colAnyNAs, colAnys, colAvgsPerRowSet, colCollapse,\n",
      "    colCounts, colCummaxs, colCummins, colCumprods, colCumsums,\n",
      "    colDiffs, colIQRDiffs, colIQRs, colLogSumExps, colMadDiffs,\n",
      "    colMads, colMaxs, colMeans2, colMedians, colMins, colOrderStats,\n",
      "    colProds, colQuantiles, colRanges, colRanks, colSdDiffs, colSds,\n",
      "    colSums2, colTabulates, colVarDiffs, colVars, colWeightedMads,\n",
      "    colWeightedMeans, colWeightedMedians, colWeightedSds,\n",
      "    colWeightedVars, rowAlls, rowAnyNAs, rowAnys, rowAvgsPerColSet,\n",
      "    rowCollapse, rowCounts, rowCummaxs, rowCummins, rowCumprods,\n",
      "    rowCumsums, rowDiffs, rowIQRDiffs, rowIQRs, rowLogSumExps,\n",
      "    rowMadDiffs, rowMads, rowMaxs, rowMeans2, rowMedians, rowMins,\n",
      "    rowOrderStats, rowProds, rowQuantiles, rowRanges, rowRanks,\n",
      "    rowSdDiffs, rowSds, rowSums2, rowTabulates, rowVarDiffs, rowVars,\n",
      "    rowWeightedMads, rowWeightedMeans, rowWeightedMedians,\n",
      "    rowWeightedSds, rowWeightedVars\n",
      "\n",
      "\n",
      "Loading required package: GenomicRanges\n",
      "\n",
      "Loading required package: stats4\n",
      "\n",
      "Loading required package: BiocGenerics\n",
      "\n",
      "\n",
      "Attaching package: ‘BiocGenerics’\n",
      "\n",
      "\n",
      "The following objects are masked from ‘package:dplyr’:\n",
      "\n",
      "    combine, intersect, setdiff, union\n",
      "\n",
      "\n",
      "The following objects are masked from ‘package:stats’:\n",
      "\n",
      "    IQR, mad, sd, var, xtabs\n",
      "\n",
      "\n",
      "The following objects are masked from ‘package:base’:\n",
      "\n",
      "    anyDuplicated, append, as.data.frame, basename, cbind, colnames,\n",
      "    dirname, do.call, duplicated, eval, evalq, Filter, Find, get, grep,\n",
      "    grepl, intersect, is.unsorted, lapply, Map, mapply, match, mget,\n",
      "    order, paste, pmax, pmax.int, pmin, pmin.int, Position, rank,\n",
      "    rbind, Reduce, rownames, sapply, setdiff, sort, table, tapply,\n",
      "    union, unique, unsplit, which.max, which.min\n",
      "\n",
      "\n",
      "Loading required package: S4Vectors\n",
      "\n",
      "\n",
      "Attaching package: ‘S4Vectors’\n",
      "\n",
      "\n",
      "The following objects are masked from ‘package:dplyr’:\n",
      "\n",
      "    first, rename\n",
      "\n",
      "\n",
      "The following objects are masked from ‘package:data.table’:\n",
      "\n",
      "    first, second\n",
      "\n",
      "\n",
      "The following objects are masked from ‘package:base’:\n",
      "\n",
      "    expand.grid, I, unname\n",
      "\n",
      "\n",
      "Loading required package: IRanges\n",
      "\n",
      "\n",
      "Attaching package: ‘IRanges’\n",
      "\n",
      "\n",
      "The following objects are masked from ‘package:dplyr’:\n",
      "\n",
      "    collapse, desc, slice\n",
      "\n",
      "\n",
      "The following object is masked from ‘package:data.table’:\n",
      "\n",
      "    shift\n",
      "\n",
      "\n",
      "Loading required package: GenomeInfoDb\n",
      "\n",
      "Loading required package: Biobase\n",
      "\n",
      "Welcome to Bioconductor\n",
      "\n",
      "    Vignettes contain introductory material; view with\n",
      "    'browseVignettes()'. To cite Bioconductor, see\n",
      "    'citation(\"Biobase\")', and for packages 'citation(\"pkgname\")'.\n",
      "\n",
      "\n",
      "\n",
      "Attaching package: ‘Biobase’\n",
      "\n",
      "\n",
      "The following object is masked from ‘package:MatrixGenerics’:\n",
      "\n",
      "    rowMedians\n",
      "\n",
      "\n",
      "The following objects are masked from ‘package:matrixStats’:\n",
      "\n",
      "    anyMissing, rowMedians\n",
      "\n",
      "\n"
     ]
    }
   ],
   "source": [
    "library(data.table)\n",
    "library(dplyr)\n",
    "library(ggplot2)\n",
    "library(ggsci)\n",
    "library(ggpubr)\n",
    "library(ggtext)\n",
    "library(matrixStats)\n",
    "library(patchwork)\n",
    "library(SummarizedExperiment)"
   ]
  },
  {
   "cell_type": "markdown",
   "id": "2633c5ff-4369-4f84-8561-66d80746395b",
   "metadata": {},
   "source": [
    "## Load data"
   ]
  },
  {
   "cell_type": "code",
   "execution_count": 17,
   "id": "d732aa8e-4832-4a66-9fb2-8e46ec511cdd",
   "metadata": {},
   "outputs": [],
   "source": [
    "res_dir <- \"../input\"\n",
    "cancer<-\"KIRC\"\n",
    "imp.res.file<-\"../input/Figure9_KIRC.res.lfcShrink.impurity.trexCount.tsv\" # Use shrunken coefficients\n",
    "cond.res.file<-\"../input/Figure9_KIRC.res.lfcShrink.condition.trexCount.tsv\" # Use shrunken coefficients\n",
    "trex.obj.file<-file.path(res_dir,cancer,\"SE.eventCounts.RData\")\n",
    "gmapfile<-\"../input/gencode.v37.primary_assembly.annotation.geneIDmap.tsv\""
   ]
  },
  {
   "cell_type": "code",
   "execution_count": 18,
   "id": "629e1408-95ea-4ffe-a216-aa0bb8d487af",
   "metadata": {},
   "outputs": [],
   "source": [
    "imp.ora<-fread(file = imp.res.file,data.table=F) %>%\n",
    "            filter(event_flag==\"valid\")\n",
    "tumor.ora<-fread(file = cond.res.file,data.table = F) %>%\n",
    "            select(-lfcSE_condition.noCov,-stat_condition.noCov,-pvalue_condition.noCov,-signif_condition.noCov) %>%\n",
    "            filter(event_flag==\"valid\")\n",
    "load(trex.obj.file,verbose = F)\n",
    "meta<-colData(trex.meta) %>% as.data.frame()\n",
    "genemap<-fread(gmapfile,data.table=F)"
   ]
  },
  {
   "cell_type": "markdown",
   "id": "993fb22f-797b-4e59-af63-d371efc0e1e5",
   "metadata": {},
   "source": [
    "## Stratify samples by impurity\n",
    "---"
   ]
  },
  {
   "cell_type": "code",
   "execution_count": 19,
   "id": "09017698-be4a-4322-80e5-5f78911e0f65",
   "metadata": {},
   "outputs": [],
   "source": [
    "tip<-meta %>% filter(condition==\"tumor\") %>% select(impurity) %>% unlist() %>% as.numeric()\n",
    "low<-quantile(tip,0.1)\n",
    "mid_low<-quantile(tip,0.25)\n",
    "mid_high<-quantile(tip,0.5)\n",
    "high<-quantile(tip,0.9)\n",
    "padj_impurity<-0.05"
   ]
  },
  {
   "cell_type": "code",
   "execution_count": 20,
   "id": "bc861d93-3342-49ca-b8e3-fcd0f4bff592",
   "metadata": {},
   "outputs": [
    {
     "data": {
      "text/plain": [
       "\n",
       "  normal      low  mid_low      mid mid_high     high \n",
       "     144      108      162      270      430      108 "
      ]
     },
     "metadata": {},
     "output_type": "display_data"
    }
   ],
   "source": [
    "meta<-meta %>%\n",
    "        mutate(impurity_bin=case_when(impurity==0 ~ \"normal\",\n",
    "                                      impurity<=low ~ \"low\",\n",
    "                                      impurity>low & impurity<=mid_low ~ \"mid_low\",\n",
    "                                      impurity>mid_low & impurity<=mid_high ~ \"mid\",\n",
    "                                      impurity>mid_high & impurity<=high ~ \"mid_high\",\n",
    "                                      impurity>high ~ \"high\")) %>%\n",
    "        mutate(impurity_bin=factor(impurity_bin,levels=c(\"normal\",\"low\",\"mid_low\",\"mid\",\"mid_high\",\"high\")))\n",
    "table(meta$impurity_bin)"
   ]
  },
  {
   "cell_type": "code",
   "execution_count": 21,
   "id": "857416eb-6fb8-4850-b5b3-795e1df42617",
   "metadata": {},
   "outputs": [
    {
     "data": {
      "image/png": "[encoded data removed]",
      "text/plain": [
       "plot without title"
      ]
     },
     "metadata": {
      "image/png": {
       "height": 240,
       "width": 240
      }
     },
     "output_type": "display_data"
    }
   ],
   "source": [
    "options(repr.plot.width=4,repr.plot.height=4)\n",
    "imp.col <- c(\"#14BABE\",\"#2eb135\",\"#00773d\",\"#ffb201\",\"#ea7125\",\"#dc291e\") \n",
    "names(imp.col)<-levels(meta$impurity_bin)\n",
    "p<-meta %>%\n",
    "    ggplot(.,aes(x=impurity,fill=impurity_bin))+\n",
    "        geom_histogram(,alpha=0.8,bins=40)+\n",
    "        theme_pubr()+\n",
    "        scale_fill_manual(values=imp.col)+\n",
    "        theme(legend.position=\"none\")\n",
    "p\n",
    "ggsave(plot=p,filename=\"../output/figures/impurity_categories.pdf\",width=4,height=4,units=\"in\",device = \"pdf\")\n",
    "legend<-get_legend(p+theme(legend.position=\"top\"))%>%as_ggplot(.)\n",
    "ggsave(plot=legend,filename = \"../output/figures/legend.impurity_categories.pdf\",width = 8,height=0.5,units=\"in\",device=\"pdf\")"
   ]
  },
  {
   "cell_type": "code",
   "execution_count": 22,
   "id": "b0bf2a6d-2fb3-4b47-87bb-890dff446aa2",
   "metadata": {},
   "outputs": [],
   "source": [
    "meta.filt<-meta%>%\n",
    "           distinct(file_id,condition,stage,impurity,impurity_bin,gender,age_at_diagnosis)\n",
    "evcts<-trex.meta@assays@data$abundance[unique(c(imp.ora$event_id,tumor.ora$event_id)),]\n",
    "psi<-evcts[,grepl(\"A_\",colnames(evcts))]/(evcts[,grepl(\"A_\",colnames(evcts))]+evcts[,grepl(\"C_\",colnames(evcts))])\n",
    "psi<-log(psi/(1-psi))\n",
    "psi[is.infinite(psi)|is.na(psi)]<-NA"
   ]
  },
  {
   "cell_type": "code",
   "execution_count": 23,
   "id": "1ba70652-3558-41bc-b122-b3123d87b8ee",
   "metadata": {},
   "outputs": [],
   "source": [
    "for(ib in unique(meta.filt$impurity_bin)){\n",
    "\n",
    "    bdata <- meta.filt %>%\n",
    "             filter(impurity_bin==ib) %>%\n",
    "             distinct(file_id)\n",
    "    write.table(bdata,col.names=FALSE,row.names = FALSE,file = paste0(\"../output/figures/KIRC_impurity_bins/\",ib,\".txt\"),quote=FALSE)\n",
    "}"
   ]
  },
  {
   "cell_type": "markdown",
   "id": "da0d5961-c0e3-4053-a0d9-9bd2a47d7b64",
   "metadata": {},
   "source": [
    "## Unbiased event filtering\n",
    "---"
   ]
  },
  {
   "cell_type": "markdown",
   "id": "17e16337-2767-474b-bf32-a72c133f2a49",
   "metadata": {},
   "source": [
    "#### Condition-associated events"
   ]
  },
  {
   "cell_type": "code",
   "execution_count": 24,
   "id": "eb30b195-ce13-4142-9b79-4493b372c0d7",
   "metadata": {},
   "outputs": [
    {
     "name": "stderr",
     "output_type": "stream",
     "text": [
      "\u001b[1m\u001b[22mJoining, by = \"GENEID\"\n",
      "\u001b[1m\u001b[22mJoining, by = \"file_id\"\n",
      "\u001b[1m\u001b[22mJoining, by = \"event_id\"\n"
     ]
    }
   ],
   "source": [
    "cond.events <- tumor.ora %>%\n",
    "                filter(gene_group!=\"NS\",event_flag==\"valid\",abs(log2FoldChange_condition)>=1) %>%\n",
    "                group_by(gene_group,direction) %>%\n",
    "                arrange(padj_condition,desc(abs(log2FoldChange_condition))) %>%\n",
    "                slice_min(n = 25,order_by = padj_condition) %>%\n",
    "                slice_max(n = 10,order_by = abs(log2FoldChange_condition)) %>%\n",
    "                distinct(gene_id,event_id,gene_group,log2FoldChange_condition,padj_condition) %>%\n",
    "                rename(\"log2FoldChange_condition\"=\"log2FoldChange\",\n",
    "                       \"padj_condition\"=\"padj\") %>%\n",
    "                arrange(gene_group,direction,padj,desc(abs(log2FoldChange))) %>%\n",
    "                mutate(GENEID=sub(\"\\\\.\\\\d+\",\"\",gene_id)) %>%\n",
    "                left_join(.,genemap) \n",
    "\n",
    "psi.cond<-psi[unique(cond.events$event_id),] %>%\n",
    "           t() %>%\n",
    "           as.data.frame() %>%\n",
    "           mutate(sample_id=sub(\"A_\",\"\",colnames(psi)))%>%\n",
    "           group_by(sample_id) %>%\n",
    "           tidyr::pivot_longer(names_to=\"event_id\",values_to=\"logitPSI\",cols = unique(cond.events$event_id))%>%\n",
    "           mutate(file_id=sub(\".*_\",\"\",sample_id)) %>%\n",
    "           ungroup() %>% \n",
    "           select(-sample_id) %>%\n",
    "           left_join(.,meta.filt) %>%\n",
    "           left_join(.,cond.events)"
   ]
  },
  {
   "cell_type": "markdown",
   "id": "8d8e73fe-8eda-400b-ad74-580fae219fee",
   "metadata": {},
   "source": [
    "#### Impurity-related events"
   ]
  },
  {
   "cell_type": "code",
   "execution_count": 25,
   "id": "74efe203-f4fb-4cf6-9546-59e7d944a6da",
   "metadata": {},
   "outputs": [
    {
     "name": "stderr",
     "output_type": "stream",
     "text": [
      "\u001b[1m\u001b[22mJoining, by = \"GENEID\"\n",
      "\u001b[1m\u001b[22mJoining, by = \"file_id\"\n",
      "\u001b[1m\u001b[22mJoining, by = \"event_id\"\n"
     ]
    }
   ],
   "source": [
    "imp.events <- imp.ora %>%\n",
    "                filter(!is.na(padj_impurity),padj_impurity<0.05,event_flag==\"valid\",abs(log2FoldChange_impurity)>=1) %>%\n",
    "                mutate(gene_group=\"impurity\") %>%\n",
    "                group_by(gene_group,direction) %>%\n",
    "                arrange(padj_impurity,desc(abs(log2FoldChange_impurity))) %>%\n",
    "                slice_min(n = 25,order_by = padj_impurity) %>%\n",
    "                slice_max(n = 10,order_by = abs(log2FoldChange_impurity)) %>%\n",
    "                distinct(gene_id,event_id,gene_group,log2FoldChange_impurity,padj_impurity)%>%\n",
    "                rename(\"log2FoldChange_impurity\"=\"log2FoldChange\",\n",
    "                       \"padj_impurity\"=\"padj\") %>%\n",
    "                arrange(gene_group,direction,padj,desc(abs(log2FoldChange))) %>%\n",
    "                mutate(GENEID=sub(\"\\\\.\\\\d+\",\"\",gene_id)) %>%\n",
    "                left_join(.,genemap) \n",
    "\n",
    "psi.imp<-psi[unique(imp.events$event_id),] %>%\n",
    "           t() %>%\n",
    "           as.data.frame() %>%\n",
    "           mutate(sample_id=sub(\"A_\",\"\",colnames(psi)))%>%\n",
    "           group_by(sample_id) %>%\n",
    "           tidyr::pivot_longer(names_to=\"event_id\",values_to=\"logitPSI\",cols = unique(imp.events$event_id))%>%\n",
    "           mutate(file_id=sub(\".*_\",\"\",sample_id)) %>%\n",
    "           ungroup() %>% \n",
    "           select(-sample_id) %>%\n",
    "           left_join(.,meta.filt) %>%\n",
    "           left_join(.,imp.events)"
   ]
  },
  {
   "cell_type": "code",
   "execution_count": 26,
   "id": "335eb666-f2f6-4ff6-bb53-53a87119844c",
   "metadata": {},
   "outputs": [
    {
     "name": "stderr",
     "output_type": "stream",
     "text": [
      "\u001b[1m\u001b[22m`summarise()` has grouped output by 'impurity_bin', 'condition', 'gene_group',\n",
      "'GENENAME'. You can override using the `.groups` argument.\n"
     ]
    }
   ],
   "source": [
    "psi.stats<-rbind(psi.cond,psi.imp) %>%\n",
    "            group_by(impurity_bin,condition,gene_group,GENENAME,event_id) %>%\n",
    "            summarize(ns=length(unique(file_id)),\n",
    "                      nv=sum(!is.na(logitPSI)),\n",
    "                      mean_logitPSI=mean(logitPSI,na.rm=T),\n",
    "                      sdm_logitPSI=sd(logitPSI,na.rm=T)/sum(!is.na(logitPSI))) %>%\n",
    "            group_by(gene_group,GENENAME,event_id) %>%\n",
    "            mutate(nvalid=sum(!is.na(mean_logitPSI))) %>%\n",
    "            filter(nvalid==6)"
   ]
  },
  {
   "cell_type": "code",
   "execution_count": 27,
   "id": "7343bed3-7564-451a-b90c-3709f2c67a61",
   "metadata": {},
   "outputs": [],
   "source": [
    "events_ids<-unique(psi.stats$event_id)\n",
    "cts.colors<-c(\"#BBBABA\",\"#8E44AD\")"
   ]
  },
  {
   "cell_type": "code",
   "execution_count": 29,
   "id": "7c668112-b51d-4217-9914-0dd18e3f46ca",
   "metadata": {},
   "outputs": [],
   "source": [
    "options(repr.plot.width=5,repr.plot.height=4)\n",
    "for(cat in psi.stats$gene_group[1]){\n",
    "    \n",
    "    cat.data<-psi.stats %>% filter(gene_group==cat)\n",
    "    for(ev in unique(cat.data$event_id)[1]){\n",
    "        \n",
    "        plot.data <- cat.data %>% filter(event_id==ev)\n",
    "        gene<-unique(plot.data$GENENAME)\n",
    "\n",
    "        nm<-plot.data %>% filter(impurity_bin==\"normal\") %>% ungroup %>% distinct(mean_logitPSI) %>% unlist() %>% as.numeric()\n",
    "        p<-ggplot(plot.data,aes(x=impurity_bin,y=mean_logitPSI,fill=condition,group=condition))+\n",
    "            geom_hline(yintercept = nm ,color=\"#BBBABA\",linetype=\"dashed\",linewidth=0.5)+\n",
    "            geom_errorbar(aes(ymin = mean_logitPSI-sdm_logitPSI, ymax = mean_logitPSI+sdm_logitPSI),color=\"black\", width = 0.15,linewidth=0.5,alpha=0.5)+\n",
    "            geom_point(size=2,pch=21)+\n",
    "            theme_pubr()+\n",
    "            labs(title=gene,subtitle=sub(\".*SE:\",\"SE:\",ev))+\n",
    "            theme(legend.position=\"right\",\n",
    "                  plot.title=element_text(face=\"bold\"))+\n",
    "            scale_fill_manual(values=cts.colors)+\n",
    "            scale_color_manual(values=cts.colors)+\n",
    "            scale_x_discrete(breaks=c(\"normal\",\"low\",\"mid\",\"high\"))\n",
    "        p\n",
    "        ggsave(p,filename=paste0(\"../output/figures/event_validation_unbiased/\",cat,\"_\",gene,\"_\",ev,\".pdf\"),width=5,height=2.5)\n",
    "    }\n",
    "}"
   ]
  },
  {
   "cell_type": "code",
   "execution_count": 30,
   "id": "4fbddfa4-96ce-4b56-afc5-87c89dc724af",
   "metadata": {},
   "outputs": [],
   "source": [
    "saveRDS(psi.stats,file = \"../output/objects/Figure9_psi.stats.unbiased.RDS\")"
   ]
  },
  {
   "cell_type": "markdown",
   "id": "cc7a14cd-780a-48d9-9c6c-85d2ce9a2bff",
   "metadata": {},
   "source": [
    "## Genes matching asdb \n",
    "---"
   ]
  },
  {
   "cell_type": "code",
   "execution_count": 33,
   "id": "c2a96b38-ce86-4345-a588-29724b1d0034",
   "metadata": {},
   "outputs": [],
   "source": [
    "asdb<-fread(file=\"../input/ASCancer_CASE_AS_Type_hg38.csv\",data.table=F) %>% select(-V1) %>%\n",
    "            filter(event_type==\"SE\") %>%\n",
    "            filter(tcga_project_id%in%c(\"TCGA-KIRP\",\"TCGA-KICH\",\"TCGA-KIRC\"))\n",
    "gmapfile<-\"../input/gencode.v37.primary_assembly.annotation.geneIDmap.tsv\"\n",
    "genemap<-fread(gmapfile,data.table=F)"
   ]
  },
  {
   "cell_type": "code",
   "execution_count": 34,
   "id": "ef93c12f-9368-4c27-8196-15c3069d1784",
   "metadata": {},
   "outputs": [
    {
     "name": "stderr",
     "output_type": "stream",
     "text": [
      "\u001b[1m\u001b[22mJoining, by = \"GENEID\"\n",
      "\u001b[1m\u001b[22mJoining, by = c(\"event_id\", \"gene_name\")\n",
      "\u001b[1m\u001b[22mJoining, by = \"file_id\"\n",
      "\u001b[1m\u001b[22mJoining, by = \"event_id\"\n"
     ]
    }
   ],
   "source": [
    "imp.events <- imp.ora %>% \n",
    "                 filter(event_flag==\"valid\",signif_impurity,abs(log2FoldChange_impurity)>=1) %>%\n",
    "                 distinct(event_id,gene_id) %>%\n",
    "                 mutate(GENEID=sub(\"\\\\..*\",\"\",gene_id),\n",
    "                        event_id_org=event_id,\n",
    "                        event_id=paste(GENEID,sub(\"ENS.*;\",\"\",event_id),sep=\";\")) %>%\n",
    "                 left_join(.,genemap) %>%\n",
    "                 rename(\"GENENAME\"=\"gene_name\") %>%\n",
    "                 inner_join(.,asdb %>% distinct(event_id,gene_name,biological_function,functional_description)) %>%\n",
    "                 ungroup() %>%\n",
    "                 distinct() %>%\n",
    "                 mutate(event_id = event_id_org,\n",
    "                        gene_group=\"impurity\") %>%\n",
    "                 select(-event_id_org)\n",
    "\n",
    "psi.imp<-psi[unique(imp.events$event_id),] %>%\n",
    "           t() %>%\n",
    "           as.data.frame() %>%\n",
    "           mutate(sample_id=sub(\"A_\",\"\",colnames(psi)))%>%\n",
    "           group_by(sample_id) %>%\n",
    "           tidyr::pivot_longer(names_to=\"event_id\",values_to=\"logitPSI\",cols = unique(imp.events$event_id))%>%\n",
    "           mutate(file_id=sub(\".*_\",\"\",sample_id)) %>%\n",
    "           ungroup() %>% \n",
    "           select(-sample_id) %>%\n",
    "           left_join(.,meta.filt) %>%\n",
    "           left_join(.,imp.events)"
   ]
  },
  {
   "cell_type": "code",
   "execution_count": 36,
   "id": "94427a2c-06fe-47f8-8740-d20863e6e2de",
   "metadata": {},
   "outputs": [
    {
     "name": "stderr",
     "output_type": "stream",
     "text": [
      "\u001b[1m\u001b[22mJoining, by = c(\"gene_id\", \"event_id\", \"gene_group\")\n",
      "\u001b[1m\u001b[22mJoining, by = \"file_id\"\n",
      "\u001b[1m\u001b[22mJoining, by = \"event_id\"\n"
     ]
    }
   ],
   "source": [
    "asdb.events<-fread(file = \"../input/KIRC.res.condition.ascdb.match.tsv\",data.table = F)\n",
    "cond.events <- tumor.ora %>%\n",
    "                mutate(event_id_org=event_id,\n",
    "                       event_id=paste(gene_id,sub(\"ENS.*;\",\"\",event_id),sep=\";\"))%>%\n",
    "                inner_join(.,asdb.events) %>%\n",
    "                filter(gene_group!=\"NS\") %>%\n",
    "                mutate(event_id=event_id_org) %>%\n",
    "                select(-event_id_org)\n",
    "\n",
    "psi.cond<-psi[unique(cond.events$event_id),] %>%\n",
    "           t() %>%\n",
    "           as.data.frame() %>%\n",
    "           mutate(sample_id=sub(\"A_\",\"\",colnames(psi)))%>%\n",
    "           group_by(sample_id) %>%\n",
    "           tidyr::pivot_longer(names_to=\"event_id\",values_to=\"logitPSI\",cols = unique(cond.events$event_id))%>%\n",
    "           mutate(file_id=sub(\".*_\",\"\",sample_id)) %>%\n",
    "           ungroup() %>% \n",
    "           select(-sample_id) %>%\n",
    "           left_join(.,meta.filt) %>%\n",
    "           left_join(.,cond.events)"
   ]
  },
  {
   "cell_type": "code",
   "execution_count": 37,
   "id": "949ec07b-f069-408c-be70-c889d31d66d7",
   "metadata": {},
   "outputs": [
    {
     "name": "stderr",
     "output_type": "stream",
     "text": [
      "\u001b[1m\u001b[22m`summarise()` has grouped output by 'impurity_bin', 'condition', 'gene_group',\n",
      "'gene_name'. You can override using the `.groups` argument.\n"
     ]
    }
   ],
   "source": [
    "psi.stats<-rbind(psi.cond[,colnames(psi.imp)],psi.imp) %>%\n",
    "            group_by(impurity_bin,condition,gene_group,gene_name,event_id) %>%\n",
    "            summarize(ns=length(unique(file_id)),\n",
    "                      nv=sum(!is.na(logitPSI)),\n",
    "                      mean_logitPSI=mean(logitPSI,na.rm=T),\n",
    "                      sdm_logitPSI=sd(logitPSI,na.rm=T)/sum(!is.na(logitPSI))) %>%\n",
    "            group_by(gene_group,gene_name,event_id) %>%\n",
    "            mutate(nvalid=sum(!is.na(mean_logitPSI))) %>%\n",
    "            filter(nvalid==6)"
   ]
  },
  {
   "cell_type": "code",
   "execution_count": 39,
   "id": "c4c4d0fb-b86f-4723-9ee4-ed10b3773b37",
   "metadata": {},
   "outputs": [],
   "source": [
    "options(repr.plot.width=5,repr.plot.height=4)\n",
    "for(cat in psi.stats$gene_group[1]){\n",
    "    \n",
    "    cat.data<-psi.stats %>% filter(gene_group==cat)\n",
    "    for(ev in unique(cat.data$event_id)[1]){\n",
    "        \n",
    "        plot.data <- cat.data %>% filter(event_id==ev)\n",
    "        gene<-unique(plot.data$gene_name)\n",
    "\n",
    "        nm<-plot.data %>% filter(impurity_bin==\"normal\") %>% ungroup %>% distinct(mean_logitPSI) %>% unlist() %>% as.numeric()\n",
    "        p<-ggplot(plot.data,aes(x=impurity_bin,y=mean_logitPSI,fill=condition,group=condition))+\n",
    "                geom_hline(yintercept = nm ,color=\"#BBBABA\",linetype=\"dashed\",linewidth=0.5)+\n",
    "                geom_errorbar(aes(ymin = mean_logitPSI-sdm_logitPSI, ymax = mean_logitPSI+sdm_logitPSI),color=\"black\", width = 0.15,linewidth=0.5,alpha=0.5)+\n",
    "                geom_point(size=2,pch=21)+\n",
    "                theme_pubr()+\n",
    "                labs(title=gene,subtitle=sub(\".*SE:\",\"SE:\",ev))+\n",
    "                theme(legend.position=\"right\",\n",
    "                      plot.title=element_text(face=\"bold\"))+\n",
    "                scale_fill_manual(values=cts.colors)+\n",
    "                scale_color_manual(values=cts.colors)+\n",
    "                scale_x_discrete(breaks=c(\"normal\",\"low\",\"mid\",\"high\"))\n",
    "\n",
    "        \n",
    "        ggsave(p,filename=paste0(\"../output/figures/event_validation_ascdb/\",cat,\"_\",gene,\"_\",ev,\".pdf\"),width=5,height=2.5)\n",
    "    }\n",
    "}"
   ]
  },
  {
   "cell_type": "code",
   "execution_count": 40,
   "id": "476dc27d-3504-4f14-ace0-976309f83166",
   "metadata": {},
   "outputs": [],
   "source": [
    "saveRDS(psi.stats,file = \"../output/objects/psi.stats.ascdb.RDS\")"
   ]
  }
 ],
 "metadata": {
  "kernelspec": {
   "display_name": "R",
   "language": "R",
   "name": "ir"
  },
  "language_info": {
   "codemirror_mode": "r",
   "file_extension": ".r",
   "mimetype": "text/x-r-source",
   "name": "R",
   "pygments_lexer": "r",
   "version": "4.1.2"
  }
 },
 "nbformat": 4,
 "nbformat_minor": 5
}
