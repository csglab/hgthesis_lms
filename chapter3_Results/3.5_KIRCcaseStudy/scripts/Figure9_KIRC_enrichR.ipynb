{
 "cells": [
  {
   "cell_type": "markdown",
   "id": "b0fcba10-bffe-4df3-88a7-279eabb36614",
   "metadata": {},
   "source": [
    "# KIRC gene overrepresentation analysis with enrichR\n"
   ]
  },
  {
   "cell_type": "code",
   "execution_count": 1,
   "id": "62e0e311-be5c-4f29-9e5f-7b3bedce0945",
   "metadata": {
    "tags": []
   },
   "outputs": [
    {
     "name": "stderr",
     "output_type": "stream",
     "text": [
      "\n",
      "Attaching package: ‘dplyr’\n",
      "\n",
      "\n",
      "The following objects are masked from ‘package:data.table’:\n",
      "\n",
      "    between, first, last\n",
      "\n",
      "\n",
      "The following objects are masked from ‘package:stats’:\n",
      "\n",
      "    filter, lag\n",
      "\n",
      "\n",
      "The following objects are masked from ‘package:base’:\n",
      "\n",
      "    intersect, setdiff, setequal, union\n",
      "\n",
      "\n",
      "\n",
      "Attaching package: ‘matrixStats’\n",
      "\n",
      "\n",
      "The following object is masked from ‘package:dplyr’:\n",
      "\n",
      "    count\n",
      "\n",
      "\n"
     ]
    }
   ],
   "source": [
    "library(data.table)\n",
    "library(dplyr)\n",
    "library(ggplot2)\n",
    "library(ggsci)\n",
    "library(ggpubr)\n",
    "library(ggtext)\n",
    "library(matrixStats)\n",
    "library(msigdbr)\n",
    "library(fgsea)\n",
    "library(patchwork)"
   ]
  },
  {
   "cell_type": "markdown",
   "id": "f593f18c-15c8-4cf9-a825-59bf65e0674a",
   "metadata": {},
   "source": [
    "### Functions"
   ]
  },
  {
   "cell_type": "code",
   "execution_count": 2,
   "id": "47288a30-ad9b-4b61-a070-b2b2075c902f",
   "metadata": {},
   "outputs": [],
   "source": [
    "fora_test<-function(d,...){\n",
    "    d <- d %>% \n",
    "          distinct(gene_id) \n",
    "    res<-fora(pathways = hm_list,\n",
    "              genes = d$gene_id,\n",
    "              universe = all_se_genes,\n",
    "              minSize = 15, \n",
    "              maxSize = 250) \n",
    "    return(res)\n",
    "}"
   ]
  },
  {
   "cell_type": "markdown",
   "id": "2633c5ff-4369-4f84-8561-66d80746395b",
   "metadata": {},
   "source": [
    "### Load TRex results"
   ]
  },
  {
   "cell_type": "code",
   "execution_count": 3,
   "id": "17c40464-cd7c-4174-b4e2-b75649835c1f",
   "metadata": {},
   "outputs": [],
   "source": [
    "res_dir <- \"../../../chapter2_Methods/2.1_TRexMethod/tcga/output/KIRC/trex/coefs_condition\"\n",
    "cancer<-\"KIRC\"\n",
    "analysis<-\"condition\""
   ]
  },
  {
   "cell_type": "code",
   "execution_count": 4,
   "id": "ddf217c6-b780-4e54-9c65-d931d7350d57",
   "metadata": {},
   "outputs": [],
   "source": [
    "res.files <- list.files(res_dir,pattern = \"SE.res.lfcShrink.condition.trex_countA.*\",recursive = F)\n",
    "names(res.files)<-sub(\"\\\\.res.*\",\"\",res.files)%>%sub(\"/\",\"_\",.)\n",
    "\n",
    "cond <- lapply(res.files,function(file,...){\n",
    "                 res <- suppressWarnings(fread(file.path(res_dir,file),data.table=FALSE,stringsAsFactors = F,drop=1,nThread = 4))%>%\n",
    "                        mutate(signif = padj<0.05) %>%                \n",
    "                        mutate(cancer=cancer,\n",
    "                                exp_var=sub(\".*trex_countA\\\\.\",\"\",file) %>% sub(\"\\\\.tsv\",\"\",.)) %>%\n",
    "                         select(-constitutive_transcripts,-alternative_transcripts,-seqname)    \n",
    "        }) %>% do.call(rbind,.)%>%\n",
    "        rename_at(vars(log2FoldChange:padj,signif),function(col){paste0(col,\"_condition\")} )"
   ]
  },
  {
   "cell_type": "code",
   "execution_count": 6,
   "id": "629e1408-95ea-4ffe-a216-aa0bb8d487af",
   "metadata": {},
   "outputs": [],
   "source": [
    "tumor.ora<-fread(file = \"../input/Figure9_KIRC.res.lfcShrink.condition.trexCount.tsv\",data.table = F) %>%\n",
    "            filter(!na_flag)"
   ]
  },
  {
   "cell_type": "code",
   "execution_count": 7,
   "id": "9752d811-5c4d-4763-aeea-3fd01fb84e63",
   "metadata": {},
   "outputs": [],
   "source": [
    "imp.ora<-fread(file = \"../input/Figure9_KIRC.res.lfcShrink.impurity.trexCount.tsv\",data.table=F)%>%\n",
    "            filter(!na_flag)"
   ]
  },
  {
   "cell_type": "code",
   "execution_count": 8,
   "id": "5f19b9bf-2a1a-4f95-9b14-1aa9eebe59cb",
   "metadata": {},
   "outputs": [],
   "source": [
    "gmapfile<-\"../input/gencode.v37.primary_assembly.annotation.geneIDmap.tsv\"\n",
    "genemap<-fread(gmapfile,data.table=F)"
   ]
  },
  {
   "cell_type": "markdown",
   "id": "ed589603-feb4-4d11-b4e5-e7ea65303ba4",
   "metadata": {},
   "source": [
    "# Gene overrepresentation analysis "
   ]
  },
  {
   "cell_type": "code",
   "execution_count": 10,
   "id": "acd7b220-abfd-4c00-99b3-bdae6fb36412",
   "metadata": {},
   "outputs": [
    {
     "name": "stderr",
     "output_type": "stream",
     "text": [
      "\u001b[1m\u001b[22mJoining, by = \"GENEID\"\n",
      "\u001b[1m\u001b[22mJoining, by = \"GENEID\"\n"
     ]
    }
   ],
   "source": [
    "tumor.ora <- tumor.ora %>% \n",
    "             mutate(GENEID=gene_id) %>% \n",
    "             left_join(.,genemap) %>% \n",
    "             filter(gene_group!=\"NS\",\n",
    "                    event_flag==\"valid\",\n",
    "                    abs(log2FoldChange_condition)!=0)\n",
    "\n",
    "imp.ora <- imp.ora %>% \n",
    "            mutate(GENEID=sub(\"\\\\..*\",\"\",gene_id)) %>% \n",
    "            left_join(.,genemap) %>% \n",
    "            filter(padj_impurity<0.05,\n",
    "                   event_flag==\"valid\",\n",
    "                   abs(log2FoldChange_impurity)!=0)"
   ]
  },
  {
   "cell_type": "code",
   "execution_count": 11,
   "id": "e0865217-0b9c-4837-9337-152c03c4644b",
   "metadata": {},
   "outputs": [],
   "source": [
    "### Split data into categories\n",
    "for(d in c(\"up\",\"down\")){\n",
    "    \n",
    "    data<-imp.ora %>% \n",
    "            filter(direction==d) %>%\n",
    "            ungroup() %>%\n",
    "            distinct(GENENAME)\n",
    "    write.table(data,file=paste0(\"../output/tables/Figure9_KIRC.genes.impurity.\",d,\".tsv\"),row.names=F,quote=F,col.names = F,sep=\"\\t\")\n",
    "\n",
    "    for(gg in unique(tumor.ora$gene_group)){\n",
    "        data<-tumor.ora %>%\n",
    "              filter(gene_group==gg,\n",
    "                     direction==d) %>%\n",
    "              select(GENENAME)\n",
    "        write.table(data,file=paste0(\"../output/tables/Figure9_KIRC.genes.condition.\",gg,\".\",d,\".tsv\"),row.names=F,quote=F,col.names = F,sep=\"\\t\")\n",
    "    }\n",
    "}"
   ]
  },
  {
   "cell_type": "markdown",
   "id": "f952895c-99fa-4df6-a798-f16990840387",
   "metadata": {},
   "source": [
    "### GORA"
   ]
  },
  {
   "cell_type": "markdown",
   "id": "9ca86599-ae58-43ab-896f-be3bceb4999d",
   "metadata": {},
   "source": [
    "Extend this to include impurity-associated changes and potentially intron retention events"
   ]
  },
  {
   "cell_type": "code",
   "execution_count": 12,
   "id": "4f61ccd9-c328-4667-b39f-a332e0358e54",
   "metadata": {},
   "outputs": [],
   "source": [
    "hm_gene_sets <- msigdbr(species = \"human\") %>%\n",
    "                filter(gs_cat==\"H\")\n",
    "hm_df <- hm_gene_sets %>% \n",
    "         distinct(gs_cat,gs_name,ensembl_gene) %>%\n",
    "         as.data.frame() \n",
    "hm_list <- split(x = hm_df$ensembl_gene, f = hm_df$gs_name)"
   ]
  },
  {
   "cell_type": "code",
   "execution_count": 13,
   "id": "c071ce91-1a89-45de-abda-e4a7dad02870",
   "metadata": {},
   "outputs": [
    {
     "name": "stderr",
     "output_type": "stream",
     "text": [
      "Universe size: 12628\n",
      "\n"
     ]
    }
   ],
   "source": [
    "all_se_genes<-unique(gsub(\"\\\\.\\\\d*\",\"\",cond$gene_id))\n",
    "message(\"Universe size: \",length(all_se_genes))"
   ]
  },
  {
   "cell_type": "code",
   "execution_count": 14,
   "id": "fc082460-6c8d-4108-a36b-d72c855a652e",
   "metadata": {},
   "outputs": [],
   "source": [
    "tumor.ora.events<-tumor.ora %>% select(gene_group,event_id,gene_id,direction)\n",
    "imp.ora.events<-imp.ora %>%\n",
    "                mutate(gene_group=\"impurity\",\n",
    "                       gene_id=sub(\"\\\\..*\",\"\",gene_id)) %>% \n",
    "                select(gene_group,event_id,gene_id,direction)"
   ]
  },
  {
   "cell_type": "code",
   "execution_count": 15,
   "id": "e865a491-36ea-49a1-8592-e5ac7d11f4ee",
   "metadata": {},
   "outputs": [],
   "source": [
    "gora.cond <- rbind(tumor.ora.events,imp.ora.events) %>%\n",
    "             group_by(gene_group,direction) %>%\n",
    "             tidyr::nest(data = event_id:gene_id) %>%\n",
    "             mutate(gora_res = lapply(data,fora_test))\n",
    "\n",
    "gora_res <- gora.cond %>%\n",
    "            select(-data) %>%\n",
    "            tidyr::unnest(gora_res)%>% \n",
    "            ungroup() %>%\n",
    "            mutate(significant=padj<0.2)\n",
    "gord<-gora_res %>%\n",
    "      select(-overlapGenes) %>%\n",
    "      group_by(gene_group)%>%\n",
    "      summarize(n=sum(significant)) %>%\n",
    "      arrange(n) \n",
    "\n",
    "pord<-gora_res %>%\n",
    "      filter(direction==\"up\") %>%\n",
    "      select(-overlapGenes) %>%\n",
    "      mutate(pathway=sub(\"HALLMARK_\",\"\",pathway)) %>%\n",
    "      group_by(pathway)%>%\n",
    "      summarize(n=sum(significant)) %>%\n",
    "      filter(n!=0) %>%\n",
    "      arrange(desc(n)) \n",
    "\n",
    "gora_res.plt <- gora_res %>%\n",
    "                mutate(pathway=factor(sub(\"HALLMARK_\",\"\",pathway),levels=pord$pathway),\n",
    "                       gene_group=factor(gene_group,levels=gord$gene_group),\n",
    "                       poverlap=round(overlap/size,2)*100,\n",
    "                       direction=factor(direction,levels=c(\"up\",\"down\"))) %>% \n",
    "                filter(pathway%in%pord$pathway)"
   ]
  },
  {
   "cell_type": "code",
   "execution_count": 16,
   "id": "885ecb8e-d00e-484a-85e4-89a1f476b45f",
   "metadata": {
    "tags": []
   },
   "outputs": [
    {
     "data": {
      "image/png": "[encoded data removed]",
      "text/plain": [
       "plot without title"
      ]
     },
     "metadata": {
      "image/png": {
       "height": 270,
       "width": 180
      }
     },
     "output_type": "display_data"
    }
   ],
   "source": [
    "options(repr.plot.width=3,repr.plot.height=4.5)\n",
    "col.pal <- colorRampPalette(colors = c(\"#FFFFFF\",\"#FF0000\"))\n",
    "g<-gora_res.plt %>%\n",
    "    filter(direction==\"up\")%>%\n",
    "    mutate(significance=-log10(padj))%>%\n",
    "    ggplot(.,aes(y=gene_group,x=pathway,fill=significance,color=significant,size=poverlap))+\n",
    "        geom_point(pch=21)+\n",
    "        scale_fill_gradientn(colours = col.pal(20))+\n",
    "        scale_color_manual(values = c(\"#F2F2F2\",\"#000000\"),guide=\"none\")+\n",
    "        theme_bw()+\n",
    "        theme(axis.text.x = element_text(angle = 90,color=\"black\",,face=\"bold\",hjust=1,vjust=0.5),\n",
    "              axis.text.y = element_text(color = \"black\"),\n",
    "              plot.background = element_blank(),\n",
    "              axis.ticks = element_blank(),\n",
    "              panel.grid.major = element_blank(),\n",
    "              panel.grid.minor = element_blank(),\n",
    "              panel.border = element_blank(),\n",
    "              legend.position = \"top\",\n",
    "              text = element_text(size=14),\n",
    "              strip.background = element_blank(),\n",
    "              strip.text = element_blank())+\n",
    "        scale_x_discrete(position = \"bottom\") +\n",
    "        scale_y_discrete(position = \"left\") +\n",
    "        labs(x=\"\",y=\"\")+\n",
    "        facet_wrap(~direction,ncol=1)\n",
    "\n",
    "legend<-get_legend(g)%>%as_ggplot(.)\n",
    "ggsave(plot=legend,filename = \"../output/figures/legend.up.gora.event.categories.pdf\",width = 8,height=1,units=\"in\",device=\"pdf\")\n",
    "g<-g+theme(legend.position=\"none\")\n",
    "ggsave(plot=g,filename=\"../output/figures/gora.up.event.categories.pdf\",width=3,height=4.5,units=\"in\",device = \"pdf\")\n",
    "g"
   ]
  },
  {
   "cell_type": "code",
   "execution_count": 17,
   "id": "0cea2af7-9498-44fd-9c92-cdd05b132b77",
   "metadata": {},
   "outputs": [
    {
     "data": {
      "image/png": "[encoded data removed]",
      "text/plain": [
       "plot without title"
      ]
     },
     "metadata": {
      "image/png": {
       "height": 270,
       "width": 210
      }
     },
     "output_type": "display_data"
    }
   ],
   "source": [
    "options(repr.plot.width=3.5,repr.plot.height=4.5)\n",
    "col.pal <- colorRampPalette(colors = c(\"#FFFFFF\",\"#003AFF\"))\n",
    "\n",
    "pord<-gora_res %>%\n",
    "      filter(direction==\"down\") %>%\n",
    "      select(-overlapGenes) %>%\n",
    "      mutate(pathway=sub(\"HALLMARK_\",\"\",pathway)) %>%\n",
    "      group_by(pathway)%>%\n",
    "      summarize(n=sum(significant)) %>%\n",
    "      filter(n!=0) %>%\n",
    "      arrange(desc(n))\n",
    "gora_res.plt <- gora_res %>%\n",
    "                mutate(pathway=factor(sub(\"HALLMARK_\",\"\",pathway),levels=pord$pathway),\n",
    "                       gene_group=factor(gene_group,levels=gord$gene_group),\n",
    "                       poverlap=round(overlap/size,2)*100,\n",
    "                       direction=factor(direction,levels=c(\"up\",\"down\"))) %>% \n",
    "                filter(pathway%in%pord$pathway)\n",
    "g<-gora_res.plt %>%\n",
    "    filter(direction==\"down\",pathway%in%pord$pathway)%>%\n",
    "    mutate(significance=-log10(padj))%>%\n",
    "    ggplot(.,aes(y=gene_group,x=pathway,fill=significance,color=significant,size=poverlap))+\n",
    "        geom_point(pch=21)+\n",
    "        scale_fill_gradientn(colours = col.pal(20))+\n",
    "        scale_color_manual(values = c(\"#F2F2F2\",\"#000000\"),guide=\"none\")+\n",
    "        theme_bw()+\n",
    "        theme(axis.text.x = element_text(angle = 90,color=\"black\",,face=\"bold\",hjust=1,vjust=0.5),\n",
    "              axis.text.y = element_text(color = \"black\"),\n",
    "              plot.background = element_blank(),\n",
    "              axis.ticks = element_blank(),\n",
    "              panel.grid.major = element_blank(),\n",
    "              panel.grid.minor = element_blank(),\n",
    "              panel.border = element_blank(),\n",
    "              legend.position = \"top\",\n",
    "              text = element_text(size=14),\n",
    "              strip.background = element_blank(),\n",
    "              strip.text = element_blank())+\n",
    "        scale_x_discrete(position = \"bottom\") +\n",
    "        scale_y_discrete(position = \"left\") +\n",
    "        labs(x=\"\",y=\"\")+\n",
    "        facet_wrap(~direction,ncol=1)\n",
    "\n",
    "legend<-get_legend(g)%>%as_ggplot(.)\n",
    "ggsave(plot=legend,filename = \"../output/figures/legend.down.gora.event.categories.pdf\",width = 8,height=1,units=\"in\",device=\"pdf\")\n",
    "g<-g+theme(legend.position=\"none\")\n",
    "ggsave(plot=g,filename=\"../output/figures/gora.down.event.categories.pdf\",width=3.5,height=4.5,units=\"in\",device = \"pdf\")\n",
    "g"
   ]
  },
  {
   "cell_type": "code",
   "execution_count": 18,
   "id": "236bc42d-b72f-4430-945c-0be8880424db",
   "metadata": {},
   "outputs": [],
   "source": [
    "all_genes<-hm_df %>% \n",
    "            filter(gs_name %in% as.character(unique(gora_res[gora_res$significant,]$pathway))) %>%\n",
    "            select(-gs_cat) %>%\n",
    "            rename(\"pathway\"=\"gs_name\",\n",
    "                   \"GENEID\"=\"ensembl_gene\")"
   ]
  },
  {
   "cell_type": "code",
   "execution_count": 19,
   "id": "0c9d9208-07d2-4b4e-8154-d69abd3228bd",
   "metadata": {
    "tags": []
   },
   "outputs": [
    {
     "name": "stderr",
     "output_type": "stream",
     "text": [
      "\u001b[1m\u001b[22mAdding missing grouping variables: `gene_group`, `direction`, `pathway`\n",
      "\u001b[1m\u001b[22mJoining, by = c(\"pathway\", \"GENEID\")\n",
      "\u001b[1m\u001b[22mJoining, by = \"GENEID\"\n"
     ]
    }
   ],
   "source": [
    "gora_res_signif<-gora_res %>%\n",
    "                 filter(significant) %>%\n",
    "                 group_by(gene_group,direction,pathway) %>%\n",
    "                 tidyr::unnest(overlapGenes) %>%\n",
    "                 select(overlapGenes) %>%\n",
    "                 dplyr::rename(\"GENEID\"=\"overlapGenes\") %>%\n",
    "                 ungroup() %>%\n",
    "                 distinct(pathway,GENEID) %>%\n",
    "                 mutate(overlap=1) %>%\n",
    "                 full_join(.,all_genes) %>%\n",
    "                 left_join(.,genemap) %>%\n",
    "                 mutate(overlap=ifelse(is.na(overlap),0,overlap)) %>%\n",
    "                 distinct(pathway,SYMBOL,overlap) %>%\n",
    "                 filter(!is.na(SYMBOL))"
   ]
  },
  {
   "cell_type": "markdown",
   "id": "8e48a74d-286c-4db9-ae60-002dd2a1b430",
   "metadata": {},
   "source": [
    "### Create C matrix for GEDI"
   ]
  },
  {
   "cell_type": "code",
   "execution_count": 20,
   "id": "4bd0978a-11b2-4fd3-9218-941f650113c4",
   "metadata": {},
   "outputs": [],
   "source": [
    "C<-gora_res_signif %>%\n",
    "    tidyr::pivot_wider(names_from = pathway,values_from = overlap,id_cols = SYMBOL,values_fill = 0) %>%\n",
    "    tibble::column_to_rownames(\"SYMBOL\") %>%\n",
    "    as.matrix()"
   ]
  },
  {
   "cell_type": "code",
   "execution_count": 21,
   "id": "05924318-d040-4d9b-a936-c267456905db",
   "metadata": {},
   "outputs": [
    {
     "data": {
      "text/html": [
       "<style>\n",
       ".list-inline {list-style: none; margin:0; padding: 0}\n",
       ".list-inline>li {display: inline-block}\n",
       ".list-inline>li:not(:last-child)::after {content: \"\\00b7\"; padding: 0 .5ex}\n",
       "</style>\n",
       "<ol class=list-inline><li>1044</li><li>7</li></ol>\n"
      ],
      "text/latex": [
       "\\begin{enumerate*}\n",
       "\\item 1044\n",
       "\\item 7\n",
       "\\end{enumerate*}\n"
      ],
      "text/markdown": [
       "1. 1044\n",
       "2. 7\n",
       "\n",
       "\n"
      ],
      "text/plain": [
       "[1] 1044    7"
      ]
     },
     "metadata": {},
     "output_type": "display_data"
    }
   ],
   "source": [
    "dim(C)"
   ]
  },
  {
   "cell_type": "code",
   "execution_count": 22,
   "id": "4836bdde-8713-4419-b87f-f47d09d66970",
   "metadata": {},
   "outputs": [],
   "source": [
    "saveRDS(C,file = \"../output/objects/KIRC.gora_res.C_matrix.RDS\")"
   ]
  },
  {
   "cell_type": "code",
   "execution_count": null,
   "id": "0ddb0ceb-0a66-4296-88c2-35fdaff1c7c8",
   "metadata": {},
   "outputs": [],
   "source": []
  }
 ],
 "metadata": {
  "kernelspec": {
   "display_name": "R",
   "language": "R",
   "name": "ir"
  },
  "language_info": {
   "codemirror_mode": "r",
   "file_extension": ".r",
   "mimetype": "text/x-r-source",
   "name": "R",
   "pygments_lexer": "r",
   "version": "4.1.2"
  }
 },
 "nbformat": 4,
 "nbformat_minor": 5
}
