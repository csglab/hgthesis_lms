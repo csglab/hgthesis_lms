{
 "cells": [
  {
   "cell_type": "markdown",
   "id": "322d0f85-7801-4b11-9bfb-87e7303fc527",
   "metadata": {},
   "source": [
    "# Split bamfiles by impurity bin\n",
    "\n",
    "Only for the coordinates of interesting genes"
   ]
  },
  {
   "cell_type": "code",
   "execution_count": null,
   "id": "e242051d-2676-49c9-8353-ee2a64d41165",
   "metadata": {
    "tags": []
   },
   "outputs": [],
   "source": [
    "library(dplyr)\n",
    "library(biomaRt)"
   ]
  },
  {
   "cell_type": "markdown",
   "id": "6e0acc3c-33df-4f80-abae-9e92769275bf",
   "metadata": {},
   "source": [
    "### Load data"
   ]
  },
  {
   "cell_type": "code",
   "execution_count": null,
   "id": "8144fbb0-8873-4fbb-8a6f-91d8ba5895c5",
   "metadata": {},
   "outputs": [],
   "source": [
    "cancer<-\"KIRC\"\n",
    "events_obj <- \"../output/objects/psi.stats.ascdb.RDS\"\n",
    "fileids_dir <- paste0(\"figures_v3_data/\",cancer,\"_impurity_bins\")\n",
    "cram_dir <- paste0(\"../data/tcga_crams/\",cancer)"
   ]
  },
  {
   "cell_type": "code",
   "execution_count": null,
   "id": "d4e7341f-380b-45ca-8367-52c7a673debb",
   "metadata": {},
   "outputs": [],
   "source": [
    "events<-readRDS(events_obj)\n",
    "hgMart <- useMart(\"ensembl\")\n",
    "hg <- useDataset(\"hsapiens_gene_ensembl\", hgMart)\n",
    "cram_ids<-list.files(cram_dir,pattern=\".cram$\") %>% unlist()\n",
    "cram_ids<-sub(\".cram\",\"\",cram_ids)"
   ]
  },
  {
   "cell_type": "markdown",
   "id": "aa5e50e9-484b-4779-8ed6-c1cc27cfaeaa",
   "metadata": {},
   "source": [
    "### Select gene"
   ]
  },
  {
   "cell_type": "code",
   "execution_count": null,
   "id": "57012cd1-0665-4ae8-ad2c-407cb55e2a67",
   "metadata": {},
   "outputs": [],
   "source": [
    "goi_name<-\"CD46\""
   ]
  },
  {
   "cell_type": "code",
   "execution_count": null,
   "id": "279941dd-f4ca-405a-a793-f37f9c672338",
   "metadata": {},
   "outputs": [],
   "source": [
    "geneid <- events %>% \n",
    "            ungroup() %>% \n",
    "            filter(gene_name==goi_name) %>% \n",
    "            distinct(event_id) %>% \n",
    "            unlist() %>% \n",
    "            sub(\";.*\",\"\",.) %>% sub(\"\\\\..*\",\"\",.) %>%\n",
    "            unique()\n",
    "geneid"
   ]
  },
  {
   "cell_type": "code",
   "execution_count": null,
   "id": "edbbaf11-3e99-4609-8bb9-9cfc431d7395",
   "metadata": {},
   "outputs": [],
   "source": [
    "gene.coords <- getBM(attributes=c(\"chromosome_name\",\"start_position\",\"end_position\",\"strand\",\"ensembl_gene_id\"), \n",
    "                     filters=\"ensembl_gene_id\", \n",
    "                     values=list(ensembl_gene_id = geneid), \n",
    "                     mart=hg) %>%\n",
    "               mutate(gene_name=goi_name,\n",
    "                      region=paste0(\"chr\",chromosome_name,\":\",start_position,\"-\",end_position))"
   ]
  },
  {
   "cell_type": "code",
   "execution_count": null,
   "id": "ffa574c8-e6a5-43e4-8315-653880c895f9",
   "metadata": {},
   "outputs": [],
   "source": [
    "gene.coords"
   ]
  },
  {
   "cell_type": "markdown",
   "id": "a01fa89a-3cd5-43e4-8029-d0b85ef127b7",
   "metadata": {},
   "source": [
    "## Build sample array "
   ]
  },
  {
   "cell_type": "code",
   "execution_count": null,
   "id": "ecde52e6-b1a3-4f7a-8ac3-f2916148a353",
   "metadata": {},
   "outputs": [],
   "source": [
    "missing_ids<-list()\n",
    "for(ib_file in list.files(fileids_dir,full.names = T,pattern=\"txt\")){\n",
    "    \n",
    "    bin<-sub(\".txt\",\"\",basename(ib_file))\n",
    "    # Create one directory for all the bams in the same bin\n",
    "    bin_dir<-file.path(fileids_dir,bin)\n",
    "    dir.create(path = bin_dir,showWarnings = FALSE)\n",
    "    \n",
    "    # Prepare sample ids\n",
    "    file_ids<-read.table(ib_file) %>%\n",
    "              rename(\"file_id\"=\"V1\") %>%\n",
    "              mutate(cram = paste0(cram_dir,\"/\",file_id,\".cram\"),\n",
    "                     gene_name = goi_name,\n",
    "                     gene_id = geneid ) %>%\n",
    "              mutate(out_bam = paste0(bin_dir,\"/\",\n",
    "                                      gene_name,\"_\",\n",
    "                                      file_id,\".bam\")) %>%\n",
    "              left_join(.,gene.coords %>% distinct(gene_name,region),by = \"gene_name\")\n",
    "    \n",
    "    missing_ids[[bin]]<-file_ids$file_id[!file_ids$file_id%in%cram_ids]\n",
    "    \n",
    "    # Write column with command to extract specific region from bam file \n",
    "    # Example: samtools view -hb file.cram \"chr1:207752037-207795513\" -o region.bam\n",
    "    file_ids <- file_ids %>%\n",
    "                filter(file_id %in% cram_ids) %>%\n",
    "                mutate(cmd=paste0('samtools view -hb ',cram,' \"',region,'\" -o ',out_bam))\n",
    "    \n",
    "    # Extract commands\n",
    "    cmds <- file_ids$cmd\n",
    "    \n",
    "    dir.create(\"commands\",showWarnings = FALSE)\n",
    "    write.table(cmds,\n",
    "                col.names = FALSE,\n",
    "                row.names = FALSE,\n",
    "                quote = FALSE,\n",
    "                file = paste0(\"commands/view_\",gene_name,\"_\",bin,\".sh\"))\n",
    "}"
   ]
  },
  {
   "cell_type": "code",
   "execution_count": null,
   "id": "c1bdadee-4a81-494e-a262-1ba013c54f30",
   "metadata": {},
   "outputs": [],
   "source": [
    "write.table(unlist(missing_ids),file = \"missing_sample_ids.txt\",row.names = F,quote=F,col.names=F)"
   ]
  },
  {
   "cell_type": "code",
   "execution_count": null,
   "id": "82627b16-eca1-4d2b-b8c4-8df42e1a3252",
   "metadata": {},
   "outputs": [],
   "source": [
    "# To run all commands\n",
    "#system('sbatch run_all_commands.sh')"
   ]
  },
  {
   "cell_type": "code",
   "execution_count": null,
   "id": "4714565b-0da8-49b4-acd1-ac380fc42d05",
   "metadata": {},
   "outputs": [],
   "source": [
    "# Once all commands have finished\n",
    "#samtools merge finalBamFile.bam *.bam"
   ]
  }
 ],
 "metadata": {
  "kernelspec": {
   "display_name": "R",
   "language": "R",
   "name": "ir"
  },
  "language_info": {
   "codemirror_mode": "r",
   "file_extension": ".r",
   "mimetype": "text/x-r-source",
   "name": "R",
   "pygments_lexer": "r",
   "version": "4.1.2"
  }
 },
 "nbformat": 4,
 "nbformat_minor": 5
}
