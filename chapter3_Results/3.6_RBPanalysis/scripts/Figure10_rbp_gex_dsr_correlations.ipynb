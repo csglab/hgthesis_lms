{
 "cells": [
  {
   "cell_type": "markdown",
   "id": "576561d7-502b-4ec3-bdd4-f027bb8ae1f6",
   "metadata": {},
   "source": [
    "# Analysis of upstream regulators \n",
    "In association with condition"
   ]
  },
  {
   "cell_type": "markdown",
   "id": "f8a6f38d-73e3-4a1f-b35d-3a1013cd5772",
   "metadata": {},
   "source": [
    "### Libraries"
   ]
  },
  {
   "cell_type": "code",
   "execution_count": 1,
   "id": "58554430-9d11-4837-9961-0911a581f8b0",
   "metadata": {
    "collapsed": true,
    "jupyter": {
     "outputs_hidden": true
    },
    "tags": []
   },
   "outputs": [
    {
     "name": "stderr",
     "output_type": "stream",
     "text": [
      "\n",
      "Attaching package: ‘dplyr’\n",
      "\n",
      "\n",
      "The following objects are masked from ‘package:stats’:\n",
      "\n",
      "    filter, lag\n",
      "\n",
      "\n",
      "The following objects are masked from ‘package:base’:\n",
      "\n",
      "    intersect, setdiff, setequal, union\n",
      "\n",
      "\n",
      "\n",
      "Attaching package: ‘matrixStats’\n",
      "\n",
      "\n",
      "The following object is masked from ‘package:dplyr’:\n",
      "\n",
      "    count\n",
      "\n",
      "\n",
      "\n",
      "Attaching package: ‘data.table’\n",
      "\n",
      "\n",
      "The following objects are masked from ‘package:dplyr’:\n",
      "\n",
      "    between, first, last\n",
      "\n",
      "\n",
      "\n",
      "Attaching package: ‘purrr’\n",
      "\n",
      "\n",
      "The following object is masked from ‘package:data.table’:\n",
      "\n",
      "    transpose\n",
      "\n",
      "\n",
      "Loading required package: lattice\n",
      "\n",
      "\n",
      "Attaching package: ‘caret’\n",
      "\n",
      "\n",
      "The following object is masked from ‘package:purrr’:\n",
      "\n",
      "    lift\n",
      "\n",
      "\n"
     ]
    }
   ],
   "source": [
    "library(dplyr)\n",
    "library(ggplot2)\n",
    "library(ggsci)\n",
    "library(matrixStats)\n",
    "library(ggpubr)\n",
    "library(patchwork)\n",
    "library(readr)\n",
    "library(data.table)\n",
    "library(tidyr)\n",
    "library(purrr)\n",
    "library(caret)\n",
    "library(stringr)"
   ]
  },
  {
   "cell_type": "markdown",
   "id": "9d48f76f-c00f-48fb-a293-2160b1d308a1",
   "metadata": {
    "tags": []
   },
   "source": [
    "### Functions"
   ]
  },
  {
   "cell_type": "code",
   "execution_count": 2,
   "id": "09addc80-0b3d-457b-b500-ec404e28b44b",
   "metadata": {},
   "outputs": [],
   "source": [
    "load_coef_file<-function(infile){\n",
    "    coefs<-data.table::fread(header = TRUE,file = infile) %>%\n",
    "           mutate(cancer = sub(\"_.*\",\"\",basename(infile)),\n",
    "                  event_type = sub(paste0(unique(cancer),\"_\"),\"\",basename(infile)) %>%\n",
    "                               sub(\"_.*\",\"\",.)) %>%\n",
    "           mutate(wsize=sub(\".*_\",\"\",basename(infile)) %>% sub(\".tsv\",\"\",.)) \n",
    "\n",
    "    colnames(coefs)[colnames(coefs)==\"Std. Error\"]<-\"StdError\"\n",
    "    colnames(coefs)[colnames(coefs)==\"Pr(>|t|)\"]<-\"coef.pvalue\"\n",
    "\n",
    "    coefs<-coefs%>%\n",
    "            mutate(Estimate=as.numeric(Estimate),\n",
    "                   StdError=as.numeric(StdError)) \n",
    "    return(coefs)\n",
    "}"
   ]
  },
  {
   "cell_type": "code",
   "execution_count": 3,
   "id": "ed8407c1-2870-4f98-93b3-dd7eb62af18a",
   "metadata": {},
   "outputs": [],
   "source": [
    "plot.rbp.cors<-function(signif.cors,event){\n",
    "    pdata<-signif.cors %>%\n",
    "            filter(event_type==event) %>%\n",
    "            select(-event_type,-wsize,-position,-direction)\n",
    "\n",
    "    col_ord<-pdata %>%\n",
    "             group_by(cancer) %>%\n",
    "             summarize(n1=sum(cor.estimate)*length(cor.estimate),\n",
    "                       n2=length(cor.estimate)) %>%\n",
    "             arrange(n2)\n",
    "\n",
    "    row_ord<-pdata %>%\n",
    "             group_by(GENENAME) %>%\n",
    "             summarize(n1=sum(cor.estimate)*length(cor.estimate),\n",
    "                       n2=length(cor.estimate)) %>%         \n",
    "            arrange(n1)\n",
    "\n",
    "    g<-pdata %>%\n",
    "        mutate(cancer=factor(cancer,levels=col_ord$cancer),\n",
    "               GENENAME=factor(GENENAME,levels=row_ord$GENENAME)) %>%\n",
    "        ggplot(.,aes(x=cancer,y=GENENAME,fill=coef.estimate,size=-log(coef.pvalue)))+\n",
    "        geom_point(pch=21)+\n",
    "        theme_pubr()+\n",
    "        theme(legend.position = \"bottom\",\n",
    "                panel.background = element_blank(),\n",
    "                panel.grid.major = element_line(linewidth=0.25,linetype=\"dashed\"),\n",
    "                panel.grid.minor = element_line(linewidth=0.25,linetype=\"dashed\"),\n",
    "                axis.ticks = element_blank(),\n",
    "                axis.text.x = element_text(angle=90,hjust=1,vjust=0.5,size=10),\n",
    "                axis.line = element_blank(),\n",
    "                legend.key.height= unit(0.25, 'cm'),\n",
    "                legend.key.width= unit(0.15, 'cm'),\n",
    "                legend.spacing.x = unit(0.1, 'cm'),\n",
    "                legend.margin=margin(t = 0, unit='cm'),\n",
    "                legend.text = element_text(size=6),\n",
    "                strip.background = element_blank(),\n",
    "                strip.text = element_text(),\n",
    "                panel.spacing.y = unit(0.1, \"cm\"))+\n",
    "        scale_fill_gradient2(low = \"blue\",mid = \"white\",high = \"red\",\n",
    "                            guide = guide_colourbar(direction = \"horizontal\", \n",
    "                                                         barheight = 0.25,\n",
    "                                                         barwidth = 4.5,\n",
    "                                                         title.hjust = 0.5,\n",
    "                                                         label.position = \"bottom\"))+\n",
    "        scale_y_discrete(position = \"right\")+\n",
    "        scale_x_discrete(position = \"top\")+\n",
    "        labs(y=\"\",x=\"\",color=\"\",fill=expression(rho),title=event)\n",
    "    return(g)\n",
    "}"
   ]
  },
  {
   "cell_type": "code",
   "execution_count": 4,
   "id": "70b37ee1-b5ee-4fa8-8387-19ee04b01cf7",
   "metadata": {},
   "outputs": [],
   "source": [
    "plot.rbp.coefs.filtered<-function(rb.coefs,event){\n",
    "    \n",
    "    pdata <- rb.coefs %>%\n",
    "                filter(event_type==event) %>%\n",
    "                select(-event_type,-wsize) %>%\n",
    "\n",
    "                group_by(RBPs,position,direction) %>%\n",
    "                mutate(nsig_cancer=sum(coef.pvalue<0.01)) %>%\n",
    "                group_by(RBPs) %>%\n",
    "                mutate(nv_reg=sum(nsig_cancer>=3)) %>%\n",
    "                filter(nv_reg!=0) %>%\n",
    "\n",
    "                group_by(position,direction,cancer) %>%\n",
    "                mutate(nsig_rbp=sum(coef.pvalue<0.01)) %>%\n",
    "                filter(nsig_rbp!=0) \n",
    "\n",
    "    msr <- pdata %>%\n",
    "             group_by(position,direction) %>%\n",
    "             summarize(nsig=sum(coef.pvalue<0.01)) %>%\n",
    "             ungroup() %>%\n",
    "             slice_max(nsig,n=1,with_ties = FALSE)\n",
    "\n",
    "    rbp_ord <- pdata %>%\n",
    "               filter(position==msr$position, direction==msr$direction) %>%\n",
    "               group_by(RBPs) %>%\n",
    "               summarize(n=median(Estimate),\n",
    "                        s=sd(Estimate)) %>%\n",
    "               arrange(n*s)\n",
    "\n",
    "    pdata<-pdata %>%\n",
    "            select(-Motif_ID) %>%\n",
    "            distinct() %>%\n",
    "            mutate(RBPs=factor(RBPs,levels=rbp_ord$RBPs),\n",
    "                   coef.significant=coef.pvalue<0.01) \n",
    "    g<-pdata %>%\n",
    "        ggplot(.,aes(x=tidytext::reorder_within(x=cancer,\n",
    "                                                by=coef.pvalue,\n",
    "                                                within = list(position,direction),\n",
    "                                                fun = function(p){sum(p>0.01)}),\n",
    "                     y=RBPs))+\n",
    "        geom_tile(aes(fill=Estimate))+\n",
    "        geom_tile(data = pdata %>% \n",
    "                          filter(coef.significant),\n",
    "                  color=\"black\",\n",
    "                  aes(fill=Estimate))+\n",
    "        facet_grid(~position+direction,scales=\"free_x\",space=\"free\")+\n",
    "        theme_pubr()+\n",
    "        theme(legend.position = \"bottom\",\n",
    "                panel.background = element_blank(),\n",
    "                panel.grid.major = element_line(linewidth=0.05,linetype=\"solid\"),\n",
    "                panel.grid.minor = element_line(linewidth=0.05,linetype=\"solid\"),\n",
    "                axis.ticks = element_blank(),\n",
    "                axis.text.x = element_text(angle=90,hjust=1,vjust=0.5,size=7),\n",
    "                axis.text.y = element_text(size=9),\n",
    "                axis.line = element_blank(),\n",
    "                legend.key.height= unit(0.25, 'cm'),\n",
    "                legend.key.width= unit(0.15, 'cm'),\n",
    "                legend.spacing.x = unit(0.1, 'cm'),\n",
    "                legend.margin=margin(t = 0, unit='cm'),\n",
    "                legend.text = element_text(size=6),\n",
    "                strip.background = element_blank(),\n",
    "                strip.text = element_text(),\n",
    "                panel.spacing.y = unit(0.1, \"cm\"))+\n",
    "        scale_fill_gradient2(low = \"blue\",mid = \"white\",high = \"red\",\n",
    "                            guide = guide_colourbar(direction = \"horizontal\", \n",
    "                                                         barheight = 0.25,\n",
    "                                                         barwidth = 6.5,\n",
    "                                                         title.hjust = 0.5,\n",
    "                                                         label.position = \"bottom\"))+\n",
    "        scale_y_discrete(position = \"right\")+\n",
    "        scale_x_discrete(position = \"bottom\")+\n",
    "        tidytext::scale_x_reordered()+\n",
    "        labs(y=\"\",x=\"\",color=\"\",fill=expression(beta),title=event)\n",
    "    \n",
    "    return(list(\"plot\"=g,\"msr\"=msr))\n",
    "}"
   ]
  },
  {
   "cell_type": "code",
   "execution_count": 5,
   "id": "e788c96d-19fd-49d0-921a-ec7781e04a85",
   "metadata": {},
   "outputs": [],
   "source": [
    "plot.corr.sidebar<-function(d.bar,msr){\n",
    "    \n",
    "    pdata<-d.bar %>%\n",
    "            filter(ncancers>10) %>%\n",
    "            group_by(RBPs,position,direction) %>%\n",
    "            slice_min(cor.pvalue,n=1,with_ties=FALSE) # Same RBP with multiple motifs, show the one with smaallest pvalue\n",
    "\n",
    "    rbp_ord <- pdata %>%\n",
    "               filter(position==msr$position) %>%\n",
    "               group_by(RBPs) %>%\n",
    "               summarize(n=mean(cor.estimate),\n",
    "                         s=sd(cor.estimate)) %>%\n",
    "               arrange(n)\n",
    "\n",
    "    pdata <- pdata %>%\n",
    "             mutate(signif=cor.padj<0.05,\n",
    "                    RBPs=factor(RBPs,levels=rbp_ord$RBPs)) \n",
    "\n",
    "\n",
    "    g<-ggplot(pdata,aes(x=direction,y=RBPs,fill = cor.estimate,size=ncancers,color=signif))+\n",
    "        geom_point(pch=21)+\n",
    "        facet_grid(~position)+\n",
    "        theme_pubr()+\n",
    "        theme(legend.position = \"bottom\",\n",
    "                panel.background = element_blank(),\n",
    "                panel.grid.major = element_blank(),\n",
    "                panel.grid.minor = element_blank(),\n",
    "                axis.ticks = element_blank(),\n",
    "                axis.text.x = element_text(angle=90,hjust=1,vjust=0.5,size=7),\n",
    "                axis.text.y = element_text(size=10),\n",
    "                axis.line = element_blank(),\n",
    "                legend.key.height= unit(0.25, 'cm'),\n",
    "                legend.key.width= unit(0.15, 'cm'),\n",
    "                legend.spacing.x = unit(0.1, 'cm'),\n",
    "                legend.margin=margin(t = 0, unit='cm'),\n",
    "                legend.text = element_text(size=6),\n",
    "                strip.background = element_blank(),\n",
    "                strip.text = element_text(),\n",
    "                panel.spacing.y = unit(0.1, \"cm\"))+\n",
    "        scale_color_manual(values=c(\"white\",\"black\"),guide=\"none\")+\n",
    "        scale_fill_gradient2(low = \"blue\",mid = \"white\",high = \"red\",\n",
    "                            guide = guide_colourbar(direction = \"horizontal\", \n",
    "                                                         barheight = 0.25,\n",
    "                                                         barwidth = 6.5,\n",
    "                                                         title.hjust = 0.5,\n",
    "                                                         label.position = \"bottom\"))+\n",
    "        scale_y_discrete(position = \"left\")+\n",
    "        scale_x_discrete(position = \"bottom\")+\n",
    "        scale_size(range=c(1,2))+\n",
    "        labs(y=\"\",x=\"\",color=\"\",fill=expression(rho),title=event,size=\"n\")\n",
    "    g\n",
    "    return(g)\n",
    "}"
   ]
  },
  {
   "cell_type": "code",
   "execution_count": 6,
   "id": "d31f7685-c8f8-4e49-b32b-5d6bd7c7ed90",
   "metadata": {},
   "outputs": [],
   "source": [
    "plot.rbp.scater<-function(rbp_motif_coefs_gex,gn,event,...){\n",
    "    \n",
    "    plot.data<-rbp_motif_coefs_gex %>%\n",
    "               filter(GENENAME==gn,\n",
    "                      event_type==event) %>%\n",
    "               distinct() \n",
    "    \n",
    "    g<-ggplot(plot.data,aes(x=Estimate,y=log2FoldChange,color=cancer))+\n",
    "        geom_vline(xintercept = 0,linewidth=0.5,linetype=\"dashed\",color=\"grey\")+\n",
    "        geom_hline(yintercept = 0,linewidth=0.5,linetype=\"dashed\",color=\"grey\")+\n",
    "        geom_point(size=3)+\n",
    "        theme_pubr()+\n",
    "        stat_cor(aes(x=Estimate,y=log2FoldChange),inherit.aes = F)+\n",
    "        scale_color_manual(values=tcga.colors)+\n",
    "        labs(x=\"Differential binding\",y=\"Differential expression\",title=gn)+\n",
    "        theme(legend.position=\"none\")\n",
    "\n",
    "    return(g)\n",
    "}"
   ]
  },
  {
   "cell_type": "markdown",
   "id": "9697937d-85b1-4aad-bca8-06b3eed9289a",
   "metadata": {
    "tags": []
   },
   "source": [
    "### Inputs"
   ]
  },
  {
   "cell_type": "code",
   "execution_count": 7,
   "id": "b1ae6ebe-8bf3-4bef-87f3-4cb216886dde",
   "metadata": {},
   "outputs": [],
   "source": [
    "gex.file<-\"../input/objects/tcga.condition.gex.res.lfcShrink.RDS\"\n",
    "gmapfile<-\"../input/references/gencode.v37.primary_assembly.annotation.geneIDmap.tsv\"\n",
    "model_res_dir<-\"../input/data/coefficients\"\n",
    "rbp_info_file<-\"../input/references/cisbp_Homo_sapiens_2023_06_RBP_Information_all_motifs.txt\"\n",
    "motif_clusters_file<-\"../input/data/25112023_representative_cluster_motifs.tsv\""
   ]
  },
  {
   "cell_type": "code",
   "execution_count": 8,
   "id": "d14a1d00-5128-40e6-8eba-abaf75eeec4a",
   "metadata": {},
   "outputs": [],
   "source": [
    "coef.obj.file<-\"../input/objects/tcga.condition.res.RDS\"\n",
    "coef.sh.obj.file<-\"../input/objects/tcga.condition.res.lfcShrink.RDS\""
   ]
  },
  {
   "cell_type": "code",
   "execution_count": 9,
   "id": "584fe296-6f76-4ec3-8e1c-d01fe6f42740",
   "metadata": {},
   "outputs": [],
   "source": [
    "events_used<-c(\"SE\",\"MX\",\"RI\",\"A3\",\"A5\",\"AF\",\"AL\")\n",
    "ss_levels<-list(\"SE\" = c(\"E1\",\"S2\",\"E2\",\"S3\"),\n",
    "                \"MX\" = c(\"E1\",\"S2\",\"E2\",\"S3\",\"E3\",\"S4\"),\n",
    "                \"A5\" = c(\"E1\",\"E2\",\"S3\"),\n",
    "                \"A3\" = c(\"E1\",\"S2\",\"S3\"),\n",
    "                \"RI\" = c(\"S1\",\"E1\",\"S2\",\"E2\"),\n",
    "                \"AF\" = c(\"S1\",\"E1\",\"S2\",\"E2\",\"S3\"),\n",
    "                \"AL\" = c(\"E1\",\"S2\",\"E2\",\"S3\",\"E3\"))"
   ]
  },
  {
   "cell_type": "markdown",
   "id": "3dbf2909-8def-4230-9c78-f366cd02dc9f",
   "metadata": {
    "jp-MarkdownHeadingCollapsed": true,
    "tags": []
   },
   "source": [
    "### Load data\n",
    "---"
   ]
  },
  {
   "cell_type": "markdown",
   "id": "1a6aff19-249a-4935-97f3-4908885ca6e2",
   "metadata": {
    "tags": []
   },
   "source": [
    "#### RBP info"
   ]
  },
  {
   "cell_type": "code",
   "execution_count": null,
   "id": "49742224-d02e-4aaa-b3ae-fd8a1b9621e2",
   "metadata": {},
   "outputs": [],
   "source": [
    "motif_clusters <- data.table::fread(motif_clusters_file,sep=\"\\t\")  %>%\n",
    "                  rename(\"Motif_ID\"=\"motif\")"
   ]
  },
  {
   "cell_type": "code",
   "execution_count": null,
   "id": "be3eefcc-ed26-4f7b-857f-39bcecd0900e",
   "metadata": {},
   "outputs": [],
   "source": [
    "rbp_info <- fread(rbp_info_file,head = TRUE,sep = \"\\t\",data.table = FALSE)\n",
    "rbp_motif <- rbp_info %>%\n",
    "             select('RBP_ID','Motif_ID',\"ENSDBID\",'RBP_Name','Family_Name') %>%\n",
    "             rename(\"GENEID\"=\"ENSDBID\") %>%\n",
    "             inner_join(.,motif_clusters) %>%\n",
    "             ungroup()"
   ]
  },
  {
   "cell_type": "code",
   "execution_count": null,
   "id": "f9b93a90-1e24-4945-ba95-b67b6242e524",
   "metadata": {},
   "outputs": [],
   "source": [
    "message(\"Number of RBPS = \",length(unique(rbp_motif$GENEID)))\n",
    "message(\"Number of ref motifs = \",length(unique(rbp_motif$representative_motif)))\n",
    "message(\"Number of motifs = \",length(unique(rbp_motif$Motif_ID)))"
   ]
  },
  {
   "cell_type": "markdown",
   "id": "aab5c051-06bc-4c8a-82a3-1fe136171cf2",
   "metadata": {},
   "source": [
    "#### DGE from deseq"
   ]
  },
  {
   "cell_type": "code",
   "execution_count": null,
   "id": "eac521ac-9000-4bea-8221-e6c30c398993",
   "metadata": {},
   "outputs": [],
   "source": [
    "genemap<-data.table::fread(gmapfile,data.table=F)\n",
    "gex.res<-readRDS(gex.file) %>%\n",
    "         filter(exp_var==\"condition_tumor_vs_normal\")%>%\n",
    "         mutate(GENEID=sub(\"\\\\..*\",\"\",gene_id))%>%\n",
    "         left_join(.,genemap)"
   ]
  },
  {
   "cell_type": "markdown",
   "id": "ece1d489-00ac-456b-9faf-0363347315ac",
   "metadata": {},
   "source": [
    "#### RBP model coefficients"
   ]
  },
  {
   "cell_type": "code",
   "execution_count": null,
   "id": "0a7b00b9-8fce-4f22-b6d7-2d94339d9cf5",
   "metadata": {},
   "outputs": [],
   "source": [
    "model_files<-list.files(path = model_res_dir,full.names = TRUE,pattern = \"200\")\n",
    "coefs<-furrr::future_map_dfr(model_files,load_coef_file) %>%\n",
    "       filter(coefficient!=\"(Intercept)\") %>%\n",
    "       rowwise() %>% \n",
    "       mutate(coefficient_lis=strsplit(coefficient,\"_\"),\n",
    "              Motif_ID=paste(coefficient_lis[1:2],collapse=\"_\"),\n",
    "              position=coefficient_lis[3],\n",
    "              direction=coefficient_lis[4]) %>%\n",
    "       as_tibble() %>%\n",
    "       select(-coefficient_lis) %>%\n",
    "       rename(\"representative_motif\"=\"Motif_ID\") %>%\n",
    "       mutate(seq_id = paste(position,direction,wsize,sep=\"_\")) \n",
    "dim(coefs)"
   ]
  },
  {
   "cell_type": "markdown",
   "id": "406947ed-8beb-479c-be03-d414a846ba05",
   "metadata": {
    "jp-MarkdownHeadingCollapsed": true,
    "tags": []
   },
   "source": [
    "### Combine tables\n",
    "---"
   ]
  },
  {
   "cell_type": "code",
   "execution_count": null,
   "id": "4834e742-5216-42e5-b557-8050f160137c",
   "metadata": {},
   "outputs": [],
   "source": [
    "rbp_motif_coefs <- inner_join(coefs,rbp_motif) \n",
    "dim(rbp_motif_coefs)"
   ]
  },
  {
   "cell_type": "code",
   "execution_count": null,
   "id": "920d6526-ec39-43d0-89dd-8cb6cdd31c6c",
   "metadata": {},
   "outputs": [],
   "source": [
    "rbp_motif_coefs_gex <- inner_join(rbp_motif_coefs,\n",
    "                                  gex.res) %>%\n",
    "                       distinct(GENENAME,Motif_ID,representative_motif,cancer,event_type,wsize,position,direction,Estimate,coef.pvalue,log2FoldChange,pvalue,padj)"
   ]
  },
  {
   "cell_type": "code",
   "execution_count": null,
   "id": "ab89b63c-5721-4f95-b521-f03c302b66ea",
   "metadata": {},
   "outputs": [],
   "source": [
    "head(rbp_motif_coefs_gex)"
   ]
  },
  {
   "cell_type": "code",
   "execution_count": null,
   "id": "4afbba98-3bad-4d6c-b422-d3e158db6dd3",
   "metadata": {
    "tags": []
   },
   "outputs": [],
   "source": [
    "# Compute correlations\n",
    "all.cors<-rbp_motif_coefs_gex %>%\n",
    "            mutate(GENENAME=paste(GENENAME,representative_motif,sep=\"_\")) %>%                    \n",
    "            dplyr::group_by(GENENAME,position,direction,event_type,wsize) %>%\n",
    "            mutate(n=length(cancer)) %>%\n",
    "            filter(n>=3) %>%\n",
    "            dplyr::summarize(ncancers=length(unique(cancer)),\n",
    "                             cors=list(cor.test(Estimate,log2FoldChange)[c(\"estimate\",\"p.value\")]))  %>%\n",
    "            rowwise() %>%\n",
    "            mutate(cor.estimate=cors[[1]][1],\n",
    "                   cor.pvalue=cors[[2]][1]) %>%\n",
    "            as_tibble() %>%\n",
    "            select(-cors) %>%\n",
    "            dplyr::group_by(wsize,event_type) %>%\n",
    "            mutate(cor.padj = p.adjust(cor.pvalue,method = \"fdr\"),\n",
    "                   ntests = length(cor.pvalue),\n",
    "                   nrbp = length(unique(GENENAME)),\n",
    "                   npos = length(unique(position))) "
   ]
  },
  {
   "cell_type": "code",
   "execution_count": null,
   "id": "21a3a0c4-823a-4e43-ae61-4401a372f881",
   "metadata": {},
   "outputs": [],
   "source": [
    "signif.cors<-all.cors %>%\n",
    "             ungroup() %>%\n",
    "             filter(cor.padj<0.1) %>%\n",
    "             group_by(GENENAME,event_type,wsize) %>%\n",
    "             mutate(GENENAME=paste(GENENAME,position,wsize,direction,sep=\"_\"))\n",
    "dim(signif.cors)"
   ]
  },
  {
   "cell_type": "code",
   "execution_count": null,
   "id": "c32b1353-72e1-46a0-864b-0117e94b0d54",
   "metadata": {
    "tags": []
   },
   "outputs": [],
   "source": [
    "rbp_motif_coefs_gex_sig<-rbp_motif_coefs_gex %>%\n",
    "                         mutate(GENENAME=paste(GENENAME,representative_motif,position,wsize,direction,sep=\"_\")) %>%\n",
    "                         inner_join(.,signif.cors) %>%\n",
    "                         inner_join(.,rbp_motif_coefs_gex %>% \n",
    "                                      mutate(GENENAME=paste(GENENAME,representative_motif,position,wsize,direction,sep=\"_\")) %>%\n",
    "                                      distinct(GENENAME)) %>%\n",
    "                         mutate(RBP_Name=sub(\"_.*\",\"\",GENENAME))"
   ]
  },
  {
   "cell_type": "code",
   "execution_count": null,
   "id": "d4f5d5ec-3703-4087-97dc-c39b34e793ff",
   "metadata": {},
   "outputs": [],
   "source": [
    "rbp_motif_coefs_gex_all<-rbp_motif_coefs_gex %>%\n",
    "                         mutate(GENENAME=paste(GENENAME,representative_motif,position,wsize,direction,sep=\"_\")) %>%\n",
    "                         inner_join(.,all.cors %>% mutate(GENENAME=paste(GENENAME,position,wsize,direction,sep=\"_\"))) %>%\n",
    "                         inner_join(.,rbp_motif_coefs_gex %>% \n",
    "                                      mutate(GENENAME=paste(GENENAME,representative_motif,position,wsize,direction,sep=\"_\")) %>%\n",
    "                                      distinct(GENENAME))%>%\n",
    "                         mutate(RBP_Name=sub(\"_.*\",\"\",GENENAME))"
   ]
  },
  {
   "cell_type": "code",
   "execution_count": null,
   "id": "366ba356-c0d2-4592-b323-3f0541da23aa",
   "metadata": {},
   "outputs": [],
   "source": [
    "dim(rbp_motif_coefs_gex_sig)\n",
    "dim(rbp_motif_coefs_gex_all)"
   ]
  },
  {
   "cell_type": "code",
   "execution_count": null,
   "id": "5b2db06a-2735-4a4f-a2f4-d86aeb66ddf5",
   "metadata": {},
   "outputs": [],
   "source": [
    "saveRDS(rbp_motif_coefs,\"../output/objects/Figure10_rbp_motif_coefs.RDS\")\n",
    "saveRDS(rbp_motif_coefs_gex_sig,\"../output/objects/Figure10_rbp_motif_coefs_gex_sig.RDS\")\n",
    "saveRDS(rbp_motif_coefs_gex_all,\"../output/objects/Figure5_rbp_motif_coefs_gex_all.RDS\")"
   ]
  },
  {
   "cell_type": "code",
   "execution_count": null,
   "id": "68583209-e314-4d0d-ba9a-cfe07c42538d",
   "metadata": {},
   "outputs": [],
   "source": [
    "write.table(signif.cors,\"../output/data/RBP_significant_correlations.tsv\",row.names = FALSE,sep=\"\\t\",col.names=TRUE, quote=FALSE)\n",
    "write.table(all.cors,\"../output/data/RBP_all_correlations.tsv\",row.names = FALSE,sep=\"\\t\",col.names=TRUE, quote=FALSE)"
   ]
  },
  {
   "cell_type": "markdown",
   "id": "11b94e15-4b03-4ac3-bee5-9ac7137a0720",
   "metadata": {
    "tags": []
   },
   "source": [
    "## Visualize results\n",
    "---"
   ]
  },
  {
   "cell_type": "code",
   "execution_count": 10,
   "id": "cb45250b-514b-4ac4-9c2e-a7373b042b51",
   "metadata": {},
   "outputs": [],
   "source": [
    "rbp_motif_coefs_gex_sig<-readRDS(\"../output/objects/Figure10_rbp_motif_coefs_gex_sig.RDS\")\n",
    "rbp_motif_coefs_gex_all<-readRDS(\"../output/objects/Figure10_rbp_motif_coefs_gex_all.RDS\")"
   ]
  },
  {
   "cell_type": "code",
   "execution_count": 11,
   "id": "b17ac4de-a14e-4fb6-a6aa-ca29d61c2e6b",
   "metadata": {},
   "outputs": [],
   "source": [
    "tcga.colors<-c(\"#EF9A9A\",\"#F8BBD0\",\"#CE93D8\",\"#B39DDB\",\"#9FA8DA\",\n",
    "               \"#90CAF9\",\"#81D4FA\",\"#80DEEA\",\"#80CBC4\",\"#A5D6A7\",\n",
    "               \"#C5E1A5\",\"#E6EE9C\",\"#FFF59D\",\"#FFE082\",\"#BCAAA4\",\n",
    "               \"#F44336\",\"#E91E63\",\"#9C27B0\",\"#673AB7\",\"#3F51B5\",\n",
    "               \"#2196F3\",\"#03A9F4\",\"#00BCD4\",\"#009688\",\"#4CAF50\",\n",
    "               \"#8BC34A\",\"#CDDC39\",\"#FFC107\",\"#FF9800\",\"#795548\",\n",
    "               \"#B71C1C\")\n",
    "names(tcga.colors)<-sort(unique(rbp_motif_coefs_gex_all$cancer))\n",
    "events<-unique(rbp_motif_coefs_gex_sig$event_type)"
   ]
  },
  {
   "cell_type": "code",
   "execution_count": 12,
   "id": "74e30906-403f-4b48-8dd0-76a296ec5307",
   "metadata": {},
   "outputs": [],
   "source": [
    "cors<-rbp_motif_coefs_gex_sig %>%\n",
    "        distinct(GENENAME,cor.estimate,cor.padj,ncancers)"
   ]
  },
  {
   "cell_type": "code",
   "execution_count": 14,
   "id": "33c254a2-4940-4f04-8875-9c36f8a9ce2b",
   "metadata": {},
   "outputs": [],
   "source": [
    "outlier.rbps<-c(\"SRSF1\",\"SRSF2\",\"SRSF7\",\"ANKHD1\",\"SRSF7, ANKHD1\") # Based on preliminary explorations of coefficients"
   ]
  },
  {
   "cell_type": "code",
   "execution_count": 15,
   "id": "7b796c50-41ef-475b-a316-362f00aa00c1",
   "metadata": {
    "tags": []
   },
   "outputs": [
    {
     "name": "stderr",
     "output_type": "stream",
     "text": [
      "\u001b[1m\u001b[22m`summarise()` has grouped output by 'position'. You can override using the\n",
      "`.groups` argument.\n",
      "\u001b[1m\u001b[22mScale for \u001b[32mx\u001b[39m is already present.\n",
      "Adding another scale for \u001b[32mx\u001b[39m, which will replace the existing scale.\n",
      "A3 S2 DOWN\n",
      "\n",
      "\u001b[1m\u001b[22m`summarise()` has grouped output by 'position'. You can override using the\n",
      "`.groups` argument.\n",
      "\u001b[1m\u001b[22mScale for \u001b[32mx\u001b[39m is already present.\n",
      "Adding another scale for \u001b[32mx\u001b[39m, which will replace the existing scale.\n",
      "A5 E1 DOWN\n",
      "\n",
      "\u001b[1m\u001b[22m`summarise()` has grouped output by 'position'. You can override using the\n",
      "`.groups` argument.\n",
      "\u001b[1m\u001b[22mScale for \u001b[32mx\u001b[39m is already present.\n",
      "Adding another scale for \u001b[32mx\u001b[39m, which will replace the existing scale.\n",
      "AF E1 UP\n",
      "\n",
      "\u001b[1m\u001b[22m`summarise()` has grouped output by 'position'. You can override using the\n",
      "`.groups` argument.\n",
      "\u001b[1m\u001b[22mScale for \u001b[32mx\u001b[39m is already present.\n",
      "Adding another scale for \u001b[32mx\u001b[39m, which will replace the existing scale.\n",
      "AL S2 UP\n",
      "\n",
      "\u001b[1m\u001b[22m`summarise()` has grouped output by 'position'. You can override using the\n",
      "`.groups` argument.\n",
      "\u001b[1m\u001b[22mScale for \u001b[32mx\u001b[39m is already present.\n",
      "Adding another scale for \u001b[32mx\u001b[39m, which will replace the existing scale.\n",
      "MX S2 DOWN\n",
      "\n",
      "\u001b[1m\u001b[22m`summarise()` has grouped output by 'position'. You can override using the\n",
      "`.groups` argument.\n",
      "\u001b[1m\u001b[22mScale for \u001b[32mx\u001b[39m is already present.\n",
      "Adding another scale for \u001b[32mx\u001b[39m, which will replace the existing scale.\n",
      "RI S2 UP\n",
      "\n",
      "\u001b[1m\u001b[22m`summarise()` has grouped output by 'position'. You can override using the\n",
      "`.groups` argument.\n",
      "\u001b[1m\u001b[22mScale for \u001b[32mx\u001b[39m is already present.\n",
      "Adding another scale for \u001b[32mx\u001b[39m, which will replace the existing scale.\n",
      "SE E2 UP\n",
      "\n"
     ]
    }
   ],
   "source": [
    "ws<-200\n",
    "for(event in events){\n",
    "    \n",
    "    sig_rbp <- rbp_motif_coefs_gex_sig  %>%\n",
    "               filter(event_type == event) %>% \n",
    "               distinct(event_type,RBP_Name)\n",
    "    \n",
    "    d<-rbp_motif_coefs_gex_all %>% \n",
    "        ungroup() %>%\n",
    "        filter(wsize == ws,\n",
    "               event_type == event,\n",
    "               RBP_Name %in% sig_rbp$RBP_Name) %>%\n",
    "        mutate(GENENAME=sub(\"_0.6_\",\"_\",GENENAME) %>% sub(\"_200_\",\"_\",.)) \n",
    "\n",
    "    if(nrow(d)!=0){\n",
    "\n",
    "        num_rbp<-length(unique(d$GENENAME))\n",
    "        \n",
    "        d <- d %>%\n",
    "              mutate(position=factor(position,ss_levels[[event]]),\n",
    "                     direction=factor(direction,levels=c(\"UP\",\"DOWN\"))) %>%\n",
    "              group_by(representative_motif) %>%\n",
    "              mutate(RBPs=paste(unique(RBP_Name),collapse = \", \")) %>%\n",
    "              select(-RBP_Name) %>%\n",
    "              distinct() %>%\n",
    "              filter(!RBPs%in%outlier.rbps) %>%\n",
    "              mutate(Estimate = case_when(Estimate>quantile(Estimate,0.95) ~ quantile(Estimate,0.95),\n",
    "                                          Estimate<quantile(Estimate,0.05) ~ quantile(Estimate,0.05),\n",
    "                                          TRUE ~ Estimate))\n",
    "\n",
    "        glist <-plot.rbp.coefs.filtered(rb.coefs = d,\n",
    "                                   event = event)\n",
    "        \n",
    "        d.bar<-d %>%\n",
    "               ungroup() %>%\n",
    "               mutate(RBPs=sub(\"_.*\",\"\",GENENAME)) %>%\n",
    "               distinct(RBPs,position,direction,ncancers,cor.estimate,cor.padj,cor.pvalue)  %>%\n",
    "               group_by(RBPs) %>%\n",
    "               filter(sum(cor.padj<0.05)>=1) %>%\n",
    "               arrange(cor.estimate) \n",
    "        s<-plot.corr.sidebar(d.bar,msr=glist$msr)\n",
    "        \n",
    "        message(event,\" \",glist$msr$position,\" \",glist$msr$direction)\n",
    " \n",
    "        ggsave(glist$plot,filename=paste0(\"../output/figures/rbp_coefficients/\",ws,\".\",event,\".pdf\"),height=6,width=14,device=cairo_pdf)\n",
    "        ggsave(s,filename=paste0(\"../output/figures/rbp_coefficients/\",ws,\".\",event,\".correlations.pdf\"),height=7,width=3.5,device=cairo_pdf)   \n",
    "    }   \n",
    "}"
   ]
  },
  {
   "cell_type": "code",
   "execution_count": 16,
   "id": "f9fe39c9-d37b-423e-9eb9-8ba3d317af8a",
   "metadata": {},
   "outputs": [],
   "source": [
    "ws<-200\n",
    "for(event in rev(events)){\n",
    "    genetags<-rbp_motif_coefs_gex_sig %>%\n",
    "              filter(event_type==event,ncancers>=5,cor.padj<0.1) %>%\n",
    "              mutate(GENENAME=sub(\"_0.6_\",\"_\",GENENAME) %>% sub(\"_200_\",\"_\",.)) %>%\n",
    "              distinct(GENENAME)\n",
    "\n",
    "    for(gn in genetags$GENENAME[1]){\n",
    "        \n",
    "        plot_data<-rbp_motif_coefs_gex_all %>% \n",
    "                   filter(wsize==ws) %>%\n",
    "                   mutate(GENENAME=sub(\"_0.6_\",\"_\",GENENAME) %>% sub(\"_200_\",\"_\",.)) \n",
    "\n",
    "        g<-plot.rbp.scater(rbp_motif_coefs_gex = plot_data,\n",
    "                           event = event,\n",
    "                           gn = gn)\n",
    "        outdir<-paste0(\"../output/figures/rbp_scatterplots/\",event)\n",
    "        dir.create(outdir,showWarnings=FALSE)\n",
    "        ggsave(g,filename = paste0(outdir,\"/\",ws,\"_\",event,\"_\",gn,\".pdf\"),width=4,height = 4.25,device=\"pdf\")\n",
    "    }\n",
    "}"
   ]
  },
  {
   "cell_type": "code",
   "execution_count": 17,
   "id": "9210f99b-79f8-4359-8dcf-0d2c41cea537",
   "metadata": {},
   "outputs": [],
   "source": [
    "g<-g+theme(legend.position=\"bottom\")+labs(color=\"\")\n",
    "l<-as_ggplot(get_legend(g))\n",
    "ggsave(l,filename = \"../output/figures/legend_all_cancers.pdf\",\n",
    "       width=4,height = 3,device=\"pdf\")"
   ]
  }
 ],
 "metadata": {
  "kernelspec": {
   "display_name": "R",
   "language": "R",
   "name": "ir"
  },
  "language_info": {
   "codemirror_mode": "r",
   "file_extension": ".r",
   "mimetype": "text/x-r-source",
   "name": "R",
   "pygments_lexer": "r",
   "version": "4.1.2"
  }
 },
 "nbformat": 4,
 "nbformat_minor": 5
}
