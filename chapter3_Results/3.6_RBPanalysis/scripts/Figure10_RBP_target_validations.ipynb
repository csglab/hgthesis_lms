{
 "cells": [
  {
   "cell_type": "markdown",
   "id": "41b642e6-2770-43e6-a7fb-eefd45e95eca",
   "metadata": {},
   "source": [
    "# Functional analysis of relevant RBPs"
   ]
  },
  {
   "cell_type": "code",
   "execution_count": 1,
   "id": "30c2c749-595a-424f-98cd-6c5f5355c2f9",
   "metadata": {
    "collapsed": true,
    "jupyter": {
     "outputs_hidden": true
    },
    "tags": []
   },
   "outputs": [
    {
     "name": "stderr",
     "output_type": "stream",
     "text": [
      "\n",
      "Attaching package: ‘dplyr’\n",
      "\n",
      "\n",
      "The following objects are masked from ‘package:stats’:\n",
      "\n",
      "    filter, lag\n",
      "\n",
      "\n",
      "The following objects are masked from ‘package:base’:\n",
      "\n",
      "    intersect, setdiff, setequal, union\n",
      "\n",
      "\n",
      "\n",
      "Attaching package: ‘data.table’\n",
      "\n",
      "\n",
      "The following objects are masked from ‘package:dplyr’:\n",
      "\n",
      "    between, first, last\n",
      "\n",
      "\n",
      "Loading required package: future\n",
      "\n",
      "\n",
      "Attaching package: ‘purrr’\n",
      "\n",
      "\n",
      "The following object is masked from ‘package:data.table’:\n",
      "\n",
      "    transpose\n",
      "\n",
      "\n",
      "Loading required package: grid\n",
      "\n",
      "========================================\n",
      "ComplexHeatmap version 2.8.0\n",
      "Bioconductor page: http://bioconductor.org/packages/ComplexHeatmap/\n",
      "Github page: https://github.com/jokergoo/ComplexHeatmap\n",
      "Documentation: http://jokergoo.github.io/ComplexHeatmap-reference\n",
      "\n",
      "If you use it in published research, please cite:\n",
      "Gu, Z. Complex heatmaps reveal patterns and correlations in multidimensional \n",
      "  genomic data. Bioinformatics 2016.\n",
      "\n",
      "The new InteractiveComplexHeatmap package can directly export static \n",
      "complex heatmaps into an interactive Shiny app with zero effort. Have a try!\n",
      "\n",
      "This message can be suppressed by:\n",
      "  suppressPackageStartupMessages(library(ComplexHeatmap))\n",
      "========================================\n",
      "\n",
      "\n",
      "\n",
      "Attaching package: ‘matrixStats’\n",
      "\n",
      "\n",
      "The following object is masked from ‘package:dplyr’:\n",
      "\n",
      "    count\n",
      "\n",
      "\n"
     ]
    }
   ],
   "source": [
    "library(ggplot2)\n",
    "library(dplyr)\n",
    "library(data.table)\n",
    "library(furrr)\n",
    "library(purrr)\n",
    "library(dplyr)\n",
    "library(ggVennDiagram)\n",
    "library(ggplot2)\n",
    "library(ggsci)\n",
    "library(fgsea)\n",
    "library(ComplexHeatmap)\n",
    "library(matrixStats)\n",
    "library(ggpubr)\n",
    "library(msigdbr)\n",
    "library(patchwork)"
   ]
  },
  {
   "cell_type": "markdown",
   "id": "378e6f6a-0d9c-4ee1-a34c-d98229ff46b0",
   "metadata": {},
   "source": [
    "### Functions"
   ]
  },
  {
   "cell_type": "code",
   "execution_count": 2,
   "id": "f7d31f95-2250-4e62-aa73-172ad20579c4",
   "metadata": {},
   "outputs": [],
   "source": [
    "# GORA analysis function\n",
    "fora_test<-function(d,...){\n",
    "    \n",
    "    event.genes <- unique(d$gene_id) \n",
    "    event <- unique(d$event_type)\n",
    "    event.universe<-gene_universe$gene_id[gene_universe$event_type==event]\n",
    "    \n",
    "    res<-fora(pathways = hm_list,\n",
    "              genes = event.genes,\n",
    "              universe = event.universe,\n",
    "              minSize = 3, \n",
    "              maxSize = 250) %>%\n",
    "        filter(overlap!=0) %>%\n",
    "        mutate(n_spl_genes=length(event.genes))\n",
    "    \n",
    "    return(res)\n",
    "    \n",
    "}"
   ]
  },
  {
   "cell_type": "markdown",
   "id": "750338ad-02e3-4791-af85-a43e59e8db72",
   "metadata": {},
   "source": [
    "### Inputs"
   ]
  },
  {
   "cell_type": "code",
   "execution_count": 3,
   "id": "91c9f357-281e-4cef-8a76-2d59f2ee3ba6",
   "metadata": {},
   "outputs": [],
   "source": [
    "# Params\n",
    "analysis<-\"condition\"  # Analysis type tag (condition / TumorStageContinuous)\n",
    "voi<-\"conditiontumor\"  # Variable of interest (conditiontumor / sex / age / stage)\n",
    "events_used<-c(\"SE\",\"RI\",\"AF\",\"AL\",\"A5\",\"A3\") # Events to include in the analysis\n",
    "n<-11 # number of cancers for calling shared events\n",
    "p.signif.pathway<-0.2 # FDR cutoff on the significance of overrepresentation tests\n",
    "set.seed(7)\n",
    "cancer_order_set<-c(\"SKCM\",\"UVM\",\"SARC\",\"LAML\",\"TGCT\",\"UCEC\",\"CESC\",\"PRAD\",\"READ\",\"BLCA\",\n",
    "                    \"COAD\",\"PAAD\",\"CHOL\",\"KIRP\",\"KIRC\",\"KICH\",\"ACC\",\"PCPG\",\"STAD\",\"LIHC\",\n",
    "                    \"MESO\",\"LUSC\",\"LUAD\",\"BRCA\",\"THCA\",\"ESCA\",\"HNSC\")\n",
    "\n",
    "# Inputs\n",
    "obj_dir<-\"../input/objects\"\n",
    "flags_file<-paste0(obj_dir,\"/tcga.\",analysis,\".psi.flags.RDS\")\n",
    "\n",
    "# RBP info\n",
    "aff_dir<-\"../../chapter2_Methods/2.5_ASregulators/output/affimx\"\n",
    "rbp_obj_file<-\"../output/objects/Figure10_rbp_motif_coefs_gex_sig.RDS\"\n",
    "cors_file<-\"../output/data/RBP_significant_correlations.tsv\"\n",
    "rbp_info_file<-\"../input/references/cisbp_Homo_sapiens_2023_06_RBP_Information_all_motifs.txt\"\n",
    "motif_clusters_file<-\"../input/data/25112023_representative_cluster_motifs.tsv\"\n",
    "mtargets_file<-\"../output/objects/Figure10_all_motif_targets.RDS\"\n",
    "\n",
    "# Internal\n",
    "vars<-c(voi,\"impurity\")\n",
    "res_file<-paste0(\"../input/objects/tcga.\",analysis,\".res.lfcShrink.RDS\")\n",
    "fig_dir<-paste0(\"../output/figures/functional_validations\")\n",
    "dir.create(fig_dir, showWarnings = FALSE)"
   ]
  },
  {
   "cell_type": "code",
   "execution_count": 4,
   "id": "7b7941ad-3083-40fb-9d19-67ff1458db4c",
   "metadata": {},
   "outputs": [],
   "source": [
    "plan(multisession, workers = 6)"
   ]
  },
  {
   "cell_type": "markdown",
   "id": "bca326c3-6ce3-42d2-9c9c-aa7f630577ed",
   "metadata": {
    "tags": []
   },
   "source": [
    "### Load data"
   ]
  },
  {
   "cell_type": "code",
   "execution_count": 6,
   "id": "877f45bb-b0c4-4dc5-b6bb-ed4da57414a9",
   "metadata": {},
   "outputs": [],
   "source": [
    "motif_targets_genes <- readRDS(file = mtargets_file)\n",
    "trex.res.lfsh <- readRDS(file = res_file) \n",
    "gora <- readRDS(paste0(obj_dir,\"/gora.\",analysis,\".\",n,\".cancers.RDS\"))\n",
    "rbp_motif_coefs_gex_sig <- readRDS(rbp_obj_file)"
   ]
  },
  {
   "cell_type": "code",
   "execution_count": 7,
   "id": "273de922-541c-4df2-aaea-37ba7d458a02",
   "metadata": {},
   "outputs": [],
   "source": [
    "motif_clusters <- data.table::fread(motif_clusters_file,sep=\"\\t\") %>%\n",
    "                  rename(\"Motif_ID\"=\"motif\")\n",
    "rbp_info <- fread(rbp_info_file,head = TRUE,sep = \"\\t\",data.table = FALSE)"
   ]
  },
  {
   "cell_type": "code",
   "execution_count": 8,
   "id": "27fe08c8-8c08-465a-b156-c9b79148d51d",
   "metadata": {},
   "outputs": [],
   "source": [
    "flags<-readRDS(flags_file)"
   ]
  },
  {
   "cell_type": "markdown",
   "id": "8b53d336-794e-48bb-b881-159e5491429b",
   "metadata": {
    "tags": []
   },
   "source": [
    "### Process RBP-motif pairs"
   ]
  },
  {
   "cell_type": "code",
   "execution_count": 9,
   "id": "f37c4b1a-e4c9-496a-8bda-8970f05e800a",
   "metadata": {
    "tags": []
   },
   "outputs": [
    {
     "name": "stderr",
     "output_type": "stream",
     "text": [
      "\u001b[1m\u001b[22mJoining, by = \"Motif_ID\"\n"
     ]
    }
   ],
   "source": [
    "rbp_motif <- rbp_info %>%\n",
    "             select('Motif_ID',\"ENSDBID\",'RBP_Name','Family_Name') %>%\n",
    "             rename(\"GENEID\"=\"ENSDBID\") %>%\n",
    "             inner_join(.,motif_clusters ) %>%\n",
    "             group_by(representative_motif) %>%\n",
    "             mutate(RBPs=paste(unique(RBP_Name),collapse = \", \"))"
   ]
  },
  {
   "cell_type": "code",
   "execution_count": 10,
   "id": "e522d652-87fc-4d80-a728-3fd5951cab06",
   "metadata": {},
   "outputs": [],
   "source": [
    "rbp_mcg <- rbp_motif_coefs_gex_sig %>%\n",
    "           mutate(RBP_Name=sub(\"_.*\",\"\",GENENAME)) %>%\n",
    "           group_by(representative_motif) %>%\n",
    "           mutate(RBPs=paste(unique(RBP_Name),collapse = \", \")) %>%\n",
    "           select(-Motif_ID,-GENENAME) %>%\n",
    "           distinct()"
   ]
  },
  {
   "cell_type": "code",
   "execution_count": 11,
   "id": "61d84361-cc06-43d0-b3ac-0abbdc522acd",
   "metadata": {},
   "outputs": [
    {
     "name": "stderr",
     "output_type": "stream",
     "text": [
      "\u001b[1m\u001b[22mJoining, by = c(\"representative_motif\", \"Motif_ID\", \"RBP_Name\")\n"
     ]
    }
   ],
   "source": [
    "mtf_tgs <- motif_targets_genes %>%\n",
    "           rename(\"RBP_Name\"=\"RBP_GENENAME\") %>%\n",
    "           ungroup() %>%\n",
    "           inner_join(.,rbp_motif) %>%\n",
    "           distinct() %>%\n",
    "           mutate(target_gene_region=ifelse(zscore_padj<0.2,\"target\",\"other\"))"
   ]
  },
  {
   "cell_type": "code",
   "execution_count": 12,
   "id": "232e8c89-d5e8-4a20-bf93-5c4119c53b55",
   "metadata": {},
   "outputs": [],
   "source": [
    "valid_events<-flags %>%\n",
    "                group_by(event_type,event_id) "
   ]
  },
  {
   "cell_type": "code",
   "execution_count": 13,
   "id": "763efa19-9d42-48d3-8fec-5b8238f38e11",
   "metadata": {},
   "outputs": [],
   "source": [
    "tgenes<-motif_targets_genes  %>%\n",
    "        filter(target_gene_region==\"target\") %>%\n",
    "        distinct(gene_id)"
   ]
  },
  {
   "cell_type": "code",
   "execution_count": 14,
   "id": "b3b80a56-682f-4d78-b300-fbe0edc9dfea",
   "metadata": {},
   "outputs": [],
   "source": [
    "saveRDS(mtf_tgs,file=\"../output/objects/Figure10_motif_targets.RDS\")"
   ]
  },
  {
   "cell_type": "markdown",
   "id": "0131628f-f2a5-473c-9033-c2accceef7e7",
   "metadata": {
    "tags": []
   },
   "source": [
    "### Define gene universe"
   ]
  },
  {
   "cell_type": "markdown",
   "id": "b8e22800-4dc7-4215-b0b5-2d1a17d12fa7",
   "metadata": {},
   "source": [
    "Out of all the genes that can undergo a given form of splicing, which pathways are enriched in the RBFOX targets that are differentially spliced in tumors "
   ]
  },
  {
   "cell_type": "markdown",
   "id": "fe7b364f-02a0-4e9d-8328-42bd97d40251",
   "metadata": {},
   "source": [
    "will test in a background of genes that are:\n",
    "- flagged as valid  \n",
    "- targets of at least one RBP  \n",
    "\n",
    "Analysis is done stratifying by:\n",
    "- event type\n",
    "\n",
    "Testing is done per event type at the gene level. Thus if a gene has at least one event of that type passing the fltering criteria the gene will be included in the analysis. If a gene has events that have positive and events that have negative lfc values, the gene will appear in both categories.\n",
    "\n",
    "The foreground gene groups are obtained by:\n",
    "1. Events that are significant in an least one cancer type\n",
    "2. Correlation between the dlogitPSI of each event with the LFC of each RBP across all cancer types. \n",
    "3. Select events that have the same correlation direction as that of the correlation between the RBP expression and the differntial binding\n",
    "Then do GORA on each test separately"
   ]
  },
  {
   "cell_type": "code",
   "execution_count": 15,
   "id": "3a0518cc-a1a1-4729-8b9d-7ce9022b8dfa",
   "metadata": {},
   "outputs": [
    {
     "name": "stderr",
     "output_type": "stream",
     "text": [
      "\u001b[1m\u001b[22mJoining, by = c(\"event_type\", \"cancer\", \"event_id\")\n"
     ]
    },
    {
     "data": {
      "text/html": [
       "<style>\n",
       ".list-inline {list-style: none; margin:0; padding: 0}\n",
       ".list-inline>li {display: inline-block}\n",
       ".list-inline>li:not(:last-child)::after {content: \"\\00b7\"; padding: 0 .5ex}\n",
       "</style>\n",
       "<ol class=list-inline><li>546561</li><li>24</li></ol>\n"
      ],
      "text/latex": [
       "\\begin{enumerate*}\n",
       "\\item 546561\n",
       "\\item 24\n",
       "\\end{enumerate*}\n"
      ],
      "text/markdown": [
       "1. 546561\n",
       "2. 24\n",
       "\n",
       "\n"
      ],
      "text/plain": [
       "[1] 546561     24"
      ]
     },
     "metadata": {},
     "output_type": "display_data"
    },
    {
     "data": {
      "text/html": [
       "<style>\n",
       ".list-inline {list-style: none; margin:0; padding: 0}\n",
       ".list-inline>li {display: inline-block}\n",
       ".list-inline>li:not(:last-child)::after {content: \"\\00b7\"; padding: 0 .5ex}\n",
       "</style>\n",
       "<ol class=list-inline><li>3108225</li><li>23</li></ol>\n"
      ],
      "text/latex": [
       "\\begin{enumerate*}\n",
       "\\item 3108225\n",
       "\\item 23\n",
       "\\end{enumerate*}\n"
      ],
      "text/markdown": [
       "1. 3108225\n",
       "2. 23\n",
       "\n",
       "\n"
      ],
      "text/plain": [
       "[1] 3108225      23"
      ]
     },
     "metadata": {},
     "output_type": "display_data"
    }
   ],
   "source": [
    "trex.res.lfsh <- trex.res.lfsh %>%\n",
    "                    filter(!is.na(padj),exp_var==\"conditiontumor\") %>%\n",
    "                    inner_join(.,valid_events) %>%\n",
    "                    mutate(gene_id=sub(\"\\\\.\\\\d+\",\"\",gene_id)) \n",
    "trex.res <- trex.res.lfsh %>% \n",
    "            filter(gene_id%in%tgenes$gene_id) %>%\n",
    "            group_by(event_id) %>%\n",
    "            mutate(nc_sig=sum(padj<0.05)) %>% \n",
    "            filter(nc_sig>=1)%>%\n",
    "            ungroup()\n",
    "dim(trex.res)\n",
    "dim(trex.res.lfsh)"
   ]
  },
  {
   "cell_type": "code",
   "execution_count": 16,
   "id": "35800b70-a426-4dbc-aacb-122deb27c985",
   "metadata": {},
   "outputs": [],
   "source": [
    "gene_universe <- trex.res.lfsh %>%\n",
    "                 mutate(gene_id=sub(\"\\\\.\\\\d+\",\"\",gene_id)) %>%\n",
    "                 distinct(event_type,gene_id) %>%\n",
    "                 group_by(event_type) "
   ]
  },
  {
   "cell_type": "code",
   "execution_count": 17,
   "id": "a0805505-85b7-4c9b-9a5b-99803882d654",
   "metadata": {},
   "outputs": [],
   "source": [
    "saveRDS(gene_universe,file=\"../output/objects/Figure10_gene_universe_targets.RDS\")"
   ]
  },
  {
   "cell_type": "markdown",
   "id": "0132d9b6-855d-47ae-898f-1015bf4e45eb",
   "metadata": {
    "tags": []
   },
   "source": [
    "## GORA on RBP targets\n",
    "---"
   ]
  },
  {
   "cell_type": "markdown",
   "id": "b2def2b5-d6db-4b82-a7e4-95b8373c0a51",
   "metadata": {
    "tags": []
   },
   "source": [
    "### Categorize RBP targets"
   ]
  },
  {
   "cell_type": "markdown",
   "id": "e423543e-8305-42a7-99a4-b6af10bb8f96",
   "metadata": {},
   "source": [
    "Test only RBPs that have at least 3 target genes and select cancer types in which their binding coefficients are significant"
   ]
  },
  {
   "cell_type": "code",
   "execution_count": 18,
   "id": "8f5d697a-9b27-46e7-809c-1ccbd5766e3b",
   "metadata": {},
   "outputs": [
    {
     "data": {
      "text/html": [
       "97"
      ],
      "text/latex": [
       "97"
      ],
      "text/markdown": [
       "97"
      ],
      "text/plain": [
       "[1] 97"
      ]
     },
     "metadata": {},
     "output_type": "display_data"
    }
   ],
   "source": [
    "rbp_fgd<-rbp_motif_coefs_gex_sig %>% \n",
    "         filter(cor.padj<0.1) %>% # RBPs with significant correlation between LFC and diff binding \n",
    "         distinct(cancer,event_type,representative_motif,RBP_Name,position,direction,cor.estimate,log2FoldChange,cor.padj) %>%\n",
    "         arrange(RBP_Name)\n",
    "length(unique(rbp_fgd$RBP_Name))"
   ]
  },
  {
   "cell_type": "markdown",
   "id": "25a43b68-a5b5-4375-8839-fe6673ec34cb",
   "metadata": {},
   "source": [
    "Collapse estimates into gene dLogitPSI by taking the dLogitPSI of the event with the smallest pvalue"
   ]
  },
  {
   "cell_type": "code",
   "execution_count": 19,
   "id": "f059c967-1e83-4647-9892-c0c940119766",
   "metadata": {},
   "outputs": [
    {
     "name": "stderr",
     "output_type": "stream",
     "text": [
      "\u001b[1m\u001b[22mJoining, by = c(\"event_type\", \"cancer\")\n"
     ]
    }
   ],
   "source": [
    "trex_fgd <- trex.res %>%\n",
    "            rename(\"dLogitPSI\"=\"log2FoldChange\",\n",
    "                  \"trex_pvalue\"=\"pvalue\") %>%\n",
    "            distinct(event_id,event_type,gene_id,cancer,dLogitPSI,trex_pvalue) %>%\n",
    "            left_join(.,rbp_fgd) "
   ]
  },
  {
   "cell_type": "markdown",
   "id": "1a416e88-230d-4d94-9ea3-0b705e0ebebb",
   "metadata": {},
   "source": [
    "Calculate the correlation between dLogit PSI and LFC of each RBP across all cancers"
   ]
  },
  {
   "cell_type": "code",
   "execution_count": null,
   "id": "de3630c4-0232-4de6-97fa-34534ec1228c",
   "metadata": {
    "tags": []
   },
   "outputs": [],
   "source": [
    "trex_fgd_cors_ev <- trex_fgd %>%\n",
    "                    group_by(event_type,gene_id,event_id,position,direction,representative_motif,RBP_Name) %>%\n",
    "                    mutate(n=length(cancer)) %>%\n",
    "                    filter(sd(dLogitPSI)!=0,\n",
    "                           sd(log2FoldChange)!=0,\n",
    "                           n>=3) %>%\n",
    "                    summarize(ncancers=length(unique(cancer)),\n",
    "                              cors=list(cor.test(dLogitPSI,log2FoldChange)[c(\"estimate\",\"p.value\")]))  %>%\n",
    "                    rowwise() %>%\n",
    "                    mutate(cor.das=cors[[1]][1],\n",
    "                           cor.das.pvalue=cors[[2]][1]) %>%\n",
    "                    as_tibble() %>%\n",
    "                    select(-cors) %>%\n",
    "                    group_by(event_type) %>%\n",
    "                    mutate(cor.das.padj=p.adjust(cor.das.pvalue,method=\"fdr\")) %>%\n",
    "                    left_join(.,\n",
    "                              rbp_fgd %>%\n",
    "                                 distinct(event_type,representative_motif,position,direction,RBP_Name,cor.estimate)) %>%\n",
    "                    mutate(cor.das.gp=ifelse(cor.das > 0,\"pos\",\"neg\"),\n",
    "                           cor.dbd.gp=ifelse(cor.estimate > 0,\"pos\",\"neg\")) "
   ]
  },
  {
   "cell_type": "markdown",
   "id": "b477e5b4-99d7-4bf0-b8f8-42fb2b68fab9",
   "metadata": {},
   "source": [
    "Intersect with RBP affinity targets genes"
   ]
  },
  {
   "cell_type": "code",
   "execution_count": null,
   "id": "92381c7d-1356-46c6-823e-49f705137efc",
   "metadata": {},
   "outputs": [],
   "source": [
    "mtf_target_set <- mtf_tgs %>%\n",
    "                    filter(target_gene_region==\"target\") %>%\n",
    "                    mutate(position=sub(\"_.*\",\"\",seq_id),\n",
    "                           direction=sub(\"[SE]\\\\d+_\",\"\",seq_id) %>% sub(\"_.*\",\"\",.)) %>%\n",
    "                    distinct(event_type,position,direction,gene_id,representative_motif,RBP_Name) "
   ]
  },
  {
   "cell_type": "markdown",
   "id": "3e682f6b-50be-43ef-a96c-c6a010a71260",
   "metadata": {},
   "source": [
    "Group all events of the same gene with the same behavior "
   ]
  },
  {
   "cell_type": "code",
   "execution_count": null,
   "id": "95a3d5fa-1cee-400b-bc99-dbe58f652c0c",
   "metadata": {},
   "outputs": [],
   "source": [
    "trex_fgd_cors <- trex_fgd_cors_ev %>%\n",
    "                    group_by(event_type,position,direction,gene_id,representative_motif,RBP_Name,cor.das.gp,cor.dbd.gp) %>%\n",
    "                    summarize(event_id_list=list(event_id),\n",
    "                              ncancers_list=list(ncancers),\n",
    "                              ncancers=mean(ncancers),\n",
    "                              nevents=length(unique(event_id)))"
   ]
  },
  {
   "cell_type": "code",
   "execution_count": null,
   "id": "12a6a792-e79d-49a3-942f-4848d0873282",
   "metadata": {
    "tags": []
   },
   "outputs": [],
   "source": [
    "targets<-inner_join(trex_fgd_cors %>% ungroup(),\n",
    "                    mtf_target_set %>% ungroup()) %>%\n",
    "         mutate(behavior=ifelse(cor.das.gp==cor.dbd.gp,\"similar\",\"opposite\"))"
   ]
  },
  {
   "cell_type": "markdown",
   "id": "78b79c27-3a28-442a-bd86-dbe4b626dcf3",
   "metadata": {
    "tags": []
   },
   "source": [
    "### Define gene sets"
   ]
  },
  {
   "cell_type": "code",
   "execution_count": null,
   "id": "c65b373d-d9fa-4e2d-ba52-aa93a3e56b6a",
   "metadata": {},
   "outputs": [],
   "source": [
    "# Hallmark pathways\n",
    "hm_gene_sets <- msigdbr(species = \"human\",category=\"H\") \n",
    "hm_df <- hm_gene_sets %>% \n",
    "         distinct(gs_cat,gs_name,ensembl_gene) %>%\n",
    "         as.data.frame() \n",
    "hm_list <- split(x = hm_df$ensembl_gene, f = hm_df$gs_name)"
   ]
  },
  {
   "cell_type": "code",
   "execution_count": null,
   "id": "af1bf3f1-8791-4c33-80fd-955fce20cb97",
   "metadata": {
    "tags": []
   },
   "outputs": [],
   "source": [
    "rbps<-unique(targets$RBP_Name)\n",
    "message(\"Analyzing \",length(rbps),\" RBPs\")"
   ]
  },
  {
   "cell_type": "markdown",
   "id": "4a2def4c-2c6f-4dec-8745-1516767c28cc",
   "metadata": {},
   "source": [
    "#### Define gene groupings\n",
    "\n",
    "- Do the groups based on the sign of the correlation with each region, and then use only events that behave as expected (same sign) to the RBP in that cancer type\n",
    "- Only consider the cancer types in which the sign of the regression coefficient is consistent\n",
    "\n",
    "- calculate the correlation between RBP lfc and event logit PSI across all cancer types, select events that have a correlation of the same sign as the one from the correlation between RBP lfc and differential binding \n",
    "- test using the same universe now "
   ]
  },
  {
   "cell_type": "markdown",
   "id": "117257aa-3b12-4f05-8449-bff582726e45",
   "metadata": {},
   "source": [
    "#### Run tests"
   ]
  },
  {
   "cell_type": "code",
   "execution_count": null,
   "id": "1af4303d-648b-4a0f-b135-c89212bdb8d8",
   "metadata": {},
   "outputs": [],
   "source": [
    "# Run tests\n",
    "targets_gora<-targets %>%\n",
    "              mutate(grouptag = paste(RBP_Name,position,direction,event_type,cor.das.gp,cor.dbd.gp,sep=\"_\")) %>%\n",
    "              select(event_type,gene_id,grouptag) %>%\n",
    "              group_by(grouptag) %>%\n",
    "              tidyr::nest(data = c(event_type:gene_id)) %>%\n",
    "              mutate(gora_res = lapply(data,fora_test)) \n",
    "\n",
    "# Extract enriched pathways\n",
    "targets_res <- targets_gora %>%\n",
    "                ungroup() %>%\n",
    "                mutate(npaths = unlist(lapply(gora_res,nrow))) %>%\n",
    "                distinct(grouptag,gora_res) %>% \n",
    "                group_by(grouptag) %>%\n",
    "                tidyr::unnest(gora_res) %>%\n",
    "                arrange(desc(overlap))"
   ]
  },
  {
   "cell_type": "code",
   "execution_count": null,
   "id": "4dd9652b-2a1b-44c3-8a9c-ba1fb7ae77d8",
   "metadata": {},
   "outputs": [],
   "source": [
    "saveRDS(targets_gora,\"../output/objects/Figure10_targets_gora.RDS\")\n",
    "saveRDS(targets_res,\"../output/objects/Figure10_targets_res.RDS\")"
   ]
  },
  {
   "cell_type": "markdown",
   "id": "6b737805-13c9-4854-ad00-4fd93bbbfd22",
   "metadata": {
    "tags": []
   },
   "source": [
    "### Visualizations"
   ]
  },
  {
   "cell_type": "code",
   "execution_count": null,
   "id": "c8764a7f-ed16-47c1-bc87-af7293b0fdf1",
   "metadata": {},
   "outputs": [],
   "source": [
    "ss_levels<-list(\"SE\" = c(\"E1\",\"S2\",\"E2\",\"S3\"),\n",
    "                \"MX\" = c(\"E1\",\"S2\",\"E2\",\"S3\",\"E3\",\"S4\"),\n",
    "                \"A5\" = c(\"E1\",\"E2\",\"S3\"),\n",
    "                \"A3\" = c(\"E1\",\"S2\",\"S3\"),\n",
    "                \"RI\" = c(\"S1\",\"E1\",\"S2\",\"E2\"),\n",
    "                \"AF\" = c(\"S1\",\"E1\",\"S2\",\"E2\",\"S3\"),\n",
    "                \"AL\" = c(\"E1\",\"S2\",\"E2\",\"S3\",\"E3\"))"
   ]
  },
  {
   "cell_type": "code",
   "execution_count": null,
   "id": "91a2a234-daa0-40dd-bab7-b661f6422f02",
   "metadata": {},
   "outputs": [],
   "source": [
    "ss_levels_all<-lapply(names(ss_levels),function(name,...){\n",
    "    s<-ss_levels[[name]]\n",
    "    lapply(s,function(si,...){\n",
    "            paste(name,si,c(\"UP\",\"DOWN\"))\n",
    "    })\n",
    "})%>%unlist(.,recursive = T)"
   ]
  },
  {
   "cell_type": "code",
   "execution_count": null,
   "id": "7c81e71d-9611-4c74-946d-f09c9ca390ab",
   "metadata": {},
   "outputs": [],
   "source": [
    "targets_gora<-readRDS(\"../output/objects/Figure10_targets_gora.RDS\")\n",
    "targets_res<-readRDS(\"../output/objects/Figure10_targets_res.RDS\")"
   ]
  },
  {
   "cell_type": "code",
   "execution_count": null,
   "id": "44de0903-b6ee-4bbf-af7c-fc7d04db2b72",
   "metadata": {
    "tags": []
   },
   "outputs": [],
   "source": [
    "sp<-targets_res %>%\n",
    "    arrange(desc(overlap)) %>%\n",
    "    mutate(tags = list(strsplit(grouptag,\"_\") %>% unlist() )) %>%\n",
    "    rowwise() %>%\n",
    "    mutate(RBP_Name = unlist(tags)[1],\n",
    "           position = unlist(tags)[2],\n",
    "           direction = unlist(tags)[3],\n",
    "           event_type = unlist(tags)[4],\n",
    "           das.gp = unlist(tags)[5],\n",
    "           dbd.gp = unlist(tags)[6]) %>%\n",
    "    select(-tags)"
   ]
  },
  {
   "cell_type": "code",
   "execution_count": null,
   "id": "d2a8e234-ae9a-4129-8ac8-b053c39fabc2",
   "metadata": {},
   "outputs": [],
   "source": [
    "datasets<-list()\n",
    "for(event in unique(sp$event_type)){\n",
    "    sp.event <- sp %>% \n",
    "                filter(event_type==event) %>%\n",
    "                ungroup() %>%\n",
    "                as_tibble() %>%\n",
    "                mutate(position=factor(position,ss_levels[[event]]),\n",
    "                       direction=factor(direction,levels=c(\"UP\",\"DOWN\")),\n",
    "                       signif=padj<0.2) %>%\n",
    "                mutate(behavior= ifelse(das.gp==dbd.gp,\"similar\",\"opposite\")) %>%\n",
    "                mutate(pathway=sub(\"HALLMARK_\",\"\",pathway) %>% gsub(\"_\",\" \",.))\n",
    "\n",
    "    pord<-sp.event%>%\n",
    "          group_by(pathway) %>%\n",
    "          summarize(nsig=sum(signif)) %>%\n",
    "          #filter(nsig!=0) %>%\n",
    "          arrange(nsig)\n",
    "    rord<-sp.event%>%\n",
    "          group_by(RBP_Name) %>%\n",
    "          summarize(nsig=sum(signif)) %>%\n",
    "          filter(nsig!=0) %>%\n",
    "          arrange(nsig)\n",
    "    reg<-sp.event%>%\n",
    "          group_by(position,direction) %>%\n",
    "          summarize(nsig=sum(signif)) %>%\n",
    "          filter(nsig!=0) %>%\n",
    "          arrange(nsig) %>%\n",
    "          mutate(region=paste(position,direction))\n",
    "    pdata<-sp.event %>%\n",
    "            filter(pathway %in% pord$pathway,\n",
    "                   RBP_Name %in% rord$RBP_Name) %>%\n",
    "            mutate(pathway =factor(pathway,levels=pord$pathway),\n",
    "                   region = paste(position,direction),\n",
    "                   behavior = factor(behavior,levels=c(\"similar\",\"opposite\"))) %>%\n",
    "            filter(region %in% reg$region)\n",
    "    \n",
    "    datasets[[event]]<-pdata\n",
    "}"
   ]
  },
  {
   "cell_type": "code",
   "execution_count": null,
   "id": "c260ad46-eb28-4906-8a4e-f22019f134cf",
   "metadata": {},
   "outputs": [],
   "source": [
    "pdata<-do.call(rbind,datasets)\n",
    "eord<-pdata %>%\n",
    "      group_by(event_type) %>%\n",
    "      summarize(nsig=sum(padj<0.2))%>%\n",
    "      arrange(desc(nsig))\n",
    "pord<-pdata%>%\n",
    "      group_by(pathway) %>%\n",
    "      summarize(nsig=sum(signif),n=overlap) %>%\n",
    "      filter(nsig!=0) %>%\n",
    "      slice_max(nsig*n,n=1,with_ties = F) %>%\n",
    "      arrange(desc(nsig*n))\n",
    "rord<-pdata%>%\n",
    "      group_by(RBP_Name) %>%\n",
    "      summarize(nsig=sum(signif)) %>%\n",
    "      filter(nsig!=0) %>%\n",
    "      arrange(desc(nsig))\n",
    "\n",
    "pdata<-pdata %>%\n",
    "       filter(pathway %in% pord$pathway,\n",
    "              RBP_Name %in% rord$RBP_Name) %>%\n",
    "       mutate(event_type=factor(event_type,levels=eord$event_type),\n",
    "              pathway = factor(pathway,levels=pord$pathway),\n",
    "              RBP_Name = factor(RBP_Name,levels =rord$RBP_Name)) %>%\n",
    "       mutate(location = factor(paste(event_type,position,direction),levels=ss_levels_all))"
   ]
  },
  {
   "cell_type": "code",
   "execution_count": null,
   "id": "30b8b021-958f-4403-b996-c431ee290800",
   "metadata": {},
   "outputs": [],
   "source": [
    "pdata<-pdata %>%\n",
    "       filter(event_type%in%c(\"SE\",\"RI\",\"AL\",\"A3\",\"A5\"))\n",
    "\n",
    "rbp_fgd_sig05<-rbp_fgd %>%\n",
    "                mutate(sig_in_a=cor.padj<0.05) %>%\n",
    "                ungroup() %>%\n",
    "                distinct(RBP_Name, position, direction, event_type, sig_in_a, cor.estimate)\n",
    "pdata2<-pdata %>%\n",
    "        left_join(.,rbp_fgd_sig05) %>%\n",
    "        filter(sig_in_a)"
   ]
  },
  {
   "cell_type": "code",
   "execution_count": null,
   "id": "a533e9b7-0215-4076-b71a-aa3cd077eb6d",
   "metadata": {},
   "outputs": [],
   "source": [
    "options(repr.plot.height = 10,repr.plot.width=7)\n",
    "g<-pdata %>%\n",
    "   ggplot(.,aes(x=RBP_Name,y=behavior))+\n",
    "         geom_tile(data = pdata2,aes(fill=cor.estimate),color=\"black\",lwd=0.25)+\n",
    "         scale_fill_gradient2(low = \"blue\",mid = \"white\",high = \"red\",\n",
    "                                guide = guide_colourbar(direction = \"horizontal\", \n",
    "                                                             barheight = 0.25,\n",
    "                                                             barwidth = 6.5,\n",
    "                                                             title.hjust = 0.5,\n",
    "                                                             label.position = \"bottom\"))+\n",
    "        geom_point(pch=21,aes(size=overlap,color=signif),fill=\"#CACFD2\")+\n",
    "        theme_pubr()+\n",
    "        scale_color_manual(values=c(\"#CACFD2\",\"black\"))+\n",
    "        facet_grid(~pathway~location,scales=\"free_x\",space=\"free\")+\n",
    "        theme(axis.text.x=element_text(angle=90,hjust=1,vjust=0.5,size=11),\n",
    "              axis.text.y=element_text(vjust=0.5),\n",
    "              strip.background = element_blank(),\n",
    "              strip.text.x = element_text(angle = 90,hjust=0,vjust=0.5),\n",
    "              strip.text.y = element_text(angle = 0,hjust=0))+\n",
    "        scale_size(range=c(1,3),breaks = 1:3)+\n",
    "        labs(x=\"\",y=\"behavior of targets\",size=\"n\",fill=\"p\")\n",
    "\n",
    "fileout<-paste0(fig_dir,\"/\",analysis,\"_gora_cross_cancers.pdf\")\n",
    "ggsave(g,filename = fileout,\n",
    "       width = 7,height = 10,device = cairo_pdf)\n",
    "g"
   ]
  }
 ],
 "metadata": {
  "kernelspec": {
   "display_name": "R",
   "language": "R",
   "name": "ir"
  },
  "language_info": {
   "codemirror_mode": "r",
   "file_extension": ".r",
   "mimetype": "text/x-r-source",
   "name": "R",
   "pygments_lexer": "r",
   "version": "4.1.2"
  }
 },
 "nbformat": 4,
 "nbformat_minor": 5
}
