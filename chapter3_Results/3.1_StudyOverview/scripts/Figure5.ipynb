{
 "cells": [
  {
   "cell_type": "markdown",
   "id": "01a88718-a8dc-4ce4-9188-71818a2a2644",
   "metadata": {},
   "source": [
    "# TCGA dataset overview"
   ]
  },
  {
   "cell_type": "code",
   "execution_count": 1,
   "id": "ed048c0f-e42f-42f6-b67e-1fd474036e13",
   "metadata": {
    "tags": []
   },
   "outputs": [
    {
     "name": "stderr",
     "output_type": "stream",
     "text": [
      "\n",
      "Attaching package: ‘dplyr’\n",
      "\n",
      "\n",
      "The following objects are masked from ‘package:stats’:\n",
      "\n",
      "    filter, lag\n",
      "\n",
      "\n",
      "The following objects are masked from ‘package:base’:\n",
      "\n",
      "    intersect, setdiff, setequal, union\n",
      "\n",
      "\n"
     ]
    }
   ],
   "source": [
    "library(dplyr)\n",
    "library(ggplot2)\n",
    "library(ggpubr)\n",
    "library(ggsci)"
   ]
  },
  {
   "cell_type": "markdown",
   "id": "10b80298-65d5-484e-a6eb-6b10361e9342",
   "metadata": {},
   "source": [
    "### Load data"
   ]
  },
  {
   "cell_type": "code",
   "execution_count": 2,
   "id": "156ef529-cc72-4a09-9a40-e11ce83b8a5a",
   "metadata": {
    "tags": []
   },
   "outputs": [
    {
     "name": "stdout",
     "output_type": "stream",
     "text": [
      "Loading objects:\n",
      "  metadata\n"
     ]
    }
   ],
   "source": [
    "load(\"../input/tcga.metadata.RData\",verbose = T)\n",
    "stage.cancers<-read.table(\"../input/cancers_valid_stage.tsv\")$V1\n",
    "condition.cancers<-read.table(\"../input/cancers_valid_condition.tsv\")$V1"
   ]
  },
  {
   "cell_type": "code",
   "execution_count": 3,
   "id": "cc8893f1-f2c4-4a80-9264-75b8cfc28135",
   "metadata": {},
   "outputs": [
    {
     "data": {
      "text/html": [
       "<table class=\"dataframe\">\n",
       "<caption>A data.frame: 6 × 12</caption>\n",
       "<thead>\n",
       "\t<tr><th></th><th scope=col>file_id</th><th scope=col>submitter_id</th><th scope=col>patient_id</th><th scope=col>cancer</th><th scope=col>is_outlier.lof</th><th scope=col>condition</th><th scope=col>gender</th><th scope=col>age_at_index</th><th scope=col>stage</th><th scope=col>ESTIMATEScore</th><th scope=col>impurity</th><th scope=col>purity</th></tr>\n",
       "\t<tr><th></th><th scope=col>&lt;chr&gt;</th><th scope=col>&lt;chr&gt;</th><th scope=col>&lt;chr&gt;</th><th scope=col>&lt;chr&gt;</th><th scope=col>&lt;lgl&gt;</th><th scope=col>&lt;chr&gt;</th><th scope=col>&lt;chr&gt;</th><th scope=col>&lt;int&gt;</th><th scope=col>&lt;int&gt;</th><th scope=col>&lt;dbl&gt;</th><th scope=col>&lt;dbl&gt;</th><th scope=col>&lt;dbl&gt;</th></tr>\n",
       "</thead>\n",
       "<tbody>\n",
       "\t<tr><th scope=row>1</th><td>0363945b-657c-4001-8b6d-4533c49394cc</td><td>TCGA-PA-A5YG-01A</td><td>TCGA-PA-A5YG</td><td>ACC</td><td>FALSE</td><td>tumor</td><td>male  </td><td>51</td><td>2</td><td>42147.61</td><td>0.41332223</td><td>0.5866778</td></tr>\n",
       "\t<tr><th scope=row>2</th><td>06ebee53-f158-49d7-baf2-6910780f023b</td><td>TCGA-OR-A5K8-01A</td><td>TCGA-OR-A5K8</td><td>ACC</td><td>FALSE</td><td>tumor</td><td>male  </td><td>39</td><td>2</td><td>35724.89</td><td>0.17504081</td><td>0.8249592</td></tr>\n",
       "\t<tr><th scope=row>3</th><td>0820ab39-407d-4326-8482-9c0c0fcc66f6</td><td>TCGA-OR-A5LT-01A</td><td>TCGA-OR-A5LT</td><td>ACC</td><td>FALSE</td><td>tumor</td><td>male  </td><td>57</td><td>3</td><td>33944.49</td><td>0.12508489</td><td>0.8749151</td></tr>\n",
       "\t<tr><th scope=row>4</th><td>084af283-eb9b-4327-add2-04227e78aff9</td><td>TCGA-PK-A5HB-01A</td><td>TCGA-PK-A5HB</td><td>ACC</td><td>FALSE</td><td>tumor</td><td>male  </td><td>63</td><td>0</td><td>35084.28</td><td>0.15618170</td><td>0.8438183</td></tr>\n",
       "\t<tr><th scope=row>5</th><td>0cbbae7f-c50f-43ed-8b3e-da334238a5bb</td><td>TCGA-OR-A5KV-01A</td><td>TCGA-OR-A5KV</td><td>ACC</td><td>FALSE</td><td>tumor</td><td>female</td><td>17</td><td>3</td><td>32693.27</td><td>0.09468693</td><td>0.9053131</td></tr>\n",
       "\t<tr><th scope=row>6</th><td>0ecde3de-4840-4090-9041-201e9d8bd162</td><td>TCGA-OR-A5L9-01A</td><td>TCGA-OR-A5L9</td><td>ACC</td><td>FALSE</td><td>tumor</td><td>female</td><td>53</td><td>2</td><td>40437.02</td><td>0.34185617</td><td>0.6581438</td></tr>\n",
       "</tbody>\n",
       "</table>\n"
      ],
      "text/latex": [
       "A data.frame: 6 × 12\n",
       "\\begin{tabular}{r|llllllllllll}\n",
       "  & file\\_id & submitter\\_id & patient\\_id & cancer & is\\_outlier.lof & condition & gender & age\\_at\\_index & stage & ESTIMATEScore & impurity & purity\\\\\n",
       "  & <chr> & <chr> & <chr> & <chr> & <lgl> & <chr> & <chr> & <int> & <int> & <dbl> & <dbl> & <dbl>\\\\\n",
       "\\hline\n",
       "\t1 & 0363945b-657c-4001-8b6d-4533c49394cc & TCGA-PA-A5YG-01A & TCGA-PA-A5YG & ACC & FALSE & tumor & male   & 51 & 2 & 42147.61 & 0.41332223 & 0.5866778\\\\\n",
       "\t2 & 06ebee53-f158-49d7-baf2-6910780f023b & TCGA-OR-A5K8-01A & TCGA-OR-A5K8 & ACC & FALSE & tumor & male   & 39 & 2 & 35724.89 & 0.17504081 & 0.8249592\\\\\n",
       "\t3 & 0820ab39-407d-4326-8482-9c0c0fcc66f6 & TCGA-OR-A5LT-01A & TCGA-OR-A5LT & ACC & FALSE & tumor & male   & 57 & 3 & 33944.49 & 0.12508489 & 0.8749151\\\\\n",
       "\t4 & 084af283-eb9b-4327-add2-04227e78aff9 & TCGA-PK-A5HB-01A & TCGA-PK-A5HB & ACC & FALSE & tumor & male   & 63 & 0 & 35084.28 & 0.15618170 & 0.8438183\\\\\n",
       "\t5 & 0cbbae7f-c50f-43ed-8b3e-da334238a5bb & TCGA-OR-A5KV-01A & TCGA-OR-A5KV & ACC & FALSE & tumor & female & 17 & 3 & 32693.27 & 0.09468693 & 0.9053131\\\\\n",
       "\t6 & 0ecde3de-4840-4090-9041-201e9d8bd162 & TCGA-OR-A5L9-01A & TCGA-OR-A5L9 & ACC & FALSE & tumor & female & 53 & 2 & 40437.02 & 0.34185617 & 0.6581438\\\\\n",
       "\\end{tabular}\n"
      ],
      "text/markdown": [
       "\n",
       "A data.frame: 6 × 12\n",
       "\n",
       "| <!--/--> | file_id &lt;chr&gt; | submitter_id &lt;chr&gt; | patient_id &lt;chr&gt; | cancer &lt;chr&gt; | is_outlier.lof &lt;lgl&gt; | condition &lt;chr&gt; | gender &lt;chr&gt; | age_at_index &lt;int&gt; | stage &lt;int&gt; | ESTIMATEScore &lt;dbl&gt; | impurity &lt;dbl&gt; | purity &lt;dbl&gt; |\n",
       "|---|---|---|---|---|---|---|---|---|---|---|---|---|\n",
       "| 1 | 0363945b-657c-4001-8b6d-4533c49394cc | TCGA-PA-A5YG-01A | TCGA-PA-A5YG | ACC | FALSE | tumor | male   | 51 | 2 | 42147.61 | 0.41332223 | 0.5866778 |\n",
       "| 2 | 06ebee53-f158-49d7-baf2-6910780f023b | TCGA-OR-A5K8-01A | TCGA-OR-A5K8 | ACC | FALSE | tumor | male   | 39 | 2 | 35724.89 | 0.17504081 | 0.8249592 |\n",
       "| 3 | 0820ab39-407d-4326-8482-9c0c0fcc66f6 | TCGA-OR-A5LT-01A | TCGA-OR-A5LT | ACC | FALSE | tumor | male   | 57 | 3 | 33944.49 | 0.12508489 | 0.8749151 |\n",
       "| 4 | 084af283-eb9b-4327-add2-04227e78aff9 | TCGA-PK-A5HB-01A | TCGA-PK-A5HB | ACC | FALSE | tumor | male   | 63 | 0 | 35084.28 | 0.15618170 | 0.8438183 |\n",
       "| 5 | 0cbbae7f-c50f-43ed-8b3e-da334238a5bb | TCGA-OR-A5KV-01A | TCGA-OR-A5KV | ACC | FALSE | tumor | female | 17 | 3 | 32693.27 | 0.09468693 | 0.9053131 |\n",
       "| 6 | 0ecde3de-4840-4090-9041-201e9d8bd162 | TCGA-OR-A5L9-01A | TCGA-OR-A5L9 | ACC | FALSE | tumor | female | 53 | 2 | 40437.02 | 0.34185617 | 0.6581438 |\n",
       "\n"
      ],
      "text/plain": [
       "  file_id                              submitter_id     patient_id   cancer\n",
       "1 0363945b-657c-4001-8b6d-4533c49394cc TCGA-PA-A5YG-01A TCGA-PA-A5YG ACC   \n",
       "2 06ebee53-f158-49d7-baf2-6910780f023b TCGA-OR-A5K8-01A TCGA-OR-A5K8 ACC   \n",
       "3 0820ab39-407d-4326-8482-9c0c0fcc66f6 TCGA-OR-A5LT-01A TCGA-OR-A5LT ACC   \n",
       "4 084af283-eb9b-4327-add2-04227e78aff9 TCGA-PK-A5HB-01A TCGA-PK-A5HB ACC   \n",
       "5 0cbbae7f-c50f-43ed-8b3e-da334238a5bb TCGA-OR-A5KV-01A TCGA-OR-A5KV ACC   \n",
       "6 0ecde3de-4840-4090-9041-201e9d8bd162 TCGA-OR-A5L9-01A TCGA-OR-A5L9 ACC   \n",
       "  is_outlier.lof condition gender age_at_index stage ESTIMATEScore impurity  \n",
       "1 FALSE          tumor     male   51           2     42147.61      0.41332223\n",
       "2 FALSE          tumor     male   39           2     35724.89      0.17504081\n",
       "3 FALSE          tumor     male   57           3     33944.49      0.12508489\n",
       "4 FALSE          tumor     male   63           0     35084.28      0.15618170\n",
       "5 FALSE          tumor     female 17           3     32693.27      0.09468693\n",
       "6 FALSE          tumor     female 53           2     40437.02      0.34185617\n",
       "  purity   \n",
       "1 0.5866778\n",
       "2 0.8249592\n",
       "3 0.8749151\n",
       "4 0.8438183\n",
       "5 0.9053131\n",
       "6 0.6581438"
      ]
     },
     "metadata": {},
     "output_type": "display_data"
    }
   ],
   "source": [
    "head(metadata)"
   ]
  },
  {
   "cell_type": "code",
   "execution_count": 4,
   "id": "c3854e8d-90ff-4064-a0c6-8a6baf779ad3",
   "metadata": {},
   "outputs": [
    {
     "name": "stderr",
     "output_type": "stream",
     "text": [
      "Total number of samples 10191\n",
      "\n"
     ]
    }
   ],
   "source": [
    "message(\"Total number of samples \",length(unique(metadata$file_id)))"
   ]
  },
  {
   "cell_type": "markdown",
   "id": "0e4958b1-ccdf-493c-ae09-5b099f6e2f11",
   "metadata": {},
   "source": [
    "### Process data"
   ]
  },
  {
   "cell_type": "code",
   "execution_count": 5,
   "id": "1e5c6903-e8aa-4010-aebb-2c7d3d5abb2a",
   "metadata": {},
   "outputs": [
    {
     "name": "stderr",
     "output_type": "stream",
     "text": [
      "\u001b[1m\u001b[22mJoining, by = c(\"cancer\", \"name\")\n"
     ]
    }
   ],
   "source": [
    "model.mt<-data.frame(cancer = unique(metadata$cancer)) %>%\n",
    "          mutate(Stage = cancer %in% stage.cancers,\n",
    "                 T_vs_N = cancer %in% condition.cancers) %>%\n",
    "          group_by(cancer) %>%\n",
    "          tidyr::pivot_longer(cols = Stage:T_vs_N,names_to = \"name\") %>% ungroup()\n",
    "model.mt<-model.mt %>%\n",
    "          full_join(.,model.mt %>% tidyr::expand(cancer,name))  %>%\n",
    "          mutate(value = ifelse(is.na(value),FALSE,value)) %>%\n",
    "          mutate(cancer=factor(cancer,levels=c(\"SKCM\",\"UVM\",\"SARC\",\"PRAD\",\"TGCT\",\n",
    "                                                \"OV\",\"UCS\",\"UCEC\",\"CESC\",\"LAML\",\n",
    "                                                \"READ\",\"BLCA\",\"COAD\",\"PAAD\",\"CHOL\",\n",
    "                                               \"KIRP\",\"KIRC\",\"KICH\",\"ACC\",\"PCPG\",\n",
    "                                               \"STAD\",\"LIHC\",\"MESO\",\"LUSC\",\"LUAD\",\n",
    "                                               \"BRCA\",\"DLBC\",\"THYM\",\"THCA\",\"ESCA\",\n",
    "                                               \"HNSC\",\"GBM\",\"LGG\")))"
   ]
  },
  {
   "cell_type": "code",
   "execution_count": 6,
   "id": "aadfb774-ab78-4a9c-9755-fd0aaec8e03b",
   "metadata": {},
   "outputs": [],
   "source": [
    "mt<-metadata %>%\n",
    "    group_by(cancer) %>%\n",
    "    summarize(Total=length(unique(file_id)),\n",
    "              Tumor=sum(condition==\"tumor\" & !is_outlier.lof,na.rm=T),\n",
    "              Outliers=sum(condition==\"tumor\" & is_outlier.lof,na.rm=T),\n",
    "              Normal=sum(condition==\"normal\" & !is_outlier.lof,na.rm=T),\n",
    "              Stage0=sum(stage==0),\n",
    "              Stage1=sum(stage==1),\n",
    "              Stage2=sum(stage==2),\n",
    "              Stage3=sum(stage==3),\n",
    "              Stage4=sum(stage==4)) %>%\n",
    "    tidyr::pivot_longer(cols = Total:Stage4) %>%\n",
    "    mutate(cancer=factor(cancer,levels=c(\"SKCM\",\"UVM\",\"SARC\",\"PRAD\",\"TGCT\",\n",
    "                                                \"OV\",\"UCS\",\"UCEC\",\"CESC\",\"LAML\",\n",
    "                                                \"READ\",\"BLCA\",\"COAD\",\"PAAD\",\"CHOL\",\n",
    "                                               \"KIRP\",\"KIRC\",\"KICH\",\"ACC\",\"PCPG\",\n",
    "                                               \"STAD\",\"LIHC\",\"MESO\",\"LUSC\",\"LUAD\",\n",
    "                                               \"BRCA\",\"DLBC\",\"THYM\",\"THCA\",\"ESCA\",\n",
    "                                               \"HNSC\",\"GBM\",\"LGG\")),\n",
    "          name=factor(name,levels=c(\"Total\",\"Tumor\",\"Normal\",\"Outliers\",\"Stage0\",\"Stage1\",\"Stage2\",\"Stage3\",\"Stage4\")))"
   ]
  },
  {
   "cell_type": "markdown",
   "id": "a165012d-0b5d-4c98-ba9f-7a9fd774b308",
   "metadata": {},
   "source": [
    "### Visualizations"
   ]
  },
  {
   "cell_type": "code",
   "execution_count": 7,
   "id": "f780f269-a404-4f39-a985-0a2af3fd3e84",
   "metadata": {},
   "outputs": [
    {
     "data": {
      "image/png": "[encoded data removed]",
      "text/plain": [
       "plot without title"
      ]
     },
     "metadata": {
      "image/png": {
       "height": 360,
       "width": 120
      }
     },
     "output_type": "display_data"
    }
   ],
   "source": [
    "options(repr.plot.width=2,repr.plot.height=6)\n",
    "col.pal <- colorRampPalette(colors = c(\"#ffffff\",\"#FF0000\"))\n",
    "p<-ggplot(mt,aes(x=cancer,y=name,fill=log(value)))+\n",
    "    geom_tile(color=\"black\")+\n",
    "    scale_fill_gradientn(colours = col.pal(10),na.value = \"#f0f0f0\",)+\n",
    "    theme(legend.position = \"top\",\n",
    "          axis.text.x = element_text(size=7,color=\"black\",angle=90,hjust=1),\n",
    "          panel.background = element_blank(),\n",
    "          panel.grid.major = element_blank(),\n",
    "          panel.grid.minor = element_blank(),\n",
    "          panel.border = element_blank(),\n",
    "          axis.ticks = element_blank())+\n",
    "    coord_flip()+\n",
    "    labs(fill=\"cases\",x=\"\",y=\"\")\n",
    "p"
   ]
  },
  {
   "cell_type": "code",
   "execution_count": 8,
   "id": "16f5df53-707a-4474-a158-097a7b7a1615",
   "metadata": {},
   "outputs": [
    {
     "data": {
      "image/png": "[encoded data removed]",
      "text/plain": [
       "plot without title"
      ]
     },
     "metadata": {
      "image/png": {
       "height": 366,
       "width": 120
      }
     },
     "output_type": "display_data"
    }
   ],
   "source": [
    "options(repr.plot.width=2,repr.plot.height=6.1)\n",
    "p<-ggplot(model.mt,aes(x=cancer,y=name,fill=value))+\n",
    "    geom_tile(color=\"black\")+\n",
    "    scale_fill_manual(values=c(\"#F5F5F5\",\"#9B9B9B\"))+\n",
    "    theme(legend.position = \"right\",\n",
    "          axis.text.x = element_text(size=7,color=\"black\",angle=90,hjust=1),\n",
    "          panel.background = element_blank(),\n",
    "          panel.grid.major = element_blank(),\n",
    "          panel.grid.minor = element_blank(),\n",
    "          panel.border = element_blank(),\n",
    "          axis.ticks = element_blank())+\n",
    "    coord_flip()+\n",
    "    labs(fill=\"cases\",x=\"\",y=\"\")\n",
    "p"
   ]
  },
  {
   "cell_type": "markdown",
   "id": "8798a8e3-a676-472a-98d8-0ec4bb733f66",
   "metadata": {},
   "source": [
    "### Number of samples"
   ]
  },
  {
   "cell_type": "code",
   "execution_count": 9,
   "id": "ddc95ef6-4558-4a3e-9347-75a338d3513a",
   "metadata": {},
   "outputs": [],
   "source": [
    "stage_cancers<-model.mt %>% \n",
    "                filter(name==\"Stage\",value) %>%\n",
    "                distinct(cancer) %>% \n",
    "                unlist() %>%\n",
    "                as.character()\n",
    "condition_cancers<-model.mt %>% \n",
    "                filter(name==\"T_vs_N\",value) %>%\n",
    "                distinct(cancer) %>% \n",
    "                unlist() %>%\n",
    "                as.character()"
   ]
  },
  {
   "cell_type": "code",
   "execution_count": 10,
   "id": "e021c20e-19b6-4e55-9177-00bc71fef870",
   "metadata": {},
   "outputs": [
    {
     "data": {
      "text/html": [
       "<table class=\"dataframe\">\n",
       "<caption>A tibble: 2 × 2</caption>\n",
       "<thead>\n",
       "\t<tr><th scope=col>condition</th><th scope=col>n</th></tr>\n",
       "\t<tr><th scope=col>&lt;chr&gt;</th><th scope=col>&lt;int&gt;</th></tr>\n",
       "</thead>\n",
       "<tbody>\n",
       "\t<tr><td>normal</td><td> 616</td></tr>\n",
       "\t<tr><td>tumor </td><td>6621</td></tr>\n",
       "</tbody>\n",
       "</table>\n"
      ],
      "text/latex": [
       "A tibble: 2 × 2\n",
       "\\begin{tabular}{ll}\n",
       " condition & n\\\\\n",
       " <chr> & <int>\\\\\n",
       "\\hline\n",
       "\t normal &  616\\\\\n",
       "\t tumor  & 6621\\\\\n",
       "\\end{tabular}\n"
      ],
      "text/markdown": [
       "\n",
       "A tibble: 2 × 2\n",
       "\n",
       "| condition &lt;chr&gt; | n &lt;int&gt; |\n",
       "|---|---|\n",
       "| normal |  616 |\n",
       "| tumor  | 6621 |\n",
       "\n"
      ],
      "text/plain": [
       "  condition n   \n",
       "1 normal     616\n",
       "2 tumor     6621"
      ]
     },
     "metadata": {},
     "output_type": "display_data"
    }
   ],
   "source": [
    "metadata %>%\n",
    "filter(cancer %in% stage_cancers,\n",
    "       !is_outlier.lof) %>%\n",
    "group_by(condition)%>%\n",
    "summarize(n=length(file_id))"
   ]
  },
  {
   "cell_type": "code",
   "execution_count": 11,
   "id": "c338c59e-8bb6-4877-993c-08bd55953a5b",
   "metadata": {},
   "outputs": [
    {
     "data": {
      "text/html": [
       "<table class=\"dataframe\">\n",
       "<caption>A tibble: 2 × 2</caption>\n",
       "<thead>\n",
       "\t<tr><th scope=col>condition</th><th scope=col>n</th></tr>\n",
       "\t<tr><th scope=col>&lt;chr&gt;</th><th scope=col>&lt;int&gt;</th></tr>\n",
       "</thead>\n",
       "<tbody>\n",
       "\t<tr><td>normal</td><td> 708</td></tr>\n",
       "\t<tr><td>tumor </td><td>7871</td></tr>\n",
       "</tbody>\n",
       "</table>\n"
      ],
      "text/latex": [
       "A tibble: 2 × 2\n",
       "\\begin{tabular}{ll}\n",
       " condition & n\\\\\n",
       " <chr> & <int>\\\\\n",
       "\\hline\n",
       "\t normal &  708\\\\\n",
       "\t tumor  & 7871\\\\\n",
       "\\end{tabular}\n"
      ],
      "text/markdown": [
       "\n",
       "A tibble: 2 × 2\n",
       "\n",
       "| condition &lt;chr&gt; | n &lt;int&gt; |\n",
       "|---|---|\n",
       "| normal |  708 |\n",
       "| tumor  | 7871 |\n",
       "\n"
      ],
      "text/plain": [
       "  condition n   \n",
       "1 normal     708\n",
       "2 tumor     7871"
      ]
     },
     "metadata": {},
     "output_type": "display_data"
    }
   ],
   "source": [
    "metadata %>%\n",
    "filter(cancer %in% condition_cancers | cancer %in% stage_cancers) %>%\n",
    "group_by(condition)%>%\n",
    "summarize(n=length(file_id))"
   ]
  }
 ],
 "metadata": {
  "kernelspec": {
   "display_name": "R",
   "language": "R",
   "name": "ir"
  },
  "language_info": {
   "codemirror_mode": "r",
   "file_extension": ".r",
   "mimetype": "text/x-r-source",
   "name": "R",
   "pygments_lexer": "r",
   "version": "4.1.2"
  }
 },
 "nbformat": 4,
 "nbformat_minor": 5
}
