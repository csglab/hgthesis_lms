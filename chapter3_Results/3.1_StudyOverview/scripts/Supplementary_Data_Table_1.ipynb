{
 "cells": [
  {
   "cell_type": "markdown",
   "id": "fd0163e2-da2e-4889-8279-a2804e22fb7f",
   "metadata": {},
   "source": [
    "# Supplementary data table 1"
   ]
  },
  {
   "cell_type": "code",
   "execution_count": 1,
   "id": "e116449d-8dc3-42fa-8a61-daa66c3fa6e5",
   "metadata": {
    "tags": []
   },
   "outputs": [
    {
     "name": "stderr",
     "output_type": "stream",
     "text": [
      "\n",
      "Attaching package: ‘dplyr’\n",
      "\n",
      "\n",
      "The following objects are masked from ‘package:stats’:\n",
      "\n",
      "    filter, lag\n",
      "\n",
      "\n",
      "The following objects are masked from ‘package:base’:\n",
      "\n",
      "    intersect, setdiff, setequal, union\n",
      "\n",
      "\n"
     ]
    }
   ],
   "source": [
    "library(dplyr)"
   ]
  },
  {
   "cell_type": "markdown",
   "id": "d95b4c6f-94fc-45c8-b942-c28840b8f74f",
   "metadata": {
    "tags": []
   },
   "source": [
    "## Models fitted per cancer type"
   ]
  },
  {
   "cell_type": "code",
   "execution_count": 2,
   "id": "e3fa05e6-8f9c-4750-8b28-a7749591dc15",
   "metadata": {},
   "outputs": [],
   "source": [
    "flags<-readRDS(file=\"../input/models.fitted.out.RDS\")"
   ]
  },
  {
   "cell_type": "code",
   "execution_count": 3,
   "id": "d64e2e93-dcbf-48a2-ae10-a12f12981447",
   "metadata": {},
   "outputs": [],
   "source": [
    "flags<-flags %>%\n",
    "       mutate(included_sex=ifelse(grepl(\"nosex\",models_fitted),\"no\",\"yes\")) %>%\n",
    "       arrange(cancer,event_type) %>%\n",
    "       distinct() %>%\n",
    "       mutate(models=ifelse(grepl(\"condition\",models_fitted),\"condition\",\"stage\")) %>%\n",
    "       select(-models_fitted) %>%\n",
    "       mutate(num_tumor_outliers=num_tumor_outliers/2)\n",
    "flags[is.na(flags)]<-0"
   ]
  },
  {
   "cell_type": "code",
   "execution_count": 4,
   "id": "17abf215-ad3c-4247-826e-682a3584bc35",
   "metadata": {},
   "outputs": [
    {
     "data": {
      "text/html": [
       "<table class=\"dataframe\">\n",
       "<caption>A data.table: 6 × 14</caption>\n",
       "<thead>\n",
       "\t<tr><th></th><th scope=col>cancer</th><th scope=col>event_type</th><th scope=col>initial_num_samples</th><th scope=col>initial_num_tumor</th><th scope=col>initial_num_normal</th><th scope=col>num_tumor_outliers</th><th scope=col>num_samples_no_purity</th><th scope=col>num_events_low_counts</th><th scope=col>num_events_valid</th><th scope=col>final_num_tumor</th><th scope=col>final_num_normal</th><th scope=col>num_samples_no_metadata</th><th scope=col>included_sex</th><th scope=col>models</th></tr>\n",
       "\t<tr><th></th><th scope=col>&lt;chr&gt;</th><th scope=col>&lt;chr&gt;</th><th scope=col>&lt;int&gt;</th><th scope=col>&lt;int&gt;</th><th scope=col>&lt;int&gt;</th><th scope=col>&lt;dbl&gt;</th><th scope=col>&lt;int&gt;</th><th scope=col>&lt;int&gt;</th><th scope=col>&lt;int&gt;</th><th scope=col>&lt;int&gt;</th><th scope=col>&lt;int&gt;</th><th scope=col>&lt;dbl&gt;</th><th scope=col>&lt;chr&gt;</th><th scope=col>&lt;chr&gt;</th></tr>\n",
       "</thead>\n",
       "<tbody>\n",
       "\t<tr><th scope=row>1</th><td>ACC</td><td>A3</td><td>79</td><td>79</td><td>0</td><td>0</td><td>0</td><td> 2964</td><td>17831</td><td>79</td><td>0</td><td>0</td><td>yes</td><td>stage</td></tr>\n",
       "\t<tr><th scope=row>2</th><td>ACC</td><td>A5</td><td>79</td><td>79</td><td>0</td><td>0</td><td>0</td><td> 2881</td><td>16013</td><td>79</td><td>0</td><td>0</td><td>yes</td><td>stage</td></tr>\n",
       "\t<tr><th scope=row>3</th><td>ACC</td><td>AF</td><td>79</td><td>79</td><td>0</td><td>0</td><td>0</td><td>29347</td><td>82577</td><td>79</td><td>0</td><td>0</td><td>yes</td><td>stage</td></tr>\n",
       "\t<tr><th scope=row>4</th><td>ACC</td><td>AL</td><td>79</td><td>79</td><td>0</td><td>0</td><td>0</td><td>12949</td><td>24296</td><td>79</td><td>0</td><td>0</td><td>yes</td><td>stage</td></tr>\n",
       "\t<tr><th scope=row>5</th><td>ACC</td><td>MX</td><td>79</td><td>79</td><td>0</td><td>0</td><td>0</td><td> 2766</td><td> 5849</td><td>79</td><td>0</td><td>0</td><td>yes</td><td>stage</td></tr>\n",
       "\t<tr><th scope=row>6</th><td>ACC</td><td>RI</td><td>79</td><td>79</td><td>0</td><td>0</td><td>0</td><td>  716</td><td> 7748</td><td>79</td><td>0</td><td>0</td><td>yes</td><td>stage</td></tr>\n",
       "</tbody>\n",
       "</table>\n"
      ],
      "text/latex": [
       "A data.table: 6 × 14\n",
       "\\begin{tabular}{r|llllllllllllll}\n",
       "  & cancer & event\\_type & initial\\_num\\_samples & initial\\_num\\_tumor & initial\\_num\\_normal & num\\_tumor\\_outliers & num\\_samples\\_no\\_purity & num\\_events\\_low\\_counts & num\\_events\\_valid & final\\_num\\_tumor & final\\_num\\_normal & num\\_samples\\_no\\_metadata & included\\_sex & models\\\\\n",
       "  & <chr> & <chr> & <int> & <int> & <int> & <dbl> & <int> & <int> & <int> & <int> & <int> & <dbl> & <chr> & <chr>\\\\\n",
       "\\hline\n",
       "\t1 & ACC & A3 & 79 & 79 & 0 & 0 & 0 &  2964 & 17831 & 79 & 0 & 0 & yes & stage\\\\\n",
       "\t2 & ACC & A5 & 79 & 79 & 0 & 0 & 0 &  2881 & 16013 & 79 & 0 & 0 & yes & stage\\\\\n",
       "\t3 & ACC & AF & 79 & 79 & 0 & 0 & 0 & 29347 & 82577 & 79 & 0 & 0 & yes & stage\\\\\n",
       "\t4 & ACC & AL & 79 & 79 & 0 & 0 & 0 & 12949 & 24296 & 79 & 0 & 0 & yes & stage\\\\\n",
       "\t5 & ACC & MX & 79 & 79 & 0 & 0 & 0 &  2766 &  5849 & 79 & 0 & 0 & yes & stage\\\\\n",
       "\t6 & ACC & RI & 79 & 79 & 0 & 0 & 0 &   716 &  7748 & 79 & 0 & 0 & yes & stage\\\\\n",
       "\\end{tabular}\n"
      ],
      "text/markdown": [
       "\n",
       "A data.table: 6 × 14\n",
       "\n",
       "| <!--/--> | cancer &lt;chr&gt; | event_type &lt;chr&gt; | initial_num_samples &lt;int&gt; | initial_num_tumor &lt;int&gt; | initial_num_normal &lt;int&gt; | num_tumor_outliers &lt;dbl&gt; | num_samples_no_purity &lt;int&gt; | num_events_low_counts &lt;int&gt; | num_events_valid &lt;int&gt; | final_num_tumor &lt;int&gt; | final_num_normal &lt;int&gt; | num_samples_no_metadata &lt;dbl&gt; | included_sex &lt;chr&gt; | models &lt;chr&gt; |\n",
       "|---|---|---|---|---|---|---|---|---|---|---|---|---|---|---|\n",
       "| 1 | ACC | A3 | 79 | 79 | 0 | 0 | 0 |  2964 | 17831 | 79 | 0 | 0 | yes | stage |\n",
       "| 2 | ACC | A5 | 79 | 79 | 0 | 0 | 0 |  2881 | 16013 | 79 | 0 | 0 | yes | stage |\n",
       "| 3 | ACC | AF | 79 | 79 | 0 | 0 | 0 | 29347 | 82577 | 79 | 0 | 0 | yes | stage |\n",
       "| 4 | ACC | AL | 79 | 79 | 0 | 0 | 0 | 12949 | 24296 | 79 | 0 | 0 | yes | stage |\n",
       "| 5 | ACC | MX | 79 | 79 | 0 | 0 | 0 |  2766 |  5849 | 79 | 0 | 0 | yes | stage |\n",
       "| 6 | ACC | RI | 79 | 79 | 0 | 0 | 0 |   716 |  7748 | 79 | 0 | 0 | yes | stage |\n",
       "\n"
      ],
      "text/plain": [
       "  cancer event_type initial_num_samples initial_num_tumor initial_num_normal\n",
       "1 ACC    A3         79                  79                0                 \n",
       "2 ACC    A5         79                  79                0                 \n",
       "3 ACC    AF         79                  79                0                 \n",
       "4 ACC    AL         79                  79                0                 \n",
       "5 ACC    MX         79                  79                0                 \n",
       "6 ACC    RI         79                  79                0                 \n",
       "  num_tumor_outliers num_samples_no_purity num_events_low_counts\n",
       "1 0                  0                      2964                \n",
       "2 0                  0                      2881                \n",
       "3 0                  0                     29347                \n",
       "4 0                  0                     12949                \n",
       "5 0                  0                      2766                \n",
       "6 0                  0                       716                \n",
       "  num_events_valid final_num_tumor final_num_normal num_samples_no_metadata\n",
       "1 17831            79              0                0                      \n",
       "2 16013            79              0                0                      \n",
       "3 82577            79              0                0                      \n",
       "4 24296            79              0                0                      \n",
       "5  5849            79              0                0                      \n",
       "6  7748            79              0                0                      \n",
       "  included_sex models\n",
       "1 yes          stage \n",
       "2 yes          stage \n",
       "3 yes          stage \n",
       "4 yes          stage \n",
       "5 yes          stage \n",
       "6 yes          stage "
      ]
     },
     "metadata": {},
     "output_type": "display_data"
    }
   ],
   "source": [
    "head(flags)"
   ]
  },
  {
   "cell_type": "code",
   "execution_count": 5,
   "id": "61fcf141-f951-4fbd-a8d3-9a9c4b62c6ae",
   "metadata": {},
   "outputs": [],
   "source": [
    "write.table(flags,\n",
    "            file=\"../output/SDT1_model_summary.tsv\",\n",
    "            sep=\"\\t\",quote=F,row.names = T,col.names = T)"
   ]
  }
 ],
 "metadata": {
  "kernelspec": {
   "display_name": "R",
   "language": "R",
   "name": "ir"
  },
  "language_info": {
   "codemirror_mode": "r",
   "file_extension": ".r",
   "mimetype": "text/x-r-source",
   "name": "R",
   "pygments_lexer": "r",
   "version": "4.1.2"
  }
 },
 "nbformat": 4,
 "nbformat_minor": 5
}
