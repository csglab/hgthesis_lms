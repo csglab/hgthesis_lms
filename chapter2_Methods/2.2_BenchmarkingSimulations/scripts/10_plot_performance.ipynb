{
 "cells": [
  {
   "cell_type": "markdown",
   "id": "61fd8d23-1df0-40e1-9e71-6130dd1d2ec6",
   "metadata": {},
   "source": [
    "# Plot simulation results"
   ]
  },
  {
   "cell_type": "code",
   "execution_count": 1,
   "id": "115285ff-7016-4b6d-8868-a213566ba1f6",
   "metadata": {
    "tags": []
   },
   "outputs": [
    {
     "name": "stderr",
     "output_type": "stream",
     "text": [
      "\n",
      "Attaching package: ‘dplyr’\n",
      "\n",
      "\n",
      "The following objects are masked from ‘package:stats’:\n",
      "\n",
      "    filter, lag\n",
      "\n",
      "\n",
      "The following objects are masked from ‘package:base’:\n",
      "\n",
      "    intersect, setdiff, setequal, union\n",
      "\n",
      "\n"
     ]
    }
   ],
   "source": [
    "library(ggplot2)\n",
    "library(dplyr)\n",
    "library(ggsci)\n",
    "library(ggpubr)"
   ]
  },
  {
   "cell_type": "code",
   "execution_count": 2,
   "id": "ff456339-105d-45a9-9e2a-b717be3ee315",
   "metadata": {},
   "outputs": [],
   "source": [
    "perf<-readRDS(\"../results/performance_metrics.RDS\") %>% select(-evalmod_out)"
   ]
  },
  {
   "cell_type": "markdown",
   "id": "7118e78e-54b0-48c7-af7b-4670f46b6fed",
   "metadata": {},
   "source": [
    "### Functions"
   ]
  },
  {
   "cell_type": "code",
   "execution_count": 14,
   "id": "00b58622-96aa-4edc-a177-8f0a9ae1bd77",
   "metadata": {},
   "outputs": [
    {
     "data": {
      "text/html": [
       "0.415005336914231"
      ],
      "text/latex": [
       "0.415005336914231"
      ],
      "text/markdown": [
       "0.415005336914231"
      ],
      "text/plain": [
       "[1] 0.4150053"
      ]
     },
     "metadata": {},
     "output_type": "display_data"
    }
   ],
   "source": [
    "min(perf$aucs,na.rm = T\n",
    "   )"
   ]
  },
  {
   "cell_type": "markdown",
   "id": "9dfb964d-2207-4878-9bc3-ee23eea8ff61",
   "metadata": {},
   "source": [
    "## Performance grids"
   ]
  },
  {
   "cell_type": "code",
   "execution_count": 62,
   "id": "53e9dd4d-805b-4a27-b456-c39ac84100f1",
   "metadata": {
    "collapsed": true,
    "jupyter": {
     "outputs_hidden": true
    },
    "tags": []
   },
   "outputs": [
    {
     "name": "stderr",
     "output_type": "stream",
     "text": [
      "\u001b[1m\u001b[22m`summarise()` has grouped output by 'dPSI_th'. You can override using the\n",
      "`.groups` argument.\n",
      "\u001b[1m\u001b[22m`summarise()` has grouped output by 'dPSI_th'. You can override using the\n",
      "`.groups` argument.\n",
      "\u001b[1m\u001b[22m`summarise()` has grouped output by 'dPSI_th'. You can override using the\n",
      "`.groups` argument.\n",
      "\u001b[1m\u001b[22m`summarise()` has grouped output by 'dPSI_th'. You can override using the\n",
      "`.groups` argument.\n",
      "\u001b[1m\u001b[22m`summarise()` has grouped output by 'dPSI_th'. You can override using the\n",
      "`.groups` argument.\n",
      "\u001b[1m\u001b[22m`summarise()` has grouped output by 'dPSI_th'. You can override using the\n",
      "`.groups` argument.\n",
      "\u001b[1m\u001b[22m`summarise()` has grouped output by 'dPSI_th'. You can override using the\n",
      "`.groups` argument.\n",
      "\u001b[1m\u001b[22m`summarise()` has grouped output by 'dPSI_th'. You can override using the\n",
      "`.groups` argument.\n",
      "\u001b[1m\u001b[22m`summarise()` has grouped output by 'dPSI_th'. You can override using the\n",
      "`.groups` argument.\n",
      "\u001b[1m\u001b[22m`summarise()` has grouped output by 'dPSI_th'. You can override using the\n",
      "`.groups` argument.\n",
      "\u001b[1m\u001b[22m`summarise()` has grouped output by 'dPSI_th'. You can override using the\n",
      "`.groups` argument.\n",
      "\u001b[1m\u001b[22m`summarise()` has grouped output by 'dPSI_th'. You can override using the\n",
      "`.groups` argument.\n",
      "\u001b[1m\u001b[22m`summarise()` has grouped output by 'dPSI_th'. You can override using the\n",
      "`.groups` argument.\n",
      "\u001b[1m\u001b[22m`summarise()` has grouped output by 'dPSI_th'. You can override using the\n",
      "`.groups` argument.\n",
      "\u001b[1m\u001b[22m`summarise()` has grouped output by 'dPSI_th'. You can override using the\n",
      "`.groups` argument.\n",
      "\u001b[1m\u001b[22m`summarise()` has grouped output by 'dPSI_th'. You can override using the\n",
      "`.groups` argument.\n",
      "\u001b[1m\u001b[22m`summarise()` has grouped output by 'dPSI_th'. You can override using the\n",
      "`.groups` argument.\n",
      "\u001b[1m\u001b[22m`summarise()` has grouped output by 'dPSI_th'. You can override using the\n",
      "`.groups` argument.\n",
      "\u001b[1m\u001b[22m`summarise()` has grouped output by 'dPSI_th'. You can override using the\n",
      "`.groups` argument.\n",
      "\u001b[1m\u001b[22m`summarise()` has grouped output by 'dPSI_th'. You can override using the\n",
      "`.groups` argument.\n"
     ]
    }
   ],
   "source": [
    "methods<-unique(perf$method)\n",
    "batches<-unique(perf$batch_effect)\n",
    "for(method in methods){\n",
    "    for(batch in batches){\n",
    "        plt.data<-perf %>%\n",
    "                     filter(batch_effect==batch, method==method) %>%\n",
    "                     group_by(dPSI_th,dLogPSI_th) %>% \n",
    "                     summarize(mean_auc=mean(aucs),mean_num_pos=mean(num_pos), mean_num_neg=mean(num_neg)) \n",
    "        p<-plot.performance.grid(data = plt.data,bes = batch, method = method)\n",
    "        fout<-paste0(\"../results/figures_v2/\",method,\".bes_\",batch,\".performance.pdf\")\n",
    "        ggsave(p,filename = fout,device = \"pdf\",height=4,width=3.5,units=\"in\")\n",
    "    }\n",
    "}"
   ]
  },
  {
   "cell_type": "code",
   "execution_count": 77,
   "id": "e2de9735-0b93-40fd-8c1b-300fe9d9ea55",
   "metadata": {},
   "outputs": [
    {
     "data": {
      "text/html": [
       "<style>\n",
       ".list-inline {list-style: none; margin:0; padding: 0}\n",
       ".list-inline>li {display: inline-block}\n",
       ".list-inline>li:not(:last-child)::after {content: \"\\00b7\"; padding: 0 .5ex}\n",
       "</style>\n",
       "<ol class=list-inline><li>'trex.glm'</li><li>'trex_nb.glm'</li><li>'rmats'</li><li>'suppa2'</li></ol>\n"
      ],
      "text/latex": [
       "\\begin{enumerate*}\n",
       "\\item 'trex.glm'\n",
       "\\item 'trex\\_nb.glm'\n",
       "\\item 'rmats'\n",
       "\\item 'suppa2'\n",
       "\\end{enumerate*}\n"
      ],
      "text/markdown": [
       "1. 'trex.glm'\n",
       "2. 'trex_nb.glm'\n",
       "3. 'rmats'\n",
       "4. 'suppa2'\n",
       "\n",
       "\n"
      ],
      "text/plain": [
       "[1] \"trex.glm\"    \"trex_nb.glm\" \"rmats\"       \"suppa2\"     "
      ]
     },
     "metadata": {},
     "output_type": "display_data"
    }
   ],
   "source": [
    "methods"
   ]
  },
  {
   "cell_type": "markdown",
   "id": "ab34c364-bf90-4ae9-9ae3-e370c567bd38",
   "metadata": {},
   "source": [
    "## Differential performance grids"
   ]
  },
  {
   "cell_type": "code",
   "execution_count": 57,
   "id": "138112c0-1b78-4a58-be8c-bb38c4b6d0b3",
   "metadata": {},
   "outputs": [
    {
     "name": "stderr",
     "output_type": "stream",
     "text": [
      "\u001b[1m\u001b[22m`summarise()` has grouped output by 'batch_effect', 'dPSI_th'. You can override\n",
      "using the `.groups` argument.\n",
      "\u001b[1m\u001b[22m`summarise()` has grouped output by 'method', 'batch_effect', 'dPSI_th'. You\n",
      "can override using the `.groups` argument.\n",
      "\u001b[1m\u001b[22m`summarise()` has grouped output by 'method', 'batch_effect', 'dPSI_th'. You\n",
      "can override using the `.groups` argument.\n"
     ]
    }
   ],
   "source": [
    "trex<-perf %>%\n",
    "      filter(method==\"trex.glm\") %>%\n",
    "      group_by(batch_effect,dPSI_th,dLogPSI_th) %>% \n",
    "      summarize(mean_auc=mean(aucs),\n",
    "                mean_num_pos=mean(num_pos),\n",
    "                mean_num_neg=mean(num_neg)) \n",
    "rmats<-perf %>%\n",
    "      filter(method==\"rmats\") %>%\n",
    "      group_by(method,batch_effect,dPSI_th,dLogPSI_th) %>% \n",
    "      summarize(mean_auc=mean(aucs),\n",
    "                mean_num_pos=mean(num_pos),\n",
    "                mean_num_neg=mean(num_neg)) %>%\n",
    "      left_join(.,trex,by=c(\"batch_effect\",\"dPSI_th\",\"dLogPSI_th\")) %>%\n",
    "      mutate(mean_auc=mean_auc.y-mean_auc.x) # TRex - method\n",
    "suppa<-perf %>%\n",
    "      filter(method==\"suppa2\") %>%\n",
    "      group_by(method,batch_effect,dPSI_th,dLogPSI_th) %>% \n",
    "      summarize(mean_auc=mean(aucs),\n",
    "                mean_num_pos=mean(num_pos),\n",
    "                mean_num_neg=mean(num_neg)) %>%\n",
    "      left_join(.,trex,by=c(\"batch_effect\",\"dPSI_th\",\"dLogPSI_th\")) %>%\n",
    "      mutate(mean_auc=mean_auc.y-mean_auc.x) # TRex - method"
   ]
  },
  {
   "cell_type": "code",
   "execution_count": 73,
   "id": "0af77efc-7825-4b4f-b0ae-36b7a4e7f49b",
   "metadata": {},
   "outputs": [
    {
     "name": "stderr",
     "output_type": "stream",
     "text": [
      "\u001b[1m\u001b[22mScale for \u001b[32mfill\u001b[39m is already present.\n",
      "Adding another scale for \u001b[32mfill\u001b[39m, which will replace the existing scale.\n",
      "\u001b[1m\u001b[22mScale for \u001b[32mfill\u001b[39m is already present.\n",
      "Adding another scale for \u001b[32mfill\u001b[39m, which will replace the existing scale.\n",
      "\u001b[1m\u001b[22mScale for \u001b[32mfill\u001b[39m is already present.\n",
      "Adding another scale for \u001b[32mfill\u001b[39m, which will replace the existing scale.\n",
      "\u001b[1m\u001b[22mScale for \u001b[32mfill\u001b[39m is already present.\n",
      "Adding another scale for \u001b[32mfill\u001b[39m, which will replace the existing scale.\n",
      "\u001b[1m\u001b[22mScale for \u001b[32mfill\u001b[39m is already present.\n",
      "Adding another scale for \u001b[32mfill\u001b[39m, which will replace the existing scale.\n",
      "\u001b[1m\u001b[22mScale for \u001b[32mfill\u001b[39m is already present.\n",
      "Adding another scale for \u001b[32mfill\u001b[39m, which will replace the existing scale.\n",
      "\u001b[1m\u001b[22mScale for \u001b[32mfill\u001b[39m is already present.\n",
      "Adding another scale for \u001b[32mfill\u001b[39m, which will replace the existing scale.\n",
      "\u001b[1m\u001b[22mScale for \u001b[32mfill\u001b[39m is already present.\n",
      "Adding another scale for \u001b[32mfill\u001b[39m, which will replace the existing scale.\n",
      "\u001b[1m\u001b[22mScale for \u001b[32mfill\u001b[39m is already present.\n",
      "Adding another scale for \u001b[32mfill\u001b[39m, which will replace the existing scale.\n",
      "\u001b[1m\u001b[22mScale for \u001b[32mfill\u001b[39m is already present.\n",
      "Adding another scale for \u001b[32mfill\u001b[39m, which will replace the existing scale.\n",
      "\u001b[1m\u001b[22mScale for \u001b[32mfill\u001b[39m is already present.\n",
      "Adding another scale for \u001b[32mfill\u001b[39m, which will replace the existing scale.\n",
      "\u001b[1m\u001b[22mScale for \u001b[32mfill\u001b[39m is already present.\n",
      "Adding another scale for \u001b[32mfill\u001b[39m, which will replace the existing scale.\n",
      "\u001b[1m\u001b[22mScale for \u001b[32mfill\u001b[39m is already present.\n",
      "Adding another scale for \u001b[32mfill\u001b[39m, which will replace the existing scale.\n",
      "\u001b[1m\u001b[22mScale for \u001b[32mfill\u001b[39m is already present.\n",
      "Adding another scale for \u001b[32mfill\u001b[39m, which will replace the existing scale.\n",
      "\u001b[1m\u001b[22mScale for \u001b[32mfill\u001b[39m is already present.\n",
      "Adding another scale for \u001b[32mfill\u001b[39m, which will replace the existing scale.\n"
     ]
    }
   ],
   "source": [
    "col.pal <- colorRampPalette(colors = c(\"#0000FF\",\"#FFFFFF\",\"#FF0000\"))\n",
    "for(method in methods[methods!=\"trex.glm\"]){\n",
    "    for(batch in batches){\n",
    "        p<-plot.performance.grid(data = rmats,bes = 0, method = \"rmats\")+\n",
    "          scale_fill_gradient2(low=\"#0000FF\",mid=\"#FFFFFF\",high=\"#FF0000\",midpoint = 0,na.value = \"#E4E5E5\",limits=c(-0.1,0.25))+\n",
    "          labs(fill=paste0(\"dAUROC TRex-\",method))\n",
    "            fout<-paste0(\"../results/figures_v2/difperformance.trex_vs_\",method,\".bes_\",batch,\".pdf\")\n",
    "            ggsave(p,filename = fout,device = \"pdf\",height=4,width=3.5,units=\"in\")\n",
    "    }\n",
    "}"
   ]
  },
  {
   "cell_type": "markdown",
   "id": "adec55e3-cfab-4027-8977-800bd390d3fa",
   "metadata": {},
   "source": [
    "## Perfomance lines"
   ]
  },
  {
   "cell_type": "code",
   "execution_count": 151,
   "id": "29ec39dc-2d73-4372-81d8-14dc39c571e7",
   "metadata": {},
   "outputs": [],
   "source": [
    "dpsi<-0.25\n",
    "dlpsi<-1.75\n",
    "plt.data<-perf %>% \n",
    "          filter(dPSI_th==dpsi,dLogPSI_th==dlpsi,method!=\"trex_nb.glm\") %>% \n",
    "          mutate(method=factor(method,levels=c(\"trex.glm\",\"rmats\",\"suppa2\")))\n",
    "\n",
    "p<-ggplot(plt.data,aes(x=batch_effect,y=aucs,fill=method,group=interaction(batch_effect,method)))+\n",
    "    geom_boxplot(position=\"identity\",alpha=0.1,coef=0)+\n",
    "    geom_jitter(position = \"identity\",pch=21,size=3,show.legend = T)+\n",
    "    theme_pubr()+\n",
    "    scale_x_continuous(breaks = unique(plt.data$batch_effect))+\n",
    "    scale_y_continuous(limits = c(0.6,1))+\n",
    "    scale_fill_jco()\n",
    "\n",
    "fout<-paste0(\"../results/figures_v2/performance.all_methods.by_bes.pdf\")\n",
    "        ggsave(p,filename = fout,device = \"pdf\",height=4,width=3.8,units=\"in\")"
   ]
  },
  {
   "cell_type": "markdown",
   "id": "964dda7d-9f48-4b96-b477-966ddefc21ff",
   "metadata": {},
   "source": [
    "## Plot effect sizes"
   ]
  },
  {
   "cell_type": "code",
   "execution_count": null,
   "id": "84a1ebe9-0aee-45cb-9e26-d5922f0b3b0f",
   "metadata": {},
   "outputs": [],
   "source": []
  },
  {
   "cell_type": "code",
   "execution_count": null,
   "id": "24a67cfc-aed9-4f4f-a5fd-0dc491b75c5c",
   "metadata": {},
   "outputs": [],
   "source": []
  }
 ],
 "metadata": {
  "kernelspec": {
   "display_name": "R",
   "language": "R",
   "name": "ir"
  },
  "language_info": {
   "codemirror_mode": "r",
   "file_extension": ".r",
   "mimetype": "text/x-r-source",
   "name": "R",
   "pygments_lexer": "r",
   "version": "4.1.2"
  }
 },
 "nbformat": 4,
 "nbformat_minor": 5
}
