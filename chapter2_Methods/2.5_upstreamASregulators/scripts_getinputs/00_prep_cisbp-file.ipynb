{
 "cells": [
  {
   "cell_type": "markdown",
   "id": "14601852-35e0-473d-b791-e8a7f142c51b",
   "metadata": {},
   "source": [
    "# Process cisbp files"
   ]
  },
  {
   "cell_type": "code",
   "execution_count": 1,
   "id": "093089d3-3ccc-4387-9982-2fbba0d2f47d",
   "metadata": {
    "tags": []
   },
   "outputs": [
    {
     "name": "stderr",
     "output_type": "stream",
     "text": [
      "\n",
      "Attaching package: ‘dplyr’\n",
      "\n",
      "\n",
      "The following objects are masked from ‘package:data.table’:\n",
      "\n",
      "    between, first, last\n",
      "\n",
      "\n",
      "The following objects are masked from ‘package:stats’:\n",
      "\n",
      "    filter, lag\n",
      "\n",
      "\n",
      "The following objects are masked from ‘package:base’:\n",
      "\n",
      "    intersect, setdiff, setequal, union\n",
      "\n",
      "\n"
     ]
    }
   ],
   "source": [
    "library(data.table)\n",
    "library(dplyr)"
   ]
  },
  {
   "cell_type": "code",
   "execution_count": 2,
   "id": "3c9d7479-4d3a-4a0c-89e2-aa2b7e497763",
   "metadata": {},
   "outputs": [],
   "source": [
    "motifsFile<-\"../input/cisbp_Homo_sapiens_2023_06/RBP_Information_all_motifs.txt\"\n",
    "pwmsDir<-\"../input/cisbp_Homo_sapiens_2023_06/pwms_all_motifs/\"\n",
    "cisbpFile<-\"../input/cisbp_Homo_sapiens_2023_06/all_cisbp_mosbat.txt\""
   ]
  },
  {
   "cell_type": "code",
   "execution_count": 3,
   "id": "57bfb998-bedb-4ff6-a435-0aba865afe6c",
   "metadata": {},
   "outputs": [],
   "source": [
    "all_motifs<-fread(motifsFile,data.table = F) %>% as.data.frame()"
   ]
  },
  {
   "cell_type": "code",
   "execution_count": 4,
   "id": "2349e158-fe33-4443-a27e-622d9ae31cd5",
   "metadata": {},
   "outputs": [
    {
     "data": {
      "text/html": [
       "<table class=\"dataframe\">\n",
       "<caption>A data.frame: 6 × 2</caption>\n",
       "<thead>\n",
       "\t<tr><th></th><th scope=col>Motif_ID</th><th scope=col>DBID</th></tr>\n",
       "\t<tr><th></th><th scope=col>&lt;chr&gt;</th><th scope=col>&lt;chr&gt;</th></tr>\n",
       "</thead>\n",
       "<tbody>\n",
       "\t<tr><th scope=row>1</th><td>M001_0.6</td><td>RNCMPT00001</td></tr>\n",
       "\t<tr><th scope=row>2</th><td>M002_0.6</td><td>RNCMPT00002</td></tr>\n",
       "\t<tr><th scope=row>3</th><td>M004_0.6</td><td>RNCMPT00004</td></tr>\n",
       "\t<tr><th scope=row>4</th><td>M012_0.6</td><td>RNCMPT00012</td></tr>\n",
       "\t<tr><th scope=row>5</th><td>M013_0.6</td><td>RNCMPT00013</td></tr>\n",
       "\t<tr><th scope=row>6</th><td>M016_0.6</td><td>RNCMPT00016</td></tr>\n",
       "</tbody>\n",
       "</table>\n"
      ],
      "text/latex": [
       "A data.frame: 6 × 2\n",
       "\\begin{tabular}{r|ll}\n",
       "  & Motif\\_ID & DBID\\\\\n",
       "  & <chr> & <chr>\\\\\n",
       "\\hline\n",
       "\t1 & M001\\_0.6 & RNCMPT00001\\\\\n",
       "\t2 & M002\\_0.6 & RNCMPT00002\\\\\n",
       "\t3 & M004\\_0.6 & RNCMPT00004\\\\\n",
       "\t4 & M012\\_0.6 & RNCMPT00012\\\\\n",
       "\t5 & M013\\_0.6 & RNCMPT00013\\\\\n",
       "\t6 & M016\\_0.6 & RNCMPT00016\\\\\n",
       "\\end{tabular}\n"
      ],
      "text/markdown": [
       "\n",
       "A data.frame: 6 × 2\n",
       "\n",
       "| <!--/--> | Motif_ID &lt;chr&gt; | DBID &lt;chr&gt; |\n",
       "|---|---|---|\n",
       "| 1 | M001_0.6 | RNCMPT00001 |\n",
       "| 2 | M002_0.6 | RNCMPT00002 |\n",
       "| 3 | M004_0.6 | RNCMPT00004 |\n",
       "| 4 | M012_0.6 | RNCMPT00012 |\n",
       "| 5 | M013_0.6 | RNCMPT00013 |\n",
       "| 6 | M016_0.6 | RNCMPT00016 |\n",
       "\n"
      ],
      "text/plain": [
       "  Motif_ID DBID       \n",
       "1 M001_0.6 RNCMPT00001\n",
       "2 M002_0.6 RNCMPT00002\n",
       "3 M004_0.6 RNCMPT00004\n",
       "4 M012_0.6 RNCMPT00012\n",
       "5 M013_0.6 RNCMPT00013\n",
       "6 M016_0.6 RNCMPT00016"
      ]
     },
     "metadata": {},
     "output_type": "display_data"
    }
   ],
   "source": [
    "motif_rbp<-all_motifs %>%\n",
    "            select(Motif_ID,DBID,ENSDBID,RBP_Name) %>%\n",
    "            dplyr::filter(Motif_ID!=\".\") %>%\n",
    "            arrange(Motif_ID) %>%\n",
    "            #mutate(RBP=paste(RBP_Name,ENSDBID,sep=\"__\")) %>%\n",
    "            select(-ENSDBID,-RBP_Name) %>%\n",
    "            distinct()\n",
    "head(motif_rbp)"
   ]
  },
  {
   "cell_type": "code",
   "execution_count": 5,
   "id": "9a3642a2-89ea-4294-8b16-3988024fb2c0",
   "metadata": {},
   "outputs": [],
   "source": [
    "pwms.files <- paste0(pwmsDir,unique(motif_rbp$Motif_ID),\".txt\")\n",
    "pwms.files <- pwms.files[file.size(pwms.files) != 0L]"
   ]
  },
  {
   "cell_type": "code",
   "execution_count": 6,
   "id": "3144b393-4c99-481b-9a78-4821eb82cb75",
   "metadata": {},
   "outputs": [],
   "source": [
    "pwms<- pwms.files %>%\n",
    "        lapply(.,function(fname){\n",
    "            mat<-read.table(fname,header = T) %>%\n",
    "                 mutate(Motif_ID=sub(\"\\\\.txt\",\"\",basename(fname))) \n",
    "            return(mat)\n",
    "        }) %>%\n",
    "        do.call(rbind,.) %>%\n",
    "        group_by(Motif_ID) %>%\n",
    "        tidyr::nest(data = Pos:U) %>%\n",
    "        arrange(Motif_ID)"
   ]
  },
  {
   "cell_type": "code",
   "execution_count": 7,
   "id": "c8e094b7-7111-4b96-b234-e0c815189535",
   "metadata": {},
   "outputs": [
    {
     "data": {
      "text/html": [
       "<style>\n",
       ".list-inline {list-style: none; margin:0; padding: 0}\n",
       ".list-inline>li {display: inline-block}\n",
       ".list-inline>li:not(:last-child)::after {content: \"\\00b7\"; padding: 0 .5ex}\n",
       "</style>\n",
       "<ol class=list-inline><li>175</li><li>2</li></ol>\n"
      ],
      "text/latex": [
       "\\begin{enumerate*}\n",
       "\\item 175\n",
       "\\item 2\n",
       "\\end{enumerate*}\n"
      ],
      "text/markdown": [
       "1. 175\n",
       "2. 2\n",
       "\n",
       "\n"
      ],
      "text/plain": [
       "[1] 175   2"
      ]
     },
     "metadata": {},
     "output_type": "display_data"
    }
   ],
   "source": [
    "dim(pwms)"
   ]
  },
  {
   "cell_type": "code",
   "execution_count": 8,
   "id": "b13b13b2-d644-44af-85f1-33091fdf35c8",
   "metadata": {},
   "outputs": [
    {
     "name": "stderr",
     "output_type": "stream",
     "text": [
      "\u001b[1m\u001b[22mJoining, by = \"Motif_ID\"\n"
     ]
    }
   ],
   "source": [
    "pwms<-inner_join(pwms,motif_rbp) %>%\n",
    "        distinct() "
   ]
  },
  {
   "cell_type": "code",
   "execution_count": 10,
   "id": "2f2b0b21-0593-4107-8713-7f5539349e97",
   "metadata": {},
   "outputs": [
    {
     "name": "stdout",
     "output_type": "stream",
     "text": [
      "[1] \"M001_0.6\"\n",
      "[1] \"M002_0.6\"\n",
      "[1] \"M004_0.6\"\n",
      "[1] \"M012_0.6\"\n",
      "[1] \"M013_0.6\"\n",
      "[1] \"M016_0.6\"\n",
      "[1] \"M017_0.6\"\n",
      "[1] \"M019_0.6\"\n",
      "[1] \"M020_0.6\"\n",
      "[1] \"M021_0.6\"\n",
      "[1] \"M022_0.6\"\n",
      "[1] \"M023_0.6\"\n",
      "[1] \"M024_0.6\"\n",
      "[1] \"M025_0.6\"\n",
      "[1] \"M026_0.6\"\n",
      "[1] \"M027_0.6\"\n",
      "[1] \"M031_0.6\"\n",
      "[1] \"M032_0.6\"\n",
      "[1] \"M033_0.6\"\n",
      "[1] \"M035_0.6\"\n",
      "[1] \"M036_0.6\"\n",
      "[1] \"M037_0.6\"\n",
      "[1] \"M040_0.6\"\n",
      "[1] \"M042_0.6\"\n",
      "[1] \"M043_0.6\"\n",
      "[1] \"M044_0.6\"\n",
      "[1] \"M046_0.6\"\n",
      "[1] \"M047_0.6\"\n",
      "[1] \"M048_0.6\"\n",
      "[1] \"M049_0.6\"\n",
      "[1] \"M050_0.6\"\n",
      "[1] \"M051_0.6\"\n",
      "[1] \"M052_0.6\"\n",
      "[1] \"M053_0.6\"\n",
      "[1] \"M054_0.6\"\n",
      "[1] \"M055_0.6\"\n",
      "[1] \"M056_0.6\"\n",
      "[1] \"M061_0.6\"\n",
      "[1] \"M062_0.6\"\n",
      "[1] \"M065_0.6\"\n",
      "[1] \"M068_0.6\"\n",
      "[1] \"M069_0.6\"\n",
      "[1] \"M070_0.6\"\n",
      "[1] \"M071_0.6\"\n",
      "[1] \"M072_0.6\"\n",
      "[1] \"M073_0.6\"\n",
      "[1] \"M074_0.6\"\n",
      "[1] \"M075_0.6\"\n",
      "[1] \"M077_0.6\"\n",
      "[1] \"M079_0.6\"\n",
      "[1] \"M081_0.6\"\n",
      "[1] \"M082_0.6\"\n",
      "[1] \"M083_0.6\"\n",
      "[1] \"M085_0.6\"\n",
      "[1] \"M086_0.6\"\n",
      "[1] \"M087_0.6\"\n",
      "[1] \"M088_0.6\"\n",
      "[1] \"M089_0.6\"\n",
      "[1] \"M102_0.6\"\n",
      "[1] \"M103_0.6\"\n",
      "[1] \"M104_0.6\"\n",
      "[1] \"M105_0.6\"\n",
      "[1] \"M106_0.6\"\n",
      "[1] \"M108_0.6\"\n",
      "[1] \"M109_0.6\"\n",
      "[1] \"M111_0.6\"\n",
      "[1] \"M112_0.6\"\n",
      "[1] \"M118_0.6\"\n",
      "[1] \"M120_0.6\"\n",
      "[1] \"M121_0.6\"\n",
      "[1] \"M122_0.6\"\n",
      "[1] \"M124_0.6\"\n",
      "[1] \"M126_0.6\"\n",
      "[1] \"M127_0.6\"\n",
      "[1] \"M136_0.6\"\n",
      "[1] \"M140_0.6\"\n",
      "[1] \"M141_0.6\"\n",
      "[1] \"M142_0.6\"\n",
      "[1] \"M143_0.6\"\n",
      "[1] \"M144_0.6\"\n",
      "[1] \"M145_0.6\"\n",
      "[1] \"M146_0.6\"\n",
      "[1] \"M147_0.6\"\n",
      "[1] \"M148_0.6\"\n",
      "[1] \"M149_0.6\"\n",
      "[1] \"M150_0.6\"\n",
      "[1] \"M151_0.6\"\n",
      "[1] \"M152_0.6\"\n",
      "[1] \"M153_0.6\"\n",
      "[1] \"M154_0.6\"\n",
      "[1] \"M155_0.6\"\n",
      "[1] \"M156_0.6\"\n",
      "[1] \"M157_0.6\"\n",
      "[1] \"M158_0.6\"\n",
      "[1] \"M159_0.6\"\n",
      "[1] \"M160_0.6\"\n",
      "[1] \"M161_0.6\"\n",
      "[1] \"M162_0.6\"\n",
      "[1] \"M163_0.6\"\n",
      "[1] \"M164_0.6\"\n",
      "[1] \"M167_0.6\"\n",
      "[1] \"M168_0.6\"\n",
      "[1] \"M169_0.6\"\n",
      "[1] \"M170_0.6\"\n",
      "[1] \"M175_0.6\"\n",
      "[1] \"M176_0.6\"\n",
      "[1] \"M177_0.6\"\n",
      "[1] \"M178_0.6\"\n",
      "[1] \"M188_0.6\"\n",
      "[1] \"M195_0.6\"\n",
      "[1] \"M201_0.6\"\n",
      "[1] \"M205_0.6\"\n",
      "[1] \"M207_0.6\"\n",
      "[1] \"M209_0.6\"\n",
      "[1] \"M210_0.6\"\n",
      "[1] \"M211_0.6\"\n",
      "[1] \"M227_0.6\"\n",
      "[1] \"M228_0.6\"\n",
      "[1] \"M229_0.6\"\n",
      "[1] \"M231_0.6\"\n",
      "[1] \"M232_0.6\"\n",
      "[1] \"M234_0.6\"\n",
      "[1] \"M235_0.6\"\n",
      "[1] \"M236_0.6\"\n",
      "[1] \"M238_0.6\"\n",
      "[1] \"M240_0.6\"\n",
      "[1] \"M242_0.6\"\n",
      "[1] \"M243_0.6\"\n",
      "[1] \"M245_0.6\"\n",
      "[1] \"M246_0.6\"\n",
      "[1] \"M247_0.6\"\n",
      "[1] \"M250_0.6\"\n",
      "[1] \"M254_0.6\"\n",
      "[1] \"M256_0.6\"\n",
      "[1] \"M260_0.6\"\n",
      "[1] \"M261_0.6\"\n",
      "[1] \"M262_0.6\"\n",
      "[1] \"M269_0.6\"\n",
      "[1] \"M271_0.6\"\n",
      "[1] \"M272_0.6\"\n",
      "[1] \"M273_0.6\"\n",
      "[1] \"M274_0.6\"\n",
      "[1] \"M275_0.6\"\n",
      "[1] \"M290_0.6\"\n",
      "[1] \"M291_0.6\"\n",
      "[1] \"M292_0.6\"\n",
      "[1] \"M296_0.6\"\n",
      "[1] \"M297_0.6\"\n",
      "[1] \"M298_0.6\"\n",
      "[1] \"M307_0.6\"\n",
      "[1] \"M316_0.6\"\n",
      "[1] \"M317_0.6\"\n",
      "[1] \"M318_0.6\"\n",
      "[1] \"M319_0.6\"\n",
      "[1] \"M320_0.6\"\n",
      "[1] \"M323_0.6\"\n",
      "[1] \"M325_0.6\"\n",
      "[1] \"M328_0.6\"\n",
      "[1] \"M329_0.6\"\n",
      "[1] \"M330_0.6\"\n",
      "[1] \"M331_0.6\"\n",
      "[1] \"M332_0.6\"\n",
      "[1] \"M333_0.6\"\n",
      "[1] \"M334_0.6\"\n",
      "[1] \"M344_0.6\"\n",
      "[1] \"M345_0.6\"\n",
      "[1] \"M346_0.6\"\n",
      "[1] \"M347_0.6\"\n",
      "[1] \"M348_0.6\"\n",
      "[1] \"M349_0.6\"\n",
      "[1] \"M350_0.6\"\n",
      "[1] \"M351_0.6\"\n",
      "[1] \"M352_0.6\"\n",
      "[1] \"M353_0.6\"\n",
      "[1] \"M354_0.6\"\n"
     ]
    }
   ],
   "source": [
    "fout<-file(cisbpFile,open=\"at\")\n",
    "for(motif in unique(pwms$Motif_ID)){\n",
    "    print(motif)\n",
    "    pwms.motif<-pwms %>% filter(Motif_ID==motif)\n",
    "    pfm<-pwms.motif$data[[1]]\n",
    "    \n",
    "    writeLines(c(paste0(\"Motif\\t\",pwms.motif$Motif_ID),\n",
    "                 paste(colnames(pfm),collapse=\"\\t\"),\n",
    "                 apply(pfm,1,function(row){paste(row,collapse=\"\\t\")}),\n",
    "                 \"\"), \n",
    "               fout)\n",
    "}\n",
    "close(fout)"
   ]
  }
 ],
 "metadata": {
  "kernelspec": {
   "display_name": "R",
   "language": "R",
   "name": "ir"
  },
  "language_info": {
   "codemirror_mode": "r",
   "file_extension": ".r",
   "mimetype": "text/x-r-source",
   "name": "R",
   "pygments_lexer": "r",
   "version": "4.1.2"
  }
 },
 "nbformat": 4,
 "nbformat_minor": 5
}
