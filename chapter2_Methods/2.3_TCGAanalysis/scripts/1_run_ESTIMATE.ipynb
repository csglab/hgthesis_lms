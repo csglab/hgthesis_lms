{
 "cells": [
  {
   "cell_type": "markdown",
   "id": "c72acc9c-934b-4539-9f0b-662650385331",
   "metadata": {},
   "source": [
    "## ESTIMATE"
   ]
  },
  {
   "cell_type": "code",
   "execution_count": 1,
   "id": "919fdfd6-b4f3-4dda-96bf-d4f66d0eb1e3",
   "metadata": {
    "tags": []
   },
   "outputs": [
    {
     "name": "stderr",
     "output_type": "stream",
     "text": [
      "\n",
      "Attaching package: ‘dplyr’\n",
      "\n",
      "\n",
      "The following objects are masked from ‘package:stats’:\n",
      "\n",
      "    filter, lag\n",
      "\n",
      "\n",
      "The following objects are masked from ‘package:base’:\n",
      "\n",
      "    intersect, setdiff, setequal, union\n",
      "\n",
      "\n"
     ]
    }
   ],
   "source": [
    "library(estimate)\n",
    "library(dplyr)"
   ]
  },
  {
   "cell_type": "code",
   "execution_count": 6,
   "id": "31830e80-c536-4a8a-b8de-02420bc1f6c9",
   "metadata": {},
   "outputs": [],
   "source": [
    "cancers<-read.table(\"cancers_valid.tsv\")$V1\n",
    "gmapfile<-\"../references/gencode.v37.primary_assembly.annotation.geneIDmap.tsv\""
   ]
  },
  {
   "cell_type": "code",
   "execution_count": 7,
   "id": "923c567c-cc7b-4ace-82c7-bd469dbad275",
   "metadata": {},
   "outputs": [],
   "source": [
    "geneid_symbols<-read.table(gmapfile,header=T)\n",
    "rownames(geneid_symbols)<-geneid_symbols$GENEID\n",
    "geneid_symbols <- geneid_symbols[geneid_symbols$SYMBOL!=\"\" & !duplicated(geneid_symbols$SYMBOL),]"
   ]
  },
  {
   "cell_type": "code",
   "execution_count": 11,
   "id": "891098e3-d0e2-4eff-ac7c-630b3c35e64e",
   "metadata": {},
   "outputs": [
    {
     "name": "stderr",
     "output_type": "stream",
     "text": [
      "Preparing data for KICH...\n",
      "\n",
      "Running ESTIMATE...\n",
      "\n"
     ]
    },
    {
     "name": "stdout",
     "output_type": "stream",
     "text": [
      "[1] \"1 gene set: StromalSignature  overlap= 136\"\n",
      "[1] \"2 gene set: ImmuneSignature  overlap= 140\"\n"
     ]
    },
    {
     "name": "stderr",
     "output_type": "stream",
     "text": [
      "Done.\n",
      "\n"
     ]
    }
   ],
   "source": [
    "for(cancer in cancers[1]){\n",
    "    \n",
    "    message(\"Preparing data for \",cancer,\"...\")\n",
    "    \n",
    "    expr_file<-paste0(\"../input/gene_counts/\",cancer,\".gene.counts.tsv\")\n",
    "    expr_file_gct<-paste0(\"../output/ESTIMATE/\",cancer,\".gene.counts.gct\")\n",
    "    out_file<-paste0(\"../output/ESTIMATE/\",cancer,\"_purity_illumina.tsv\")\n",
    "\n",
    "\n",
    "    cts<-read.table(expr_file)\n",
    "    rownames(cts)<-sub(\"\\\\.\\\\d+\",\"\",rownames(cts))\n",
    "    \n",
    "    mg<-rownames(cts)[rownames(cts)%in%rownames(geneid_symbols)]\n",
    "    cts_gene_symbols<-geneid_symbols[mg,]\n",
    "    cts<-cts[mg,]\n",
    "    rownames(cts)<-cts_gene_symbols$SYMBOL\n",
    "        \n",
    "    message(\"Running ESTIMATE...\")\n",
    "    outputGCT(cts,expr_file_gct)\n",
    "    estimateScore(expr_file_gct, out_file, platform=\"illumina\")\n",
    "    \n",
    "    message(\"Done.\")\n",
    "}"
   ]
  }
 ],
 "metadata": {
  "kernelspec": {
   "display_name": "R",
   "language": "R",
   "name": "ir"
  },
  "language_info": {
   "codemirror_mode": "r",
   "file_extension": ".r",
   "mimetype": "text/x-r-source",
   "name": "R",
   "pygments_lexer": "r",
   "version": "4.1.2"
  }
 },
 "nbformat": 4,
 "nbformat_minor": 5
}
