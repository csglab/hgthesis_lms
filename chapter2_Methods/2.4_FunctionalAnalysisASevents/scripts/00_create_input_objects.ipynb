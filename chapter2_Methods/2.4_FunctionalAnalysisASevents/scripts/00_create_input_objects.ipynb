{
 "cells": [
  {
   "cell_type": "markdown",
   "id": "9814cea9-9778-4798-9a76-c71d7da76d81",
   "metadata": {},
   "source": [
    "# Load TCGA results into objects"
   ]
  },
  {
   "cell_type": "code",
   "execution_count": 1,
   "id": "df6f5dd4-2205-43f6-8a22-1094b5962c30",
   "metadata": {
    "tags": []
   },
   "outputs": [
    {
     "name": "stderr",
     "output_type": "stream",
     "text": [
      "Loading required package: future\n",
      "\n",
      "\n",
      "Attaching package: ‘dplyr’\n",
      "\n",
      "\n",
      "The following objects are masked from ‘package:data.table’:\n",
      "\n",
      "    between, first, last\n",
      "\n",
      "\n",
      "The following objects are masked from ‘package:stats’:\n",
      "\n",
      "    filter, lag\n",
      "\n",
      "\n",
      "The following objects are masked from ‘package:base’:\n",
      "\n",
      "    intersect, setdiff, setequal, union\n",
      "\n",
      "\n"
     ]
    }
   ],
   "source": [
    "library(data.table)\n",
    "library(furrr)\n",
    "library(dplyr)\n",
    "plan(multisession, workers = 5)"
   ]
  },
  {
   "cell_type": "markdown",
   "id": "a77402b1-7308-408e-bc86-f062a5486418",
   "metadata": {},
   "source": [
    "## Functions"
   ]
  },
  {
   "cell_type": "code",
   "execution_count": 2,
   "id": "12bc65a9-9d3f-4815-b03a-fd544b8234e1",
   "metadata": {},
   "outputs": [],
   "source": [
    "trex_res_file_to_dfr<-function(file,anmode,res_dir,...){\n",
    "    res <- suppressWarnings(fread(file.path(res_dir,file),data.table=FALSE,stringsAsFactors = F,drop=1,nThread = 5))%>%\n",
    "                             mutate(cancer=sub(\"/.*\",\"\",file),\n",
    "                                    analysis=anmode,\n",
    "                                    exp_var=sub(\".*trex_countA\\\\.\",\"\",file) %>% sub(\"\\\\.tsv\",\"\",.)) %>%\n",
    "                             select(-constitutive_transcripts,-alternative_transcripts,-seqname)\n",
    "    \n",
    "    return(res)\n",
    "}"
   ]
  },
  {
   "cell_type": "code",
   "execution_count": 3,
   "id": "ca4851fc-932a-4a24-9501-f0119678e914",
   "metadata": {},
   "outputs": [],
   "source": [
    "get_res_stats<-function(res.obj){\n",
    "\n",
    "    stats<-res.obj %>%\n",
    "                    filter(log2FoldChange!=0) %>% \n",
    "                    group_by(analysis,cancer,event_type,exp_var) %>%\n",
    "                    mutate(significant = padj<0.05) %>%\n",
    "                    summarize(sig_events = sum(significant,na.rm=T),\n",
    "                              sig_genes = length(unique(gene_id[significant])),\n",
    "                              total_events = length(significant)) \n",
    "    return(stats)\n",
    "}"
   ]
  },
  {
   "cell_type": "code",
   "execution_count": 4,
   "id": "baec73f9-dcae-4ff7-bee6-389d80cbb3ef",
   "metadata": {},
   "outputs": [],
   "source": [
    "build_trex_res_objects<-function(amode,rmode,res_dir,...){\n",
    "    \n",
    "    res.files<-list.files(res_dir,pattern = paste0(\"*.\",rmode,\".\",amode,\".trex_countA*\"),recursive = T)\n",
    "    res<-furrr::future_map_dfr(res.files,trex_res_file_to_dfr,anmode=amode,res_dir=res_dir)\n",
    "    \n",
    "    res.stats<-get_res_stats(res)\n",
    "    \n",
    "    message(\"Storing RDS object...\")\n",
    "    saveRDS(res,paste0(out_obj_dir,\"/tcga.\",amode,\".\",rmode,\".RDS\"))\n",
    "    saveRDS(res.stats,paste0(out_obj_dir,\"/tcga.\",amode,\".\",rmode,\".stats.RDS\"))\n",
    "    message(\"Finished!\")\n",
    "    \n",
    "    return(res.stats)\n",
    "}"
   ]
  },
  {
   "cell_type": "code",
   "execution_count": 5,
   "id": "59c95dbc-5fd8-4588-92d1-da493138d96e",
   "metadata": {},
   "outputs": [],
   "source": [
    "deseq_res_file_to_dfr<-function(file,anmode,resmode,res_dir,...){\n",
    "    \n",
    "    res <- suppressWarnings(fread(file.path(res_dir,file),data.table=FALSE,stringsAsFactors = F,drop=1,nThread = 4))%>%\n",
    "                             mutate(cancer=sub(\"/.*\",\"\",file),\n",
    "                                    analysis=anmode,\n",
    "                                    exp_var=sub(paste0(\".*/\",resmode,\".\"),\"\",file) %>% sub(\"\\\\.tsv\",\"\",.)) \n",
    "    ddsfile<-file.path(res_dir,sub(\"/.*\",\"/dds.RData\",file))\n",
    "    load(file = ddsfile)\n",
    "    res$gene_id<-rownames(dds)\n",
    "\n",
    "    return(res)\n",
    "}"
   ]
  },
  {
   "cell_type": "code",
   "execution_count": 6,
   "id": "8689eb34-ace4-4edc-ad40-82fe733e62c9",
   "metadata": {},
   "outputs": [],
   "source": [
    "build_deseq_res_objects<-function(amode,rmode,res_dir,...){\n",
    "    \n",
    "    res.files<-list.files(deseq_dir,pattern = paste0(rmode,\".*.tsv\"),recursive = T) \n",
    "    if(rmode!=\"res.lfcShrink\"){\n",
    "        res.files<-res.files[!grepl(\"res.lfcShrink\",res.files,fixed=T)]\n",
    "    }    \n",
    "    res<-furrr::future_map_dfr(res.files,deseq_res_file_to_dfr,anmode=amode,res_dir=res_dir,resmode=rmode)\n",
    "    \n",
    "    res.stats<-get_deseq_res_stats(res)\n",
    "    \n",
    "    message(\"Storing RDS object...\")\n",
    "    saveRDS(res,paste0(out_obj_dir,\"/tcga.\",amode,\".\",rmode,\".RDS\"))\n",
    "    saveRDS(res.stats,paste0(out_obj_dir,\"/tcga.\",amode,\".\",rmode,\".stats.RDS\"))\n",
    "    message(\"Finished!\")\n",
    "    \n",
    "    return(res.stats)\n",
    "}"
   ]
  },
  {
   "cell_type": "code",
   "execution_count": 7,
   "id": "ae8612d8-a67a-4af1-ad2e-e8ab319a980f",
   "metadata": {},
   "outputs": [],
   "source": [
    "get_deseq_res_stats<-function(res.obj){\n",
    "\n",
    "    stats<-res.obj %>%\n",
    "            filter(log2FoldChange!=0) %>% \n",
    "            group_by(analysis,cancer,exp_var) %>%\n",
    "            mutate(significant = padj<0.05) %>%\n",
    "            summarize(sig_events = sum(significant,na.rm=T),\n",
    "                      sig_genes = length(unique(gene_id[significant])),\n",
    "                      total_events = length(significant)) \n",
    "    return(stats)\n",
    "}"
   ]
  },
  {
   "cell_type": "markdown",
   "id": "ccfcf3ad-ad79-4933-82b5-b8d811d3e8a9",
   "metadata": {
    "tags": []
   },
   "source": [
    "### TRex predicitions splicing"
   ]
  },
  {
   "cell_type": "code",
   "execution_count": 8,
   "id": "0c9dbd06-ad02-4e75-bf96-7e39d72ced59",
   "metadata": {},
   "outputs": [],
   "source": [
    "trex_dir <- \"~/lmprojects/splicing-pancancer/results/trex.logit_ASALL_v2\"\n",
    "out_obj_dir<-\"../input/trex_objects\""
   ]
  },
  {
   "cell_type": "markdown",
   "id": "942c6329-1463-476a-8783-58ecfe54bdb5",
   "metadata": {
    "tags": []
   },
   "source": [
    "### Condition"
   ]
  },
  {
   "cell_type": "code",
   "execution_count": null,
   "id": "8a1bbf80-3aad-4cae-8349-1064f7b7e771",
   "metadata": {
    "tags": []
   },
   "outputs": [],
   "source": [
    "# Condition analysis\n",
    "res.stats<-build_trex_res_objects(amode=\"condition\",rmode = \"res\",res_dir = trex_dir)\n",
    "res.stats.lfc<-build_trex_res_objects(amode=\"condition\",rmode = \"res.lfcShrink\",res_dir = trex_dir)\n",
    "head(res.stats,2)\n",
    "head(res.stats.lfc,2)"
   ]
  },
  {
   "cell_type": "code",
   "execution_count": null,
   "id": "0848c332-8213-4966-8fac-d8d7ec8d9ddd",
   "metadata": {
    "tags": []
   },
   "outputs": [],
   "source": [
    "# Condition.NoCovs analysis\n",
    "res.stats<-build_trex_res_objects(amode=\"condition.NoCovs\",rmode = \"res\",res_dir = trex_dir)\n",
    "res.stats.lfc<-build_trex_res_objects(amode=\"condition.NoCovs\",rmode = \"res.lfcShrink\",res_dir = trex_dir)"
   ]
  },
  {
   "cell_type": "code",
   "execution_count": 9,
   "id": "b99be1b4-1721-4513-b052-54811bfc419b",
   "metadata": {},
   "outputs": [],
   "source": [
    "# Extract only final condition coefficients\n",
    "res.lfc<-readRDS(paste0(out_obj_dir,\"/tcga.condition.res.lfcShrink.RDS\"))\n",
    "cond<-res.lfc %>%\n",
    "      filter(exp_var==\"conditiontumor\")\n",
    "saveRDS(cond,file=paste0(out_obj_dir,\"/tcga.condition.res.lfcShrink.conditiontumor.RDS\"))"
   ]
  },
  {
   "cell_type": "markdown",
   "id": "e44875e3-bf2d-47cc-95f8-7819eef53a6e",
   "metadata": {},
   "source": [
    "### Stage"
   ]
  },
  {
   "cell_type": "code",
   "execution_count": null,
   "id": "e4f3ffb8-9c06-4495-9ab4-57963aab710e",
   "metadata": {
    "tags": []
   },
   "outputs": [],
   "source": [
    "# Stage analysis\n",
    "res.stats<-build_trex_res_objects(amode=\"tumorStageContinuous\",rmode = \"res\",res_dir = trex_dir)\n",
    "res.stats.lfc<-build_trex_res_objects(amode=\"tumorStageContinuous\",rmode = \"res.lfcShrink\",res_dir = trex_dir)\n",
    "print(unique(res.stats.lfc$cancer))"
   ]
  },
  {
   "cell_type": "code",
   "execution_count": 10,
   "id": "2d21fa2d-bb6b-49fb-9921-b311c5e0aa44",
   "metadata": {},
   "outputs": [],
   "source": [
    "# Extract final stage coeficient only\n",
    "res.lfc<-readRDS(paste0(out_obj_dir,\"/tcga.tumorStageContinuous.res.lfcShrink.RDS\"))\n",
    "stage<-res.lfc %>%\n",
    "      filter(exp_var==\"stage\")\n",
    "saveRDS(stage,file=paste0(out_obj_dir,\"/tcga.tumorStageContinuous.res.lfcShrink.stage.RDS\"))"
   ]
  },
  {
   "cell_type": "markdown",
   "id": "935cad5f-10aa-4b0a-834d-2e34c08ef47c",
   "metadata": {
    "tags": []
   },
   "source": [
    "### DESeq2 predictions DGE"
   ]
  },
  {
   "cell_type": "code",
   "execution_count": null,
   "id": "30a2d29b-a4ba-4499-85ad-8cbee4cef73a",
   "metadata": {},
   "outputs": [],
   "source": [
    "deseq_dir <- \"../output/deseq2_dge_objects\""
   ]
  },
  {
   "cell_type": "code",
   "execution_count": null,
   "id": "94b1114e-6962-4614-8885-b92744b66452",
   "metadata": {
    "tags": []
   },
   "outputs": [],
   "source": [
    "# Condition analysis\n",
    "res.stats<-build_deseq_res_objects(amode=\"condition.gex\",rmode = \"res\",res_dir = deseq_dir)\n",
    "res.stats.lfc<-build_deseq_res_objects(amode=\"condition.gex\",rmode = \"res.lfcShrink\",res_dir = deseq_dir)\n",
    "tail(res.stats,2)\n",
    "head(res.stats.lfc,2)"
   ]
  }
 ],
 "metadata": {
  "kernelspec": {
   "display_name": "R",
   "language": "R",
   "name": "ir"
  },
  "language_info": {
   "codemirror_mode": "r",
   "file_extension": ".r",
   "mimetype": "text/x-r-source",
   "name": "R",
   "pygments_lexer": "r",
   "version": "4.1.2"
  }
 },
 "nbformat": 4,
 "nbformat_minor": 5
}
