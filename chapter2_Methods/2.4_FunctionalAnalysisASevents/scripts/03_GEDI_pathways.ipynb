{
 "cells": [
  {
   "cell_type": "markdown",
   "id": "f8b71d3a-d25d-4793-bd1a-bd70a028c094",
   "metadata": {},
   "source": [
    "# Pathway activity analysis with GEDI"
   ]
  },
  {
   "cell_type": "code",
   "execution_count": 1,
   "id": "f30a8829-362d-485d-99c7-864a2b9365fa",
   "metadata": {
    "collapsed": true,
    "jupyter": {
     "outputs_hidden": true
    },
    "tags": []
   },
   "outputs": [
    {
     "name": "stderr",
     "output_type": "stream",
     "text": [
      "Loading required package: ggplot2\n",
      "\n",
      "\n",
      "Attaching package: ‘cowplot’\n",
      "\n",
      "\n",
      "The following object is masked from ‘package:ggpubr’:\n",
      "\n",
      "    get_legend\n",
      "\n",
      "\n",
      "Loading required package: SingleCellExperiment\n",
      "\n",
      "Loading required package: SummarizedExperiment\n",
      "\n",
      "Loading required package: MatrixGenerics\n",
      "\n",
      "Loading required package: matrixStats\n",
      "\n",
      "\n",
      "Attaching package: ‘MatrixGenerics’\n",
      "\n",
      "\n",
      "The following objects are masked from ‘package:matrixStats’:\n",
      "\n",
      "    colAlls, colAnyNAs, colAnys, colAvgsPerRowSet, colCollapse,\n",
      "    colCounts, colCummaxs, colCummins, colCumprods, colCumsums,\n",
      "    colDiffs, colIQRDiffs, colIQRs, colLogSumExps, colMadDiffs,\n",
      "    colMads, colMaxs, colMeans2, colMedians, colMins, colOrderStats,\n",
      "    colProds, colQuantiles, colRanges, colRanks, colSdDiffs, colSds,\n",
      "    colSums2, colTabulates, colVarDiffs, colVars, colWeightedMads,\n",
      "    colWeightedMeans, colWeightedMedians, colWeightedSds,\n",
      "    colWeightedVars, rowAlls, rowAnyNAs, rowAnys, rowAvgsPerColSet,\n",
      "    rowCollapse, rowCounts, rowCummaxs, rowCummins, rowCumprods,\n",
      "    rowCumsums, rowDiffs, rowIQRDiffs, rowIQRs, rowLogSumExps,\n",
      "    rowMadDiffs, rowMads, rowMaxs, rowMeans2, rowMedians, rowMins,\n",
      "    rowOrderStats, rowProds, rowQuantiles, rowRanges, rowRanks,\n",
      "    rowSdDiffs, rowSds, rowSums2, rowTabulates, rowVarDiffs, rowVars,\n",
      "    rowWeightedMads, rowWeightedMeans, rowWeightedMedians,\n",
      "    rowWeightedSds, rowWeightedVars\n",
      "\n",
      "\n",
      "Loading required package: GenomicRanges\n",
      "\n",
      "Loading required package: stats4\n",
      "\n",
      "Loading required package: BiocGenerics\n",
      "\n",
      "\n",
      "Attaching package: ‘BiocGenerics’\n",
      "\n",
      "\n",
      "The following objects are masked from ‘package:stats’:\n",
      "\n",
      "    IQR, mad, sd, var, xtabs\n",
      "\n",
      "\n",
      "The following objects are masked from ‘package:base’:\n",
      "\n",
      "    anyDuplicated, append, as.data.frame, basename, cbind, colnames,\n",
      "    dirname, do.call, duplicated, eval, evalq, Filter, Find, get, grep,\n",
      "    grepl, intersect, is.unsorted, lapply, Map, mapply, match, mget,\n",
      "    order, paste, pmax, pmax.int, pmin, pmin.int, Position, rank,\n",
      "    rbind, Reduce, rownames, sapply, setdiff, sort, table, tapply,\n",
      "    union, unique, unsplit, which.max, which.min\n",
      "\n",
      "\n",
      "Loading required package: S4Vectors\n",
      "\n",
      "\n",
      "Attaching package: ‘S4Vectors’\n",
      "\n",
      "\n",
      "The following objects are masked from ‘package:base’:\n",
      "\n",
      "    expand.grid, I, unname\n",
      "\n",
      "\n",
      "Loading required package: IRanges\n",
      "\n",
      "Loading required package: GenomeInfoDb\n",
      "\n",
      "Loading required package: Biobase\n",
      "\n",
      "Welcome to Bioconductor\n",
      "\n",
      "    Vignettes contain introductory material; view with\n",
      "    'browseVignettes()'. To cite Bioconductor, see\n",
      "    'citation(\"Biobase\")', and for packages 'citation(\"pkgname\")'.\n",
      "\n",
      "\n",
      "\n",
      "Attaching package: ‘Biobase’\n",
      "\n",
      "\n",
      "The following object is masked from ‘package:MatrixGenerics’:\n",
      "\n",
      "    rowMedians\n",
      "\n",
      "\n",
      "The following objects are masked from ‘package:matrixStats’:\n",
      "\n",
      "    anyMissing, rowMedians\n",
      "\n",
      "\n",
      "Loading required package: Matrix\n",
      "\n",
      "\n",
      "Attaching package: ‘Matrix’\n",
      "\n",
      "\n",
      "The following object is masked from ‘package:S4Vectors’:\n",
      "\n",
      "    expand\n",
      "\n",
      "\n",
      "Loading required package: DelayedArray\n",
      "\n",
      "\n",
      "Attaching package: ‘DelayedArray’\n",
      "\n",
      "\n",
      "The following objects are masked from ‘package:base’:\n",
      "\n",
      "    aperm, apply, rowsum, scale, sweep\n",
      "\n",
      "\n",
      "Loading required package: rhdf5\n",
      "\n",
      "\n",
      "Attaching package: ‘HDF5Array’\n",
      "\n",
      "\n",
      "The following object is masked from ‘package:rhdf5’:\n",
      "\n",
      "    h5ls\n",
      "\n",
      "\n"
     ]
    }
   ],
   "source": [
    "library(ggpubr)\n",
    "library(cowplot)\n",
    "library(pheatmap)\n",
    "library(scuttle)\n",
    "library(scran)\n",
    "library(scater)\n",
    "library(uwot)\n",
    "library(SingleCellExperiment)\n",
    "library(ggplot2)\n",
    "library(HDF5Array)\n",
    "library(GEDI)\n",
    "set.seed(43)"
   ]
  },
  {
   "cell_type": "code",
   "execution_count": 2,
   "id": "d222094d-4213-4f10-8f55-628d9c294a03",
   "metadata": {},
   "outputs": [],
   "source": [
    "pheatmap.colorsymmetric <- function(x,lim=NULL,...)\n",
    "{\n",
    "    require(pheatmap)\n",
    "    if(is.null(lim)){\n",
    "        lim <- max(abs(x), na.rm=TRUE)\n",
    "        if( min(x, na.rm=TRUE) < 0 ){\n",
    "            lim_down<- -lim\n",
    "            col_palette<- colorRampPalette(c(\"blue\",\"white\",\"red\"))(256)\n",
    "        }else{        \n",
    "            lim_down<- 0\n",
    "            col_palette<- colorRampPalette(c(\"white\",\"red\"))(256)\n",
    "        }\n",
    "    }else{\n",
    "        lim <- 1\n",
    "        lim_down<- -1\n",
    "        col_palette<- colorRampPalette(c(\"blue\",\"white\",\"red\"))(256)        \n",
    "    }\n",
    "    pheatmap(\n",
    "        x, color = col_palette,\n",
    "        breaks=seq(lim_down,lim,length.out=255), ... )\n",
    "}"
   ]
  },
  {
   "cell_type": "markdown",
   "id": "0bf4642d-e6f8-45de-a90b-936222f374cb",
   "metadata": {},
   "source": [
    "## Load data"
   ]
  },
  {
   "cell_type": "code",
   "execution_count": 3,
   "id": "4075db86-0cec-4a4f-91b7-e363b88062ad",
   "metadata": {},
   "outputs": [],
   "source": [
    "dir_data <- \"~/projects/rrg-hsn/lmoral7/splicing-pancancer/data/singlecell_ccRCC/\"\n",
    "dir_gedi_results <- paste0(dir_data,\"gedi_models/\")"
   ]
  },
  {
   "cell_type": "code",
   "execution_count": 4,
   "id": "b848e2f9-9e12-4fba-829a-f6020ae6cda1",
   "metadata": {},
   "outputs": [],
   "source": [
    "meta <-readRDS(paste0(dir_data, \"meta_ccRCC_primary_tumors.rds\"))\n",
    "\n",
    "umap_res <- readRDS(paste0(dir_data, \"umap_res_ccRCC_primary_tumors.rds\") ) %>% as.data.frame()\n",
    "colnames(umap_res)<-c(\"UMAP1\",\"UMAP2\")\n",
    "\n",
    "sce <- loadHDF5SummarizedExperiment(paste0(dir_data, \"my_h5_se/\"))\n",
    "sce <- sce[, rownames(meta)]"
   ]
  },
  {
   "cell_type": "markdown",
   "id": "5816ef39-7a45-47c8-85d8-e139466f3555",
   "metadata": {
    "tags": []
   },
   "source": [
    "## Run GEDI"
   ]
  },
  {
   "cell_type": "code",
   "execution_count": 5,
   "id": "1d937d61-193f-4cb4-b9d1-e2d9825c9c27",
   "metadata": {},
   "outputs": [
    {
     "data": {
      "text/html": [
       "<style>\n",
       ".list-inline {list-style: none; margin:0; padding: 0}\n",
       ".list-inline>li {display: inline-block}\n",
       ".list-inline>li:not(:last-child)::after {content: \"\\00b7\"; padding: 0 .5ex}\n",
       "</style>\n",
       "<ol class=list-inline><li>1044</li><li>7</li></ol>\n"
      ],
      "text/latex": [
       "\\begin{enumerate*}\n",
       "\\item 1044\n",
       "\\item 7\n",
       "\\end{enumerate*}\n"
      ],
      "text/markdown": [
       "1. 1044\n",
       "2. 7\n",
       "\n",
       "\n"
      ],
      "text/plain": [
       "[1] 1044    7"
      ]
     },
     "metadata": {},
     "output_type": "display_data"
    }
   ],
   "source": [
    "C <- readRDS(\"figures_v3_objects/KIRC.gora_res.C_matrix.RDS\")\n",
    "dim(C)"
   ]
  },
  {
   "cell_type": "markdown",
   "id": "53240a22-4eb8-4176-939a-dcf06769f739",
   "metadata": {},
   "source": [
    "#### Preprocess data"
   ]
  },
  {
   "cell_type": "code",
   "execution_count": 6,
   "id": "4ec2a2ce-68b0-4564-a661-a4b07bd1917b",
   "metadata": {},
   "outputs": [],
   "source": [
    "sum_genes<- rowSums(assay(sce, \"counts\")>5)\n",
    "genes_use<- sum_genes>3\n",
    "genes_use<- names(which(genes_use))\n",
    "sce<- sce[genes_use,]"
   ]
  },
  {
   "cell_type": "code",
   "execution_count": 7,
   "id": "f8686319-e5aa-4e48-a863-0b1d0e5cc355",
   "metadata": {},
   "outputs": [],
   "source": [
    "# Accesing the raw counts in the SCE object and convert to a sparse Matrix format\n",
    "raw_counts<- as(as.matrix(assay(sce, \"counts\")), \"dgCMatrix\")\n",
    "commongenes<- intersect(rownames(C), rownames(raw_counts) )\n",
    "C<- C[commongenes,]\n",
    "raw_counts<- raw_counts[commongenes,]"
   ]
  },
  {
   "cell_type": "code",
   "execution_count": 8,
   "id": "a8fcbad4-6cc3-49a3-bcff-e9dec4243f55",
   "metadata": {},
   "outputs": [
    {
     "data": {
      "text/html": [
       "<style>\n",
       ".list-inline {list-style: none; margin:0; padding: 0}\n",
       ".list-inline>li {display: inline-block}\n",
       ".list-inline>li:not(:last-child)::after {content: \"\\00b7\"; padding: 0 .5ex}\n",
       "</style>\n",
       "<ol class=list-inline><li>864</li><li>7</li></ol>\n"
      ],
      "text/latex": [
       "\\begin{enumerate*}\n",
       "\\item 864\n",
       "\\item 7\n",
       "\\end{enumerate*}\n"
      ],
      "text/markdown": [
       "1. 864\n",
       "2. 7\n",
       "\n",
       "\n"
      ],
      "text/plain": [
       "[1] 864   7"
      ]
     },
     "metadata": {},
     "output_type": "display_data"
    }
   ],
   "source": [
    "QR <- qr(crossprod(C))\n",
    "C <- C[ , QR$pivot[seq_len(QR$rank)] ] # remove any columns that results in singularity\n",
    "dim(C) "
   ]
  },
  {
   "cell_type": "markdown",
   "id": "f657f2f2-d278-41c2-8ad1-92fe2f50b662",
   "metadata": {},
   "source": [
    "#### Setup GEDI model"
   ]
  },
  {
   "cell_type": "code",
   "execution_count": 10,
   "id": "9da0ebc0-a5a9-4935-b934-477ad852a683",
   "metadata": {},
   "outputs": [
    {
     "name": "stderr",
     "output_type": "stream",
     "text": [
      "Setting up the GEDI model...\n",
      "\n"
     ]
    }
   ],
   "source": [
    "## Set up GEDI model\n",
    "model <- new(\"GEDI\") # Initialize GEDI object\n",
    "model$setup(Samples = sce$Sample, # Vector indicating which sample belongs to each cell\n",
    "            colData = meta, # Metadata (optional)\n",
    "            M = raw_counts, # Expression data\n",
    "            C = C, # Gene level prior information\n",
    "            K = 10, # Number of latent variables to use\n",
    "            mode = \"Bsphere\", # Modes to use: Either Bsphere (hyperellipsoid) or Bl2 (hyperplane)\n",
    "            oi_shrinkage = 1)"
   ]
  },
  {
   "cell_type": "markdown",
   "id": "14792074-9caa-4610-a696-037917a5497a",
   "metadata": {},
   "source": [
    "#### Fit model"
   ]
  },
  {
   "cell_type": "code",
   "execution_count": 11,
   "id": "84f5867f-c6a1-4bfa-9a48-40d6b8926c19",
   "metadata": {
    "collapsed": true,
    "jupyter": {
     "outputs_hidden": true
    },
    "tags": []
   },
   "outputs": [
    {
     "name": "stderr",
     "output_type": "stream",
     "text": [
      "Initializing LVs...\n",
      "\n",
      "  Initializing oi...\n",
      "\n",
      "  Performing initial decompsition of Y...\n",
      "\n",
      "Performing block coordinate descent optimization...\n",
      "\n",
      "  Iteration 1/200 (total 1)...\n",
      "\n"
     ]
    },
    {
     "name": "stdout",
     "output_type": "stream",
     "text": [
      "3.180321 \n",
      "1 \n",
      "Mean(o): -1.0058 ; Var(o): 0.4499327 ; Var(si): 0.02525808 \n"
     ]
    },
    {
     "name": "stderr",
     "output_type": "stream",
     "text": [
      "  Iteration 2/200 (total 2)...\n",
      "\n"
     ]
    },
    {
     "name": "stdout",
     "output_type": "stream",
     "text": [
      "2.297633 \n",
      "1 \n",
      "Mean(o): -0.986554 ; Var(o): 0.4374536 ; Var(si): 0.1101891 \n"
     ]
    },
    {
     "name": "stderr",
     "output_type": "stream",
     "text": [
      "  Iteration 3/200 (total 3)...\n",
      "\n"
     ]
    },
    {
     "name": "stdout",
     "output_type": "stream",
     "text": [
      "1.890514 \n",
      "1 \n",
      "Mean(o): -0.9819278 ; Var(o): 0.42582 ; Var(si): 0.1686058 \n"
     ]
    },
    {
     "name": "stderr",
     "output_type": "stream",
     "text": [
      "  Iteration 4/200 (total 4)...\n",
      "\n"
     ]
    },
    {
     "name": "stdout",
     "output_type": "stream",
     "text": [
      "1.686311 \n",
      "1 \n",
      "Mean(o): -0.9793953 ; Var(o): 0.4256362 ; Var(si): 0.1689957 \n"
     ]
    },
    {
     "name": "stderr",
     "output_type": "stream",
     "text": [
      "  Iteration 5/200 (total 5)...\n",
      "\n"
     ]
    },
    {
     "name": "stdout",
     "output_type": "stream",
     "text": [
      "1.563452 \n",
      "1 \n",
      "Mean(o): -0.9776673 ; Var(o): 0.4445099 ; Var(si): 0.13986 \n"
     ]
    },
    {
     "name": "stderr",
     "output_type": "stream",
     "text": [
      "  Iteration 6/200 (total 6)...\n",
      "\n"
     ]
    },
    {
     "name": "stdout",
     "output_type": "stream",
     "text": [
      "1.47546 \n",
      "1 \n",
      "Mean(o): -0.976661 ; Var(o): 0.4817036 ; Var(si): 0.1121991 \n"
     ]
    },
    {
     "name": "stderr",
     "output_type": "stream",
     "text": [
      "  Iteration 7/200 (total 7)...\n",
      "\n"
     ]
    },
    {
     "name": "stdout",
     "output_type": "stream",
     "text": [
      "1.404027 \n",
      "1 \n",
      "Mean(o): -0.9767048 ; Var(o): 0.5330116 ; Var(si): 0.0996283 \n"
     ]
    },
    {
     "name": "stderr",
     "output_type": "stream",
     "text": [
      "  Iteration 8/200 (total 8)...\n",
      "\n"
     ]
    },
    {
     "name": "stdout",
     "output_type": "stream",
     "text": [
      "1.34121 \n",
      "1 \n",
      "Mean(o): -0.9780325 ; Var(o): 0.593453 ; Var(si): 0.1035336 \n"
     ]
    },
    {
     "name": "stderr",
     "output_type": "stream",
     "text": [
      "  Iteration 9/200 (total 9)...\n",
      "\n"
     ]
    },
    {
     "name": "stdout",
     "output_type": "stream",
     "text": [
      "1.284524 \n",
      "1 \n",
      "Mean(o): -0.9803109 ; Var(o): 0.6581851 ; Var(si): 0.1199837 \n"
     ]
    },
    {
     "name": "stderr",
     "output_type": "stream",
     "text": [
      "  Iteration 10/200 (total 10)...\n",
      "\n"
     ]
    },
    {
     "name": "stdout",
     "output_type": "stream",
     "text": [
      "1.234294 \n",
      "1 \n",
      "Mean(o): -0.9829419 ; Var(o): 0.7231133 ; Var(si): 0.1431951 \n"
     ]
    },
    {
     "name": "stderr",
     "output_type": "stream",
     "text": [
      "  Iteration 11/200 (total 11)...\n",
      "\n"
     ]
    },
    {
     "name": "stdout",
     "output_type": "stream",
     "text": [
      "1.191567 \n",
      "1 \n",
      "Mean(o): -0.985557 ; Var(o): 0.785345 ; Var(si): 0.1677761 \n"
     ]
    },
    {
     "name": "stderr",
     "output_type": "stream",
     "text": [
      "  Iteration 12/200 (total 12)...\n",
      "\n"
     ]
    },
    {
     "name": "stdout",
     "output_type": "stream",
     "text": [
      "1.156591 \n",
      "1 \n",
      "Mean(o): -0.9880393 ; Var(o): 0.8433484 ; Var(si): 0.1900197 \n"
     ]
    },
    {
     "name": "stderr",
     "output_type": "stream",
     "text": [
      "  Iteration 13/200 (total 13)...\n",
      "\n"
     ]
    },
    {
     "name": "stdout",
     "output_type": "stream",
     "text": [
      "1.128483 \n",
      "1 \n",
      "Mean(o): -0.990386 ; Var(o): 0.8967188 ; Var(si): 0.2083248 \n"
     ]
    },
    {
     "name": "stderr",
     "output_type": "stream",
     "text": [
      "  Iteration 14/200 (total 14)...\n",
      "\n"
     ]
    },
    {
     "name": "stdout",
     "output_type": "stream",
     "text": [
      "1.105816 \n",
      "1 \n",
      "Mean(o): -0.9926249 ; Var(o): 0.9455949 ; Var(si): 0.2226194 \n"
     ]
    },
    {
     "name": "stderr",
     "output_type": "stream",
     "text": [
      "  Iteration 15/200 (total 15)...\n",
      "\n"
     ]
    },
    {
     "name": "stdout",
     "output_type": "stream",
     "text": [
      "1.087292 \n",
      "1 \n",
      "Mean(o): -0.9947846 ; Var(o): 0.990145 ; Var(si): 0.2335201 \n"
     ]
    },
    {
     "name": "stderr",
     "output_type": "stream",
     "text": [
      "  Iteration 16/200 (total 16)...\n",
      "\n"
     ]
    },
    {
     "name": "stdout",
     "output_type": "stream",
     "text": [
      "1.07199 \n",
      "1 \n",
      "Mean(o): -0.9968868 ; Var(o): 1.030445 ; Var(si): 0.2417846 \n"
     ]
    },
    {
     "name": "stderr",
     "output_type": "stream",
     "text": [
      "  Iteration 17/200 (total 17)...\n",
      "\n"
     ]
    },
    {
     "name": "stdout",
     "output_type": "stream",
     "text": [
      "1.059298 \n",
      "1 \n",
      "Mean(o): -0.9989474 ; Var(o): 1.066593 ; Var(si): 0.2480774 \n"
     ]
    },
    {
     "name": "stderr",
     "output_type": "stream",
     "text": [
      "  Iteration 18/200 (total 18)...\n",
      "\n"
     ]
    },
    {
     "name": "stdout",
     "output_type": "stream",
     "text": [
      "1.048774 \n",
      "1 \n",
      "Mean(o): -1.000977 ; Var(o): 1.098801 ; Var(si): 0.2529183 \n"
     ]
    },
    {
     "name": "stderr",
     "output_type": "stream",
     "text": [
      "  Iteration 19/200 (total 19)...\n",
      "\n"
     ]
    },
    {
     "name": "stdout",
     "output_type": "stream",
     "text": [
      "1.040068 \n",
      "1 \n",
      "Mean(o): -1.002985 ; Var(o): 1.127409 ; Var(si): 0.2566947 \n"
     ]
    },
    {
     "name": "stderr",
     "output_type": "stream",
     "text": [
      "  Iteration 20/200 (total 20)...\n",
      "\n"
     ]
    },
    {
     "name": "stdout",
     "output_type": "stream",
     "text": [
      "1.032882 \n",
      "1 \n",
      "Mean(o): -1.004975 ; Var(o): 1.152827 ; Var(si): 0.2596874 \n"
     ]
    },
    {
     "name": "stderr",
     "output_type": "stream",
     "text": [
      "  Iteration 21/200 (total 21)...\n",
      "\n"
     ]
    },
    {
     "name": "stdout",
     "output_type": "stream",
     "text": [
      "1.026966 \n",
      "1 \n",
      "Mean(o): -1.006952 ; Var(o): 1.175481 ; Var(si): 0.2620969 \n"
     ]
    },
    {
     "name": "stderr",
     "output_type": "stream",
     "text": [
      "  Iteration 22/200 (total 22)...\n",
      "\n"
     ]
    },
    {
     "name": "stdout",
     "output_type": "stream",
     "text": [
      "1.022105 \n",
      "1 \n",
      "Mean(o): -1.008919 ; Var(o): 1.195766 ; Var(si): 0.2640646 \n"
     ]
    },
    {
     "name": "stderr",
     "output_type": "stream",
     "text": [
      "  Iteration 23/200 (total 23)...\n",
      "\n"
     ]
    },
    {
     "name": "stdout",
     "output_type": "stream",
     "text": [
      "1.018125 \n",
      "1 \n",
      "Mean(o): -1.010878 ; Var(o): 1.214021 ; Var(si): 0.2656903 \n"
     ]
    },
    {
     "name": "stderr",
     "output_type": "stream",
     "text": [
      "  Iteration 24/200 (total 24)...\n",
      "\n"
     ]
    },
    {
     "name": "stdout",
     "output_type": "stream",
     "text": [
      "1.014879 \n",
      "1 \n",
      "Mean(o): -1.01283 ; Var(o): 1.230532 ; Var(si): 0.2670446 \n"
     ]
    },
    {
     "name": "stderr",
     "output_type": "stream",
     "text": [
      "  Iteration 25/200 (total 25)...\n",
      "\n"
     ]
    },
    {
     "name": "stdout",
     "output_type": "stream",
     "text": [
      "1.012247 \n",
      "1 \n",
      "Mean(o): -1.014778 ; Var(o): 1.245532 ; Var(si): 0.2681778 \n"
     ]
    },
    {
     "name": "stderr",
     "output_type": "stream",
     "text": [
      "  Iteration 26/200 (total 26)...\n",
      "\n"
     ]
    },
    {
     "name": "stdout",
     "output_type": "stream",
     "text": [
      "1.01013 \n",
      "1 \n",
      "Mean(o): -1.016721 ; Var(o): 1.259214 ; Var(si): 0.2691259 \n"
     ]
    },
    {
     "name": "stderr",
     "output_type": "stream",
     "text": [
      "  Iteration 27/200 (total 27)...\n",
      "\n"
     ]
    },
    {
     "name": "stdout",
     "output_type": "stream",
     "text": [
      "1.008444 \n",
      "1 \n",
      "Mean(o): -1.018661 ; Var(o): 1.27174 ; Var(si): 0.2699153 \n"
     ]
    },
    {
     "name": "stderr",
     "output_type": "stream",
     "text": [
      "  Iteration 28/200 (total 28)...\n",
      "\n"
     ]
    },
    {
     "name": "stdout",
     "output_type": "stream",
     "text": [
      "1.00712 \n",
      "1 \n",
      "Mean(o): -1.020598 ; Var(o): 1.283245 ; Var(si): 0.2705654 \n"
     ]
    },
    {
     "name": "stderr",
     "output_type": "stream",
     "text": [
      "  Iteration 29/200 (total 29)...\n",
      "\n"
     ]
    },
    {
     "name": "stdout",
     "output_type": "stream",
     "text": [
      "1.006099 \n",
      "1 \n",
      "Mean(o): -1.022534 ; Var(o): 1.293846 ; Var(si): 0.2710913 \n"
     ]
    },
    {
     "name": "stderr",
     "output_type": "stream",
     "text": [
      "  Iteration 30/200 (total 30)...\n",
      "\n"
     ]
    },
    {
     "name": "stdout",
     "output_type": "stream",
     "text": [
      "1.00533 \n",
      "1 \n",
      "Mean(o): -1.024467 ; Var(o): 1.303645 ; Var(si): 0.2715044 \n"
     ]
    },
    {
     "name": "stderr",
     "output_type": "stream",
     "text": [
      "  Iteration 31/200 (total 31)...\n",
      "\n"
     ]
    },
    {
     "name": "stdout",
     "output_type": "stream",
     "text": [
      "1.004771 \n",
      "1 \n",
      "Mean(o): -1.0264 ; Var(o): 1.312729 ; Var(si): 0.2718139 \n"
     ]
    },
    {
     "name": "stderr",
     "output_type": "stream",
     "text": [
      "  Iteration 32/200 (total 32)...\n",
      "\n"
     ]
    },
    {
     "name": "stdout",
     "output_type": "stream",
     "text": [
      "1.004387 \n",
      "1 \n",
      "Mean(o): -1.028332 ; Var(o): 1.321176 ; Var(si): 0.2720278 \n"
     ]
    },
    {
     "name": "stderr",
     "output_type": "stream",
     "text": [
      "  Iteration 33/200 (total 33)...\n",
      "\n"
     ]
    },
    {
     "name": "stdout",
     "output_type": "stream",
     "text": [
      "1.004148 \n",
      "1 \n",
      "Mean(o): -1.030264 ; Var(o): 1.329052 ; Var(si): 0.2721524 \n"
     ]
    },
    {
     "name": "stderr",
     "output_type": "stream",
     "text": [
      "  Iteration 34/200 (total 34)...\n",
      "\n"
     ]
    },
    {
     "name": "stdout",
     "output_type": "stream",
     "text": [
      "1.004027 \n",
      "1 \n",
      "Mean(o): -1.032195 ; Var(o): 1.336417 ; Var(si): 0.2721936 \n"
     ]
    },
    {
     "name": "stderr",
     "output_type": "stream",
     "text": [
      "  Iteration 35/200 (total 35)...\n",
      "\n"
     ]
    },
    {
     "name": "stdout",
     "output_type": "stream",
     "text": [
      "1.004004 \n",
      "1 \n",
      "Mean(o): -1.034127 ; Var(o): 1.343322 ; Var(si): 0.2721567 \n"
     ]
    },
    {
     "name": "stderr",
     "output_type": "stream",
     "text": [
      "  Iteration 36/200 (total 36)...\n",
      "\n"
     ]
    },
    {
     "name": "stdout",
     "output_type": "stream",
     "text": [
      "1.00406 \n",
      "1 \n",
      "Mean(o): -1.036059 ; Var(o): 1.349814 ; Var(si): 0.2720463 \n"
     ]
    },
    {
     "name": "stderr",
     "output_type": "stream",
     "text": [
      "  Iteration 37/200 (total 37)...\n",
      "\n"
     ]
    },
    {
     "name": "stdout",
     "output_type": "stream",
     "text": [
      "1.00418 \n",
      "1 \n",
      "Mean(o): -1.037992 ; Var(o): 1.355932 ; Var(si): 0.271867 \n"
     ]
    },
    {
     "name": "stderr",
     "output_type": "stream",
     "text": [
      "  Iteration 38/200 (total 38)...\n",
      "\n"
     ]
    },
    {
     "name": "stdout",
     "output_type": "stream",
     "text": [
      "1.00435 \n",
      "1 \n",
      "Mean(o): -1.039926 ; Var(o): 1.361713 ; Var(si): 0.2716227 \n"
     ]
    },
    {
     "name": "stderr",
     "output_type": "stream",
     "text": [
      "  Iteration 39/200 (total 39)...\n",
      "\n"
     ]
    },
    {
     "name": "stdout",
     "output_type": "stream",
     "text": [
      "1.004561 \n",
      "1 \n",
      "Mean(o): -1.041861 ; Var(o): 1.367187 ; Var(si): 0.271317 \n"
     ]
    },
    {
     "name": "stderr",
     "output_type": "stream",
     "text": [
      "  Iteration 40/200 (total 40)...\n",
      "\n"
     ]
    },
    {
     "name": "stdout",
     "output_type": "stream",
     "text": [
      "1.004802 \n",
      "1 \n",
      "Mean(o): -1.043797 ; Var(o): 1.372382 ; Var(si): 0.2709535 \n"
     ]
    },
    {
     "name": "stderr",
     "output_type": "stream",
     "text": [
      "  Iteration 41/200 (total 41)...\n",
      "\n"
     ]
    },
    {
     "name": "stdout",
     "output_type": "stream",
     "text": [
      "1.005067 \n",
      "1 \n",
      "Mean(o): -1.045735 ; Var(o): 1.377323 ; Var(si): 0.270535 \n"
     ]
    },
    {
     "name": "stderr",
     "output_type": "stream",
     "text": [
      "  Iteration 42/200 (total 42)...\n",
      "\n"
     ]
    },
    {
     "name": "stdout",
     "output_type": "stream",
     "text": [
      "1.005349 \n",
      "1 \n",
      "Mean(o): -1.047675 ; Var(o): 1.382031 ; Var(si): 0.2700645 \n"
     ]
    },
    {
     "name": "stderr",
     "output_type": "stream",
     "text": [
      "  Iteration 43/200 (total 43)...\n",
      "\n"
     ]
    },
    {
     "name": "stdout",
     "output_type": "stream",
     "text": [
      "1.005644 \n",
      "1 \n",
      "Mean(o): -1.049616 ; Var(o): 1.386523 ; Var(si): 0.2695444 \n"
     ]
    },
    {
     "name": "stderr",
     "output_type": "stream",
     "text": [
      "  Iteration 44/200 (total 44)...\n",
      "\n"
     ]
    },
    {
     "name": "stdout",
     "output_type": "stream",
     "text": [
      "1.005947 \n",
      "1 \n",
      "Mean(o): -1.051559 ; Var(o): 1.390817 ; Var(si): 0.268977 \n"
     ]
    },
    {
     "name": "stderr",
     "output_type": "stream",
     "text": [
      "  Iteration 45/200 (total 45)...\n",
      "\n"
     ]
    },
    {
     "name": "stdout",
     "output_type": "stream",
     "text": [
      "1.006256 \n",
      "1 \n",
      "Mean(o): -1.053504 ; Var(o): 1.394928 ; Var(si): 0.2683645 \n"
     ]
    },
    {
     "name": "stderr",
     "output_type": "stream",
     "text": [
      "  Iteration 46/200 (total 46)...\n",
      "\n"
     ]
    },
    {
     "name": "stdout",
     "output_type": "stream",
     "text": [
      "1.006568 \n",
      "1 \n",
      "Mean(o): -1.055451 ; Var(o): 1.398867 ; Var(si): 0.2677089 \n"
     ]
    },
    {
     "name": "stderr",
     "output_type": "stream",
     "text": [
      "  Iteration 47/200 (total 47)...\n",
      "\n"
     ]
    },
    {
     "name": "stdout",
     "output_type": "stream",
     "text": [
      "1.00688 \n",
      "1 \n",
      "Mean(o): -1.0574 ; Var(o): 1.402645 ; Var(si): 0.2670118 \n"
     ]
    },
    {
     "name": "stderr",
     "output_type": "stream",
     "text": [
      "  Iteration 48/200 (total 48)...\n",
      "\n"
     ]
    },
    {
     "name": "stdout",
     "output_type": "stream",
     "text": [
      "1.007193 \n",
      "1 \n",
      "Mean(o): -1.059352 ; Var(o): 1.406274 ; Var(si): 0.2662749 \n"
     ]
    },
    {
     "name": "stderr",
     "output_type": "stream",
     "text": [
      "  Iteration 49/200 (total 49)...\n",
      "\n"
     ]
    },
    {
     "name": "stdout",
     "output_type": "stream",
     "text": [
      "1.007504 \n",
      "1 \n",
      "Mean(o): -1.061306 ; Var(o): 1.40976 ; Var(si): 0.2654998 \n"
     ]
    },
    {
     "name": "stderr",
     "output_type": "stream",
     "text": [
      "  Iteration 50/200 (total 50)...\n",
      "\n"
     ]
    },
    {
     "name": "stdout",
     "output_type": "stream",
     "text": [
      "1.007814 \n",
      "1 \n",
      "Mean(o): -1.063262 ; Var(o): 1.413113 ; Var(si): 0.2646878 \n"
     ]
    },
    {
     "name": "stderr",
     "output_type": "stream",
     "text": [
      "  Iteration 51/200 (total 51)...\n",
      "\n"
     ]
    },
    {
     "name": "stdout",
     "output_type": "stream",
     "text": [
      "1.008121 \n",
      "1 \n",
      "Mean(o): -1.065221 ; Var(o): 1.41634 ; Var(si): 0.2638404 \n"
     ]
    },
    {
     "name": "stderr",
     "output_type": "stream",
     "text": [
      "  Iteration 52/200 (total 52)...\n",
      "\n"
     ]
    },
    {
     "name": "stdout",
     "output_type": "stream",
     "text": [
      "1.008423 \n",
      "1 \n",
      "Mean(o): -1.067183 ; Var(o): 1.419449 ; Var(si): 0.2629597 \n"
     ]
    },
    {
     "name": "stderr",
     "output_type": "stream",
     "text": [
      "  Iteration 53/200 (total 53)...\n",
      "\n"
     ]
    },
    {
     "name": "stdout",
     "output_type": "stream",
     "text": [
      "1.008716 \n",
      "1 \n",
      "Mean(o): -1.069147 ; Var(o): 1.422449 ; Var(si): 0.2620479 \n"
     ]
    },
    {
     "name": "stderr",
     "output_type": "stream",
     "text": [
      "  Iteration 54/200 (total 54)...\n",
      "\n"
     ]
    },
    {
     "name": "stdout",
     "output_type": "stream",
     "text": [
      "1.009001 \n",
      "1 \n",
      "Mean(o): -1.071115 ; Var(o): 1.425346 ; Var(si): 0.2611069 \n"
     ]
    },
    {
     "name": "stderr",
     "output_type": "stream",
     "text": [
      "  Iteration 55/200 (total 55)...\n",
      "\n"
     ]
    },
    {
     "name": "stdout",
     "output_type": "stream",
     "text": [
      "1.009276 \n",
      "1 \n",
      "Mean(o): -1.073085 ; Var(o): 1.428143 ; Var(si): 0.2601378 \n"
     ]
    },
    {
     "name": "stderr",
     "output_type": "stream",
     "text": [
      "  Iteration 56/200 (total 56)...\n",
      "\n"
     ]
    },
    {
     "name": "stdout",
     "output_type": "stream",
     "text": [
      "1.009544 \n",
      "1 \n",
      "Mean(o): -1.075058 ; Var(o): 1.430844 ; Var(si): 0.2591414 \n"
     ]
    },
    {
     "name": "stderr",
     "output_type": "stream",
     "text": [
      "  Iteration 57/200 (total 57)...\n",
      "\n"
     ]
    },
    {
     "name": "stdout",
     "output_type": "stream",
     "text": [
      "1.009805 \n",
      "1 \n",
      "Mean(o): -1.077034 ; Var(o): 1.433453 ; Var(si): 0.2581186 \n"
     ]
    },
    {
     "name": "stderr",
     "output_type": "stream",
     "text": [
      "  Iteration 58/200 (total 58)...\n",
      "\n"
     ]
    },
    {
     "name": "stdout",
     "output_type": "stream",
     "text": [
      "1.01006 \n",
      "1 \n",
      "Mean(o): -1.079013 ; Var(o): 1.435974 ; Var(si): 0.2570704 \n"
     ]
    },
    {
     "name": "stderr",
     "output_type": "stream",
     "text": [
      "  Iteration 59/200 (total 59)...\n",
      "\n"
     ]
    },
    {
     "name": "stdout",
     "output_type": "stream",
     "text": [
      "1.010308 \n",
      "1 \n",
      "Mean(o): -1.080996 ; Var(o): 1.43841 ; Var(si): 0.255998 \n"
     ]
    },
    {
     "name": "stderr",
     "output_type": "stream",
     "text": [
      "  Iteration 60/200 (total 60)...\n",
      "\n"
     ]
    },
    {
     "name": "stdout",
     "output_type": "stream",
     "text": [
      "1.01055 \n",
      "1 \n",
      "Mean(o): -1.082981 ; Var(o): 1.440767 ; Var(si): 0.2549025 \n"
     ]
    },
    {
     "name": "stderr",
     "output_type": "stream",
     "text": [
      "  Iteration 61/200 (total 61)...\n",
      "\n"
     ]
    },
    {
     "name": "stdout",
     "output_type": "stream",
     "text": [
      "1.010785 \n",
      "1 \n",
      "Mean(o): -1.08497 ; Var(o): 1.443046 ; Var(si): 0.2537847 \n"
     ]
    },
    {
     "name": "stderr",
     "output_type": "stream",
     "text": [
      "  Iteration 62/200 (total 62)...\n",
      "\n"
     ]
    },
    {
     "name": "stdout",
     "output_type": "stream",
     "text": [
      "1.011015 \n",
      "1 \n",
      "Mean(o): -1.086962 ; Var(o): 1.445253 ; Var(si): 0.2526458 \n"
     ]
    },
    {
     "name": "stderr",
     "output_type": "stream",
     "text": [
      "  Iteration 63/200 (total 63)...\n",
      "\n"
     ]
    },
    {
     "name": "stdout",
     "output_type": "stream",
     "text": [
      "1.011239 \n",
      "1 \n",
      "Mean(o): -1.088958 ; Var(o): 1.44739 ; Var(si): 0.2514867 \n"
     ]
    },
    {
     "name": "stderr",
     "output_type": "stream",
     "text": [
      "  Iteration 64/200 (total 64)...\n",
      "\n"
     ]
    },
    {
     "name": "stdout",
     "output_type": "stream",
     "text": [
      "1.011457 \n",
      "1 \n",
      "Mean(o): -1.090957 ; Var(o): 1.449461 ; Var(si): 0.2503083 \n"
     ]
    },
    {
     "name": "stderr",
     "output_type": "stream",
     "text": [
      "  Iteration 65/200 (total 65)...\n",
      "\n"
     ]
    },
    {
     "name": "stdout",
     "output_type": "stream",
     "text": [
      "1.01167 \n",
      "1 \n",
      "Mean(o): -1.09296 ; Var(o): 1.451468 ; Var(si): 0.2491115 \n"
     ]
    },
    {
     "name": "stderr",
     "output_type": "stream",
     "text": [
      "  Iteration 66/200 (total 66)...\n",
      "\n"
     ]
    },
    {
     "name": "stdout",
     "output_type": "stream",
     "text": [
      "1.011877 \n",
      "1 \n",
      "Mean(o): -1.094966 ; Var(o): 1.453415 ; Var(si): 0.2478972 \n"
     ]
    },
    {
     "name": "stderr",
     "output_type": "stream",
     "text": [
      "  Iteration 67/200 (total 67)...\n",
      "\n"
     ]
    },
    {
     "name": "stdout",
     "output_type": "stream",
     "text": [
      "1.01208 \n",
      "1 \n",
      "Mean(o): -1.096975 ; Var(o): 1.455303 ; Var(si): 0.2466661 \n"
     ]
    },
    {
     "name": "stderr",
     "output_type": "stream",
     "text": [
      "  Iteration 68/200 (total 68)...\n",
      "\n"
     ]
    },
    {
     "name": "stdout",
     "output_type": "stream",
     "text": [
      "1.012278 \n",
      "1 \n",
      "Mean(o): -1.098989 ; Var(o): 1.457137 ; Var(si): 0.2454191 \n"
     ]
    },
    {
     "name": "stderr",
     "output_type": "stream",
     "text": [
      "  Iteration 69/200 (total 69)...\n",
      "\n"
     ]
    },
    {
     "name": "stdout",
     "output_type": "stream",
     "text": [
      "1.012471 \n",
      "1 \n",
      "Mean(o): -1.101006 ; Var(o): 1.458917 ; Var(si): 0.244157 \n"
     ]
    },
    {
     "name": "stderr",
     "output_type": "stream",
     "text": [
      "  Iteration 70/200 (total 70)...\n",
      "\n"
     ]
    },
    {
     "name": "stdout",
     "output_type": "stream",
     "text": [
      "1.012659 \n",
      "1 \n",
      "Mean(o): -1.103027 ; Var(o): 1.460648 ; Var(si): 0.2428805 \n"
     ]
    },
    {
     "name": "stderr",
     "output_type": "stream",
     "text": [
      "  Iteration 71/200 (total 71)...\n",
      "\n"
     ]
    },
    {
     "name": "stdout",
     "output_type": "stream",
     "text": [
      "1.012842 \n",
      "1 \n",
      "Mean(o): -1.105051 ; Var(o): 1.462332 ; Var(si): 0.2415904 \n"
     ]
    },
    {
     "name": "stderr",
     "output_type": "stream",
     "text": [
      "  Iteration 72/200 (total 72)...\n",
      "\n"
     ]
    },
    {
     "name": "stdout",
     "output_type": "stream",
     "text": [
      "1.013021 \n",
      "1 \n",
      "Mean(o): -1.10708 ; Var(o): 1.46397 ; Var(si): 0.2402876 \n"
     ]
    },
    {
     "name": "stderr",
     "output_type": "stream",
     "text": [
      "  Iteration 73/200 (total 73)...\n",
      "\n"
     ]
    },
    {
     "name": "stdout",
     "output_type": "stream",
     "text": [
      "1.013194 \n",
      "1 \n",
      "Mean(o): -1.109112 ; Var(o): 1.465566 ; Var(si): 0.2389725 \n"
     ]
    },
    {
     "name": "stderr",
     "output_type": "stream",
     "text": [
      "  Iteration 74/200 (total 74)...\n",
      "\n"
     ]
    },
    {
     "name": "stdout",
     "output_type": "stream",
     "text": [
      "1.013363 \n",
      "1 \n",
      "Mean(o): -1.111148 ; Var(o): 1.467121 ; Var(si): 0.2376459 \n"
     ]
    },
    {
     "name": "stderr",
     "output_type": "stream",
     "text": [
      "  Iteration 75/200 (total 75)...\n",
      "\n"
     ]
    },
    {
     "name": "stdout",
     "output_type": "stream",
     "text": [
      "1.013528 \n",
      "1 \n",
      "Mean(o): -1.113188 ; Var(o): 1.468637 ; Var(si): 0.2363082 \n"
     ]
    },
    {
     "name": "stderr",
     "output_type": "stream",
     "text": [
      "  Iteration 76/200 (total 76)...\n",
      "\n"
     ]
    },
    {
     "name": "stdout",
     "output_type": "stream",
     "text": [
      "1.013688 \n",
      "1 \n",
      "Mean(o): -1.115232 ; Var(o): 1.470116 ; Var(si): 0.2349598 \n"
     ]
    },
    {
     "name": "stderr",
     "output_type": "stream",
     "text": [
      "  Iteration 77/200 (total 77)...\n",
      "\n"
     ]
    },
    {
     "name": "stdout",
     "output_type": "stream",
     "text": [
      "1.013845 \n",
      "1 \n",
      "Mean(o): -1.117281 ; Var(o): 1.471559 ; Var(si): 0.2336012 \n"
     ]
    },
    {
     "name": "stderr",
     "output_type": "stream",
     "text": [
      "  Iteration 78/200 (total 78)...\n",
      "\n"
     ]
    },
    {
     "name": "stdout",
     "output_type": "stream",
     "text": [
      "1.013998 \n",
      "1 \n",
      "Mean(o): -1.119333 ; Var(o): 1.472967 ; Var(si): 0.2322328 \n"
     ]
    },
    {
     "name": "stderr",
     "output_type": "stream",
     "text": [
      "  Iteration 79/200 (total 79)...\n",
      "\n"
     ]
    },
    {
     "name": "stdout",
     "output_type": "stream",
     "text": [
      "1.014148 \n",
      "1 \n",
      "Mean(o): -1.121389 ; Var(o): 1.474343 ; Var(si): 0.2308549 \n"
     ]
    },
    {
     "name": "stderr",
     "output_type": "stream",
     "text": [
      "  Iteration 80/200 (total 80)...\n",
      "\n"
     ]
    },
    {
     "name": "stdout",
     "output_type": "stream",
     "text": [
      "1.014295 \n",
      "1 \n",
      "Mean(o): -1.12345 ; Var(o): 1.475686 ; Var(si): 0.229468 \n"
     ]
    },
    {
     "name": "stderr",
     "output_type": "stream",
     "text": [
      "  Iteration 81/200 (total 81)...\n",
      "\n"
     ]
    },
    {
     "name": "stdout",
     "output_type": "stream",
     "text": [
      "1.014439 \n",
      "1 \n",
      "Mean(o): -1.125515 ; Var(o): 1.476999 ; Var(si): 0.2280725 \n"
     ]
    },
    {
     "name": "stderr",
     "output_type": "stream",
     "text": [
      "  Iteration 82/200 (total 82)...\n",
      "\n"
     ]
    },
    {
     "name": "stdout",
     "output_type": "stream",
     "text": [
      "1.01458 \n",
      "1 \n",
      "Mean(o): -1.127584 ; Var(o): 1.478283 ; Var(si): 0.2266688 \n"
     ]
    },
    {
     "name": "stderr",
     "output_type": "stream",
     "text": [
      "  Iteration 83/200 (total 83)...\n",
      "\n"
     ]
    },
    {
     "name": "stdout",
     "output_type": "stream",
     "text": [
      "1.014719 \n",
      "1 \n",
      "Mean(o): -1.129657 ; Var(o): 1.479538 ; Var(si): 0.2252573 \n"
     ]
    },
    {
     "name": "stderr",
     "output_type": "stream",
     "text": [
      "  Iteration 84/200 (total 84)...\n",
      "\n"
     ]
    },
    {
     "name": "stdout",
     "output_type": "stream",
     "text": [
      "1.014855 \n",
      "1 \n",
      "Mean(o): -1.131735 ; Var(o): 1.480766 ; Var(si): 0.2238384 \n"
     ]
    },
    {
     "name": "stderr",
     "output_type": "stream",
     "text": [
      "  Iteration 85/200 (total 85)...\n",
      "\n"
     ]
    },
    {
     "name": "stdout",
     "output_type": "stream",
     "text": [
      "1.014988 \n",
      "1 \n",
      "Mean(o): -1.133817 ; Var(o): 1.481969 ; Var(si): 0.2224126 \n"
     ]
    },
    {
     "name": "stderr",
     "output_type": "stream",
     "text": [
      "  Iteration 86/200 (total 86)...\n",
      "\n"
     ]
    },
    {
     "name": "stdout",
     "output_type": "stream",
     "text": [
      "1.015119 \n",
      "1 \n",
      "Mean(o): -1.135903 ; Var(o): 1.483146 ; Var(si): 0.2209802 \n"
     ]
    },
    {
     "name": "stderr",
     "output_type": "stream",
     "text": [
      "  Iteration 87/200 (total 87)...\n",
      "\n"
     ]
    },
    {
     "name": "stdout",
     "output_type": "stream",
     "text": [
      "1.015247 \n",
      "1 \n",
      "Mean(o): -1.137994 ; Var(o): 1.484299 ; Var(si): 0.2195417 \n"
     ]
    },
    {
     "name": "stderr",
     "output_type": "stream",
     "text": [
      "  Iteration 88/200 (total 88)...\n",
      "\n"
     ]
    },
    {
     "name": "stdout",
     "output_type": "stream",
     "text": [
      "1.015373 \n",
      "1 \n",
      "Mean(o): -1.14009 ; Var(o): 1.485429 ; Var(si): 0.2180973 \n"
     ]
    },
    {
     "name": "stderr",
     "output_type": "stream",
     "text": [
      "  Iteration 89/200 (total 89)...\n",
      "\n"
     ]
    },
    {
     "name": "stdout",
     "output_type": "stream",
     "text": [
      "1.015496 \n",
      "1 \n",
      "Mean(o): -1.14219 ; Var(o): 1.486537 ; Var(si): 0.2166476 \n"
     ]
    },
    {
     "name": "stderr",
     "output_type": "stream",
     "text": [
      "  Iteration 90/200 (total 90)...\n",
      "\n"
     ]
    },
    {
     "name": "stdout",
     "output_type": "stream",
     "text": [
      "1.015617 \n",
      "1 \n",
      "Mean(o): -1.144294 ; Var(o): 1.487622 ; Var(si): 0.2151929 \n"
     ]
    },
    {
     "name": "stderr",
     "output_type": "stream",
     "text": [
      "  Iteration 91/200 (total 91)...\n",
      "\n"
     ]
    },
    {
     "name": "stdout",
     "output_type": "stream",
     "text": [
      "1.015735 \n",
      "1 \n",
      "Mean(o): -1.146403 ; Var(o): 1.488687 ; Var(si): 0.2137337 \n"
     ]
    },
    {
     "name": "stderr",
     "output_type": "stream",
     "text": [
      "  Iteration 92/200 (total 92)...\n",
      "\n"
     ]
    },
    {
     "name": "stdout",
     "output_type": "stream",
     "text": [
      "1.01585 \n",
      "1 \n",
      "Mean(o): -1.148517 ; Var(o): 1.489732 ; Var(si): 0.2122703 \n"
     ]
    },
    {
     "name": "stderr",
     "output_type": "stream",
     "text": [
      "  Iteration 93/200 (total 93)...\n",
      "\n"
     ]
    },
    {
     "name": "stdout",
     "output_type": "stream",
     "text": [
      "1.015962 \n",
      "1 \n",
      "Mean(o): -1.150636 ; Var(o): 1.490757 ; Var(si): 0.2108033 \n"
     ]
    },
    {
     "name": "stderr",
     "output_type": "stream",
     "text": [
      "  Iteration 94/200 (total 94)...\n",
      "\n"
     ]
    },
    {
     "name": "stdout",
     "output_type": "stream",
     "text": [
      "1.016071 \n",
      "1 \n",
      "Mean(o): -1.152759 ; Var(o): 1.491763 ; Var(si): 0.209333 \n"
     ]
    },
    {
     "name": "stderr",
     "output_type": "stream",
     "text": [
      "  Iteration 95/200 (total 95)...\n",
      "\n"
     ]
    },
    {
     "name": "stdout",
     "output_type": "stream",
     "text": [
      "1.016176 \n",
      "1 \n",
      "Mean(o): -1.154887 ; Var(o): 1.492751 ; Var(si): 0.2078599 \n"
     ]
    },
    {
     "name": "stderr",
     "output_type": "stream",
     "text": [
      "  Iteration 96/200 (total 96)...\n",
      "\n"
     ]
    },
    {
     "name": "stdout",
     "output_type": "stream",
     "text": [
      "1.016278 \n",
      "1 \n",
      "Mean(o): -1.157019 ; Var(o): 1.493721 ; Var(si): 0.2063843 \n"
     ]
    },
    {
     "name": "stderr",
     "output_type": "stream",
     "text": [
      "  Iteration 97/200 (total 97)...\n",
      "\n"
     ]
    },
    {
     "name": "stdout",
     "output_type": "stream",
     "text": [
      "1.016377 \n",
      "1 \n",
      "Mean(o): -1.159157 ; Var(o): 1.494674 ; Var(si): 0.2049065 \n"
     ]
    },
    {
     "name": "stderr",
     "output_type": "stream",
     "text": [
      "  Iteration 98/200 (total 98)...\n",
      "\n"
     ]
    },
    {
     "name": "stdout",
     "output_type": "stream",
     "text": [
      "1.016472 \n",
      "1 \n",
      "Mean(o): -1.161299 ; Var(o): 1.495609 ; Var(si): 0.2034268 \n"
     ]
    },
    {
     "name": "stderr",
     "output_type": "stream",
     "text": [
      "  Iteration 99/200 (total 99)...\n",
      "\n"
     ]
    },
    {
     "name": "stdout",
     "output_type": "stream",
     "text": [
      "1.016565 \n",
      "1 \n",
      "Mean(o): -1.163446 ; Var(o): 1.496528 ; Var(si): 0.2019455 \n"
     ]
    },
    {
     "name": "stderr",
     "output_type": "stream",
     "text": [
      "  Iteration 100/200 (total 100)...\n",
      "\n"
     ]
    },
    {
     "name": "stdout",
     "output_type": "stream",
     "text": [
      "1.016655 \n",
      "1 \n",
      "Mean(o): -1.165597 ; Var(o): 1.49743 ; Var(si): 0.200463 \n"
     ]
    },
    {
     "name": "stderr",
     "output_type": "stream",
     "text": [
      "  Iteration 101/200 (total 101)...\n",
      "\n"
     ]
    },
    {
     "name": "stdout",
     "output_type": "stream",
     "text": [
      "1.016741 \n",
      "1 \n",
      "Mean(o): -1.167754 ; Var(o): 1.498316 ; Var(si): 0.1989794 \n"
     ]
    },
    {
     "name": "stderr",
     "output_type": "stream",
     "text": [
      "  Iteration 102/200 (total 102)...\n",
      "\n"
     ]
    },
    {
     "name": "stdout",
     "output_type": "stream",
     "text": [
      "1.016826 \n",
      "1 \n",
      "Mean(o): -1.169915 ; Var(o): 1.499185 ; Var(si): 0.1974951 \n"
     ]
    },
    {
     "name": "stderr",
     "output_type": "stream",
     "text": [
      "  Iteration 103/200 (total 103)...\n",
      "\n"
     ]
    },
    {
     "name": "stdout",
     "output_type": "stream",
     "text": [
      "1.016907 \n",
      "1 \n",
      "Mean(o): -1.172082 ; Var(o): 1.500038 ; Var(si): 0.1960104 \n"
     ]
    },
    {
     "name": "stderr",
     "output_type": "stream",
     "text": [
      "  Iteration 104/200 (total 104)...\n",
      "\n"
     ]
    },
    {
     "name": "stdout",
     "output_type": "stream",
     "text": [
      "1.016987 \n",
      "1 \n",
      "Mean(o): -1.174253 ; Var(o): 1.500875 ; Var(si): 0.1945254 \n"
     ]
    },
    {
     "name": "stderr",
     "output_type": "stream",
     "text": [
      "  Iteration 105/200 (total 105)...\n",
      "\n"
     ]
    },
    {
     "name": "stdout",
     "output_type": "stream",
     "text": [
      "1.017064 \n",
      "1 \n",
      "Mean(o): -1.176429 ; Var(o): 1.501696 ; Var(si): 0.1930406 \n"
     ]
    },
    {
     "name": "stderr",
     "output_type": "stream",
     "text": [
      "  Iteration 106/200 (total 106)...\n",
      "\n"
     ]
    },
    {
     "name": "stdout",
     "output_type": "stream",
     "text": [
      "1.017139 \n",
      "1 \n",
      "Mean(o): -1.17861 ; Var(o): 1.502502 ; Var(si): 0.191556 \n"
     ]
    },
    {
     "name": "stderr",
     "output_type": "stream",
     "text": [
      "  Iteration 107/200 (total 107)...\n",
      "\n"
     ]
    },
    {
     "name": "stdout",
     "output_type": "stream",
     "text": [
      "1.017213 \n",
      "1 \n",
      "Mean(o): -1.180796 ; Var(o): 1.503292 ; Var(si): 0.190072 \n"
     ]
    },
    {
     "name": "stderr",
     "output_type": "stream",
     "text": [
      "  Iteration 108/200 (total 108)...\n",
      "\n"
     ]
    },
    {
     "name": "stdout",
     "output_type": "stream",
     "text": [
      "1.017285 \n",
      "1 \n",
      "Mean(o): -1.182987 ; Var(o): 1.504066 ; Var(si): 0.1885888 \n"
     ]
    },
    {
     "name": "stderr",
     "output_type": "stream",
     "text": [
      "  Iteration 109/200 (total 109)...\n",
      "\n"
     ]
    },
    {
     "name": "stdout",
     "output_type": "stream",
     "text": [
      "1.017355 \n",
      "1 \n",
      "Mean(o): -1.185183 ; Var(o): 1.504825 ; Var(si): 0.1871066 \n"
     ]
    },
    {
     "name": "stderr",
     "output_type": "stream",
     "text": [
      "  Iteration 110/200 (total 110)...\n",
      "\n"
     ]
    },
    {
     "name": "stdout",
     "output_type": "stream",
     "text": [
      "1.017423 \n",
      "1 \n",
      "Mean(o): -1.187383 ; Var(o): 1.50557 ; Var(si): 0.1856262 \n"
     ]
    },
    {
     "name": "stderr",
     "output_type": "stream",
     "text": [
      "  Iteration 111/200 (total 111)...\n",
      "\n"
     ]
    },
    {
     "name": "stdout",
     "output_type": "stream",
     "text": [
      "1.017486 \n",
      "1 \n",
      "Mean(o): -1.189589 ; Var(o): 1.506304 ; Var(si): 0.1841482 \n"
     ]
    },
    {
     "name": "stderr",
     "output_type": "stream",
     "text": [
      "  Iteration 112/200 (total 112)...\n",
      "\n"
     ]
    },
    {
     "name": "stdout",
     "output_type": "stream",
     "text": [
      "1.017545 \n",
      "1 \n",
      "Mean(o): -1.191799 ; Var(o): 1.507026 ; Var(si): 0.1826733 \n"
     ]
    },
    {
     "name": "stderr",
     "output_type": "stream",
     "text": [
      "  Iteration 113/200 (total 113)...\n",
      "\n"
     ]
    },
    {
     "name": "stdout",
     "output_type": "stream",
     "text": [
      "1.017598 \n",
      "1 \n",
      "Mean(o): -1.194015 ; Var(o): 1.507738 ; Var(si): 0.1812018 \n"
     ]
    },
    {
     "name": "stderr",
     "output_type": "stream",
     "text": [
      "  Iteration 114/200 (total 114)...\n",
      "\n"
     ]
    },
    {
     "name": "stdout",
     "output_type": "stream",
     "text": [
      "1.017648 \n",
      "1 \n",
      "Mean(o): -1.196235 ; Var(o): 1.508438 ; Var(si): 0.1797335 \n"
     ]
    },
    {
     "name": "stderr",
     "output_type": "stream",
     "text": [
      "  Iteration 115/200 (total 115)...\n",
      "\n"
     ]
    },
    {
     "name": "stdout",
     "output_type": "stream",
     "text": [
      "1.017694 \n",
      "1 \n",
      "Mean(o): -1.19846 ; Var(o): 1.509126 ; Var(si): 0.1782686 \n"
     ]
    },
    {
     "name": "stderr",
     "output_type": "stream",
     "text": [
      "  Iteration 116/200 (total 116)...\n",
      "\n"
     ]
    },
    {
     "name": "stdout",
     "output_type": "stream",
     "text": [
      "1.017739 \n",
      "1 \n",
      "Mean(o): -1.20069 ; Var(o): 1.509801 ; Var(si): 0.176807 \n"
     ]
    },
    {
     "name": "stderr",
     "output_type": "stream",
     "text": [
      "  Iteration 117/200 (total 117)...\n",
      "\n"
     ]
    },
    {
     "name": "stdout",
     "output_type": "stream",
     "text": [
      "1.017781 \n",
      "1 \n",
      "Mean(o): -1.202925 ; Var(o): 1.510463 ; Var(si): 0.1753488 \n"
     ]
    },
    {
     "name": "stderr",
     "output_type": "stream",
     "text": [
      "  Iteration 118/200 (total 118)...\n",
      "\n"
     ]
    },
    {
     "name": "stdout",
     "output_type": "stream",
     "text": [
      "1.017822 \n",
      "1 \n",
      "Mean(o): -1.205164 ; Var(o): 1.511112 ; Var(si): 0.173894 \n"
     ]
    },
    {
     "name": "stderr",
     "output_type": "stream",
     "text": [
      "  Iteration 119/200 (total 119)...\n",
      "\n"
     ]
    },
    {
     "name": "stdout",
     "output_type": "stream",
     "text": [
      "1.017863 \n",
      "1 \n",
      "Mean(o): -1.207408 ; Var(o): 1.511747 ; Var(si): 0.1724428 \n"
     ]
    },
    {
     "name": "stderr",
     "output_type": "stream",
     "text": [
      "  Iteration 120/200 (total 120)...\n",
      "\n"
     ]
    },
    {
     "name": "stdout",
     "output_type": "stream",
     "text": [
      "1.017902 \n",
      "1 \n",
      "Mean(o): -1.209657 ; Var(o): 1.512371 ; Var(si): 0.1709953 \n"
     ]
    },
    {
     "name": "stderr",
     "output_type": "stream",
     "text": [
      "  Iteration 121/200 (total 121)...\n",
      "\n"
     ]
    },
    {
     "name": "stdout",
     "output_type": "stream",
     "text": [
      "1.01794 \n",
      "1 \n",
      "Mean(o): -1.211911 ; Var(o): 1.512982 ; Var(si): 0.1695521 \n"
     ]
    },
    {
     "name": "stderr",
     "output_type": "stream",
     "text": [
      "  Iteration 122/200 (total 122)...\n",
      "\n"
     ]
    },
    {
     "name": "stdout",
     "output_type": "stream",
     "text": [
      "1.017975 \n",
      "1 \n",
      "Mean(o): -1.214169 ; Var(o): 1.513584 ; Var(si): 0.1681135 \n"
     ]
    },
    {
     "name": "stderr",
     "output_type": "stream",
     "text": [
      "  Iteration 123/200 (total 123)...\n",
      "\n"
     ]
    },
    {
     "name": "stdout",
     "output_type": "stream",
     "text": [
      "1.018006 \n",
      "1 \n",
      "Mean(o): -1.216432 ; Var(o): 1.514179 ; Var(si): 0.1666803 \n"
     ]
    },
    {
     "name": "stderr",
     "output_type": "stream",
     "text": [
      "  Iteration 124/200 (total 124)...\n",
      "\n"
     ]
    },
    {
     "name": "stdout",
     "output_type": "stream",
     "text": [
      "1.018032 \n",
      "1 \n",
      "Mean(o): -1.218699 ; Var(o): 1.514765 ; Var(si): 0.1652526 \n"
     ]
    },
    {
     "name": "stderr",
     "output_type": "stream",
     "text": [
      "  Iteration 125/200 (total 125)...\n",
      "\n"
     ]
    },
    {
     "name": "stdout",
     "output_type": "stream",
     "text": [
      "1.018055 \n",
      "1 \n",
      "Mean(o): -1.220971 ; Var(o): 1.515345 ; Var(si): 0.1638304 \n"
     ]
    },
    {
     "name": "stderr",
     "output_type": "stream",
     "text": [
      "  Iteration 126/200 (total 126)...\n",
      "\n"
     ]
    },
    {
     "name": "stdout",
     "output_type": "stream",
     "text": [
      "1.018075 \n",
      "1 \n",
      "Mean(o): -1.223248 ; Var(o): 1.515916 ; Var(si): 0.1624137 \n"
     ]
    },
    {
     "name": "stderr",
     "output_type": "stream",
     "text": [
      "  Iteration 127/200 (total 127)...\n",
      "\n"
     ]
    },
    {
     "name": "stdout",
     "output_type": "stream",
     "text": [
      "1.018092 \n",
      "1 \n",
      "Mean(o): -1.225529 ; Var(o): 1.516478 ; Var(si): 0.1610024 \n"
     ]
    },
    {
     "name": "stderr",
     "output_type": "stream",
     "text": [
      "  Iteration 128/200 (total 128)...\n",
      "\n"
     ]
    },
    {
     "name": "stdout",
     "output_type": "stream",
     "text": [
      "1.018107 \n",
      "1 \n",
      "Mean(o): -1.227814 ; Var(o): 1.517031 ; Var(si): 0.1595964 \n"
     ]
    },
    {
     "name": "stderr",
     "output_type": "stream",
     "text": [
      "  Iteration 129/200 (total 129)...\n",
      "\n"
     ]
    },
    {
     "name": "stdout",
     "output_type": "stream",
     "text": [
      "1.01812 \n",
      "1 \n",
      "Mean(o): -1.230104 ; Var(o): 1.517574 ; Var(si): 0.1581957 \n"
     ]
    },
    {
     "name": "stderr",
     "output_type": "stream",
     "text": [
      "  Iteration 130/200 (total 130)...\n",
      "\n"
     ]
    },
    {
     "name": "stdout",
     "output_type": "stream",
     "text": [
      "1.018132 \n",
      "1 \n",
      "Mean(o): -1.232398 ; Var(o): 1.518109 ; Var(si): 0.1568005 \n"
     ]
    },
    {
     "name": "stderr",
     "output_type": "stream",
     "text": [
      "  Iteration 131/200 (total 131)...\n",
      "\n"
     ]
    },
    {
     "name": "stdout",
     "output_type": "stream",
     "text": [
      "1.018142 \n",
      "1 \n",
      "Mean(o): -1.234696 ; Var(o): 1.518634 ; Var(si): 0.1554107 \n"
     ]
    },
    {
     "name": "stderr",
     "output_type": "stream",
     "text": [
      "  Iteration 132/200 (total 132)...\n",
      "\n"
     ]
    },
    {
     "name": "stdout",
     "output_type": "stream",
     "text": [
      "1.018151 \n",
      "1 \n",
      "Mean(o): -1.236999 ; Var(o): 1.519151 ; Var(si): 0.1540266 \n"
     ]
    },
    {
     "name": "stderr",
     "output_type": "stream",
     "text": [
      "  Iteration 133/200 (total 133)...\n",
      "\n"
     ]
    },
    {
     "name": "stdout",
     "output_type": "stream",
     "text": [
      "1.018159 \n",
      "1 \n",
      "Mean(o): -1.239305 ; Var(o): 1.519659 ; Var(si): 0.1526482 \n"
     ]
    },
    {
     "name": "stderr",
     "output_type": "stream",
     "text": [
      "  Iteration 134/200 (total 134)...\n",
      "\n"
     ]
    },
    {
     "name": "stdout",
     "output_type": "stream",
     "text": [
      "1.018165 \n",
      "1 \n",
      "Mean(o): -1.241616 ; Var(o): 1.520159 ; Var(si): 0.1512755 \n"
     ]
    },
    {
     "name": "stderr",
     "output_type": "stream",
     "text": [
      "  Iteration 135/200 (total 135)...\n",
      "\n"
     ]
    },
    {
     "name": "stdout",
     "output_type": "stream",
     "text": [
      "1.01817 \n",
      "1 \n",
      "Mean(o): -1.243931 ; Var(o): 1.520651 ; Var(si): 0.1499088 \n"
     ]
    },
    {
     "name": "stderr",
     "output_type": "stream",
     "text": [
      "  Iteration 136/200 (total 136)...\n",
      "\n"
     ]
    },
    {
     "name": "stdout",
     "output_type": "stream",
     "text": [
      "1.018175 \n",
      "1 \n",
      "Mean(o): -1.246249 ; Var(o): 1.521136 ; Var(si): 0.148548 \n"
     ]
    },
    {
     "name": "stderr",
     "output_type": "stream",
     "text": [
      "  Iteration 137/200 (total 137)...\n",
      "\n"
     ]
    },
    {
     "name": "stdout",
     "output_type": "stream",
     "text": [
      "1.018178 \n",
      "1 \n",
      "Mean(o): -1.248572 ; Var(o): 1.521612 ; Var(si): 0.1471932 \n"
     ]
    },
    {
     "name": "stderr",
     "output_type": "stream",
     "text": [
      "  Iteration 138/200 (total 138)...\n",
      "\n"
     ]
    },
    {
     "name": "stdout",
     "output_type": "stream",
     "text": [
      "1.01818 \n",
      "1 \n",
      "Mean(o): -1.250898 ; Var(o): 1.522081 ; Var(si): 0.1458446 \n"
     ]
    },
    {
     "name": "stderr",
     "output_type": "stream",
     "text": [
      "  Iteration 139/200 (total 139)...\n",
      "\n"
     ]
    },
    {
     "name": "stdout",
     "output_type": "stream",
     "text": [
      "1.018181 \n",
      "1 \n",
      "Mean(o): -1.253228 ; Var(o): 1.522543 ; Var(si): 0.1445023 \n"
     ]
    },
    {
     "name": "stderr",
     "output_type": "stream",
     "text": [
      "  Iteration 140/200 (total 140)...\n",
      "\n"
     ]
    },
    {
     "name": "stdout",
     "output_type": "stream",
     "text": [
      "1.018181 \n",
      "1 \n",
      "Mean(o): -1.255562 ; Var(o): 1.522997 ; Var(si): 0.1431663 \n"
     ]
    },
    {
     "name": "stderr",
     "output_type": "stream",
     "text": [
      "  Iteration 141/200 (total 141)...\n",
      "\n"
     ]
    },
    {
     "name": "stdout",
     "output_type": "stream",
     "text": [
      "1.01818 \n",
      "1 \n",
      "Mean(o): -1.257899 ; Var(o): 1.523445 ; Var(si): 0.1418366 \n"
     ]
    },
    {
     "name": "stderr",
     "output_type": "stream",
     "text": [
      "  Iteration 142/200 (total 142)...\n",
      "\n"
     ]
    },
    {
     "name": "stdout",
     "output_type": "stream",
     "text": [
      "1.018178 \n",
      "1 \n",
      "Mean(o): -1.26024 ; Var(o): 1.523886 ; Var(si): 0.1405135 \n"
     ]
    },
    {
     "name": "stderr",
     "output_type": "stream",
     "text": [
      "  Iteration 143/200 (total 143)...\n",
      "\n"
     ]
    },
    {
     "name": "stdout",
     "output_type": "stream",
     "text": [
      "1.018176 \n",
      "1 \n",
      "Mean(o): -1.262585 ; Var(o): 1.52432 ; Var(si): 0.1391969 \n"
     ]
    },
    {
     "name": "stderr",
     "output_type": "stream",
     "text": [
      "  Iteration 144/200 (total 144)...\n",
      "\n"
     ]
    },
    {
     "name": "stdout",
     "output_type": "stream",
     "text": [
      "1.018173 \n",
      "1 \n",
      "Mean(o): -1.264932 ; Var(o): 1.524748 ; Var(si): 0.137887 \n"
     ]
    },
    {
     "name": "stderr",
     "output_type": "stream",
     "text": [
      "  Iteration 145/200 (total 145)...\n",
      "\n"
     ]
    },
    {
     "name": "stdout",
     "output_type": "stream",
     "text": [
      "1.018169 \n",
      "1 \n",
      "Mean(o): -1.267283 ; Var(o): 1.52517 ; Var(si): 0.1365839 \n"
     ]
    },
    {
     "name": "stderr",
     "output_type": "stream",
     "text": [
      "  Iteration 146/200 (total 146)...\n",
      "\n"
     ]
    },
    {
     "name": "stdout",
     "output_type": "stream",
     "text": [
      "1.018164 \n",
      "1 \n",
      "Mean(o): -1.269637 ; Var(o): 1.525585 ; Var(si): 0.1352876 \n"
     ]
    },
    {
     "name": "stderr",
     "output_type": "stream",
     "text": [
      "  Iteration 147/200 (total 147)...\n",
      "\n"
     ]
    },
    {
     "name": "stdout",
     "output_type": "stream",
     "text": [
      "1.018159 \n",
      "1 \n",
      "Mean(o): -1.271994 ; Var(o): 1.525994 ; Var(si): 0.1339982 \n"
     ]
    },
    {
     "name": "stderr",
     "output_type": "stream",
     "text": [
      "  Iteration 148/200 (total 148)...\n",
      "\n"
     ]
    },
    {
     "name": "stdout",
     "output_type": "stream",
     "text": [
      "1.018153 \n",
      "1 \n",
      "Mean(o): -1.274355 ; Var(o): 1.526398 ; Var(si): 0.1327159 \n"
     ]
    },
    {
     "name": "stderr",
     "output_type": "stream",
     "text": [
      "  Iteration 149/200 (total 149)...\n",
      "\n"
     ]
    },
    {
     "name": "stdout",
     "output_type": "stream",
     "text": [
      "1.018146 \n",
      "1 \n",
      "Mean(o): -1.276718 ; Var(o): 1.526795 ; Var(si): 0.1314406 \n"
     ]
    },
    {
     "name": "stderr",
     "output_type": "stream",
     "text": [
      "  Iteration 150/200 (total 150)...\n",
      "\n"
     ]
    },
    {
     "name": "stdout",
     "output_type": "stream",
     "text": [
      "1.018139 \n",
      "1 \n",
      "Mean(o): -1.279083 ; Var(o): 1.527187 ; Var(si): 0.1301726 \n"
     ]
    },
    {
     "name": "stderr",
     "output_type": "stream",
     "text": [
      "  Iteration 151/200 (total 151)...\n",
      "\n"
     ]
    },
    {
     "name": "stdout",
     "output_type": "stream",
     "text": [
      "1.018132 \n",
      "1 \n",
      "Mean(o): -1.281452 ; Var(o): 1.527573 ; Var(si): 0.1289119 \n"
     ]
    },
    {
     "name": "stderr",
     "output_type": "stream",
     "text": [
      "  Iteration 152/200 (total 152)...\n",
      "\n"
     ]
    },
    {
     "name": "stdout",
     "output_type": "stream",
     "text": [
      "1.018123 \n",
      "1 \n",
      "Mean(o): -1.283823 ; Var(o): 1.527954 ; Var(si): 0.1276586 \n"
     ]
    },
    {
     "name": "stderr",
     "output_type": "stream",
     "text": [
      "  Iteration 153/200 (total 153)...\n",
      "\n"
     ]
    },
    {
     "name": "stdout",
     "output_type": "stream",
     "text": [
      "1.018115 \n",
      "1 \n",
      "Mean(o): -1.286196 ; Var(o): 1.52833 ; Var(si): 0.1264129 \n"
     ]
    },
    {
     "name": "stderr",
     "output_type": "stream",
     "text": [
      "  Iteration 154/200 (total 154)...\n",
      "\n"
     ]
    },
    {
     "name": "stdout",
     "output_type": "stream",
     "text": [
      "1.018105 \n",
      "1 \n",
      "Mean(o): -1.288572 ; Var(o): 1.5287 ; Var(si): 0.1251748 \n"
     ]
    },
    {
     "name": "stderr",
     "output_type": "stream",
     "text": [
      "  Iteration 155/200 (total 155)...\n",
      "\n"
     ]
    },
    {
     "name": "stdout",
     "output_type": "stream",
     "text": [
      "1.018095 \n",
      "1 \n",
      "Mean(o): -1.29095 ; Var(o): 1.529066 ; Var(si): 0.1239444 \n"
     ]
    },
    {
     "name": "stderr",
     "output_type": "stream",
     "text": [
      "  Iteration 156/200 (total 156)...\n",
      "\n"
     ]
    },
    {
     "name": "stdout",
     "output_type": "stream",
     "text": [
      "1.018085 \n",
      "1 \n",
      "Mean(o): -1.29333 ; Var(o): 1.529427 ; Var(si): 0.1227219 \n"
     ]
    },
    {
     "name": "stderr",
     "output_type": "stream",
     "text": [
      "  Iteration 157/200 (total 157)...\n",
      "\n"
     ]
    },
    {
     "name": "stdout",
     "output_type": "stream",
     "text": [
      "1.018073 \n",
      "1 \n",
      "Mean(o): -1.295712 ; Var(o): 1.529784 ; Var(si): 0.1215074 \n"
     ]
    },
    {
     "name": "stderr",
     "output_type": "stream",
     "text": [
      "  Iteration 158/200 (total 158)...\n",
      "\n"
     ]
    },
    {
     "name": "stdout",
     "output_type": "stream",
     "text": [
      "1.018062 \n",
      "1 \n",
      "Mean(o): -1.298095 ; Var(o): 1.530137 ; Var(si): 0.120301 \n"
     ]
    },
    {
     "name": "stderr",
     "output_type": "stream",
     "text": [
      "  Iteration 159/200 (total 159)...\n",
      "\n"
     ]
    },
    {
     "name": "stdout",
     "output_type": "stream",
     "text": [
      "1.018049 \n",
      "1 \n",
      "Mean(o): -1.300481 ; Var(o): 1.530485 ; Var(si): 0.1191028 \n"
     ]
    },
    {
     "name": "stderr",
     "output_type": "stream",
     "text": [
      "  Iteration 160/200 (total 160)...\n",
      "\n"
     ]
    },
    {
     "name": "stdout",
     "output_type": "stream",
     "text": [
      "1.018036 \n",
      "1 \n",
      "Mean(o): -1.302867 ; Var(o): 1.53083 ; Var(si): 0.1179128 \n"
     ]
    },
    {
     "name": "stderr",
     "output_type": "stream",
     "text": [
      "  Iteration 161/200 (total 161)...\n",
      "\n"
     ]
    },
    {
     "name": "stdout",
     "output_type": "stream",
     "text": [
      "1.018021 \n",
      "1 \n",
      "Mean(o): -1.305255 ; Var(o): 1.53117 ; Var(si): 0.1167313 \n"
     ]
    },
    {
     "name": "stderr",
     "output_type": "stream",
     "text": [
      "  Iteration 162/200 (total 162)...\n",
      "\n"
     ]
    },
    {
     "name": "stdout",
     "output_type": "stream",
     "text": [
      "1.018007 \n",
      "1 \n",
      "Mean(o): -1.307645 ; Var(o): 1.531508 ; Var(si): 0.1155582 \n"
     ]
    },
    {
     "name": "stderr",
     "output_type": "stream",
     "text": [
      "  Iteration 163/200 (total 163)...\n",
      "\n"
     ]
    },
    {
     "name": "stdout",
     "output_type": "stream",
     "text": [
      "1.017991 \n",
      "1 \n",
      "Mean(o): -1.310035 ; Var(o): 1.531841 ; Var(si): 0.1143937 \n"
     ]
    },
    {
     "name": "stderr",
     "output_type": "stream",
     "text": [
      "  Iteration 164/200 (total 164)...\n",
      "\n"
     ]
    },
    {
     "name": "stdout",
     "output_type": "stream",
     "text": [
      "1.017975 \n",
      "1 \n",
      "Mean(o): -1.312425 ; Var(o): 1.532172 ; Var(si): 0.1132379 \n"
     ]
    },
    {
     "name": "stderr",
     "output_type": "stream",
     "text": [
      "  Iteration 165/200 (total 165)...\n",
      "\n"
     ]
    },
    {
     "name": "stdout",
     "output_type": "stream",
     "text": [
      "1.017958 \n",
      "1 \n",
      "Mean(o): -1.314817 ; Var(o): 1.532499 ; Var(si): 0.112091 \n"
     ]
    },
    {
     "name": "stderr",
     "output_type": "stream",
     "text": [
      "  Iteration 166/200 (total 166)...\n",
      "\n"
     ]
    },
    {
     "name": "stdout",
     "output_type": "stream",
     "text": [
      "1.01794 \n",
      "1 \n",
      "Mean(o): -1.317209 ; Var(o): 1.532823 ; Var(si): 0.1109529 \n"
     ]
    },
    {
     "name": "stderr",
     "output_type": "stream",
     "text": [
      "  Iteration 167/200 (total 167)...\n",
      "\n"
     ]
    },
    {
     "name": "stdout",
     "output_type": "stream",
     "text": [
      "1.017921 \n",
      "1 \n",
      "Mean(o): -1.319601 ; Var(o): 1.533145 ; Var(si): 0.1098238 \n"
     ]
    },
    {
     "name": "stderr",
     "output_type": "stream",
     "text": [
      "  Iteration 168/200 (total 168)...\n",
      "\n"
     ]
    },
    {
     "name": "stdout",
     "output_type": "stream",
     "text": [
      "1.017902 \n",
      "1 \n",
      "Mean(o): -1.321993 ; Var(o): 1.533464 ; Var(si): 0.1087039 \n"
     ]
    },
    {
     "name": "stderr",
     "output_type": "stream",
     "text": [
      "  Iteration 169/200 (total 169)...\n",
      "\n"
     ]
    },
    {
     "name": "stdout",
     "output_type": "stream",
     "text": [
      "1.017881 \n",
      "1 \n",
      "Mean(o): -1.324385 ; Var(o): 1.533779 ; Var(si): 0.1075931 \n"
     ]
    },
    {
     "name": "stderr",
     "output_type": "stream",
     "text": [
      "  Iteration 170/200 (total 170)...\n",
      "\n"
     ]
    },
    {
     "name": "stdout",
     "output_type": "stream",
     "text": [
      "1.01786 \n",
      "1 \n",
      "Mean(o): -1.326777 ; Var(o): 1.534093 ; Var(si): 0.1064916 \n"
     ]
    },
    {
     "name": "stderr",
     "output_type": "stream",
     "text": [
      "  Iteration 171/200 (total 171)...\n",
      "\n"
     ]
    },
    {
     "name": "stdout",
     "output_type": "stream",
     "text": [
      "1.017838 \n",
      "1 \n",
      "Mean(o): -1.329168 ; Var(o): 1.534404 ; Var(si): 0.1053996 \n"
     ]
    },
    {
     "name": "stderr",
     "output_type": "stream",
     "text": [
      "  Iteration 172/200 (total 172)...\n",
      "\n"
     ]
    },
    {
     "name": "stdout",
     "output_type": "stream",
     "text": [
      "1.017816 \n",
      "1 \n",
      "Mean(o): -1.331559 ; Var(o): 1.534712 ; Var(si): 0.1043171 \n"
     ]
    },
    {
     "name": "stderr",
     "output_type": "stream",
     "text": [
      "  Iteration 173/200 (total 173)...\n",
      "\n"
     ]
    },
    {
     "name": "stdout",
     "output_type": "stream",
     "text": [
      "1.017793 \n",
      "1 \n",
      "Mean(o): -1.333948 ; Var(o): 1.535018 ; Var(si): 0.1032442 \n"
     ]
    },
    {
     "name": "stderr",
     "output_type": "stream",
     "text": [
      "  Iteration 174/200 (total 174)...\n",
      "\n"
     ]
    },
    {
     "name": "stdout",
     "output_type": "stream",
     "text": [
      "1.017768 \n",
      "1 \n",
      "Mean(o): -1.336336 ; Var(o): 1.535321 ; Var(si): 0.102181 \n"
     ]
    },
    {
     "name": "stderr",
     "output_type": "stream",
     "text": [
      "  Iteration 175/200 (total 175)...\n",
      "\n"
     ]
    },
    {
     "name": "stdout",
     "output_type": "stream",
     "text": [
      "1.017744 \n",
      "1 \n",
      "Mean(o): -1.338723 ; Var(o): 1.535623 ; Var(si): 0.1011277 \n"
     ]
    },
    {
     "name": "stderr",
     "output_type": "stream",
     "text": [
      "  Iteration 176/200 (total 176)...\n",
      "\n"
     ]
    },
    {
     "name": "stdout",
     "output_type": "stream",
     "text": [
      "1.017718 \n",
      "1 \n",
      "Mean(o): -1.341107 ; Var(o): 1.535922 ; Var(si): 0.1000843 \n"
     ]
    },
    {
     "name": "stderr",
     "output_type": "stream",
     "text": [
      "  Iteration 177/200 (total 177)...\n",
      "\n"
     ]
    },
    {
     "name": "stdout",
     "output_type": "stream",
     "text": [
      "1.017692 \n",
      "1 \n",
      "Mean(o): -1.34349 ; Var(o): 1.536219 ; Var(si): 0.09905096 \n"
     ]
    },
    {
     "name": "stderr",
     "output_type": "stream",
     "text": [
      "  Iteration 178/200 (total 178)...\n",
      "\n"
     ]
    },
    {
     "name": "stdout",
     "output_type": "stream",
     "text": [
      "1.017665 \n",
      "1 \n",
      "Mean(o): -1.345871 ; Var(o): 1.536513 ; Var(si): 0.09802774 \n"
     ]
    },
    {
     "name": "stderr",
     "output_type": "stream",
     "text": [
      "  Iteration 179/200 (total 179)...\n",
      "\n"
     ]
    },
    {
     "name": "stdout",
     "output_type": "stream",
     "text": [
      "1.017637 \n",
      "1 \n",
      "Mean(o): -1.348249 ; Var(o): 1.536806 ; Var(si): 0.09701476 \n"
     ]
    },
    {
     "name": "stderr",
     "output_type": "stream",
     "text": [
      "  Iteration 180/200 (total 180)...\n",
      "\n"
     ]
    },
    {
     "name": "stdout",
     "output_type": "stream",
     "text": [
      "1.017609 \n",
      "1 \n",
      "Mean(o): -1.350624 ; Var(o): 1.537096 ; Var(si): 0.09601212 \n"
     ]
    },
    {
     "name": "stderr",
     "output_type": "stream",
     "text": [
      "  Iteration 181/200 (total 181)...\n",
      "\n"
     ]
    },
    {
     "name": "stdout",
     "output_type": "stream",
     "text": [
      "1.01758 \n",
      "1 \n",
      "Mean(o): -1.352996 ; Var(o): 1.537385 ; Var(si): 0.09501992 \n"
     ]
    },
    {
     "name": "stderr",
     "output_type": "stream",
     "text": [
      "  Iteration 182/200 (total 182)...\n",
      "\n"
     ]
    },
    {
     "name": "stdout",
     "output_type": "stream",
     "text": [
      "1.017551 \n",
      "1 \n",
      "Mean(o): -1.355365 ; Var(o): 1.537671 ; Var(si): 0.09403825 \n"
     ]
    },
    {
     "name": "stderr",
     "output_type": "stream",
     "text": [
      "  Iteration 183/200 (total 183)...\n",
      "\n"
     ]
    },
    {
     "name": "stdout",
     "output_type": "stream",
     "text": [
      "1.01752 \n",
      "1 \n",
      "Mean(o): -1.35773 ; Var(o): 1.537955 ; Var(si): 0.09306722 \n"
     ]
    },
    {
     "name": "stderr",
     "output_type": "stream",
     "text": [
      "  Iteration 184/200 (total 184)...\n",
      "\n"
     ]
    },
    {
     "name": "stdout",
     "output_type": "stream",
     "text": [
      "1.01749 \n",
      "1 \n",
      "Mean(o): -1.360091 ; Var(o): 1.538236 ; Var(si): 0.09210691 \n"
     ]
    },
    {
     "name": "stderr",
     "output_type": "stream",
     "text": [
      "  Iteration 185/200 (total 185)...\n",
      "\n"
     ]
    },
    {
     "name": "stdout",
     "output_type": "stream",
     "text": [
      "1.017459 \n",
      "1 \n",
      "Mean(o): -1.362448 ; Var(o): 1.538516 ; Var(si): 0.09115742 \n"
     ]
    },
    {
     "name": "stderr",
     "output_type": "stream",
     "text": [
      "  Iteration 186/200 (total 186)...\n",
      "\n"
     ]
    },
    {
     "name": "stdout",
     "output_type": "stream",
     "text": [
      "1.017427 \n",
      "1 \n",
      "Mean(o): -1.364801 ; Var(o): 1.538794 ; Var(si): 0.09021884 \n"
     ]
    },
    {
     "name": "stderr",
     "output_type": "stream",
     "text": [
      "  Iteration 187/200 (total 187)...\n",
      "\n"
     ]
    },
    {
     "name": "stdout",
     "output_type": "stream",
     "text": [
      "1.017395 \n",
      "1 \n",
      "Mean(o): -1.367148 ; Var(o): 1.539069 ; Var(si): 0.08929125 \n"
     ]
    },
    {
     "name": "stderr",
     "output_type": "stream",
     "text": [
      "  Iteration 188/200 (total 188)...\n",
      "\n"
     ]
    },
    {
     "name": "stdout",
     "output_type": "stream",
     "text": [
      "1.017363 \n",
      "1 \n",
      "Mean(o): -1.36949 ; Var(o): 1.539342 ; Var(si): 0.08837474 \n"
     ]
    },
    {
     "name": "stderr",
     "output_type": "stream",
     "text": [
      "  Iteration 189/200 (total 189)...\n",
      "\n"
     ]
    },
    {
     "name": "stdout",
     "output_type": "stream",
     "text": [
      "1.01733 \n",
      "1 \n",
      "Mean(o): -1.371827 ; Var(o): 1.539613 ; Var(si): 0.08746938 \n"
     ]
    },
    {
     "name": "stderr",
     "output_type": "stream",
     "text": [
      "  Iteration 190/200 (total 190)...\n",
      "\n"
     ]
    },
    {
     "name": "stdout",
     "output_type": "stream",
     "text": [
      "1.017297 \n",
      "1 \n",
      "Mean(o): -1.374158 ; Var(o): 1.539882 ; Var(si): 0.08657526 \n"
     ]
    },
    {
     "name": "stderr",
     "output_type": "stream",
     "text": [
      "  Iteration 191/200 (total 191)...\n",
      "\n"
     ]
    },
    {
     "name": "stdout",
     "output_type": "stream",
     "text": [
      "1.017264 \n",
      "1 \n",
      "Mean(o): -1.376482 ; Var(o): 1.540148 ; Var(si): 0.08569245 \n"
     ]
    },
    {
     "name": "stderr",
     "output_type": "stream",
     "text": [
      "  Iteration 192/200 (total 192)...\n",
      "\n"
     ]
    },
    {
     "name": "stdout",
     "output_type": "stream",
     "text": [
      "1.01723 \n",
      "1 \n",
      "Mean(o): -1.3788 ; Var(o): 1.540412 ; Var(si): 0.08482103 \n"
     ]
    },
    {
     "name": "stderr",
     "output_type": "stream",
     "text": [
      "  Iteration 193/200 (total 193)...\n",
      "\n"
     ]
    },
    {
     "name": "stdout",
     "output_type": "stream",
     "text": [
      "1.017196 \n",
      "1 \n",
      "Mean(o): -1.381111 ; Var(o): 1.540674 ; Var(si): 0.08396105 \n"
     ]
    },
    {
     "name": "stderr",
     "output_type": "stream",
     "text": [
      "  Iteration 194/200 (total 194)...\n",
      "\n"
     ]
    },
    {
     "name": "stdout",
     "output_type": "stream",
     "text": [
      "1.017162 \n",
      "1 \n",
      "Mean(o): -1.383415 ; Var(o): 1.540934 ; Var(si): 0.08311259 \n"
     ]
    },
    {
     "name": "stderr",
     "output_type": "stream",
     "text": [
      "  Iteration 195/200 (total 195)...\n",
      "\n"
     ]
    },
    {
     "name": "stdout",
     "output_type": "stream",
     "text": [
      "1.017128 \n",
      "1 \n",
      "Mean(o): -1.385711 ; Var(o): 1.541191 ; Var(si): 0.08227569 \n"
     ]
    },
    {
     "name": "stderr",
     "output_type": "stream",
     "text": [
      "  Iteration 196/200 (total 196)...\n",
      "\n"
     ]
    },
    {
     "name": "stdout",
     "output_type": "stream",
     "text": [
      "1.017094 \n",
      "1 \n",
      "Mean(o): -1.387999 ; Var(o): 1.541446 ; Var(si): 0.08145043 \n"
     ]
    },
    {
     "name": "stderr",
     "output_type": "stream",
     "text": [
      "  Iteration 197/200 (total 197)...\n",
      "\n"
     ]
    },
    {
     "name": "stdout",
     "output_type": "stream",
     "text": [
      "1.01706 \n",
      "1 \n",
      "Mean(o): -1.390278 ; Var(o): 1.541699 ; Var(si): 0.08063684 \n"
     ]
    },
    {
     "name": "stderr",
     "output_type": "stream",
     "text": [
      "  Iteration 198/200 (total 198)...\n",
      "\n"
     ]
    },
    {
     "name": "stdout",
     "output_type": "stream",
     "text": [
      "1.017026 \n",
      "1 \n",
      "Mean(o): -1.392549 ; Var(o): 1.541949 ; Var(si): 0.07983498 \n"
     ]
    },
    {
     "name": "stderr",
     "output_type": "stream",
     "text": [
      "  Iteration 199/200 (total 199)...\n",
      "\n"
     ]
    },
    {
     "name": "stdout",
     "output_type": "stream",
     "text": [
      "1.016992 \n",
      "1 \n",
      "Mean(o): -1.394811 ; Var(o): 1.542197 ; Var(si): 0.07904488 \n"
     ]
    },
    {
     "name": "stderr",
     "output_type": "stream",
     "text": [
      "  Iteration 200/200 (total 200)...\n",
      "\n"
     ]
    },
    {
     "name": "stdout",
     "output_type": "stream",
     "text": [
      "1.016959 \n",
      "1 \n",
      "Mean(o): -1.397063 ; Var(o): 1.542443 ; Var(si): 0.07826658 \n"
     ]
    }
   ],
   "source": [
    "model$initialize.LVs(randomSeed = 1) # initialize LVs\n",
    "model$optimize(iterations=200) # run model with 500 iterations\n",
    "saveRDS( model, file=\"figures_v3_objects/KIRC.gedi.model.rds\") # Saving output model"
   ]
  },
  {
   "cell_type": "markdown",
   "id": "65c7b1de-7837-4e7f-bd6f-8cf15aaa90f9",
   "metadata": {},
   "source": [
    "#### Store results"
   ]
  },
  {
   "cell_type": "code",
   "execution_count": 13,
   "id": "b858c3cc-5aca-4720-88a1-7c8518e44bd7",
   "metadata": {},
   "outputs": [],
   "source": [
    "# Generating svd\n",
    "svd_res <- svd.gedi( model )\n",
    "embedding_res_svd<- svd_res$v %*% diag(svd_res$d)\n",
    "colnames(embedding_res_svd)<- paste0(\"embedding\", 1:ncol(embedding_res_svd))\n",
    "\n",
    "# Generating umap of 2 dimensions\n",
    "umap_2_res <- umap(embedding_res_svd, min_dist=0.01, metric=\"euclidean\")\n",
    "colnames(umap_2_res)<- paste0(\"umap\", 1:2)\n",
    "rownames(umap_2_res)<- model$aux$cellIDs\n",
    "umap_2_res<- data.frame(umap_2_res)\n",
    "\n",
    "# Reorder meta\n",
    "meta<- meta[model$aux$cellIDs,] # GEDI reorders the cells by sample, so we need to reorder our original metadata\n",
    "\n",
    "# Adding UMAP of n dimensions\n",
    "umap_n_res <- umap( embedding_res_svd, n_components = ncol(embedding_res_svd), min_dist=0.01, metric=\"euclidean\", verbose=F)\n",
    "colnames(umap_n_res)<- paste0(\"umap\", 1:ncol(embedding_res_svd))\n",
    "rownames(umap_n_res)<- model$aux$cellIDs\n",
    "umap_n_res<- data.frame(umap_n_res)        \n",
    "\n",
    "# Saving results\n",
    "lis_res<- list(umap_2_res=umap_2_res,               \n",
    "               umap_n_res=umap_n_res,               \n",
    "               svd_res=svd_res)\n",
    "saveRDS( lis_res, file=\"figures_v3_objects/lis_res.rds\")"
   ]
  },
  {
   "cell_type": "markdown",
   "id": "df2f4e65-f0ff-4d67-9177-f9c607b261ff",
   "metadata": {},
   "source": [
    "## Visualize results"
   ]
  },
  {
   "cell_type": "code",
   "execution_count": 5,
   "id": "3b8e1d00-b343-44d1-8fd2-e3a77915c9ba",
   "metadata": {},
   "outputs": [],
   "source": [
    "gedi_res <- readRDS(\"figures_v3_objects/lis_res.rds\")\n",
    "model <- readRDS(\"figures_v3_objects/KIRC.gedi.model.rds\")\n",
    "meta <- meta[model$aux$cellIDs,]\n",
    "sce <- sce[,rownames(meta)]"
   ]
  },
  {
   "cell_type": "code",
   "execution_count": 6,
   "id": "8f881517-4514-4ac6-87ee-c629474a5b2b",
   "metadata": {},
   "outputs": [],
   "source": [
    "tcga.colors<-rev(c(\"#EF9A9A\",\"#F8BBD0\",\"#CE93D8\",\"#B39DDB\",\"#9FA8DA\",\n",
    "               \"#90CAF9\",\"#81D4FA\",\"#80DEEA\",\"#80CBC4\",\"#A5D6A7\",\n",
    "               \"#C5E1A5\",\"#E6EE9C\",\"#FFF59D\",\"#FFE082\",\"#BCAAA4\",\n",
    "               \"#F44336\",\"#E91E63\",\"#9C27B0\",\"#673AB7\",\"#3F51B5\",\n",
    "               \"#2196F3\",\"#03A9F4\",\"#00BCD4\",\"#009688\",\"#4CAF50\",\n",
    "               \"#8BC34A\",\"#CDDC39\",\"#FFC107\",\"#FF9800\",\"#795548\"))"
   ]
  },
  {
   "cell_type": "code",
   "execution_count": 40,
   "id": "15a29955-0bcc-4fc0-966e-83032af7b9cf",
   "metadata": {},
   "outputs": [
    {
     "data": {
      "image/png": "[encoded data removed]",
      "text/plain": [
       "plot without title"
      ]
     },
     "metadata": {
      "image/png": {
       "height": 330,
       "width": 300
      }
     },
     "output_type": "display_data"
    }
   ],
   "source": [
    "vars_look<- c(\"simple_Sample\", \"celltype_name\", \"infercnv_call\", \"DF_doublet_call\", \"log10_sum\", \"log10_detected\", \"subsets_mito_percent\", \"G2M.Score\", \"S.Score\", \"Phase\", \"class\", \"tumor_site2\", \"sex\", \"subtype\")\n",
    "for( var_plot in vars_look[2]){\n",
    "    p<-ggrastr::rasterise(plot_embedding(gedi_res$umap_2_res, meta[,var_plot]),dpi=500) + \n",
    "        labs(title=var_plot) +\n",
    "        theme_pubr()+\n",
    "        theme(legend.position=\"right\",text=element_text(size=14))\n",
    "    \n",
    "    if(var_plot==\"infercnv_call\"){\n",
    "        tn.cols <- c(\"#8E44AD\",\"#C9C8C8\") \n",
    "        p<-p+scale_color_manual(values=tn.cols)\n",
    "    }else if(var_plot==\"celltype_name\"){\n",
    "        p<-p+scale_color_manual(values=tcga.colors)+\n",
    "            theme(legend.position=\"bottom\")+\n",
    "            labs(color=\"\")\n",
    "        print(p)\n",
    "    }\n",
    "    \n",
    "    ggsave(p,filename = paste0(\"figures_v3/KIRC_caseStudy/gedi_pathways/\",var_plot,\".pdf\"),device=\"pdf\",width = 5.5,height=5,units = \"in\")\n",
    "}"
   ]
  },
  {
   "cell_type": "markdown",
   "id": "14bf7b2a-9a7f-41c6-af6c-c33322829ed8",
   "metadata": {},
   "source": [
    "#### Heatmap of A matrix"
   ]
  },
  {
   "cell_type": "code",
   "execution_count": 47,
   "id": "60fcb6cf-8653-4805-ad8e-765f783e8c80",
   "metadata": {},
   "outputs": [],
   "source": [
    "A<- getA.gedi(model) # pathways x lvs\n",
    "pheatmap.colorsymmetric(A,filename = \"figures_v3/KIRC_caseStudy/gedi_pathways/heatmap_latentvars.pdf\",width = 6,height = 3.5)"
   ]
  },
  {
   "cell_type": "markdown",
   "id": "84ad6136-fd8e-4dec-82b0-bbedd40bc13b",
   "metadata": {},
   "source": [
    "#### Project activity of pathways"
   ]
  },
  {
   "cell_type": "code",
   "execution_count": 52,
   "id": "cc45a29e-ea24-4700-84e4-04a127f1d0fd",
   "metadata": {},
   "outputs": [],
   "source": [
    "ADB<- getADB.gedi(model) # pathways x cell\n",
    "\n",
    "rownames(ADB)<- sub(\"HALLMARK_\", \"\", rownames(ADB) )\n",
    "var_ADB<- apply(ADB, 1, var)\n",
    "top_pathways<- names(sort(var_ADB, decreasing=T)[1:7])\n",
    "\n",
    "ggdat<- data.frame(var_ADB=var_ADB, pathways=names(var_ADB) )\n",
    "\n",
    "ggdat<- ggdat[ggdat$pathways %in% top_pathways,]\n",
    "ggdat$pathways<- factor(ggdat$pathways, levels=top_pathways)\n",
    "\n",
    "g<-ggplot(ggdat,aes(x=pathways, y=var_ADB) ) +\n",
    "    geom_bar(stat=\"identity\") +\n",
    "    theme_pubr()+\n",
    "    theme(axis.text.x=element_text(size=10,angle=60,hjust=1) )+\n",
    "    labs(y=\"Variance in ADB\")\n",
    "ggsave(g,filename = \"figures_v3/KIRC_caseStudy/gedi_pathways/pathways_varPlot.pdf\",width = 3,height = 3.8,units = \"in\")"
   ]
  },
  {
   "cell_type": "code",
   "execution_count": 41,
   "id": "730f2446-798e-473d-b813-ecef8a629747",
   "metadata": {},
   "outputs": [
    {
     "data": {
      "image/png": "[encoded data removed]",
      "text/plain": [
       "plot without title"
      ]
     },
     "metadata": {
      "image/png": {
       "height": 330,
       "width": 300
      }
     },
     "output_type": "display_data"
    },
    {
     "data": {
      "image/png": "[encoded data removed]",
      "text/plain": [
       "plot without title"
      ]
     },
     "metadata": {
      "image/png": {
       "height": 330,
       "width": 300
      }
     },
     "output_type": "display_data"
    },
    {
     "data": {
      "image/png": "[encoded data removed]",
      "text/plain": [
       "plot without title"
      ]
     },
     "metadata": {
      "image/png": {
       "height": 330,
       "width": 300
      }
     },
     "output_type": "display_data"
    },
    {
     "data": {
      "image/png": "[encoded data removed]",
      "text/plain": [
       "plot without title"
      ]
     },
     "metadata": {
      "image/png": {
       "height": 330,
       "width": 300
      }
     },
     "output_type": "display_data"
    },
    {
     "data": {
      "image/png": "[encoded data removed]",
      "text/plain": [
       "plot without title"
      ]
     },
     "metadata": {
      "image/png": {
       "height": 330,
       "width": 300
      }
     },
     "output_type": "display_data"
    },
    {
     "data": {
      "image/png": "[encoded data removed]",
      "text/plain": [
       "plot without title"
      ]
     },
     "metadata": {
      "image/png": {
       "height": 330,
       "width": 300
      }
     },
     "output_type": "display_data"
    },
    {
     "data": {
      "image/png": "[encoded data removed]",
      "text/plain": [
       "plot without title"
      ]
     },
     "metadata": {
      "image/png": {
       "height": 330,
       "width": 300
      }
     },
     "output_type": "display_data"
    }
   ],
   "source": [
    "options(repr.plot.width=5,repr.plot.height=5.5)\n",
    "for(var_plot in top_pathways){\n",
    "    p<-ggrastr::rasterise(plot_embedding(gedi_res$umap_2_res, ADB[var_plot,]),dpi=500) + \n",
    "        labs(title=gsub(\"_\",\" \",var_plot),color=\"Activity\") +\n",
    "        theme_pubr()+\n",
    "        theme(legend.position = \"top\",\n",
    "              text = element_text(size=14))+\n",
    "        guides(color = guide_colourbar(direction = \"horizontal\", \n",
    "                                         barheight = 0.25,\n",
    "                                         barwidth = 7.5,\n",
    "                                         title.position = \"top\",\n",
    "                                         title.hjust = 0.5,\n",
    "                                         label.position = \"bottom\",\n",
    "                                         label.theme = element_text(angle = 40,vjust=1,size=9)))\n",
    "    ggsave(p,filename = paste0(\"figures_v3/KIRC_caseStudy/gedi_pathways/\",var_plot,\".pdf\"),device=\"pdf\",width = 5,height=5.5,units = \"in\")\n",
    "    print(p)\n",
    "}"
   ]
  },
  {
   "cell_type": "code",
   "execution_count": null,
   "id": "4796ca55-326e-4d70-9793-aae49c14d565",
   "metadata": {},
   "outputs": [],
   "source": []
  }
 ],
 "metadata": {
  "kernelspec": {
   "display_name": "R",
   "language": "R",
   "name": "ir"
  },
  "language_info": {
   "codemirror_mode": "r",
   "file_extension": ".r",
   "mimetype": "text/x-r-source",
   "name": "R",
   "pygments_lexer": "r",
   "version": "4.1.2"
  }
 },
 "nbformat": 4,
 "nbformat_minor": 5
}
