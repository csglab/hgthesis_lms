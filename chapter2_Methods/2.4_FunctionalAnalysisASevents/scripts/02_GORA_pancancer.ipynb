{
 "cells": [
  {
   "cell_type": "markdown",
   "id": "56d62bec-f8b6-42ae-b0e8-60f78fdfcde8",
   "metadata": {},
   "source": [
    "# Gene Overrrepresentation Analysis"
   ]
  },
  {
   "cell_type": "markdown",
   "id": "8bd19e5a-0f72-4817-8ac5-e7edb998b4eb",
   "metadata": {
    "tags": []
   },
   "source": [
    "### Setup"
   ]
  },
  {
   "cell_type": "markdown",
   "id": "7b6f8129-d83e-4b2f-83fe-94943fc19b82",
   "metadata": {},
   "source": [
    "#### Libraries"
   ]
  },
  {
   "cell_type": "code",
   "execution_count": 1,
   "id": "1adf62f4-23d9-426a-a97e-5ccf3b02abc2",
   "metadata": {
    "tags": []
   },
   "outputs": [
    {
     "name": "stderr",
     "output_type": "stream",
     "text": [
      "\n",
      "Attaching package: ‘dplyr’\n",
      "\n",
      "\n",
      "The following objects are masked from ‘package:stats’:\n",
      "\n",
      "    filter, lag\n",
      "\n",
      "\n",
      "The following objects are masked from ‘package:base’:\n",
      "\n",
      "    intersect, setdiff, setequal, union\n",
      "\n",
      "\n",
      "Loading required package: grid\n",
      "\n",
      "========================================\n",
      "ComplexHeatmap version 2.8.0\n",
      "Bioconductor page: http://bioconductor.org/packages/ComplexHeatmap/\n",
      "Github page: https://github.com/jokergoo/ComplexHeatmap\n",
      "Documentation: http://jokergoo.github.io/ComplexHeatmap-reference\n",
      "\n",
      "If you use it in published research, please cite:\n",
      "Gu, Z. Complex heatmaps reveal patterns and correlations in multidimensional \n",
      "  genomic data. Bioinformatics 2016.\n",
      "\n",
      "The new InteractiveComplexHeatmap package can directly export static \n",
      "complex heatmaps into an interactive Shiny app with zero effort. Have a try!\n",
      "\n",
      "This message can be suppressed by:\n",
      "  suppressPackageStartupMessages(library(ComplexHeatmap))\n",
      "========================================\n",
      "\n",
      "\n",
      "\n",
      "Attaching package: ‘matrixStats’\n",
      "\n",
      "\n",
      "The following object is masked from ‘package:dplyr’:\n",
      "\n",
      "    count\n",
      "\n",
      "\n"
     ]
    }
   ],
   "source": [
    "library(dplyr)\n",
    "library(ggVennDiagram)\n",
    "library(ggplot2)\n",
    "library(ggsci)\n",
    "library(fgsea)\n",
    "library(ComplexHeatmap)\n",
    "library(matrixStats)\n",
    "library(ggpubr)\n",
    "library(msigdbr)\n",
    "library(patchwork)"
   ]
  },
  {
   "cell_type": "markdown",
   "id": "1c0092b1-b194-494b-a03f-c58c243a7864",
   "metadata": {},
   "source": [
    "#### Parameters"
   ]
  },
  {
   "cell_type": "code",
   "execution_count": 2,
   "id": "e46e4bd1-4aca-441a-bb36-04a5e784b5ee",
   "metadata": {},
   "outputs": [],
   "source": [
    "# Analysis type\n",
    "#analysis<-\"tumorStageContinuous\"\n",
    "#voi<-\"stage\"\n",
    "analysis<-\"condition\"\n",
    "voi<-\"conditiontumor\"\n",
    "\n",
    "# Event information\n",
    "out_obj_dir<-\"../input/trex_objects\"\n",
    "flags_dir<-\"../output/psi_flags\"\n",
    "events_used<-c(\"SE\",\"A3\",\"A5\",\"MX\",\"RI\",\"AF\",\"AL\")\n",
    "cancer_order_set<-c(\"SKCM\",\"UVM\",\"SARC\",\"LAML\",\"TGCT\",\"UCEC\",\"CESC\",\"PRAD\",\"READ\",\"BLCA\",\n",
    "                \"COAD\",\"PAAD\",\"CHOL\",\"KIRP\",\"KIRC\",\"KICH\",\"ACC\",\"PCPG\",\"STAD\",\"LIHC\",\n",
    "                \"MESO\",\"LUSC\",\"LUAD\",\"BRCA\",\"THCA\",\"ESCA\",\"HNSC\")\n",
    "\n",
    "# Input reference files \n",
    "gmapfile<-\"../input/references/gencode.v37.primary_assembly.annotation.geneIDmap.tsv\"\n",
    "cell_file<-\"../input/references/CellMarker_Augmented_2021.parsed.tsv\"\n",
    "\n",
    "# Cutoffs \n",
    "p.signif.event<-0.05\n",
    "p.signif.pathway<-0.2\n",
    "min.lfc.gsea<-0.05\n",
    "\n",
    "# Internal\n",
    "fig_obj_dir<-paste0(\"../output/figure_objects/gora_\",analysis)\n",
    "vars<-c(voi,\"impurity\")\n",
    "res.file<-paste0(out_obj_dir,\"/tcga.\",analysis,\".res.lfcShrink.RDS\")\n",
    "dir.create(fig_obj_dir, showWarnings = FALSE)\n",
    "set.seed(7)"
   ]
  },
  {
   "cell_type": "markdown",
   "id": "6565ae2f-29d1-4d2f-b3ab-5d4023bb670e",
   "metadata": {},
   "source": [
    "#### Functions"
   ]
  },
  {
   "cell_type": "code",
   "execution_count": 3,
   "id": "e32214f7-fbdf-4cf2-979a-9e703e650e50",
   "metadata": {},
   "outputs": [],
   "source": [
    "# GORA analysis function\n",
    "fora_test<-function(d,event,...){\n",
    "    d <- d %>% \n",
    "          distinct(gene_id) \n",
    "    gene_univ<-gene_universe[gene_universe$event_type==event,\"gene_id\"]\n",
    "    res<-fora(pathways = hm_list,\n",
    "              genes = d$gene_id,\n",
    "              universe = gene_univ,\n",
    "              minSize = 15, \n",
    "              maxSize = 250) \n",
    "    return(res)\n",
    "}\n",
    "\n",
    "# Wrapper to test each event type \n",
    "gora_test_event<-function(res.shared,event,...){\n",
    "    \n",
    "    data.ev <- res.shared %>% \n",
    "                ungroup() %>%\n",
    "                filter(event_type==event) %>%\n",
    "                mutate(gene_id = sub(\"\\\\..*\",\"\",gene_id))\n",
    "   \n",
    "    ora<-data.ev %>% \n",
    "            tidyr::nest(data = c(event_id,gene_id)) %>%\n",
    "            mutate(gora_res = lapply(data,function(d,...){fora_test(d,event)})) %>%\n",
    "            select(-data) %>%\n",
    "            tidyr::unnest(gora_res) %>% \n",
    "            ungroup() %>%\n",
    "            mutate(significant=padj<p.signif.pathway)\n",
    "    \n",
    "    gora_res.plt <- ora %>%\n",
    "                    ungroup() %>%\n",
    "                    mutate(pathway=sub(\"HALLMARK_\",\"\",pathway),\n",
    "                           poverlap=round(overlap/size,2)*100) \n",
    "    \n",
    "    return(gora_res.plt)\n",
    "}\n",
    "\n",
    "gora_shared_events<-function(ev.sum,n=2,h=6,...){\n",
    "    ev.shared<-ev.sum %>%\n",
    "                 filter(ncancers_signif>=n)  %>%\n",
    "                 select(-ncancers_signif,-ncancers) %>%\n",
    "                 ungroup() %>%\n",
    "                 distinct() \n",
    "    \n",
    "    if(nrow(ev.shared)!=0){\n",
    "\n",
    "        gora_res<-lapply(events_used,function(evn,...){\n",
    "                     gora<-gora_test_event(event = evn,res.shared = ev.shared)}) %>%\n",
    "                  do.call(rbind,.) %>%\n",
    "                  group_by(pathway) %>%\n",
    "                  mutate(nsig=sum(significant)) %>%\n",
    "                  filter(nsig>=1) %>%\n",
    "                  group_by(event_type,pathway) %>%\n",
    "                  slice_min(padj)\n",
    "        if(nrow(gora_res)>=2){\n",
    "            pord<-gora_res %>%\n",
    "                  select(-overlapGenes) %>%\n",
    "                  group_by(pathway)%>%\n",
    "                  summarize(n=sum(significant),s=sum(overlap)) %>%\n",
    "                  arrange(desc(n)) \n",
    "            cord<-gora_res %>%\n",
    "                  select(-overlapGenes) %>%\n",
    "                  group_by(event_type) %>%\n",
    "                  summarize(nsig=sum(significant))%>%\n",
    "                  arrange(nsig)\n",
    "\n",
    "            gora_res.plt<-gora_res %>%\n",
    "                          mutate(pathway=factor(pathway,levels=pord$pathway),\n",
    "                                 event_type=factor(event_type,levels=cord$event_type))\n",
    "            np<-length(unique(gora_res.plt$pathway))\n",
    "\n",
    "        }else{\n",
    "            message(\"No significant pathways found\")\n",
    "            return(NULL)\n",
    "        }\n",
    "    }else{\n",
    "        message(\"No events are shared in \",n,\" cancers\")\n",
    "        return(NULL)\n",
    "    }\n",
    "    return(gora_res.plt)\n",
    "}"
   ]
  },
  {
   "cell_type": "markdown",
   "id": "49e7a733-3721-4763-a128-39b2dd5ffe95",
   "metadata": {},
   "source": [
    "### Load data"
   ]
  },
  {
   "cell_type": "code",
   "execution_count": 4,
   "id": "16ba5dbc-40f8-47a3-a9ab-53a2e0cd9992",
   "metadata": {},
   "outputs": [],
   "source": [
    "trex.res.lfsh<-readRDS(file = res.file) %>%\n",
    "               filter(event_type %in% events_used)"
   ]
  },
  {
   "cell_type": "code",
   "execution_count": 5,
   "id": "022c7522-2ae0-4ca5-8ce8-9231c1cb632f",
   "metadata": {
    "tags": []
   },
   "outputs": [],
   "source": [
    "flags<-lapply(unique(trex.res.lfsh$cancer),function(can){\n",
    "            d<-list.files(flags_dir,pattern=paste0(can,\"*\"),full.names=T) %>%\n",
    "                lapply(.,function(fl,...){\n",
    "                    d<-data.table::fread(fl,data.table=F) %>%\n",
    "                        mutate(event_type=sub(\"_psi.*\",\"\",basename(fl)) %>% sub(\".*_\",\"\",.),\n",
    "                               cancer=can) \n",
    "                    return(d)\n",
    "                }) %>%\n",
    "            do.call(rbind,.)\n",
    "        }) %>% \n",
    "        do.call(rbind,.) %>%\n",
    "        filter(event_type %in% events_used) "
   ]
  },
  {
   "cell_type": "code",
   "execution_count": 6,
   "id": "ea69c1e7-62d6-429a-a89e-be42c814ef67",
   "metadata": {},
   "outputs": [
    {
     "name": "stderr",
     "output_type": "stream",
     "text": [
      "\u001b[1m\u001b[22mJoining, by = c(\"event_type\", \"cancer\", \"event_id\")\n"
     ]
    }
   ],
   "source": [
    "trex.res.fg<-left_join(trex.res.lfsh,flags)\n",
    "trex.res.sig<-trex.res.fg %>%\n",
    "              filter(exp_var==voi) %>%\n",
    "              filter(event_flag==\"valid\") %>%\n",
    "              mutate(significant=padj<p.signif.event)"
   ]
  },
  {
   "cell_type": "code",
   "execution_count": 7,
   "id": "220bbc8b-619d-42b2-9492-693cb51f53f1",
   "metadata": {},
   "outputs": [
    {
     "data": {
      "text/html": [
       "<style>\n",
       ".list-inline {list-style: none; margin:0; padding: 0}\n",
       ".list-inline>li {display: inline-block}\n",
       ".list-inline>li:not(:last-child)::after {content: \"\\00b7\"; padding: 0 .5ex}\n",
       "</style>\n",
       "<ol class=list-inline><li>'baseMean'</li><li>'log2FoldChange'</li><li>'lfcSE'</li><li>'stat'</li><li>'pvalue'</li><li>'padj'</li><li>'gene_id'</li><li>'event_type'</li><li>'cancer'</li><li>'analysis'</li><li>'exp_var'</li><li>'event_id'</li><li>'mean_psi_tumor'</li><li>'mean_psi_normal'</li><li>'na_tumor'</li><li>'na_normal'</li><li>'pi_tumor'</li><li>'pi_normal'</li><li>'p_na'</li><li>'psi_flag'</li><li>'samples_flag'</li><li>'na_flag'</li><li>'event_flag'</li><li>'significant'</li></ol>\n"
      ],
      "text/latex": [
       "\\begin{enumerate*}\n",
       "\\item 'baseMean'\n",
       "\\item 'log2FoldChange'\n",
       "\\item 'lfcSE'\n",
       "\\item 'stat'\n",
       "\\item 'pvalue'\n",
       "\\item 'padj'\n",
       "\\item 'gene\\_id'\n",
       "\\item 'event\\_type'\n",
       "\\item 'cancer'\n",
       "\\item 'analysis'\n",
       "\\item 'exp\\_var'\n",
       "\\item 'event\\_id'\n",
       "\\item 'mean\\_psi\\_tumor'\n",
       "\\item 'mean\\_psi\\_normal'\n",
       "\\item 'na\\_tumor'\n",
       "\\item 'na\\_normal'\n",
       "\\item 'pi\\_tumor'\n",
       "\\item 'pi\\_normal'\n",
       "\\item 'p\\_na'\n",
       "\\item 'psi\\_flag'\n",
       "\\item 'samples\\_flag'\n",
       "\\item 'na\\_flag'\n",
       "\\item 'event\\_flag'\n",
       "\\item 'significant'\n",
       "\\end{enumerate*}\n"
      ],
      "text/markdown": [
       "1. 'baseMean'\n",
       "2. 'log2FoldChange'\n",
       "3. 'lfcSE'\n",
       "4. 'stat'\n",
       "5. 'pvalue'\n",
       "6. 'padj'\n",
       "7. 'gene_id'\n",
       "8. 'event_type'\n",
       "9. 'cancer'\n",
       "10. 'analysis'\n",
       "11. 'exp_var'\n",
       "12. 'event_id'\n",
       "13. 'mean_psi_tumor'\n",
       "14. 'mean_psi_normal'\n",
       "15. 'na_tumor'\n",
       "16. 'na_normal'\n",
       "17. 'pi_tumor'\n",
       "18. 'pi_normal'\n",
       "19. 'p_na'\n",
       "20. 'psi_flag'\n",
       "21. 'samples_flag'\n",
       "22. 'na_flag'\n",
       "23. 'event_flag'\n",
       "24. 'significant'\n",
       "\n",
       "\n"
      ],
      "text/plain": [
       " [1] \"baseMean\"        \"log2FoldChange\"  \"lfcSE\"           \"stat\"           \n",
       " [5] \"pvalue\"          \"padj\"            \"gene_id\"         \"event_type\"     \n",
       " [9] \"cancer\"          \"analysis\"        \"exp_var\"         \"event_id\"       \n",
       "[13] \"mean_psi_tumor\"  \"mean_psi_normal\" \"na_tumor\"        \"na_normal\"      \n",
       "[17] \"pi_tumor\"        \"pi_normal\"       \"p_na\"            \"psi_flag\"       \n",
       "[21] \"samples_flag\"    \"na_flag\"         \"event_flag\"      \"significant\"    "
      ]
     },
     "metadata": {},
     "output_type": "display_data"
    }
   ],
   "source": [
    "colnames(trex.res.sig)"
   ]
  },
  {
   "cell_type": "code",
   "execution_count": 8,
   "id": "1693b8cb-ea14-47bf-8bc4-925a8888ea93",
   "metadata": {},
   "outputs": [
    {
     "name": "stderr",
     "output_type": "stream",
     "text": [
      "\u001b[1m\u001b[22m`summarise()` has grouped output by 'event_type', 'gene_id'. You can override\n",
      "using the `.groups` argument.\n"
     ]
    }
   ],
   "source": [
    "sevs<-trex.res.sig %>%\n",
    "      filter(significant) %>%\n",
    "      distinct(event_id)\n",
    "\n",
    "ev.sum<-trex.res.sig %>%\n",
    "        filter(event_id %in% sevs$event_id) %>%\n",
    "        group_by(event_type,gene_id,event_id) %>%\n",
    "        summarize(ncancers=length(unique(cancer)),\n",
    "                  ncancers_signif=length(unique(cancer[significant]))) %>%\n",
    "        arrange(desc(ncancers)) %>%\n",
    "        mutate(event_type=factor(event_type,levels=events_used))"
   ]
  },
  {
   "cell_type": "code",
   "execution_count": 9,
   "id": "3b48960f-efe0-4e5e-b3cb-60e54086645e",
   "metadata": {},
   "outputs": [
    {
     "data": {
      "text/html": [
       "<table class=\"dataframe\">\n",
       "<caption>A grouped_df: 6 × 5</caption>\n",
       "<thead>\n",
       "\t<tr><th scope=col>event_type</th><th scope=col>gene_id</th><th scope=col>event_id</th><th scope=col>ncancers</th><th scope=col>ncancers_signif</th></tr>\n",
       "\t<tr><th scope=col>&lt;fct&gt;</th><th scope=col>&lt;chr&gt;</th><th scope=col>&lt;chr&gt;</th><th scope=col>&lt;int&gt;</th><th scope=col>&lt;int&gt;</th></tr>\n",
       "</thead>\n",
       "<tbody>\n",
       "\t<tr><td>MX</td><td>ENSG00000001497.18</td><td>ENSG00000001497.18;MX:chrX:65531438-65532561:65532630-65534480:65531438-65533610:65533735-65534480:-        </td><td>20</td><td>3</td></tr>\n",
       "\t<tr><td>MX</td><td>ENSG00000001631.16</td><td>ENSG00000001631.16;MX:chr7:92242137-92244902:92245171-92245790:92242137-92245427:92245595-92245790:-        </td><td>20</td><td>1</td></tr>\n",
       "\t<tr><td>MX</td><td>ENSG00000003436.16</td><td>ENSG00000003436.16;MX:chr2:187503770-187513616:187513646-187554200:187503770-187520542:187520613-187554200:-</td><td>20</td><td>2</td></tr>\n",
       "\t<tr><td>MX</td><td>ENSG00000003436.16</td><td>ENSG00000003436.16;MX:chr2:187503770-187513616:187513646-187554200:187503770-187529364:187529485-187554200:-</td><td>20</td><td>3</td></tr>\n",
       "\t<tr><td>MX</td><td>ENSG00000003436.16</td><td>ENSG00000003436.16;MX:chr2:187503770-187520542:187520613-187554200:187503770-187529364:187529485-187554200:-</td><td>20</td><td>3</td></tr>\n",
       "\t<tr><td>MX</td><td>ENSG00000003509.16</td><td>ENSG00000003509.16;MX:chr2:37231760-37232106:37232266-37237757:37231760-37236096:37236176-37237757:+        </td><td>20</td><td>5</td></tr>\n",
       "</tbody>\n",
       "</table>\n"
      ],
      "text/latex": [
       "A grouped\\_df: 6 × 5\n",
       "\\begin{tabular}{lllll}\n",
       " event\\_type & gene\\_id & event\\_id & ncancers & ncancers\\_signif\\\\\n",
       " <fct> & <chr> & <chr> & <int> & <int>\\\\\n",
       "\\hline\n",
       "\t MX & ENSG00000001497.18 & ENSG00000001497.18;MX:chrX:65531438-65532561:65532630-65534480:65531438-65533610:65533735-65534480:-         & 20 & 3\\\\\n",
       "\t MX & ENSG00000001631.16 & ENSG00000001631.16;MX:chr7:92242137-92244902:92245171-92245790:92242137-92245427:92245595-92245790:-         & 20 & 1\\\\\n",
       "\t MX & ENSG00000003436.16 & ENSG00000003436.16;MX:chr2:187503770-187513616:187513646-187554200:187503770-187520542:187520613-187554200:- & 20 & 2\\\\\n",
       "\t MX & ENSG00000003436.16 & ENSG00000003436.16;MX:chr2:187503770-187513616:187513646-187554200:187503770-187529364:187529485-187554200:- & 20 & 3\\\\\n",
       "\t MX & ENSG00000003436.16 & ENSG00000003436.16;MX:chr2:187503770-187520542:187520613-187554200:187503770-187529364:187529485-187554200:- & 20 & 3\\\\\n",
       "\t MX & ENSG00000003509.16 & ENSG00000003509.16;MX:chr2:37231760-37232106:37232266-37237757:37231760-37236096:37236176-37237757:+         & 20 & 5\\\\\n",
       "\\end{tabular}\n"
      ],
      "text/markdown": [
       "\n",
       "A grouped_df: 6 × 5\n",
       "\n",
       "| event_type &lt;fct&gt; | gene_id &lt;chr&gt; | event_id &lt;chr&gt; | ncancers &lt;int&gt; | ncancers_signif &lt;int&gt; |\n",
       "|---|---|---|---|---|\n",
       "| MX | ENSG00000001497.18 | ENSG00000001497.18;MX:chrX:65531438-65532561:65532630-65534480:65531438-65533610:65533735-65534480:-         | 20 | 3 |\n",
       "| MX | ENSG00000001631.16 | ENSG00000001631.16;MX:chr7:92242137-92244902:92245171-92245790:92242137-92245427:92245595-92245790:-         | 20 | 1 |\n",
       "| MX | ENSG00000003436.16 | ENSG00000003436.16;MX:chr2:187503770-187513616:187513646-187554200:187503770-187520542:187520613-187554200:- | 20 | 2 |\n",
       "| MX | ENSG00000003436.16 | ENSG00000003436.16;MX:chr2:187503770-187513616:187513646-187554200:187503770-187529364:187529485-187554200:- | 20 | 3 |\n",
       "| MX | ENSG00000003436.16 | ENSG00000003436.16;MX:chr2:187503770-187520542:187520613-187554200:187503770-187529364:187529485-187554200:- | 20 | 3 |\n",
       "| MX | ENSG00000003509.16 | ENSG00000003509.16;MX:chr2:37231760-37232106:37232266-37237757:37231760-37236096:37236176-37237757:+         | 20 | 5 |\n",
       "\n"
      ],
      "text/plain": [
       "  event_type gene_id           \n",
       "1 MX         ENSG00000001497.18\n",
       "2 MX         ENSG00000001631.16\n",
       "3 MX         ENSG00000003436.16\n",
       "4 MX         ENSG00000003436.16\n",
       "5 MX         ENSG00000003436.16\n",
       "6 MX         ENSG00000003509.16\n",
       "  event_id                                                                                                    \n",
       "1 ENSG00000001497.18;MX:chrX:65531438-65532561:65532630-65534480:65531438-65533610:65533735-65534480:-        \n",
       "2 ENSG00000001631.16;MX:chr7:92242137-92244902:92245171-92245790:92242137-92245427:92245595-92245790:-        \n",
       "3 ENSG00000003436.16;MX:chr2:187503770-187513616:187513646-187554200:187503770-187520542:187520613-187554200:-\n",
       "4 ENSG00000003436.16;MX:chr2:187503770-187513616:187513646-187554200:187503770-187529364:187529485-187554200:-\n",
       "5 ENSG00000003436.16;MX:chr2:187503770-187520542:187520613-187554200:187503770-187529364:187529485-187554200:-\n",
       "6 ENSG00000003509.16;MX:chr2:37231760-37232106:37232266-37237757:37231760-37236096:37236176-37237757:+        \n",
       "  ncancers ncancers_signif\n",
       "1 20       3              \n",
       "2 20       1              \n",
       "3 20       2              \n",
       "4 20       3              \n",
       "5 20       3              \n",
       "6 20       5              "
      ]
     },
     "metadata": {},
     "output_type": "display_data"
    }
   ],
   "source": [
    "head(ev.sum)"
   ]
  },
  {
   "cell_type": "markdown",
   "id": "d8f7e6d0-d585-4e77-b738-02e3429a5563",
   "metadata": {},
   "source": [
    "## Gene overrepresentation analysis"
   ]
  },
  {
   "cell_type": "markdown",
   "id": "9eeca818-9ac5-4bc5-9f11-9125f9e6fbf1",
   "metadata": {},
   "source": [
    "#### Defining gene sets"
   ]
  },
  {
   "cell_type": "code",
   "execution_count": 10,
   "id": "e620e5b1-42a3-4dfd-9eee-9a1f4fc228b7",
   "metadata": {},
   "outputs": [],
   "source": [
    "# Hallmark pathways\n",
    "hm_gene_sets <- msigdbr(species = \"human\",category=\"H\") \n",
    "hm_df <- hm_gene_sets %>% \n",
    "         distinct(gs_cat,gs_name,ensembl_gene) %>%\n",
    "         as.data.frame() \n",
    "hm_list <- split(x = hm_df$ensembl_gene, f = hm_df$gs_name)"
   ]
  },
  {
   "cell_type": "code",
   "execution_count": 11,
   "id": "bf61bf6c-401f-44c2-8b43-2add09bcb69d",
   "metadata": {},
   "outputs": [
    {
     "name": "stderr",
     "output_type": "stream",
     "text": [
      "\u001b[1m\u001b[22mJoining, by = \"SYMBOL\"\n"
     ]
    }
   ],
   "source": [
    "# Cell type signatures\n",
    "genemap<-data.table::fread(gmapfile,data.table=F)\n",
    "cell_genes<-read.table(cell_file,sep = \"\\t\") %>%\n",
    "            rename(\"gs_name\"=\"V1\",\n",
    "                  \"SYMBOL\"=\"V2\") %>%\n",
    "            rowwise() %>%\n",
    "            mutate(SYMBOL=strsplit(SYMBOL,\",\")) %>%\n",
    "            group_by(gs_name) %>%\n",
    "            tidyr::unnest(cols = c(SYMBOL)) %>%\n",
    "            left_join(.,genemap) %>%\n",
    "            select(-GENENAME,-SYMBOL) %>%\n",
    "            rename(\"ensembl_gene\"=\"GENEID\") %>%\n",
    "            mutate(tissue=sub(\".*:\",\"\",gs_name)) %>%\n",
    "            filter(tissue %in% c('Bone Marrow','Skeletal Muscle','Muscle')) %>%\n",
    "            select(-tissue) %>%\n",
    "            mutate(gs_name=sub(\"Bone Marrow\",\"BM\",gs_name) %>% sub(\"Skeletal Muscle\",\"SM\",.) %>% sub(\"Muscle\",\"M\",.),\n",
    "                   gs_cat=\"C\") "
   ]
  },
  {
   "cell_type": "code",
   "execution_count": 12,
   "id": "5eb872d0-4b2d-4ed4-b052-9897cae9b3de",
   "metadata": {},
   "outputs": [
    {
     "data": {
      "text/html": [
       "<table class=\"dataframe\">\n",
       "<caption>A grouped_df: 2 × 3</caption>\n",
       "<thead>\n",
       "\t<tr><th scope=col>gs_name</th><th scope=col>ensembl_gene</th><th scope=col>gs_cat</th></tr>\n",
       "\t<tr><th scope=col>&lt;chr&gt;</th><th scope=col>&lt;chr&gt;</th><th scope=col>&lt;chr&gt;</th></tr>\n",
       "</thead>\n",
       "<tbody>\n",
       "\t<tr><td>Dendritic cell:BM</td><td>ENSG00000019582</td><td>C</td></tr>\n",
       "\t<tr><td>Dendritic cell:BM</td><td>ENSG00000167851</td><td>C</td></tr>\n",
       "</tbody>\n",
       "</table>\n"
      ],
      "text/latex": [
       "A grouped\\_df: 2 × 3\n",
       "\\begin{tabular}{lll}\n",
       " gs\\_name & ensembl\\_gene & gs\\_cat\\\\\n",
       " <chr> & <chr> & <chr>\\\\\n",
       "\\hline\n",
       "\t Dendritic cell:BM & ENSG00000019582 & C\\\\\n",
       "\t Dendritic cell:BM & ENSG00000167851 & C\\\\\n",
       "\\end{tabular}\n"
      ],
      "text/markdown": [
       "\n",
       "A grouped_df: 2 × 3\n",
       "\n",
       "| gs_name &lt;chr&gt; | ensembl_gene &lt;chr&gt; | gs_cat &lt;chr&gt; |\n",
       "|---|---|---|\n",
       "| Dendritic cell:BM | ENSG00000019582 | C |\n",
       "| Dendritic cell:BM | ENSG00000167851 | C |\n",
       "\n"
      ],
      "text/plain": [
       "  gs_name           ensembl_gene    gs_cat\n",
       "1 Dendritic cell:BM ENSG00000019582 C     \n",
       "2 Dendritic cell:BM ENSG00000167851 C     "
      ]
     },
     "metadata": {},
     "output_type": "display_data"
    }
   ],
   "source": [
    "head(cell_genes,2)"
   ]
  },
  {
   "cell_type": "code",
   "execution_count": 13,
   "id": "719bb1f0-2e1a-46fe-8723-f6f3ae30c02a",
   "metadata": {},
   "outputs": [],
   "source": [
    "gene_universe <- trex.res.lfsh %>%\n",
    "                   filter(exp_var==voi) %>%\n",
    "                   select(event_type,gene_id) %>%\n",
    "                   mutate(gene_id = sub(\"\\\\..*\",\"\",gene_id)) %>%\n",
    "                   distinct() %>%\n",
    "                   arrange(event_type)"
   ]
  },
  {
   "cell_type": "code",
   "execution_count": 14,
   "id": "e0327d08-25e6-4508-990a-b169fbf1de59",
   "metadata": {},
   "outputs": [],
   "source": [
    "cancer_order<-cancer_order_set[cancer_order_set%in%unique(trex.res.lfsh$cancer)]"
   ]
  },
  {
   "cell_type": "markdown",
   "id": "51a65a15-4be2-4e2b-b100-18a07fa1c4ed",
   "metadata": {
    "tags": []
   },
   "source": [
    "### Analysis of tumour events shared across cancers"
   ]
  },
  {
   "cell_type": "code",
   "execution_count": 15,
   "id": "2307e2e5-f385-4a12-aa66-3be2dcd73e01",
   "metadata": {
    "tags": []
   },
   "outputs": [
    {
     "name": "stderr",
     "output_type": "stream",
     "text": [
      "GORA of events shared in 2 cancer types...\n",
      "\n",
      "Storing results object...\n",
      "\n",
      "GORA of events shared in 3 cancer types...\n",
      "\n",
      "Storing results object...\n",
      "\n",
      "GORA of events shared in 4 cancer types...\n",
      "\n",
      "Storing results object...\n",
      "\n",
      "GORA of events shared in 5 cancer types...\n",
      "\n",
      "Storing results object...\n",
      "\n",
      "GORA of events shared in 6 cancer types...\n",
      "\n",
      "Storing results object...\n",
      "\n",
      "GORA of events shared in 7 cancer types...\n",
      "\n",
      "Storing results object...\n",
      "\n",
      "GORA of events shared in 8 cancer types...\n",
      "\n",
      "Storing results object...\n",
      "\n",
      "GORA of events shared in 9 cancer types...\n",
      "\n",
      "Storing results object...\n",
      "\n",
      "GORA of events shared in 10 cancer types...\n",
      "\n",
      "Storing results object...\n",
      "\n",
      "GORA of events shared in 11 cancer types...\n",
      "\n",
      "Storing results object...\n",
      "\n",
      "GORA of events shared in 12 cancer types...\n",
      "\n",
      "Storing results object...\n",
      "\n",
      "GORA of events shared in 13 cancer types...\n",
      "\n",
      "Storing results object...\n",
      "\n",
      "GORA of events shared in 14 cancer types...\n",
      "\n",
      "Storing results object...\n",
      "\n"
     ]
    }
   ],
   "source": [
    "sizes<-sort(unique(ev.sum$ncancers_signif[ev.sum$ncancers_signif>=2 & ev.sum$ncancers_signif<=14]))\n",
    "for(nc in sizes){\n",
    "    message(\"GORA of events shared in \",nc,\" cancer types...\")\n",
    "    gres<-gora_shared_events(ev.sum,n=nc,h=6)\n",
    "    if(is.null(gres)){\n",
    "        message(\"Maxed out\")\n",
    "        break\n",
    "    }else{\n",
    "        message(\"Storing results object...\")\n",
    "        outfile<-paste0(fig_obj_dir,\"/res.\",analysis,\".shared.\",nc,\".cancers.RDS\")\n",
    "        saveRDS(gres,file = outfile)\n",
    "    }\n",
    "}"
   ]
  },
  {
   "cell_type": "markdown",
   "id": "1325a751-1780-43fc-a390-bfff6cf4b50f",
   "metadata": {},
   "source": [
    "### Analysis per coefficient and event type\n",
    "\n",
    "For all covariates and event types using only events that pass the thresholds defined in the input parameters and are flagged as valid PSIs."
   ]
  },
  {
   "cell_type": "code",
   "execution_count": 16,
   "id": "83b3383b-d6d8-423e-9afc-417aa6739a4a",
   "metadata": {},
   "outputs": [],
   "source": [
    "hm_df <- rbind(cell_genes,hm_df)"
   ]
  },
  {
   "cell_type": "code",
   "execution_count": 17,
   "id": "69df9cac-6374-4d1d-bfd2-dd66dd887a57",
   "metadata": {
    "tags": []
   },
   "outputs": [
    {
     "name": "stderr",
     "output_type": "stream",
     "text": [
      "Testing enrichment of H gene sets...\n",
      "\n",
      "Using conditiontumor coefficients...\n",
      "\n",
      "Analyzing SE events...\n",
      "\n",
      "Analyzing A3 events...\n",
      "\n",
      "Analyzing A5 events...\n",
      "\n",
      "Analyzing MX events...\n",
      "\n",
      "Analyzing RI events...\n",
      "\n",
      "Analyzing AF events...\n",
      "\n",
      "Analyzing AL events...\n",
      "\n",
      "Using impurity coefficients...\n",
      "\n",
      "Analyzing SE events...\n",
      "\n",
      "Analyzing A3 events...\n",
      "\n",
      "Analyzing A5 events...\n",
      "\n",
      "Analyzing MX events...\n",
      "\n",
      "Analyzing RI events...\n",
      "\n",
      "Analyzing AF events...\n",
      "\n",
      "Analyzing AL events...\n",
      "\n",
      "Testing enrichment of C gene sets...\n",
      "\n",
      "Using conditiontumor coefficients...\n",
      "\n",
      "Analyzing SE events...\n",
      "\n",
      "Analyzing A3 events...\n",
      "\n",
      "Analyzing A5 events...\n",
      "\n",
      "Analyzing MX events...\n",
      "\n",
      "Analyzing RI events...\n",
      "\n",
      "Analyzing AF events...\n",
      "\n",
      "Analyzing AL events...\n",
      "\n",
      "Using impurity coefficients...\n",
      "\n",
      "Analyzing SE events...\n",
      "\n",
      "Analyzing A3 events...\n",
      "\n",
      "Analyzing A5 events...\n",
      "\n",
      "Analyzing MX events...\n",
      "\n",
      "Analyzing RI events...\n",
      "\n",
      "Analyzing AF events...\n",
      "\n",
      "Analyzing AL events...\n",
      "\n"
     ]
    }
   ],
   "source": [
    "gora_res<-list()\n",
    "for(cat in c(\"H\",\"C\")){\n",
    "\n",
    "    cat_df <- hm_df %>% filter(gs_cat==cat)\n",
    "    hm_list <- split(x = cat_df$ensembl_gene, f = cat_df$gs_name)\n",
    "    message(\"Testing enrichment of \",cat,\" gene sets...\")\n",
    "    \n",
    "    for(var in vars){\n",
    "        \n",
    "        # Filter variable data\n",
    "        message(\"Using \",var,\" coefficients...\")\n",
    "        trex.res.fg.var<-trex.res.fg %>%\n",
    "                          filter(exp_var==var)\n",
    "    \n",
    "        for(event in events_used){\n",
    "\n",
    "            # Filter event data\n",
    "            message(\"Analyzing \",event,\" events...\")\n",
    "            data.vev <- trex.res.fg.var %>% \n",
    "                          filter(event_type==event) %>%\n",
    "                          mutate(gene_id = sub(\"\\\\..*\",\"\",gene_id))\n",
    "\n",
    "            events.ora <- data.vev %>%\n",
    "                          filter(event_flag==\"valid\",\n",
    "                                  padj<p.signif.event,\n",
    "                                  abs(log2FoldChange)>=min.lfc.gsea) \n",
    "\n",
    "            # Get universe\n",
    "\n",
    "            gene_univ<-gene_universe %>% filter(event_type==event) %>% select(gene_id) %>% unlist()\n",
    "\n",
    "            ora <- events.ora %>% \n",
    "                    dplyr::distinct(cancer,event_id,gene_id) %>%\n",
    "                    dplyr::group_by(cancer) %>%\n",
    "                    tidyr::nest(data = c(event_id,gene_id)) %>%\n",
    "                    mutate(gora_res = lapply(data,function(d,...){fora_test(d,event = event)})) \n",
    "\n",
    "            ora <- ora %>%\n",
    "                    select(-data) %>%\n",
    "                    tidyr::unnest(cols = gora_res) %>% \n",
    "                    mutate(significant = padj<p.signif.pathway)\n",
    "\n",
    "            pord <- ora %>%\n",
    "                      select(-overlapGenes) %>%\n",
    "                      mutate(pathway=sub(\"HALLMARK_\",\"\",pathway)) %>%\n",
    "                      group_by(pathway)%>%\n",
    "                      summarize(n=sum(significant),\n",
    "                                s=sum(overlap)) %>%\n",
    "                      filter(n>=1) %>%\n",
    "                      arrange(n) \n",
    "            gora_res.plt <- ora %>%\n",
    "                            mutate(pathway=factor(sub(\"HALLMARK_\",\"\",pathway),levels=pord$pathway),\n",
    "                                   cancer=factor(cancer,levels=cancer_order),\n",
    "                                   poverlap=round(overlap/size,2)*100,\n",
    "                                   event_type=event) %>% \n",
    "                            filter(pathway%in%pord$pathway)\n",
    "            gora_res[[paste(cat,var,event,sep=\"_\")]]<-gora_res.plt\n",
    "        }\n",
    "    }\n",
    "}\n",
    "gora_res<-gora_res[unlist(lapply(gora_res,nrow))!=0]"
   ]
  },
  {
   "cell_type": "code",
   "execution_count": 18,
   "id": "4c9031d1-7b1a-49d7-8680-1b34554284b5",
   "metadata": {},
   "outputs": [],
   "source": [
    "for(vev in names(gora_res)){\n",
    "    gora_res.plt<-gora_res[[vev]]\n",
    "    saveRDS(gora_res.plt,file = paste0(fig_obj_dir,\"/res.\",analysis,\".\",vev,\".RDS\"))\n",
    "}"
   ]
  }
 ],
 "metadata": {
  "kernelspec": {
   "display_name": "R",
   "language": "R",
   "name": "ir"
  },
  "language_info": {
   "codemirror_mode": "r",
   "file_extension": ".r",
   "mimetype": "text/x-r-source",
   "name": "R",
   "pygments_lexer": "r",
   "version": "4.1.2"
  }
 },
 "nbformat": 4,
 "nbformat_minor": 5
}
