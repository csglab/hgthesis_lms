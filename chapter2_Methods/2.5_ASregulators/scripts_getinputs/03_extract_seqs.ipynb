{
 "cells": [
  {
   "cell_type": "markdown",
   "id": "f8fb1ff1-e895-4963-9055-1208c4a4fa1b",
   "metadata": {},
   "source": [
    "## Extract RNA sequences around splice sites"
   ]
  },
  {
   "cell_type": "code",
   "execution_count": 1,
   "id": "aee5ca19-4996-464b-bcc7-fd2c2f09bcfb",
   "metadata": {
    "collapsed": true,
    "jupyter": {
     "outputs_hidden": true
    },
    "tags": []
   },
   "outputs": [
    {
     "name": "stderr",
     "output_type": "stream",
     "text": [
      "\n",
      "Attaching package: ‘dplyr’\n",
      "\n",
      "\n",
      "The following objects are masked from ‘package:stats’:\n",
      "\n",
      "    filter, lag\n",
      "\n",
      "\n",
      "The following objects are masked from ‘package:base’:\n",
      "\n",
      "    intersect, setdiff, setequal, union\n",
      "\n",
      "\n",
      "Loading required package: stats4\n",
      "\n",
      "Loading required package: BiocGenerics\n",
      "\n",
      "\n",
      "Attaching package: ‘BiocGenerics’\n",
      "\n",
      "\n",
      "The following objects are masked from ‘package:dplyr’:\n",
      "\n",
      "    combine, intersect, setdiff, union\n",
      "\n",
      "\n",
      "The following objects are masked from ‘package:stats’:\n",
      "\n",
      "    IQR, mad, sd, var, xtabs\n",
      "\n",
      "\n",
      "The following objects are masked from ‘package:base’:\n",
      "\n",
      "    anyDuplicated, append, as.data.frame, basename, cbind, colnames,\n",
      "    dirname, do.call, duplicated, eval, evalq, Filter, Find, get, grep,\n",
      "    grepl, intersect, is.unsorted, lapply, Map, mapply, match, mget,\n",
      "    order, paste, pmax, pmax.int, pmin, pmin.int, Position, rank,\n",
      "    rbind, Reduce, rownames, sapply, setdiff, sort, table, tapply,\n",
      "    union, unique, unsplit, which.max, which.min\n",
      "\n",
      "\n",
      "Loading required package: S4Vectors\n",
      "\n",
      "\n",
      "Attaching package: ‘S4Vectors’\n",
      "\n",
      "\n",
      "The following objects are masked from ‘package:dplyr’:\n",
      "\n",
      "    first, rename\n",
      "\n",
      "\n",
      "The following objects are masked from ‘package:base’:\n",
      "\n",
      "    expand.grid, I, unname\n",
      "\n",
      "\n",
      "Loading required package: IRanges\n",
      "\n",
      "\n",
      "Attaching package: ‘IRanges’\n",
      "\n",
      "\n",
      "The following objects are masked from ‘package:dplyr’:\n",
      "\n",
      "    collapse, desc, slice\n",
      "\n",
      "\n",
      "Loading required package: GenomeInfoDb\n",
      "\n",
      "Loading required package: XVector\n",
      "\n",
      "\n",
      "Attaching package: ‘Biostrings’\n",
      "\n",
      "\n",
      "The following object is masked from ‘package:base’:\n",
      "\n",
      "    strsplit\n",
      "\n",
      "\n",
      "Loading required package: BSgenome\n",
      "\n",
      "Loading required package: rtracklayer\n",
      "\n",
      "Loading required package: ggplot2\n",
      "\n",
      "Loading required package: lattice\n",
      "\n"
     ]
    }
   ],
   "source": [
    "library(dplyr)\n",
    "library(GenomicRanges)\n",
    "library(Biostrings)\n",
    "library(parallel)\n",
    "library(BSgenome.Hsapiens.UCSC.hg38 )\n",
    "library(caret)"
   ]
  },
  {
   "cell_type": "code",
   "execution_count": 3,
   "id": "ec061370-52e8-401e-a10a-71a8dcd1159f",
   "metadata": {},
   "outputs": [],
   "source": [
    "file<-\"../input/event_annotations/GRCh38.p13.gencode.v37.primary_assembly.annotation_ASALL_strict.ioe\"\n",
    "gr_out_file<-\"../input/event_annotations/event_cords_gr.RDS\"\n",
    "fasta_prefix<-'../input/ss_fastas/spliceSites_windowSize_'"
   ]
  },
  {
   "cell_type": "markdown",
   "id": "8f12e4f0-cbc4-4bc1-98c9-4093fda6fd81",
   "metadata": {},
   "source": [
    "### Build GRanges object with splice sites coordinates from all events"
   ]
  },
  {
   "cell_type": "code",
   "execution_count": 4,
   "id": "66977ae9-ca0c-4dbd-be12-40dbc1792547",
   "metadata": {},
   "outputs": [],
   "source": [
    "ioe<-read.table(file,header = T) %>%\n",
    "     filter(grepl(\"chr\",seqname)) %>%\n",
    "     rowwise() %>%\n",
    "     mutate(cords=sub( paste0(paste(gene_id,event_type,sep=\";\"),\":\",seqname),\"\",event_id,fixed = T)) %>%\n",
    "     as_tibble() %>%\n",
    "     select(-alternative_transcripts,-total_transcripts,-constitutive_transcripts) %>%\n",
    "     mutate(strand = stringr::str_sub(cords,-1)) %>%\n",
    "     mutate(cords = stringr::str_sub(cords, 2,-3)) "
   ]
  },
  {
   "cell_type": "code",
   "execution_count": 5,
   "id": "18d0aa5a-cf1d-4330-bb84-262610194ef1",
   "metadata": {},
   "outputs": [],
   "source": [
    "ioe.gr <-  ioe %>%\n",
    "           mutate(pos_type = case_when(event_type == \"SE\" ~ paste(c(\"e1\",\"s2\",\"e2\",\"s3\"),collapse=\":\"),\n",
    "                                       event_type == \"MX\" ~ paste(c(\"e1\",\"s2\",\"e2\",\"s4\",\"e1\",\"s3\",\"e3\",\"s4\"),collapse=\":\"),\n",
    "                                       event_type == \"A5\" ~ paste(c(\"e2\",\"s3\",\"e1\",\"s3\"),collapse=\":\"),\n",
    "                                       event_type == \"A3\" ~ paste(c(\"e1\",\"s2\",\"e1\",\"s3\"),collapse=\":\"),\n",
    "                                       event_type == \"RI\" ~ paste(c(\"s1\",\"e1\",\"s2\",\"e2\"),collapse=\":\"),\n",
    "                                       event_type == \"AF\" ~ paste(c(\"s1\",\"e1\",\"s3\",\"s2\",\"e2\",\"s3\"),collapse=\":\"),\n",
    "                                       event_type == \"AL\" ~ paste(c(\"e1\",\"s2\",\"e2\",\"e1\",\"s3\",\"e3\"),collapse=\":\"))) %>%\n",
    "           rowwise() %>%\n",
    "           mutate(pos = strsplit(cords,\"\\\\:|\\\\-\",fixed = F),\n",
    "                  pos_type = strsplit(pos_type,\":\")) %>%\n",
    "           group_by(event_id) %>% \n",
    "           tidyr::unnest(c(pos,pos_type)) %>%\n",
    "           as_tibble()"
   ]
  },
  {
   "cell_type": "code",
   "execution_count": 6,
   "id": "b13fea81-5b61-4c10-b9c7-44f1ae986527",
   "metadata": {},
   "outputs": [],
   "source": [
    "# Reverse positions of events in the negative strand - not done by default on SE, MX and RI events\n",
    "ioe.gr<-ioe.gr %>% \n",
    "        group_by(event_id) %>%\n",
    "        mutate(pos_type = ifelse(strand==\"-\" & event_type%in%c(\"SE\",\"MX\",\"RI\"),rev(pos_type),pos_type))"
   ]
  },
  {
   "cell_type": "code",
   "execution_count": 7,
   "id": "ad9b85eb-7e6c-4a5d-869f-9537751a89e4",
   "metadata": {},
   "outputs": [],
   "source": [
    "ioe.gr.up <- ioe.gr %>%\n",
    "             rowwise()%>%\n",
    "             mutate(pos = as.numeric(pos)) %>%\n",
    "             mutate(region_pos = ifelse(strand==\"+\",\n",
    "                                         list(c(pos-50, pos-100, pos-200)),\n",
    "                                         list(c(pos+50, pos+100, pos+200))), # reverse direction for events in the negative strand\n",
    "                    side = \"up\") %>%\n",
    "             tidyr::unnest(region_pos)%>% \n",
    "             mutate(window = abs(region_pos-pos),\n",
    "                    start = ifelse(strand==\"+\",region_pos,pos),\n",
    "                    end = ifelse(strand==\"+\",pos,region_pos)) \n",
    "\n",
    "ioe.gr.dw <- ioe.gr %>%\n",
    "             rowwise()%>%\n",
    "             mutate(pos = as.numeric(pos)) %>%\n",
    "             mutate(region_pos = ifelse(strand==\"+\",\n",
    "                                   list(c(pos+50, pos+100, pos+200)),\n",
    "                                   list(c(pos-50, pos-100, pos-200))),  # reverse direction for events in the negative strand\n",
    "                    side = \"down\") %>%\n",
    "             tidyr::unnest(region_pos) %>%\n",
    "             mutate(window = abs(region_pos-pos),\n",
    "                    start = ifelse(strand==\"+\",pos,region_pos),\n",
    "                    end = ifelse(strand==\"+\",region_pos,pos))\n",
    "\n",
    "ioe.gr.ev <- rbind(ioe.gr.dw,ioe.gr.up) %>% \n",
    "             as_tibble() %>%\n",
    "             mutate(seq_id=paste(event_type,pos_type,pos,side,window,event_id,sep=\"_\")) %>%\n",
    "             select(seqname,start,end,strand,gene_id,seq_id)"
   ]
  },
  {
   "cell_type": "code",
   "execution_count": 8,
   "id": "611607e8-f9a9-4057-b65d-b9706ecc52d8",
   "metadata": {},
   "outputs": [],
   "source": [
    "ioe.gr.ev <- makeGRangesFromDataFrame(ioe.gr.ev,\n",
    "                                       keep.extra.columns=TRUE,\n",
    "                                       seqnames.field=\"seqname\",\n",
    "                                       start.field=\"start\",\n",
    "                                       end.field=\"end\",\n",
    "                                       starts.in.df.are.0based=FALSE)"
   ]
  },
  {
   "cell_type": "code",
   "execution_count": 9,
   "id": "0adb218d-bc8e-4209-8c51-9c785e87e4d7",
   "metadata": {},
   "outputs": [],
   "source": [
    "saveRDS(ioe.gr.ev,file = gr_out_file)"
   ]
  },
  {
   "cell_type": "markdown",
   "id": "d20714b3-bb4c-4547-848a-6d4b6b9a7130",
   "metadata": {},
   "source": [
    "### Fetch sequences from GRanges object\n",
    "\n",
    "This section is the same as the code `fetch_seqs.r`. That script can be submitted as a job with the wrapper `run_fetch.sh` if more resources are needed. "
   ]
  },
  {
   "cell_type": "code",
   "execution_count": 10,
   "id": "f7fb6cb8-4ac5-4c96-bfaf-8345978a1515",
   "metadata": {},
   "outputs": [],
   "source": [
    "ioe.gr.ev<-readRDS(file = gr_out_file)"
   ]
  },
  {
   "cell_type": "code",
   "execution_count": 12,
   "id": "590b1b8e-afe9-4ee6-b2aa-4736a0931f3b",
   "metadata": {},
   "outputs": [],
   "source": [
    "ioe.gr.ev <- sortSeqlevels(ioe.gr.ev)\n",
    "ioe.gr.ev <- sort(ioe.gr.ev)"
   ]
  },
  {
   "cell_type": "code",
   "execution_count": 13,
   "id": "042e5aa8-4eb7-4db8-84fd-0468d4badb7d",
   "metadata": {},
   "outputs": [],
   "source": [
    "hg<-BSgenome.Hsapiens.UCSC.hg38::BSgenome.Hsapiens.UCSC.hg38"
   ]
  },
  {
   "cell_type": "code",
   "execution_count": 14,
   "id": "97cf4280-b579-4b1f-a596-cf9b0438c996",
   "metadata": {},
   "outputs": [
    {
     "name": "stderr",
     "output_type": "stream",
     "text": [
      "Window size 50\n",
      "\n",
      "Fetching 2721368 sequences\n",
      "\n",
      "extracting DNA sequences...\n",
      "\n",
      "splitting sequences by strand...\n",
      "\n",
      "Converting 1346756 seqs to reverse complement sense...\n",
      "\n",
      "Merging back sequences from both strands...\n",
      "\n",
      "Writting fasta file...\n",
      "\n",
      "Window size 100\n",
      "\n",
      "Fetching 2721368 sequences\n",
      "\n",
      "extracting DNA sequences...\n",
      "\n",
      "splitting sequences by strand...\n",
      "\n",
      "Converting 1346756 seqs to reverse complement sense...\n",
      "\n",
      "Merging back sequences from both strands...\n",
      "\n",
      "Writting fasta file...\n",
      "\n",
      "Window size 200\n",
      "\n",
      "Fetching 2721368 sequences\n",
      "\n",
      "extracting DNA sequences...\n",
      "\n",
      "splitting sequences by strand...\n",
      "\n",
      "Converting 1346756 seqs to reverse complement sense...\n",
      "\n",
      "Merging back sequences from both strands...\n",
      "\n",
      "Writting fasta file...\n",
      "\n",
      "Finished successfully!\n",
      "\n"
     ]
    }
   ],
   "source": [
    "ws<-c(51,101,201)\n",
    "for(w in ws){\n",
    "    \n",
    "    message(\"Window size \",w-1)\n",
    "    wgr<-ioe.gr.ev[ioe.gr.ev@ranges@width==w]\n",
    "    wgr.strands<-as.character(strand(wgr))\n",
    "    message(\"Fetching \",length(wgr.strands),\" sequences\")\n",
    "    \n",
    "    # Extract DNA sequences\n",
    "    message(\"extracting DNA sequences...\")\n",
    "    dna_seqs<-BSgenome::getSeq(hg, wgr)\n",
    "    \n",
    "    message(\"splitting sequences by strand...\")\n",
    "    dna_seqs_neg<-dna_seqs[wgr.strands==\"-\"]\n",
    "\n",
    "    # Converte to mRNA sense \n",
    "    message(\"Converting \",sum(wgr.strands==\"-\"),\" seqs to reverse complement sense...\")\n",
    "    rna_seqs <- reverseComplement(dna_seqs_neg)\n",
    "    \n",
    "    # Combine seqs objects\n",
    "    message(\"Merging back sequences from both strands...\")\n",
    "    seqs <- DNAStringSet(c(dna_seqs[wgr.strands==\"+\"],\n",
    "                           rna_seqs))\n",
    "    names(seqs)<-toupper(c(wgr$seq_id[wgr.strands==\"+\"],wgr$seq_id[wgr.strands==\"-\"]))\n",
    "    \n",
    "    # Create fasta file\n",
    "    message(\"Writting fasta file...\")\n",
    "    Biostrings::writeXStringSet(seqs, paste0(fasta_prefix,w-1,\"_up_and_down\",\".fasta\"))\n",
    "}\n",
    "message(\"Finished successfully!\")"
   ]
  }
 ],
 "metadata": {
  "kernelspec": {
   "display_name": "R",
   "language": "R",
   "name": "ir"
  },
  "language_info": {
   "codemirror_mode": "r",
   "file_extension": ".r",
   "mimetype": "text/x-r-source",
   "name": "R",
   "pygments_lexer": "r",
   "version": "4.1.2"
  }
 },
 "nbformat": 4,
 "nbformat_minor": 5
}
