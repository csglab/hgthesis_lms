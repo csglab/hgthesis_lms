{
 "cells": [
  {
   "cell_type": "markdown",
   "id": "f8fb1ff1-e895-4963-9055-1208c4a4fa1b",
   "metadata": {},
   "source": [
    "## Extract RNA sequences around splice sites"
   ]
  },
  {
   "cell_type": "code",
   "execution_count": 4,
   "id": "aee5ca19-4996-464b-bcc7-fd2c2f09bcfb",
   "metadata": {
    "tags": []
   },
   "outputs": [
    {
     "name": "stderr",
     "output_type": "stream",
     "text": [
      "Loading required package: ggplot2\n",
      "\n",
      "Loading required package: lattice\n",
      "\n"
     ]
    }
   ],
   "source": [
    "library(dplyr)\n",
    "library(GenomicRanges)\n",
    "library(Biostrings)\n",
    "library(parallel)\n",
    "library(BSgenome.Hsapiens.UCSC.hg38 )\n",
    "library(caret)"
   ]
  },
  {
   "cell_type": "code",
   "execution_count": 2,
   "id": "ec061370-52e8-401e-a10a-71a8dcd1159f",
   "metadata": {},
   "outputs": [],
   "source": [
    "anndir<-\"~/lmprojects/altsplicing-methods/suppa2/output/annotations/\""
   ]
  },
  {
   "cell_type": "code",
   "execution_count": 3,
   "id": "66977ae9-ca0c-4dbd-be12-40dbc1792547",
   "metadata": {},
   "outputs": [],
   "source": [
    "file<-paste0(anndir,\"modID.GRCh38.p13.gencode.v37.primary_assembly.annotation_ASALL_strict.ioe\")\n",
    "ioe<-read.table(file,header = T) %>%\n",
    "     filter(grepl(\"chr\",seqname)) %>%\n",
    "     rowwise() %>%\n",
    "     mutate(cords=sub( paste0(paste(gene_id,event_type,sep=\";\"),\":\",seqname),\"\",event_id,fixed = T)) %>%\n",
    "     as_tibble() %>%\n",
    "     select(-alternative_transcripts,-total_transcripts,-constitutive_transcripts) %>%\n",
    "     mutate(strand = stringr::str_sub(cords,-1)) %>%\n",
    "     mutate(cords = stringr::str_sub(cords, 2,-3)) "
   ]
  },
  {
   "cell_type": "code",
   "execution_count": 4,
   "id": "18d0aa5a-cf1d-4330-bb84-262610194ef1",
   "metadata": {},
   "outputs": [],
   "source": [
    "ioe.gr <-  ioe %>%\n",
    "           mutate(pos_type = case_when(event_type == \"SE\" ~ paste(c(\"e1\",\"s2\",\"e2\",\"s3\"),collapse=\":\"),\n",
    "                                       event_type == \"MX\" ~ paste(c(\"e1\",\"s2\",\"e2\",\"s4\",\"e1\",\"s3\",\"e3\",\"s4\"),collapse=\":\"),\n",
    "                                       event_type == \"A5\" ~ paste(c(\"e2\",\"s3\",\"e1\",\"s3\"),collapse=\":\"),\n",
    "                                       event_type == \"A3\" ~ paste(c(\"e1\",\"s2\",\"e1\",\"s3\"),collapse=\":\"),\n",
    "                                       event_type == \"RI\" ~ paste(c(\"s1\",\"e1\",\"s2\",\"e2\"),collapse=\":\"),\n",
    "                                       event_type == \"AF\" ~ paste(c(\"s1\",\"e1\",\"s3\",\"s2\",\"e2\",\"s3\"),collapse=\":\"),\n",
    "                                       event_type == \"AL\" ~ paste(c(\"e1\",\"s2\",\"e2\",\"e1\",\"s3\",\"e3\"),collapse=\":\"))) %>%\n",
    "           rowwise() %>%\n",
    "           mutate(pos = strsplit(cords,\"\\\\:|\\\\-\",fixed = F),\n",
    "                  pos_type = strsplit(pos_type,\":\")) %>%\n",
    "           group_by(event_id) %>% \n",
    "           tidyr::unnest(c(pos,pos_type)) %>%\n",
    "           as_tibble()"
   ]
  },
  {
   "cell_type": "code",
   "execution_count": 13,
   "id": "b13fea81-5b61-4c10-b9c7-44f1ae986527",
   "metadata": {},
   "outputs": [],
   "source": [
    "# Reverse positions of events in the negative strand\n",
    "ioe.gr<-ioe.gr %>% \n",
    "        group_by(event_id) %>%\n",
    "        mutate(pos_type = ifelse(strand==\"-\" & event_type%in%c(\"SE\",\"MX\",\"RI\"),rev(pos_type),pos_type))"
   ]
  },
  {
   "cell_type": "code",
   "execution_count": 26,
   "id": "ad9b85eb-7e6c-4a5d-869f-9537751a89e4",
   "metadata": {},
   "outputs": [],
   "source": [
    "ioe.gr.up <- ioe.gr %>%\n",
    "             rowwise()%>%\n",
    "             mutate(pos = as.numeric(pos)) %>%\n",
    "             mutate(region_pos = ifelse(strand==\"+\",\n",
    "                                         list(c(pos-50, pos-100, pos-200)),\n",
    "                                         list(c(pos+50, pos+100, pos+200))), # reverse direction for events in the negative strand\n",
    "                    side = \"up\") %>%\n",
    "             tidyr::unnest(region_pos)%>% \n",
    "             mutate(window = abs(region_pos-pos),\n",
    "                    start = ifelse(strand==\"+\",region_pos,pos),\n",
    "                    end = ifelse(strand==\"+\",pos,region_pos)) \n",
    "\n",
    "ioe.gr.dw <- ioe.gr %>%\n",
    "             rowwise()%>%\n",
    "             mutate(pos = as.numeric(pos)) %>%\n",
    "             mutate(region_pos = ifelse(strand==\"+\",\n",
    "                                   list(c(pos+50, pos+100, pos+200)),\n",
    "                                   list(c(pos-50, pos-100, pos-200))),  # reverse direction for events in the negative strand\n",
    "                    side = \"down\") %>%\n",
    "             tidyr::unnest(region_pos) %>%\n",
    "             mutate(window = abs(region_pos-pos),\n",
    "                    start = ifelse(strand==\"+\",pos,region_pos),\n",
    "                    end = ifelse(strand==\"+\",region_pos,pos))\n",
    "\n",
    "ioe.gr.ev <- rbind(ioe.gr.dw,ioe.gr.up) %>% \n",
    "             as_tibble() %>%\n",
    "             mutate(seq_id=paste(event_type,pos_type,pos,side,window,event_id,sep=\"_\")) %>%\n",
    "             select(seqname,start,end,strand,gene_id,seq_id)"
   ]
  },
  {
   "cell_type": "code",
   "execution_count": 29,
   "id": "0ca09c72-b9d7-4742-aa9a-0558a6542b8e",
   "metadata": {},
   "outputs": [
    {
     "data": {
      "text/html": [
       "<table class=\"dataframe\">\n",
       "<caption>A tibble: 3 × 1</caption>\n",
       "<thead>\n",
       "\t<tr><th scope=col>length</th></tr>\n",
       "\t<tr><th scope=col>&lt;dbl&gt;</th></tr>\n",
       "</thead>\n",
       "<tbody>\n",
       "\t<tr><td> 50</td></tr>\n",
       "\t<tr><td>100</td></tr>\n",
       "\t<tr><td>200</td></tr>\n",
       "</tbody>\n",
       "</table>\n"
      ],
      "text/latex": [
       "A tibble: 3 × 1\n",
       "\\begin{tabular}{l}\n",
       " length\\\\\n",
       " <dbl>\\\\\n",
       "\\hline\n",
       "\t  50\\\\\n",
       "\t 100\\\\\n",
       "\t 200\\\\\n",
       "\\end{tabular}\n"
      ],
      "text/markdown": [
       "\n",
       "A tibble: 3 × 1\n",
       "\n",
       "| length &lt;dbl&gt; |\n",
       "|---|\n",
       "|  50 |\n",
       "| 100 |\n",
       "| 200 |\n",
       "\n"
      ],
      "text/plain": [
       "  length\n",
       "1  50   \n",
       "2 100   \n",
       "3 200   "
      ]
     },
     "metadata": {},
     "output_type": "display_data"
    }
   ],
   "source": [
    "ioe.gr.ev %>%\n",
    "ungroup() %>%\n",
    " mutate(length = end-start) %>%\n",
    " distinct(length) "
   ]
  },
  {
   "cell_type": "code",
   "execution_count": 30,
   "id": "611607e8-f9a9-4057-b65d-b9706ecc52d8",
   "metadata": {},
   "outputs": [],
   "source": [
    "ioe.gr.ev <- makeGRangesFromDataFrame(ioe.gr.ev,\n",
    "                                       keep.extra.columns=TRUE,\n",
    "                                       seqnames.field=\"seqname\",\n",
    "                                       start.field=\"start\",\n",
    "                                       end.field=\"end\",\n",
    "                                       starts.in.df.are.0based=FALSE)"
   ]
  },
  {
   "cell_type": "code",
   "execution_count": 31,
   "id": "0adb218d-bc8e-4209-8c51-9c785e87e4d7",
   "metadata": {},
   "outputs": [],
   "source": [
    "saveRDS(ioe.gr.ev,file = \"../data/objects/event_cords_gr.RDS\")"
   ]
  },
  {
   "cell_type": "markdown",
   "id": "d20714b3-bb4c-4547-848a-6d4b6b9a7130",
   "metadata": {},
   "source": [
    "### Fetch sequences"
   ]
  },
  {
   "cell_type": "code",
   "execution_count": 1,
   "id": "f7fb6cb8-4ac5-4c96-bfaf-8345978a1515",
   "metadata": {},
   "outputs": [],
   "source": [
    "ioe.gr.ev<-readRDS(file = \"../data/objects/event_cords_gr.RDS\")"
   ]
  },
  {
   "cell_type": "code",
   "execution_count": 4,
   "id": "590b1b8e-afe9-4ee6-b2aa-4736a0931f3b",
   "metadata": {},
   "outputs": [],
   "source": [
    "ioe.gr.ev <- sortSeqlevels(ioe.gr.ev)\n",
    "ioe.gr.ev <- sort(ioe.gr.ev)"
   ]
  },
  {
   "cell_type": "code",
   "execution_count": 5,
   "id": "042e5aa8-4eb7-4db8-84fd-0468d4badb7d",
   "metadata": {},
   "outputs": [],
   "source": [
    "hg<-BSgenome.Hsapiens.UCSC.hg38::BSgenome.Hsapiens.UCSC.hg38"
   ]
  },
  {
   "cell_type": "code",
   "execution_count": 8,
   "id": "97cf4280-b579-4b1f-a596-cf9b0438c996",
   "metadata": {},
   "outputs": [
    {
     "name": "stderr",
     "output_type": "stream",
     "text": [
      "Window size 50\n",
      "\n",
      "Fetching 2721368 sequences\n",
      "\n",
      "extracting DNA sequences...\n",
      "\n",
      "splitting sequences by strand...\n",
      "\n",
      "Converting 1346756 seqs to reverse complement sense...\n",
      "\n",
      "Merging back sequences from both strands...\n",
      "\n",
      "Writting fasta file...\n",
      "\n",
      "Window size 100\n",
      "\n",
      "Fetching 2721368 sequences\n",
      "\n",
      "extracting DNA sequences...\n",
      "\n",
      "splitting sequences by strand...\n",
      "\n",
      "Converting 1346756 seqs to reverse complement sense...\n",
      "\n",
      "Merging back sequences from both strands...\n",
      "\n",
      "Writting fasta file...\n",
      "\n",
      "Window size 200\n",
      "\n",
      "Fetching 2721368 sequences\n",
      "\n",
      "extracting DNA sequences...\n",
      "\n",
      "splitting sequences by strand...\n",
      "\n",
      "Converting 1346756 seqs to reverse complement sense...\n",
      "\n",
      "Merging back sequences from both strands...\n",
      "\n",
      "Writting fasta file...\n",
      "\n",
      "Finished successfully!\n",
      "\n"
     ]
    }
   ],
   "source": [
    "ws<-c(51,101,201)\n",
    "for(w in ws){\n",
    "    \n",
    "    message(\"Window size \",w-1)\n",
    "    wgr<-ioe.gr.ev[ioe.gr.ev@ranges@width==w]\n",
    "    wgr.strands<-as.character(strand(wgr))\n",
    "    message(\"Fetching \",length(wgr.strands),\" sequences\")\n",
    "    \n",
    "    # Extract DNA sequences\n",
    "    message(\"extracting DNA sequences...\")\n",
    "    dna_seqs<-BSgenome::getSeq(hg, wgr)\n",
    "    \n",
    "    message(\"splitting sequences by strand...\")\n",
    "    dna_seqs_neg<-dna_seqs[wgr.strands==\"-\"]\n",
    "\n",
    "    # Converte to mRNA sense \n",
    "    message(\"Converting \",sum(wgr.strands==\"-\"),\" seqs to reverse complement sense...\")\n",
    "    rna_seqs <- reverseComplement(dna_seqs_neg)\n",
    "    \n",
    "    # Combine seqs objects\n",
    "    message(\"Merging back sequences from both strands...\")\n",
    "    seqs <- DNAStringSet(c(dna_seqs[wgr.strands==\"+\"],\n",
    "                           rna_seqs))\n",
    "    names(seqs)<-toupper(c(wgr$seq_id[wgr.strands==\"+\"],wgr$seq_id[wgr.strands==\"-\"]))\n",
    "    \n",
    "    # Create fasta file\n",
    "    message(\"Writting fasta file...\")\n",
    "    Biostrings::writeXStringSet(seqs, paste0('../data/fastas/spliceSites_windowSize_',w-1,\"_up_and_down\",\".fasta\"))\n",
    "}\n",
    "message(\"Finished successfully!\")"
   ]
  },
  {
   "cell_type": "code",
   "execution_count": null,
   "id": "9bdcfa15-57c3-49ca-be56-b0b87ee9a8e6",
   "metadata": {},
   "outputs": [],
   "source": []
  }
 ],
 "metadata": {
  "kernelspec": {
   "display_name": "R",
   "language": "R",
   "name": "ir"
  },
  "language_info": {
   "codemirror_mode": "r",
   "file_extension": ".r",
   "mimetype": "text/x-r-source",
   "name": "R",
   "pygments_lexer": "r",
   "version": "4.1.2"
  }
 },
 "nbformat": 4,
 "nbformat_minor": 5
}
